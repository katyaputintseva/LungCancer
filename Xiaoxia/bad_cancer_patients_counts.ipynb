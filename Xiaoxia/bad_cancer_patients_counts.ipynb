{
 "cells": [
  {
   "cell_type": "markdown",
   "metadata": {},
   "source": [
    "### Issue:\n",
    "\n",
    "We have 219 patients with problem during preprocessing stage. We want to check how many of them have cancer, to decide if we can discard this patients, and move forward to next stage (generating batches, trying different CNN arquitectures, etc.)\n",
    "\n",
    "### Result:  \n",
    "51 patients with cancer. \n",
    "\n",
    "### Desicion:   <font color=\"red\"> to be decided </font>"
   ]
  },
  {
   "cell_type": "code",
   "execution_count": 212,
   "metadata": {
    "collapsed": true
   },
   "outputs": [],
   "source": [
    "import os\n",
    "import numpy as np \n",
    "import pandas as pd"
   ]
  },
  {
   "cell_type": "code",
   "execution_count": 213,
   "metadata": {
    "collapsed": false,
    "scrolled": true
   },
   "outputs": [
    {
     "data": {
      "text/html": [
       "<div>\n",
       "<table border=\"1\" class=\"dataframe\">\n",
       "  <thead>\n",
       "    <tr style=\"text-align: right;\">\n",
       "      <th></th>\n",
       "      <th>cancer</th>\n",
       "    </tr>\n",
       "    <tr>\n",
       "      <th>id</th>\n",
       "      <th></th>\n",
       "    </tr>\n",
       "  </thead>\n",
       "  <tbody>\n",
       "    <tr>\n",
       "      <th>0015ceb851d7251b8f399e39779d1e7d</th>\n",
       "      <td>1</td>\n",
       "    </tr>\n",
       "    <tr>\n",
       "      <th>0030a160d58723ff36d73f41b170ec21</th>\n",
       "      <td>0</td>\n",
       "    </tr>\n",
       "    <tr>\n",
       "      <th>003f41c78e6acfa92430a057ac0b306e</th>\n",
       "      <td>0</td>\n",
       "    </tr>\n",
       "    <tr>\n",
       "      <th>006b96310a37b36cccb2ab48d10b49a3</th>\n",
       "      <td>1</td>\n",
       "    </tr>\n",
       "    <tr>\n",
       "      <th>008464bb8521d09a42985dd8add3d0d2</th>\n",
       "      <td>1</td>\n",
       "    </tr>\n",
       "  </tbody>\n",
       "</table>\n",
       "</div>"
      ],
      "text/plain": [
       "                                  cancer\n",
       "id                                      \n",
       "0015ceb851d7251b8f399e39779d1e7d       1\n",
       "0030a160d58723ff36d73f41b170ec21       0\n",
       "003f41c78e6acfa92430a057ac0b306e       0\n",
       "006b96310a37b36cccb2ab48d10b49a3       1\n",
       "008464bb8521d09a42985dd8add3d0d2       1"
      ]
     },
     "execution_count": 213,
     "metadata": {},
     "output_type": "execute_result"
    }
   ],
   "source": [
    "# Some constants \n",
    "INPUT_FOLDER = '/home/lin/data/stage1/'\n",
    "patients = os.listdir(INPUT_FOLDER)\n",
    "patients.sort()\n",
    "labels = pd.read_csv('/home/lin/data/stage1_labels.csv', index_col=0)\n",
    "labels.head()"
   ]
  },
  {
   "cell_type": "code",
   "execution_count": 215,
   "metadata": {
    "collapsed": false
   },
   "outputs": [
    {
     "name": "stdout",
     "output_type": "stream",
     "text": [
      "length of labels:  1397\n",
      "length of pacients:  1595\n",
      "missing labels:  198\n",
      "% of patients with lables:  0.8758620689655172\n"
     ]
    }
   ],
   "source": [
    "print (\"length of labels: \", len(labels))\n",
    "print (\"length of pacients: \",len(patients)) \n",
    "print (\"missing labels: \", len(patients)-len(labels))\n",
    "print (\"% of patients with lables: \", len(labels)/len(patients))"
   ]
  },
  {
   "cell_type": "code",
   "execution_count": 216,
   "metadata": {
    "collapsed": false
   },
   "outputs": [
    {
     "name": "stdout",
     "output_type": "stream",
     "text": [
      "1\n",
      "0\n"
     ]
    }
   ],
   "source": [
    "print (labels.cancer['0015ceb851d7251b8f399e39779d1e7d'])\n",
    "print (labels.cancer['0030a160d58723ff36d73f41b170ec21'])"
   ]
  },
  {
   "cell_type": "markdown",
   "metadata": {},
   "source": [
    "### Counts\n",
    "- 51 out of 190 are patients with cancer.\n",
    "- 29 patients with missing labels."
   ]
  },
  {
   "cell_type": "code",
   "execution_count": 197,
   "metadata": {
    "collapsed": false
   },
   "outputs": [
    {
     "data": {
      "text/plain": [
       "['6cf71f5017945c9dd8bc0f5126eeef5b',\n",
       " '68a1f729eb1e2a791fe8170ac6631828',\n",
       " '4a1391269629d20359325873d11413c9',\n",
       " '313efe2e7ecf18a8d484f8b42f30da3e',\n",
       " '88acee40bb9d8cb06898d1c5de01d3c8']"
      ]
     },
     "execution_count": 197,
     "metadata": {},
     "output_type": "execute_result"
    }
   ],
   "source": [
    "PATH = \"../../data/patients_error.txt\"\n",
    "import pickle\n",
    "with open(PATH,\"rb\") as f:\n",
    "    bad_patients = pickle.load(f)\n",
    "\n",
    "bad_patients[:5]"
   ]
  },
  {
   "cell_type": "code",
   "execution_count": 217,
   "metadata": {
    "collapsed": false,
    "scrolled": true
   },
   "outputs": [
    {
     "name": "stdout",
     "output_type": "stream",
     "text": [
      "219 bad patients.\n",
      "29 error patient\n",
      "Out of 190 checked patients, 51 patient have cancer\n"
     ]
    }
   ],
   "source": [
    "cancer_no_cancer = []\n",
    "error_patients=[]\n",
    "for idx, patient in enumerate(bad_patients):     \n",
    "    try: \n",
    "        cancer_no_cancer.append(labels.cancer[patient])\n",
    "#         if labels.cancer[patient]==1:\n",
    "#             print (patient)\n",
    "    except:\n",
    "        corrup.append((idx,patient))\n",
    "#         print (\"error patient\", patient)\n",
    "        error_patients.append(patient)\n",
    "\n",
    "print (\"%d bad patients.\"%len(bad_patients))\n",
    "print (\"%d error patient\"%len(error_patients))\n",
    "print (\"Out of %d checked patients, %d patient have cancer\"%(len(cancer_no_cancer),sum(cancer_no_cancer)))\n"
   ]
  },
  {
   "cell_type": "markdown",
   "metadata": {
    "collapsed": true
   },
   "source": [
    "### Analysis"
   ]
  },
  {
   "cell_type": "code",
   "execution_count": 218,
   "metadata": {
    "collapsed": false
   },
   "outputs": [
    {
     "data": {
      "text/plain": [
       "0    1035\n",
       "1     362\n",
       "Name: cancer, dtype: int64"
      ]
     },
     "execution_count": 218,
     "metadata": {},
     "output_type": "execute_result"
    }
   ],
   "source": [
    "labels.cancer.value_counts()"
   ]
  },
  {
   "cell_type": "code",
   "execution_count": 219,
   "metadata": {
    "collapsed": false
   },
   "outputs": [
    {
     "data": {
      "text/plain": [
       "0.3497584541062802"
      ]
     },
     "execution_count": 219,
     "metadata": {},
     "output_type": "execute_result"
    }
   ],
   "source": [
    "362/1035"
   ]
  },
  {
   "cell_type": "markdown",
   "metadata": {},
   "source": [
    "In the worst case, if all the \"error patients\" are cancer patients. Then we would have 34.5% cancer  vs  65.5% no cancer, which is similar to the percentage in the original stage1 dataset."
   ]
  },
  {
   "cell_type": "code",
   "execution_count": 220,
   "metadata": {
    "collapsed": false,
    "scrolled": true
   },
   "outputs": [
    {
     "data": {
      "text/plain": [
       "0.34558823529411764"
      ]
     },
     "execution_count": 220,
     "metadata": {},
     "output_type": "execute_result"
    }
   ],
   "source": [
    "(362-51-29)/(1035-219)"
   ]
  }
 ],
 "metadata": {
  "kernelspec": {
   "display_name": "Python [default]",
   "language": "python",
   "name": "python3"
  },
  "language_info": {
   "codemirror_mode": {
    "name": "ipython",
    "version": 3
   },
   "file_extension": ".py",
   "mimetype": "text/x-python",
   "name": "python",
   "nbconvert_exporter": "python",
   "pygments_lexer": "ipython3",
   "version": "3.5.2"
  }
 },
 "nbformat": 4,
 "nbformat_minor": 2
}
