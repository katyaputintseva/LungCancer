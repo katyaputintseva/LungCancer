{
 "cells": [
  {
   "cell_type": "code",
   "execution_count": 39,
   "metadata": {
    "collapsed": false
   },
   "outputs": [],
   "source": [
    "import numpy as np\n",
    "import pandas as pd"
   ]
  },
  {
   "cell_type": "code",
   "execution_count": 40,
   "metadata": {
    "collapsed": false,
    "scrolled": false
   },
   "outputs": [
    {
     "data": {
      "text/html": [
       "<div>\n",
       "<table border=\"1\" class=\"dataframe\">\n",
       "  <thead>\n",
       "    <tr style=\"text-align: right;\">\n",
       "      <th></th>\n",
       "      <th>Unnamed: 0</th>\n",
       "      <th>0</th>\n",
       "      <th>1</th>\n",
       "      <th>2</th>\n",
       "      <th>3</th>\n",
       "      <th>4</th>\n",
       "      <th>5</th>\n",
       "      <th>6</th>\n",
       "      <th>7</th>\n",
       "      <th>8</th>\n",
       "      <th>9</th>\n",
       "      <th>10</th>\n",
       "      <th>11</th>\n",
       "      <th>id</th>\n",
       "    </tr>\n",
       "  </thead>\n",
       "  <tbody>\n",
       "    <tr>\n",
       "      <th>0</th>\n",
       "      <td>c0f0eb84e70b19544943bed0ea6bd374.npy</td>\n",
       "      <td>0.922280</td>\n",
       "      <td>0.058397</td>\n",
       "      <td>0.443333</td>\n",
       "      <td>0.502058</td>\n",
       "      <td>0.881041</td>\n",
       "      <td>0.194007</td>\n",
       "      <td>0.229903</td>\n",
       "      <td>0.218545</td>\n",
       "      <td>0.02</td>\n",
       "      <td>0.0</td>\n",
       "      <td>0.719223</td>\n",
       "      <td>0.02</td>\n",
       "      <td>c0f0eb84e70b19544943bed0ea6bd374</td>\n",
       "    </tr>\n",
       "    <tr>\n",
       "      <th>1</th>\n",
       "      <td>9065f2b133129c5747d42db18a424749.npy</td>\n",
       "      <td>0.813629</td>\n",
       "      <td>0.046162</td>\n",
       "      <td>0.331104</td>\n",
       "      <td>0.143498</td>\n",
       "      <td>0.445230</td>\n",
       "      <td>0.242824</td>\n",
       "      <td>0.206281</td>\n",
       "      <td>0.192136</td>\n",
       "      <td>0.02</td>\n",
       "      <td>0.0</td>\n",
       "      <td>0.710272</td>\n",
       "      <td>0.02</td>\n",
       "      <td>9065f2b133129c5747d42db18a424749</td>\n",
       "    </tr>\n",
       "    <tr>\n",
       "      <th>2</th>\n",
       "      <td>07b1defcfae5873ee1f03c90255eb170.npy</td>\n",
       "      <td>0.847212</td>\n",
       "      <td>0.050950</td>\n",
       "      <td>0.667785</td>\n",
       "      <td>0.379167</td>\n",
       "      <td>0.251969</td>\n",
       "      <td>0.247585</td>\n",
       "      <td>0.274627</td>\n",
       "      <td>0.228109</td>\n",
       "      <td>0.02</td>\n",
       "      <td>0.0</td>\n",
       "      <td>0.690271</td>\n",
       "      <td>0.02</td>\n",
       "      <td>07b1defcfae5873ee1f03c90255eb170</td>\n",
       "    </tr>\n",
       "    <tr>\n",
       "      <th>3</th>\n",
       "      <td>624a34fa8fd36847724e749877343847.npy</td>\n",
       "      <td>0.828911</td>\n",
       "      <td>0.047976</td>\n",
       "      <td>0.217105</td>\n",
       "      <td>0.662835</td>\n",
       "      <td>0.555944</td>\n",
       "      <td>0.217827</td>\n",
       "      <td>0.233123</td>\n",
       "      <td>0.233237</td>\n",
       "      <td>0.02</td>\n",
       "      <td>0.0</td>\n",
       "      <td>0.693843</td>\n",
       "      <td>0.02</td>\n",
       "      <td>624a34fa8fd36847724e749877343847</td>\n",
       "    </tr>\n",
       "    <tr>\n",
       "      <th>4</th>\n",
       "      <td>eb8d5136918d6859ca3cc3abafe369ac.npy</td>\n",
       "      <td>0.939379</td>\n",
       "      <td>0.060694</td>\n",
       "      <td>0.397590</td>\n",
       "      <td>0.660156</td>\n",
       "      <td>0.784810</td>\n",
       "      <td>0.211209</td>\n",
       "      <td>0.191080</td>\n",
       "      <td>0.225201</td>\n",
       "      <td>0.02</td>\n",
       "      <td>0.0</td>\n",
       "      <td>0.714184</td>\n",
       "      <td>0.02</td>\n",
       "      <td>eb8d5136918d6859ca3cc3abafe369ac</td>\n",
       "    </tr>\n",
       "  </tbody>\n",
       "</table>\n",
       "</div>"
      ],
      "text/plain": [
       "                             Unnamed: 0         0         1         2  \\\n",
       "0  c0f0eb84e70b19544943bed0ea6bd374.npy  0.922280  0.058397  0.443333   \n",
       "1  9065f2b133129c5747d42db18a424749.npy  0.813629  0.046162  0.331104   \n",
       "2  07b1defcfae5873ee1f03c90255eb170.npy  0.847212  0.050950  0.667785   \n",
       "3  624a34fa8fd36847724e749877343847.npy  0.828911  0.047976  0.217105   \n",
       "4  eb8d5136918d6859ca3cc3abafe369ac.npy  0.939379  0.060694  0.397590   \n",
       "\n",
       "          3         4         5         6         7     8    9        10  \\\n",
       "0  0.502058  0.881041  0.194007  0.229903  0.218545  0.02  0.0  0.719223   \n",
       "1  0.143498  0.445230  0.242824  0.206281  0.192136  0.02  0.0  0.710272   \n",
       "2  0.379167  0.251969  0.247585  0.274627  0.228109  0.02  0.0  0.690271   \n",
       "3  0.662835  0.555944  0.217827  0.233123  0.233237  0.02  0.0  0.693843   \n",
       "4  0.660156  0.784810  0.211209  0.191080  0.225201  0.02  0.0  0.714184   \n",
       "\n",
       "     11                                id  \n",
       "0  0.02  c0f0eb84e70b19544943bed0ea6bd374  \n",
       "1  0.02  9065f2b133129c5747d42db18a424749  \n",
       "2  0.02  07b1defcfae5873ee1f03c90255eb170  \n",
       "3  0.02  624a34fa8fd36847724e749877343847  \n",
       "4  0.02  eb8d5136918d6859ca3cc3abafe369ac  "
      ]
     },
     "execution_count": 40,
     "metadata": {},
     "output_type": "execute_result"
    }
   ],
   "source": [
    "df_feature = pd.read_csv(\"./model_v24_feature_matrix.csv\")\n",
    "df_feature['id'] = df_feature['Unnamed: 0'].apply(lambda x: x.split('.')[0])\n",
    "df_feature.head()"
   ]
  },
  {
   "cell_type": "code",
   "execution_count": 41,
   "metadata": {
    "collapsed": false,
    "scrolled": true
   },
   "outputs": [
    {
     "data": {
      "text/html": [
       "<div>\n",
       "<table border=\"1\" class=\"dataframe\">\n",
       "  <thead>\n",
       "    <tr style=\"text-align: right;\">\n",
       "      <th></th>\n",
       "      <th>id</th>\n",
       "      <th>cancer</th>\n",
       "    </tr>\n",
       "  </thead>\n",
       "  <tbody>\n",
       "    <tr>\n",
       "      <th>0</th>\n",
       "      <td>0015ceb851d7251b8f399e39779d1e7d</td>\n",
       "      <td>1</td>\n",
       "    </tr>\n",
       "    <tr>\n",
       "      <th>1</th>\n",
       "      <td>0030a160d58723ff36d73f41b170ec21</td>\n",
       "      <td>0</td>\n",
       "    </tr>\n",
       "    <tr>\n",
       "      <th>2</th>\n",
       "      <td>003f41c78e6acfa92430a057ac0b306e</td>\n",
       "      <td>0</td>\n",
       "    </tr>\n",
       "    <tr>\n",
       "      <th>3</th>\n",
       "      <td>006b96310a37b36cccb2ab48d10b49a3</td>\n",
       "      <td>1</td>\n",
       "    </tr>\n",
       "    <tr>\n",
       "      <th>4</th>\n",
       "      <td>008464bb8521d09a42985dd8add3d0d2</td>\n",
       "      <td>1</td>\n",
       "    </tr>\n",
       "  </tbody>\n",
       "</table>\n",
       "</div>"
      ],
      "text/plain": [
       "                                 id  cancer\n",
       "0  0015ceb851d7251b8f399e39779d1e7d       1\n",
       "1  0030a160d58723ff36d73f41b170ec21       0\n",
       "2  003f41c78e6acfa92430a057ac0b306e       0\n",
       "3  006b96310a37b36cccb2ab48d10b49a3       1\n",
       "4  008464bb8521d09a42985dd8add3d0d2       1"
      ]
     },
     "execution_count": 41,
     "metadata": {},
     "output_type": "execute_result"
    }
   ],
   "source": [
    "df_labels = pd.read_csv('/home/lin/data/stage1_labels.csv')\n",
    "df_labels.head()"
   ]
  },
  {
   "cell_type": "code",
   "execution_count": 42,
   "metadata": {
    "collapsed": false,
    "scrolled": true
   },
   "outputs": [
    {
     "data": {
      "text/html": [
       "<div>\n",
       "<table border=\"1\" class=\"dataframe\">\n",
       "  <thead>\n",
       "    <tr style=\"text-align: right;\">\n",
       "      <th></th>\n",
       "      <th>Unnamed: 0</th>\n",
       "      <th>0</th>\n",
       "      <th>1</th>\n",
       "      <th>2</th>\n",
       "      <th>3</th>\n",
       "      <th>4</th>\n",
       "      <th>5</th>\n",
       "      <th>6</th>\n",
       "      <th>7</th>\n",
       "      <th>8</th>\n",
       "      <th>9</th>\n",
       "      <th>10</th>\n",
       "      <th>11</th>\n",
       "      <th>id</th>\n",
       "      <th>cancer</th>\n",
       "    </tr>\n",
       "  </thead>\n",
       "  <tbody>\n",
       "    <tr>\n",
       "      <th>0</th>\n",
       "      <td>c0f0eb84e70b19544943bed0ea6bd374.npy</td>\n",
       "      <td>0.922280</td>\n",
       "      <td>0.058397</td>\n",
       "      <td>0.443333</td>\n",
       "      <td>0.502058</td>\n",
       "      <td>0.881041</td>\n",
       "      <td>0.194007</td>\n",
       "      <td>0.229903</td>\n",
       "      <td>0.218545</td>\n",
       "      <td>0.02</td>\n",
       "      <td>0.0</td>\n",
       "      <td>0.719223</td>\n",
       "      <td>0.02</td>\n",
       "      <td>c0f0eb84e70b19544943bed0ea6bd374</td>\n",
       "      <td>1.0</td>\n",
       "    </tr>\n",
       "    <tr>\n",
       "      <th>3</th>\n",
       "      <td>624a34fa8fd36847724e749877343847.npy</td>\n",
       "      <td>0.828911</td>\n",
       "      <td>0.047976</td>\n",
       "      <td>0.217105</td>\n",
       "      <td>0.662835</td>\n",
       "      <td>0.555944</td>\n",
       "      <td>0.217827</td>\n",
       "      <td>0.233123</td>\n",
       "      <td>0.233237</td>\n",
       "      <td>0.02</td>\n",
       "      <td>0.0</td>\n",
       "      <td>0.693843</td>\n",
       "      <td>0.02</td>\n",
       "      <td>624a34fa8fd36847724e749877343847</td>\n",
       "      <td>1.0</td>\n",
       "    </tr>\n",
       "    <tr>\n",
       "      <th>4</th>\n",
       "      <td>eb8d5136918d6859ca3cc3abafe369ac.npy</td>\n",
       "      <td>0.939379</td>\n",
       "      <td>0.060694</td>\n",
       "      <td>0.397590</td>\n",
       "      <td>0.660156</td>\n",
       "      <td>0.784810</td>\n",
       "      <td>0.211209</td>\n",
       "      <td>0.191080</td>\n",
       "      <td>0.225201</td>\n",
       "      <td>0.02</td>\n",
       "      <td>0.0</td>\n",
       "      <td>0.714184</td>\n",
       "      <td>0.02</td>\n",
       "      <td>eb8d5136918d6859ca3cc3abafe369ac</td>\n",
       "      <td>0.0</td>\n",
       "    </tr>\n",
       "    <tr>\n",
       "      <th>5</th>\n",
       "      <td>afc15e047f3e127871d13e39cde7557d.npy</td>\n",
       "      <td>0.800611</td>\n",
       "      <td>0.036036</td>\n",
       "      <td>0.666667</td>\n",
       "      <td>0.855204</td>\n",
       "      <td>0.887719</td>\n",
       "      <td>0.225471</td>\n",
       "      <td>0.231574</td>\n",
       "      <td>0.183772</td>\n",
       "      <td>0.02</td>\n",
       "      <td>0.0</td>\n",
       "      <td>0.696288</td>\n",
       "      <td>0.02</td>\n",
       "      <td>afc15e047f3e127871d13e39cde7557d</td>\n",
       "      <td>0.0</td>\n",
       "    </tr>\n",
       "    <tr>\n",
       "      <th>6</th>\n",
       "      <td>28824d52b6425841bb263393c3211693.npy</td>\n",
       "      <td>0.947508</td>\n",
       "      <td>0.052005</td>\n",
       "      <td>0.298507</td>\n",
       "      <td>0.500000</td>\n",
       "      <td>0.881481</td>\n",
       "      <td>0.233023</td>\n",
       "      <td>0.218400</td>\n",
       "      <td>0.236282</td>\n",
       "      <td>0.02</td>\n",
       "      <td>0.0</td>\n",
       "      <td>0.712125</td>\n",
       "      <td>0.02</td>\n",
       "      <td>28824d52b6425841bb263393c3211693</td>\n",
       "      <td>0.0</td>\n",
       "    </tr>\n",
       "  </tbody>\n",
       "</table>\n",
       "</div>"
      ],
      "text/plain": [
       "                             Unnamed: 0         0         1         2  \\\n",
       "0  c0f0eb84e70b19544943bed0ea6bd374.npy  0.922280  0.058397  0.443333   \n",
       "3  624a34fa8fd36847724e749877343847.npy  0.828911  0.047976  0.217105   \n",
       "4  eb8d5136918d6859ca3cc3abafe369ac.npy  0.939379  0.060694  0.397590   \n",
       "5  afc15e047f3e127871d13e39cde7557d.npy  0.800611  0.036036  0.666667   \n",
       "6  28824d52b6425841bb263393c3211693.npy  0.947508  0.052005  0.298507   \n",
       "\n",
       "          3         4         5         6         7     8    9        10  \\\n",
       "0  0.502058  0.881041  0.194007  0.229903  0.218545  0.02  0.0  0.719223   \n",
       "3  0.662835  0.555944  0.217827  0.233123  0.233237  0.02  0.0  0.693843   \n",
       "4  0.660156  0.784810  0.211209  0.191080  0.225201  0.02  0.0  0.714184   \n",
       "5  0.855204  0.887719  0.225471  0.231574  0.183772  0.02  0.0  0.696288   \n",
       "6  0.500000  0.881481  0.233023  0.218400  0.236282  0.02  0.0  0.712125   \n",
       "\n",
       "     11                                id  cancer  \n",
       "0  0.02  c0f0eb84e70b19544943bed0ea6bd374     1.0  \n",
       "3  0.02  624a34fa8fd36847724e749877343847     1.0  \n",
       "4  0.02  eb8d5136918d6859ca3cc3abafe369ac     0.0  \n",
       "5  0.02  afc15e047f3e127871d13e39cde7557d     0.0  \n",
       "6  0.02  28824d52b6425841bb263393c3211693     0.0  "
      ]
     },
     "execution_count": 42,
     "metadata": {},
     "output_type": "execute_result"
    }
   ],
   "source": [
    "df = pd.merge(left=df_feature, right=df_labels,how='outer',on='id').dropna()\n",
    "df.head()"
   ]
  },
  {
   "cell_type": "code",
   "execution_count": 43,
   "metadata": {
    "collapsed": false
   },
   "outputs": [
    {
     "data": {
      "text/plain": [
       "(174, 15)"
      ]
     },
     "execution_count": 43,
     "metadata": {},
     "output_type": "execute_result"
    }
   ],
   "source": [
    "df.shape"
   ]
  },
  {
   "cell_type": "code",
   "execution_count": 44,
   "metadata": {
    "collapsed": false
   },
   "outputs": [
    {
     "data": {
      "text/plain": [
       "47.0"
      ]
     },
     "execution_count": 44,
     "metadata": {},
     "output_type": "execute_result"
    }
   ],
   "source": [
    "df['cancer'].sum()"
   ]
  },
  {
   "cell_type": "code",
   "execution_count": 76,
   "metadata": {
    "collapsed": false
   },
   "outputs": [
    {
     "name": "stdout",
     "output_type": "stream",
     "text": [
      "(174, 12) (174,)\n",
      "training set shape:  (156, 12) (156,) \n",
      "test set shape:  (18, 12) (18,)\n"
     ]
    }
   ],
   "source": [
    "from sklearn import neighbors, linear_model\n",
    "\n",
    "x_cols = df.drop(['id', 'cancer', 'Unnamed: 0'],1).columns\n",
    "X = df.loc[:][x_cols].values\n",
    "Y = df.loc[:]['cancer'].values\n",
    "n_samples = len(Y)\n",
    "print (X.shape, Y.shape)\n",
    "X_train = X[ :int(0.9 * n_samples)]\n",
    "Y_train = Y[:int(0.9 * n_samples)]\n",
    "X_test = X[int(0.9 * n_samples):]\n",
    "Y_test = Y[int(0.9 * n_samples):]\n",
    "print (\"training set shape: \", X_train.shape, Y_train.shape, \"\\ntest set shape: \",X_test.shape, Y_test.shape )\n",
    "\n",
    "knn = neighbors.KNeighborsClassifier()\n",
    "logistic = linear_model.LogisticRegression(class_weight={0:0.7,1:0.3})\n",
    "\n",
    "# print('KNN score: %f' % knn.fit(X_train, Y_train).score(X_test, Y_test))\n",
    "# print('LogisticRegression score: %f'% logistic.fit(X_train, Y_train).score(X_test, Y_test))\n"
   ]
  },
  {
   "cell_type": "code",
   "execution_count": 77,
   "metadata": {
    "collapsed": false
   },
   "outputs": [],
   "source": [
    "lr = logistic.fit(X_train, Y_train) \n",
    "yHat = lr.predict(X_test)"
   ]
  },
  {
   "cell_type": "code",
   "execution_count": 78,
   "metadata": {
    "collapsed": false
   },
   "outputs": [
    {
     "name": "stdout",
     "output_type": "stream",
     "text": [
      "0.0 1.0\n",
      "0.0 1.0\n",
      "0.0 0.0\n",
      "0.0 0.0\n",
      "0.0 0.0\n",
      "0.0 0.0\n",
      "0.0 0.0\n",
      "0.0 0.0\n",
      "0.0 0.0\n",
      "0.0 0.0\n",
      "0.0 1.0\n",
      "0.0 0.0\n",
      "0.0 0.0\n",
      "0.0 0.0\n",
      "0.0 0.0\n",
      "0.0 0.0\n",
      "0.0 1.0\n",
      "0.0 0.0\n"
     ]
    }
   ],
   "source": [
    "for i,j in zip (yHat, Y):\n",
    "    print (i,j)"
   ]
  },
  {
   "cell_type": "code",
   "execution_count": 79,
   "metadata": {
    "collapsed": false,
    "scrolled": true
   },
   "outputs": [
    {
     "name": "stdout",
     "output_type": "stream",
     "text": [
      "1.0 1.0\n",
      "0.0 1.0\n",
      "0.0 0.0\n",
      "1.0 0.0\n",
      "0.0 0.0\n",
      "0.0 0.0\n",
      "1.0 0.0\n",
      "0.0 0.0\n",
      "0.0 0.0\n",
      "0.0 0.0\n",
      "0.0 1.0\n",
      "0.0 0.0\n",
      "0.0 0.0\n",
      "0.0 0.0\n",
      "0.0 0.0\n",
      "0.0 0.0\n",
      "0.0 1.0\n",
      "0.0 0.0\n"
     ]
    }
   ],
   "source": [
    "knn = knn.fit(X_train, Y_train)\n",
    "yHat = knn.predict(X_test)\n",
    "for i,j in zip (yHat, Y):\n",
    "    print (i,j)"
   ]
  },
  {
   "cell_type": "code",
   "execution_count": null,
   "metadata": {
    "collapsed": true
   },
   "outputs": [],
   "source": []
  },
  {
   "cell_type": "code",
   "execution_count": null,
   "metadata": {
    "collapsed": true
   },
   "outputs": [],
   "source": []
  }
 ],
 "metadata": {
  "kernelspec": {
   "display_name": "Python [default]",
   "language": "python",
   "name": "python3"
  },
  "language_info": {
   "codemirror_mode": {
    "name": "ipython",
    "version": 3
   },
   "file_extension": ".py",
   "mimetype": "text/x-python",
   "name": "python",
   "nbconvert_exporter": "python",
   "pygments_lexer": "ipython3",
   "version": "3.5.2"
  }
 },
 "nbformat": 4,
 "nbformat_minor": 2
}
