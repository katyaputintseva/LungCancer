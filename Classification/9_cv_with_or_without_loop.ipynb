{
 "cells": [
  {
   "cell_type": "code",
   "execution_count": 2,
   "metadata": {
    "collapsed": false
   },
   "outputs": [
    {
     "name": "stderr",
     "output_type": "stream",
     "text": [
      "/opt/anaconda/lib/python3.5/site-packages/sklearn/cross_validation.py:44: DeprecationWarning: This module was deprecated in version 0.18 in favor of the model_selection module into which all the refactored classes and functions are moved. Also note that the interface of the new CV iterators are different from that of this module. This module will be removed in 0.20.\n",
      "  \"This module will be removed in 0.20.\", DeprecationWarning)\n"
     ]
    }
   ],
   "source": [
    "# import session\n",
    "import numpy as np\n",
    "import pandas as pd\n",
    "from pandas.tools.plotting import scatter_matrix\n",
    "import matplotlib.pyplot as plt\n",
    "%matplotlib inline\n",
    "\n",
    "from sklearn import neighbors, linear_model, metrics, tree, cross_validation, svm\n",
    "from sklearn.preprocessing import StandardScaler\n",
    "from sklearn.cross_validation import cross_val_score, StratifiedKFold as KFold\n",
    "from sklearn.calibration import CalibratedClassifierCV\n",
    "from sklearn.base import BaseEstimator\n",
    "from sklearn.linear_model import LogisticRegression\n",
    "from sklearn.neural_network import MLPClassifier\n",
    "\n",
    "from sklearn.metrics import confusion_matrix\n",
    "from sklearn.metrics import classification_report\n",
    "from sklearn.metrics import log_loss\n",
    "from sklearn.metrics import roc_auc_score\n",
    "\n",
    "from sklearn.model_selection import train_test_split, cross_val_predict, StratifiedKFold\n",
    "from sklearn.model_selection import GridSearchCV\n",
    "\n",
    "from sklearn.ensemble import ExtraTreesRegressor as XTR\n",
    "from sklearn.ensemble import RandomForestClassifier as RF"
   ]
  },
  {
   "cell_type": "code",
   "execution_count": 3,
   "metadata": {
    "collapsed": false
   },
   "outputs": [
    {
     "data": {
      "text/html": [
       "<div>\n",
       "<table border=\"1\" class=\"dataframe\">\n",
       "  <thead>\n",
       "    <tr style=\"text-align: right;\">\n",
       "      <th></th>\n",
       "      <th>Unnamed: 0</th>\n",
       "      <th>max_malig</th>\n",
       "      <th>max_spiculation</th>\n",
       "      <th>max_lobulation</th>\n",
       "      <th>max_diameter</th>\n",
       "      <th>xsd_malig</th>\n",
       "      <th>xsd_spiculation</th>\n",
       "      <th>xmax_lobulation</th>\n",
       "      <th>xsd_diameter</th>\n",
       "      <th>loc_from_malig_x</th>\n",
       "      <th>loc_from_malig_y</th>\n",
       "      <th>loc_from_malig_z</th>\n",
       "      <th>std_locs_x</th>\n",
       "      <th>std_locs_y</th>\n",
       "      <th>std_locs_z</th>\n",
       "      <th>id</th>\n",
       "      <th>cancer</th>\n",
       "    </tr>\n",
       "  </thead>\n",
       "  <tbody>\n",
       "    <tr>\n",
       "      <th>0</th>\n",
       "      <td>d777a77cc7a2ec2f1eed68799cc9075c.npz</td>\n",
       "      <td>0.521839</td>\n",
       "      <td>0.373247</td>\n",
       "      <td>0.372914</td>\n",
       "      <td>0.349160</td>\n",
       "      <td>0.103659</td>\n",
       "      <td>0.076975</td>\n",
       "      <td>0.372914</td>\n",
       "      <td>0.061591</td>\n",
       "      <td>0.539286</td>\n",
       "      <td>0.528571</td>\n",
       "      <td>0.434028</td>\n",
       "      <td>0.244258</td>\n",
       "      <td>0.163056</td>\n",
       "      <td>0.242655</td>\n",
       "      <td>d777a77cc7a2ec2f1eed68799cc9075c</td>\n",
       "      <td>1</td>\n",
       "    </tr>\n",
       "    <tr>\n",
       "      <th>1</th>\n",
       "      <td>1631637f08f27347e8f23d7a0e18c100.npz</td>\n",
       "      <td>0.531258</td>\n",
       "      <td>0.376680</td>\n",
       "      <td>0.376645</td>\n",
       "      <td>0.349927</td>\n",
       "      <td>0.122501</td>\n",
       "      <td>0.079592</td>\n",
       "      <td>0.376645</td>\n",
       "      <td>0.062194</td>\n",
       "      <td>0.088889</td>\n",
       "      <td>0.172222</td>\n",
       "      <td>0.205128</td>\n",
       "      <td>0.243736</td>\n",
       "      <td>0.159560</td>\n",
       "      <td>0.216008</td>\n",
       "      <td>1631637f08f27347e8f23d7a0e18c100</td>\n",
       "      <td>0</td>\n",
       "    </tr>\n",
       "    <tr>\n",
       "      <th>2</th>\n",
       "      <td>9065f2b133129c5747d42db18a424749.npz</td>\n",
       "      <td>0.528440</td>\n",
       "      <td>0.375415</td>\n",
       "      <td>0.376739</td>\n",
       "      <td>0.351881</td>\n",
       "      <td>0.114865</td>\n",
       "      <td>0.077483</td>\n",
       "      <td>0.376739</td>\n",
       "      <td>0.059155</td>\n",
       "      <td>0.300000</td>\n",
       "      <td>0.339394</td>\n",
       "      <td>0.700637</td>\n",
       "      <td>0.231711</td>\n",
       "      <td>0.155614</td>\n",
       "      <td>0.217998</td>\n",
       "      <td>9065f2b133129c5747d42db18a424749</td>\n",
       "      <td>1</td>\n",
       "    </tr>\n",
       "    <tr>\n",
       "      <th>3</th>\n",
       "      <td>e3a9a6f8d21c6c459728066bcf18c615.npz</td>\n",
       "      <td>0.527394</td>\n",
       "      <td>0.379579</td>\n",
       "      <td>0.376450</td>\n",
       "      <td>0.354797</td>\n",
       "      <td>0.096239</td>\n",
       "      <td>0.078583</td>\n",
       "      <td>0.376450</td>\n",
       "      <td>0.062853</td>\n",
       "      <td>0.214035</td>\n",
       "      <td>0.385965</td>\n",
       "      <td>0.462963</td>\n",
       "      <td>0.233297</td>\n",
       "      <td>0.183184</td>\n",
       "      <td>0.207843</td>\n",
       "      <td>e3a9a6f8d21c6c459728066bcf18c615</td>\n",
       "      <td>0</td>\n",
       "    </tr>\n",
       "    <tr>\n",
       "      <th>4</th>\n",
       "      <td>f39a1e54d79731e4417aa8159d19b7d4.npz</td>\n",
       "      <td>0.533726</td>\n",
       "      <td>0.376004</td>\n",
       "      <td>0.377995</td>\n",
       "      <td>0.352379</td>\n",
       "      <td>0.110376</td>\n",
       "      <td>0.077679</td>\n",
       "      <td>0.377995</td>\n",
       "      <td>0.060632</td>\n",
       "      <td>0.688235</td>\n",
       "      <td>0.094118</td>\n",
       "      <td>0.091954</td>\n",
       "      <td>0.249184</td>\n",
       "      <td>0.183342</td>\n",
       "      <td>0.214586</td>\n",
       "      <td>f39a1e54d79731e4417aa8159d19b7d4</td>\n",
       "      <td>0</td>\n",
       "    </tr>\n",
       "  </tbody>\n",
       "</table>\n",
       "</div>"
      ],
      "text/plain": [
       "                             Unnamed: 0  max_malig  max_spiculation  \\\n",
       "0  d777a77cc7a2ec2f1eed68799cc9075c.npz   0.521839         0.373247   \n",
       "1  1631637f08f27347e8f23d7a0e18c100.npz   0.531258         0.376680   \n",
       "2  9065f2b133129c5747d42db18a424749.npz   0.528440         0.375415   \n",
       "3  e3a9a6f8d21c6c459728066bcf18c615.npz   0.527394         0.379579   \n",
       "4  f39a1e54d79731e4417aa8159d19b7d4.npz   0.533726         0.376004   \n",
       "\n",
       "   max_lobulation  max_diameter  xsd_malig  xsd_spiculation  xmax_lobulation  \\\n",
       "0        0.372914      0.349160   0.103659         0.076975         0.372914   \n",
       "1        0.376645      0.349927   0.122501         0.079592         0.376645   \n",
       "2        0.376739      0.351881   0.114865         0.077483         0.376739   \n",
       "3        0.376450      0.354797   0.096239         0.078583         0.376450   \n",
       "4        0.377995      0.352379   0.110376         0.077679         0.377995   \n",
       "\n",
       "   xsd_diameter  loc_from_malig_x  loc_from_malig_y  loc_from_malig_z  \\\n",
       "0      0.061591          0.539286          0.528571          0.434028   \n",
       "1      0.062194          0.088889          0.172222          0.205128   \n",
       "2      0.059155          0.300000          0.339394          0.700637   \n",
       "3      0.062853          0.214035          0.385965          0.462963   \n",
       "4      0.060632          0.688235          0.094118          0.091954   \n",
       "\n",
       "   std_locs_x  std_locs_y  std_locs_z                                id  \\\n",
       "0    0.244258    0.163056    0.242655  d777a77cc7a2ec2f1eed68799cc9075c   \n",
       "1    0.243736    0.159560    0.216008  1631637f08f27347e8f23d7a0e18c100   \n",
       "2    0.231711    0.155614    0.217998  9065f2b133129c5747d42db18a424749   \n",
       "3    0.233297    0.183184    0.207843  e3a9a6f8d21c6c459728066bcf18c615   \n",
       "4    0.249184    0.183342    0.214586  f39a1e54d79731e4417aa8159d19b7d4   \n",
       "\n",
       "   cancer  \n",
       "0       1  \n",
       "1       0  \n",
       "2       1  \n",
       "3       0  \n",
       "4       0  "
      ]
     },
     "execution_count": 3,
     "metadata": {},
     "output_type": "execute_result"
    }
   ],
   "source": [
    "df_feature = pd.read_csv(\"./feature_matrix_model2_stage1.csv\")\n",
    "df_feature['id'] = df_feature['Unnamed: 0'].apply(lambda x: x.split('.')[0])\n",
    "\n",
    "df_labels_1 =pd.read_csv('/home/lin/data/stage1_labels.csv')\n",
    "df_labels_2 = pd.read_csv('/home/lin/data/stage1_solution.csv')\n",
    "df_labels_2 = df_labels_2.drop(['Usage'],1)\n",
    "df_labels = df_labels_1.append(df_labels_2)\n",
    "df = pd.merge(left=df_feature, right=df_labels,how='outer',on='id').dropna()\n",
    "df.head()"
   ]
  },
  {
   "cell_type": "code",
   "execution_count": 4,
   "metadata": {
    "collapsed": false
   },
   "outputs": [
    {
     "name": "stdout",
     "output_type": "stream",
     "text": [
      "Logistic Regression\n",
      "confusion_matrix for test set: \n",
      " [[306 765]\n",
      " [ 96 267]]\n",
      "             precision    recall  f1-score   support\n",
      "\n",
      "  No Cancer       0.76      0.29      0.42      1071\n",
      "     Cancer       0.26      0.74      0.38       363\n",
      "\n",
      "avg / total       0.63      0.40      0.41      1434\n",
      "\n",
      "logloss 8.7430793803\n"
     ]
    }
   ],
   "source": [
    "# LogisticRegression\n",
    "\n",
    "x_cols = df.drop(['id', 'cancer', 'Unnamed: 0'],1).columns  # using all the features\n",
    "# x_cols=['max_malig','max_spiculation','max_lobulation','max_diameter','xsd_malig', 'xsd_spiculation', 'xmax_lobulation','xsd_diameter']\n",
    "X = df.loc[:][x_cols].values\n",
    "y = df.loc[:]['cancer'].values\n",
    "\n",
    "cv = cross_validation.KFold(X.shape[0],n_folds = 20,random_state=42)\n",
    "y_pred = y * 0\n",
    "y_pred_prob = y * 0\n",
    "for train, test in cv:\n",
    "    X_train, X_test, y_train, y_test = X[train,:], X[test,:], y[train], y[test]\n",
    "    scaler = StandardScaler()\n",
    "    X_train = scaler.fit_transform(X_train)\n",
    "    X_test = scaler.transform(X_test)\n",
    "    \n",
    "    clf = linear_model.LogisticRegression(class_weight={0:0.22,1:0.78},penalty='l1')\n",
    "    clf.fit(X_train, y_train)\n",
    "    y_pred[test] = clf.predict(X_test)\n",
    "    y_pred_prob[test] = clf.predict_proba(X_test)[:,1]\n",
    "    \n",
    "print ('Logistic Regression')\n",
    "print (\"confusion_matrix for test set: \\n\", confusion_matrix(y,y_pred))\n",
    "print (classification_report(y, y_pred, target_names=[\"No Cancer\", \"Cancer\"]))\n",
    "print(\"logloss\",log_loss(y, y_pred_prob))"
   ]
  },
  {
   "cell_type": "code",
   "execution_count": 5,
   "metadata": {
    "collapsed": false
   },
   "outputs": [
    {
     "name": "stdout",
     "output_type": "stream",
     "text": [
      "Logistic Regression\n",
      "confusion_matrix for test set: \n",
      " [[   5 1066]\n",
      " [   5  358]]\n",
      "             precision    recall  f1-score   support\n",
      "\n",
      "  No Cancer       0.50      0.00      0.01      1071\n",
      "     Cancer       0.25      0.99      0.40       363\n",
      "\n",
      "avg / total       0.44      0.25      0.11      1434\n",
      "\n",
      "logloss 8.7430793803\n"
     ]
    }
   ],
   "source": [
    "# LogisticRegression\n",
    "\n",
    "x_cols = df.drop(['id', 'cancer', 'Unnamed: 0'],1).columns  # using all the features\n",
    "# x_cols=['max_malig','max_spiculation','max_lobulation','max_diameter','xsd_malig', 'xsd_spiculation', 'xmax_lobulation','xsd_diameter']\n",
    "X = df.loc[:][x_cols].values\n",
    "y = df.loc[:]['cancer'].values\n",
    "\n",
    "cv = cross_validation.KFold(X.shape[0],n_folds = 20,random_state=42)\n",
    "y_pred = y * 0\n",
    "y_pred_prob = y * 0\n",
    "for train, test in cv:\n",
    "    X_train, X_test, y_train, y_test = X[train,:], X[test,:], y[train], y[test]\n",
    "    \n",
    "    clf = linear_model.LogisticRegression(class_weight={0:0.22,1:0.78},penalty='l1')\n",
    "    clf.fit(X_train, y_train)\n",
    "    y_pred[test] = clf.predict(X_test)\n",
    "    y_pred_prob[test] = clf.predict_proba(X_test)[:,1]\n",
    "    \n",
    "print ('Logistic Regression')\n",
    "print (\"confusion_matrix for test set: \\n\", confusion_matrix(y,y_pred))\n",
    "print (classification_report(y, y_pred, target_names=[\"No Cancer\", \"Cancer\"]))\n",
    "print(\"logloss\",log_loss(y, y_pred_prob))"
   ]
  },
  {
   "cell_type": "code",
   "execution_count": 9,
   "metadata": {
    "collapsed": false,
    "scrolled": true
   },
   "outputs": [
    {
     "name": "stdout",
     "output_type": "stream",
     "text": [
      "roc_auc score [0.50347222222222221, 0.60427807486631013, 0.43992055610724928, 0.49326923076923079, 0.54807692307692313, 0.38300492610837439, 0.41430700447093888, 0.43743315508021391, 0.6662946428571429, 0.7220982142857143, 0.5185185185185186, 0.5528031290743155, 0.48460774577954319, 0.52572016460905346, 0.57727272727272738, 0.5260869565217392, 0.61258865248226946, 0.68452380952380953, 0.62745098039215685, 0.27333333333333332]\n",
      "Logistic Regression\n",
      "confusion_matrix for test set: \n",
      " [[306 765]\n",
      " [ 96 267]]\n",
      "             precision    recall  f1-score   support\n",
      "\n",
      "  No Cancer       0.76      0.29      0.42      1071\n",
      "     Cancer       0.26      0.74      0.38       363\n",
      "\n",
      "avg / total       0.63      0.40      0.41      1434\n",
      "\n",
      "logloss 8.7430793803\n"
     ]
    }
   ],
   "source": [
    "x_cols = df.drop(['id', 'cancer', 'Unnamed: 0'],1).columns  # using all the features\n",
    "# x_cols=['max_malig','max_spiculation','max_lobulation','max_diameter','xsd_malig', 'xsd_spiculation', 'xmax_lobulation','xsd_diameter']\n",
    "X = df.loc[:][x_cols].values\n",
    "y = df.loc[:]['cancer'].values\n",
    "\n",
    "X = StandardScaler().fit_transform(X)\n",
    "\n",
    "cv = cross_validation.KFold(X.shape[0],n_folds = 20,random_state=42)\n",
    "y_pred = y * 0\n",
    "y_pred_prob = y * 0\n",
    "\n",
    "roc_auc_list = []\n",
    "for train, test in cv:\n",
    "    X_train, X_test, y_train, y_test = X[train,:], X[test,:], y[train], y[test]\n",
    "    \n",
    "    clf = linear_model.LogisticRegression(class_weight={0:0.22,1:0.78},penalty='l1')\n",
    "    clf.fit(X_train, y_train)\n",
    "    y_pred[test] = clf.predict(X_test)\n",
    "    y_pred_prob[test] = clf.predict_proba(X_test)[:,1]\n",
    "    \n",
    "    auc = roc_auc_score(y_test, clf.predict_proba(X_test)[:,1])\n",
    "    roc_auc_list.append(auc)\n",
    "\n",
    "print (\"roc_auc score\", roc_auc_list)\n",
    "\n",
    "print ('Logistic Regression')\n",
    "print (\"confusion_matrix for test set: \\n\", confusion_matrix(y,y_pred))\n",
    "print (classification_report(y, y_pred, target_names=[\"No Cancer\", \"Cancer\"]))\n",
    "print(\"logloss\",log_loss(y, y_pred_prob))"
   ]
  },
  {
   "cell_type": "code",
   "execution_count": 10,
   "metadata": {
    "collapsed": false,
    "scrolled": true
   },
   "outputs": [
    {
     "name": "stdout",
     "output_type": "stream",
     "text": [
      "roc_auc socre:  [ 0.50347222  0.60427807  0.43992056  0.49326923  0.54807692  0.38300493\n",
      "  0.414307    0.43743316  0.66629464  0.72209821  0.51851852  0.55280313\n",
      "  0.48460775  0.52572016  0.57727273  0.52608696  0.61258865  0.68452381\n",
      "  0.62745098  0.27333333]\n"
     ]
    },
    {
     "name": "stderr",
     "output_type": "stream",
     "text": [
      "/opt/anaconda/lib/python3.5/site-packages/ipykernel/__main__.py:11: DeprecationWarning: assignment will raise an error in the future, most likely because your index result shape does not match the value array shape. You can use `arr.flat[index] = values` to keep the old behaviour.\n"
     ]
    },
    {
     "name": "stdout",
     "output_type": "stream",
     "text": [
      "Logistic Regression\n",
      "confusion_matrix for test set: \n",
      " [[314 757]\n",
      " [ 93 270]]\n",
      "             precision    recall  f1-score   support\n",
      "\n",
      "  No Cancer       0.77      0.29      0.42      1071\n",
      "     Cancer       0.26      0.74      0.39       363\n",
      "\n",
      "avg / total       0.64      0.41      0.42      1434\n",
      "\n",
      "logloss 8.7430793803\n"
     ]
    },
    {
     "name": "stderr",
     "output_type": "stream",
     "text": [
      "/opt/anaconda/lib/python3.5/site-packages/ipykernel/__main__.py:12: DeprecationWarning: assignment will raise an error in the future, most likely because your index result shape does not match the value array shape. You can use `arr.flat[index] = values` to keep the old behaviour.\n"
     ]
    }
   ],
   "source": [
    "x_cols = df.drop(['id', 'cancer', 'Unnamed: 0'],1).columns  \n",
    "X = df.loc[:][x_cols].values\n",
    "y = df.loc[:]['cancer'].values\n",
    "\n",
    "cv = cross_validation.KFold(X.shape[0],n_folds = 20,random_state=42)\n",
    "X = StandardScaler().fit_transform(X)\n",
    "clf = linear_model.LogisticRegression(class_weight={0:0.22,1:0.78},penalty='l1')\n",
    "score_val = cross_val_score(clf,X,y,cv=cv, scoring=\"roc_auc\")\n",
    "print (\"roc_auc socre: \", score_val)\n",
    "\n",
    "y_pred = cross_val_predict(clf, X, y, cv=cv, method='predict',n_jobs=-1)\n",
    "y_pred_prob = cross_val_predict(clf, X, y, cv=cv, method='predict_proba',n_jobs=-1)[:,1]\n",
    "\n",
    "print ('Logistic Regression')\n",
    "print (\"confusion_matrix for test set: \\n\", confusion_matrix(y,y_pred))\n",
    "print (classification_report(y, y_pred, target_names=[\"No Cancer\", \"Cancer\"]))\n",
    "print(\"logloss\",log_loss(y, y_pred_prob))"
   ]
  },
  {
   "cell_type": "code",
   "execution_count": null,
   "metadata": {
    "collapsed": true
   },
   "outputs": [],
   "source": []
  }
 ],
 "metadata": {
  "kernelspec": {
   "display_name": "Python [default]",
   "language": "python",
   "name": "python3"
  },
  "language_info": {
   "codemirror_mode": {
    "name": "ipython",
    "version": 3
   },
   "file_extension": ".py",
   "mimetype": "text/x-python",
   "name": "python",
   "nbconvert_exporter": "python",
   "pygments_lexer": "ipython3",
   "version": "3.5.2"
  }
 },
 "nbformat": 4,
 "nbformat_minor": 2
}
