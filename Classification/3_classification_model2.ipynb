{
 "cells": [
  {
   "cell_type": "code",
   "execution_count": 1,
   "metadata": {
    "collapsed": true
   },
   "outputs": [],
   "source": [
    "%reset -f"
   ]
  },
  {
   "cell_type": "code",
   "execution_count": 2,
   "metadata": {
    "collapsed": false
   },
   "outputs": [
    {
     "name": "stderr",
     "output_type": "stream",
     "text": [
      "/opt/anaconda/lib/python3.5/site-packages/sklearn/cross_validation.py:44: DeprecationWarning: This module was deprecated in version 0.18 in favor of the model_selection module into which all the refactored classes and functions are moved. Also note that the interface of the new CV iterators are different from that of this module. This module will be removed in 0.20.\n",
      "  \"This module will be removed in 0.20.\", DeprecationWarning)\n"
     ]
    }
   ],
   "source": [
    "# import session\n",
    "import numpy as np\n",
    "import pandas as pd\n",
    "from pandas.tools.plotting import scatter_matrix\n",
    "import matplotlib.pyplot as plt\n",
    "%matplotlib inline\n",
    "\n",
    "from sklearn import neighbors, linear_model, metrics, tree, cross_validation, svm\n",
    "from sklearn.preprocessing import StandardScaler\n",
    "from sklearn.cross_validation import cross_val_score, StratifiedKFold as KFold\n",
    "from sklearn.calibration import CalibratedClassifierCV\n",
    "from sklearn.base import BaseEstimator\n",
    "from sklearn.linear_model import LogisticRegression\n",
    "from sklearn.neural_network import MLPClassifier\n",
    "\n",
    "from sklearn.metrics import confusion_matrix\n",
    "from sklearn.metrics import classification_report\n",
    "from sklearn.metrics import log_loss\n",
    "from sklearn.metrics import roc_auc_score\n",
    "\n",
    "from sklearn.model_selection import train_test_split, cross_val_predict, StratifiedKFold\n",
    "from sklearn.model_selection import GridSearchCV\n",
    "\n",
    "from sklearn.ensemble import ExtraTreesRegressor as XTR\n",
    "from sklearn.ensemble import RandomForestClassifier as RF\n"
   ]
  },
  {
   "cell_type": "markdown",
   "metadata": {},
   "source": [
    "## 1. Preparing data for classification\n",
    "\n",
    "### 1.1 Stage1 data"
   ]
  },
  {
   "cell_type": "code",
   "execution_count": 3,
   "metadata": {
    "collapsed": false
   },
   "outputs": [
    {
     "name": "stdout",
     "output_type": "stream",
     "text": [
      "stage1 data (1434, 16)\n",
      "stage1 labels1 (1397, 2)\n",
      "stage1 labels2 (198, 2)\n",
      "Total 1595 labels\n",
      "(1434, 16)\n"
     ]
    },
    {
     "data": {
      "text/html": [
       "<div>\n",
       "<table border=\"1\" class=\"dataframe\">\n",
       "  <thead>\n",
       "    <tr style=\"text-align: right;\">\n",
       "      <th></th>\n",
       "      <th>max_malig</th>\n",
       "      <th>max_spiculation</th>\n",
       "      <th>max_lobulation</th>\n",
       "      <th>max_diameter</th>\n",
       "      <th>xsd_malig</th>\n",
       "      <th>xsd_spiculation</th>\n",
       "      <th>xmax_lobulation</th>\n",
       "      <th>xsd_diameter</th>\n",
       "      <th>loc_from_malig_x</th>\n",
       "      <th>loc_from_malig_y</th>\n",
       "      <th>loc_from_malig_z</th>\n",
       "      <th>std_locs_x</th>\n",
       "      <th>std_locs_y</th>\n",
       "      <th>std_locs_z</th>\n",
       "      <th>id</th>\n",
       "      <th>cancer</th>\n",
       "    </tr>\n",
       "  </thead>\n",
       "  <tbody>\n",
       "    <tr>\n",
       "      <th>0</th>\n",
       "      <td>0.521839</td>\n",
       "      <td>0.373247</td>\n",
       "      <td>0.372914</td>\n",
       "      <td>0.349160</td>\n",
       "      <td>0.103659</td>\n",
       "      <td>0.076975</td>\n",
       "      <td>0.372914</td>\n",
       "      <td>0.061591</td>\n",
       "      <td>0.539286</td>\n",
       "      <td>0.528571</td>\n",
       "      <td>0.434028</td>\n",
       "      <td>0.244258</td>\n",
       "      <td>0.163056</td>\n",
       "      <td>0.242655</td>\n",
       "      <td>d777a77cc7a2ec2f1eed68799cc9075c</td>\n",
       "      <td>1</td>\n",
       "    </tr>\n",
       "    <tr>\n",
       "      <th>1</th>\n",
       "      <td>0.531258</td>\n",
       "      <td>0.376680</td>\n",
       "      <td>0.376645</td>\n",
       "      <td>0.349927</td>\n",
       "      <td>0.122501</td>\n",
       "      <td>0.079592</td>\n",
       "      <td>0.376645</td>\n",
       "      <td>0.062194</td>\n",
       "      <td>0.088889</td>\n",
       "      <td>0.172222</td>\n",
       "      <td>0.205128</td>\n",
       "      <td>0.243736</td>\n",
       "      <td>0.159560</td>\n",
       "      <td>0.216008</td>\n",
       "      <td>1631637f08f27347e8f23d7a0e18c100</td>\n",
       "      <td>0</td>\n",
       "    </tr>\n",
       "    <tr>\n",
       "      <th>2</th>\n",
       "      <td>0.528440</td>\n",
       "      <td>0.375415</td>\n",
       "      <td>0.376739</td>\n",
       "      <td>0.351881</td>\n",
       "      <td>0.114865</td>\n",
       "      <td>0.077483</td>\n",
       "      <td>0.376739</td>\n",
       "      <td>0.059155</td>\n",
       "      <td>0.300000</td>\n",
       "      <td>0.339394</td>\n",
       "      <td>0.700637</td>\n",
       "      <td>0.231711</td>\n",
       "      <td>0.155614</td>\n",
       "      <td>0.217998</td>\n",
       "      <td>9065f2b133129c5747d42db18a424749</td>\n",
       "      <td>1</td>\n",
       "    </tr>\n",
       "    <tr>\n",
       "      <th>3</th>\n",
       "      <td>0.527394</td>\n",
       "      <td>0.379579</td>\n",
       "      <td>0.376450</td>\n",
       "      <td>0.354797</td>\n",
       "      <td>0.096239</td>\n",
       "      <td>0.078583</td>\n",
       "      <td>0.376450</td>\n",
       "      <td>0.062853</td>\n",
       "      <td>0.214035</td>\n",
       "      <td>0.385965</td>\n",
       "      <td>0.462963</td>\n",
       "      <td>0.233297</td>\n",
       "      <td>0.183184</td>\n",
       "      <td>0.207843</td>\n",
       "      <td>e3a9a6f8d21c6c459728066bcf18c615</td>\n",
       "      <td>0</td>\n",
       "    </tr>\n",
       "    <tr>\n",
       "      <th>4</th>\n",
       "      <td>0.533726</td>\n",
       "      <td>0.376004</td>\n",
       "      <td>0.377995</td>\n",
       "      <td>0.352379</td>\n",
       "      <td>0.110376</td>\n",
       "      <td>0.077679</td>\n",
       "      <td>0.377995</td>\n",
       "      <td>0.060632</td>\n",
       "      <td>0.688235</td>\n",
       "      <td>0.094118</td>\n",
       "      <td>0.091954</td>\n",
       "      <td>0.249184</td>\n",
       "      <td>0.183342</td>\n",
       "      <td>0.214586</td>\n",
       "      <td>f39a1e54d79731e4417aa8159d19b7d4</td>\n",
       "      <td>0</td>\n",
       "    </tr>\n",
       "  </tbody>\n",
       "</table>\n",
       "</div>"
      ],
      "text/plain": [
       "   max_malig  max_spiculation  max_lobulation  max_diameter  xsd_malig  \\\n",
       "0   0.521839         0.373247        0.372914      0.349160   0.103659   \n",
       "1   0.531258         0.376680        0.376645      0.349927   0.122501   \n",
       "2   0.528440         0.375415        0.376739      0.351881   0.114865   \n",
       "3   0.527394         0.379579        0.376450      0.354797   0.096239   \n",
       "4   0.533726         0.376004        0.377995      0.352379   0.110376   \n",
       "\n",
       "   xsd_spiculation  xmax_lobulation  xsd_diameter  loc_from_malig_x  \\\n",
       "0         0.076975         0.372914      0.061591          0.539286   \n",
       "1         0.079592         0.376645      0.062194          0.088889   \n",
       "2         0.077483         0.376739      0.059155          0.300000   \n",
       "3         0.078583         0.376450      0.062853          0.214035   \n",
       "4         0.077679         0.377995      0.060632          0.688235   \n",
       "\n",
       "   loc_from_malig_y  loc_from_malig_z  std_locs_x  std_locs_y  std_locs_z  \\\n",
       "0          0.528571          0.434028    0.244258    0.163056    0.242655   \n",
       "1          0.172222          0.205128    0.243736    0.159560    0.216008   \n",
       "2          0.339394          0.700637    0.231711    0.155614    0.217998   \n",
       "3          0.385965          0.462963    0.233297    0.183184    0.207843   \n",
       "4          0.094118          0.091954    0.249184    0.183342    0.214586   \n",
       "\n",
       "                                 id  cancer  \n",
       "0  d777a77cc7a2ec2f1eed68799cc9075c       1  \n",
       "1  1631637f08f27347e8f23d7a0e18c100       0  \n",
       "2  9065f2b133129c5747d42db18a424749       1  \n",
       "3  e3a9a6f8d21c6c459728066bcf18c615       0  \n",
       "4  f39a1e54d79731e4417aa8159d19b7d4       0  "
      ]
     },
     "execution_count": 3,
     "metadata": {},
     "output_type": "execute_result"
    }
   ],
   "source": [
    "df_feature = pd.read_csv(\"./feature_matrix_model2_stage1.csv\")\n",
    "df_feature['id'] = df_feature['Unnamed: 0'].apply(lambda x: x.split('.')[0])\n",
    "print (\"stage1 data\", df_feature.shape)\n",
    "\n",
    "df_labels_1 =pd.read_csv('/home/lin/data/stage1_labels.csv')\n",
    "print (\"stage1 labels1\",df_labels_1.shape)\n",
    "\n",
    "df_labels_2 = pd.read_csv('/home/lin/data/stage1_solution.csv')\n",
    "df_labels_2 = df_labels_2.drop(['Usage'],1)\n",
    "print (\"stage1 labels2\", df_labels_2.shape)\n",
    "\n",
    "df_labels = df_labels_1.append(df_labels_2)\n",
    "print (\"Total %d labels\"%df_labels.shape[0])\n",
    "\n",
    "df = pd.merge(left=df_feature, right=df_labels,how='outer',on='id').dropna()\n",
    "df = df.drop(['Unnamed: 0'],1)\n",
    "print (df.shape)\n",
    "df.head()"
   ]
  },
  {
   "cell_type": "markdown",
   "metadata": {},
   "source": [
    "## 2. Data exploration\n",
    "\n",
    "### 2.1 Basic estadistics\n",
    "\n",
    "+ How many patients do we have for training-test? --> 1257\n",
    "+ How many cancer patients? --> 315\n",
    "+ What percentage is the cancer patient? --> 25%\n"
   ]
  },
  {
   "cell_type": "code",
   "execution_count": 4,
   "metadata": {
    "collapsed": false
   },
   "outputs": [
    {
     "name": "stdout",
     "output_type": "stream",
     "text": [
      "data frame shape (1434, 16)\n",
      "number of cancer patient: 363\n",
      "how un-balance is the data: 0.25313807531380755\n"
     ]
    }
   ],
   "source": [
    "print (\"data frame shape\", df.shape)\n",
    "print (\"number of cancer patient:\",df['cancer'].sum() )\n",
    "print (\"how un-balance is the data:\", df['cancer'].sum()/df.shape[0])"
   ]
  },
  {
   "cell_type": "markdown",
   "metadata": {},
   "source": [
    "### 2.2 Cancer patient v.s. Non-cancer patients"
   ]
  },
  {
   "cell_type": "code",
   "execution_count": 5,
   "metadata": {
    "collapsed": false
   },
   "outputs": [
    {
     "name": "stdout",
     "output_type": "stream",
     "text": [
      "(363, 16)\n"
     ]
    },
    {
     "data": {
      "text/html": [
       "<div>\n",
       "<table border=\"1\" class=\"dataframe\">\n",
       "  <thead>\n",
       "    <tr style=\"text-align: right;\">\n",
       "      <th></th>\n",
       "      <th>max_malig</th>\n",
       "      <th>max_spiculation</th>\n",
       "      <th>max_lobulation</th>\n",
       "      <th>max_diameter</th>\n",
       "      <th>xsd_malig</th>\n",
       "      <th>xsd_spiculation</th>\n",
       "      <th>xmax_lobulation</th>\n",
       "      <th>xsd_diameter</th>\n",
       "      <th>loc_from_malig_x</th>\n",
       "      <th>loc_from_malig_y</th>\n",
       "      <th>loc_from_malig_z</th>\n",
       "      <th>std_locs_x</th>\n",
       "      <th>std_locs_y</th>\n",
       "      <th>std_locs_z</th>\n",
       "      <th>id</th>\n",
       "      <th>cancer</th>\n",
       "    </tr>\n",
       "  </thead>\n",
       "  <tbody>\n",
       "    <tr>\n",
       "      <th>0</th>\n",
       "      <td>0.521839</td>\n",
       "      <td>0.373247</td>\n",
       "      <td>0.372914</td>\n",
       "      <td>0.349160</td>\n",
       "      <td>0.103659</td>\n",
       "      <td>0.076975</td>\n",
       "      <td>0.372914</td>\n",
       "      <td>0.061591</td>\n",
       "      <td>0.539286</td>\n",
       "      <td>0.528571</td>\n",
       "      <td>0.434028</td>\n",
       "      <td>0.244258</td>\n",
       "      <td>0.163056</td>\n",
       "      <td>0.242655</td>\n",
       "      <td>d777a77cc7a2ec2f1eed68799cc9075c</td>\n",
       "      <td>1</td>\n",
       "    </tr>\n",
       "    <tr>\n",
       "      <th>2</th>\n",
       "      <td>0.528440</td>\n",
       "      <td>0.375415</td>\n",
       "      <td>0.376739</td>\n",
       "      <td>0.351881</td>\n",
       "      <td>0.114865</td>\n",
       "      <td>0.077483</td>\n",
       "      <td>0.376739</td>\n",
       "      <td>0.059155</td>\n",
       "      <td>0.300000</td>\n",
       "      <td>0.339394</td>\n",
       "      <td>0.700637</td>\n",
       "      <td>0.231711</td>\n",
       "      <td>0.155614</td>\n",
       "      <td>0.217998</td>\n",
       "      <td>9065f2b133129c5747d42db18a424749</td>\n",
       "      <td>1</td>\n",
       "    </tr>\n",
       "    <tr>\n",
       "      <th>6</th>\n",
       "      <td>0.528324</td>\n",
       "      <td>0.380913</td>\n",
       "      <td>0.363574</td>\n",
       "      <td>0.347679</td>\n",
       "      <td>0.125991</td>\n",
       "      <td>0.082383</td>\n",
       "      <td>0.363574</td>\n",
       "      <td>0.064464</td>\n",
       "      <td>0.328571</td>\n",
       "      <td>0.296429</td>\n",
       "      <td>0.414894</td>\n",
       "      <td>0.212833</td>\n",
       "      <td>0.155433</td>\n",
       "      <td>0.220319</td>\n",
       "      <td>7c2b72f9e0f5649c22902292febdc89f</td>\n",
       "      <td>1</td>\n",
       "    </tr>\n",
       "    <tr>\n",
       "      <th>10</th>\n",
       "      <td>0.531307</td>\n",
       "      <td>0.377150</td>\n",
       "      <td>0.377138</td>\n",
       "      <td>0.352112</td>\n",
       "      <td>0.113400</td>\n",
       "      <td>0.078252</td>\n",
       "      <td>0.377138</td>\n",
       "      <td>0.063339</td>\n",
       "      <td>0.581395</td>\n",
       "      <td>0.534884</td>\n",
       "      <td>0.442857</td>\n",
       "      <td>0.246453</td>\n",
       "      <td>0.172813</td>\n",
       "      <td>0.243043</td>\n",
       "      <td>f5717f7cbc08d8bd942cd4c1128e3339</td>\n",
       "      <td>1</td>\n",
       "    </tr>\n",
       "    <tr>\n",
       "      <th>13</th>\n",
       "      <td>0.533147</td>\n",
       "      <td>0.382097</td>\n",
       "      <td>0.377770</td>\n",
       "      <td>0.352228</td>\n",
       "      <td>0.112834</td>\n",
       "      <td>0.079999</td>\n",
       "      <td>0.377770</td>\n",
       "      <td>0.059919</td>\n",
       "      <td>0.459547</td>\n",
       "      <td>0.537217</td>\n",
       "      <td>0.441176</td>\n",
       "      <td>0.204743</td>\n",
       "      <td>0.144383</td>\n",
       "      <td>0.161236</td>\n",
       "      <td>882107a204c302e27628f85522baea49</td>\n",
       "      <td>1</td>\n",
       "    </tr>\n",
       "  </tbody>\n",
       "</table>\n",
       "</div>"
      ],
      "text/plain": [
       "    max_malig  max_spiculation  max_lobulation  max_diameter  xsd_malig  \\\n",
       "0    0.521839         0.373247        0.372914      0.349160   0.103659   \n",
       "2    0.528440         0.375415        0.376739      0.351881   0.114865   \n",
       "6    0.528324         0.380913        0.363574      0.347679   0.125991   \n",
       "10   0.531307         0.377150        0.377138      0.352112   0.113400   \n",
       "13   0.533147         0.382097        0.377770      0.352228   0.112834   \n",
       "\n",
       "    xsd_spiculation  xmax_lobulation  xsd_diameter  loc_from_malig_x  \\\n",
       "0          0.076975         0.372914      0.061591          0.539286   \n",
       "2          0.077483         0.376739      0.059155          0.300000   \n",
       "6          0.082383         0.363574      0.064464          0.328571   \n",
       "10         0.078252         0.377138      0.063339          0.581395   \n",
       "13         0.079999         0.377770      0.059919          0.459547   \n",
       "\n",
       "    loc_from_malig_y  loc_from_malig_z  std_locs_x  std_locs_y  std_locs_z  \\\n",
       "0           0.528571          0.434028    0.244258    0.163056    0.242655   \n",
       "2           0.339394          0.700637    0.231711    0.155614    0.217998   \n",
       "6           0.296429          0.414894    0.212833    0.155433    0.220319   \n",
       "10          0.534884          0.442857    0.246453    0.172813    0.243043   \n",
       "13          0.537217          0.441176    0.204743    0.144383    0.161236   \n",
       "\n",
       "                                  id  cancer  \n",
       "0   d777a77cc7a2ec2f1eed68799cc9075c       1  \n",
       "2   9065f2b133129c5747d42db18a424749       1  \n",
       "6   7c2b72f9e0f5649c22902292febdc89f       1  \n",
       "10  f5717f7cbc08d8bd942cd4c1128e3339       1  \n",
       "13  882107a204c302e27628f85522baea49       1  "
      ]
     },
     "execution_count": 5,
     "metadata": {},
     "output_type": "execute_result"
    }
   ],
   "source": [
    "df_cancer = df.loc[df['cancer'] == 1]\n",
    "print (df_cancer.shape)\n",
    "df_cancer.head()"
   ]
  },
  {
   "cell_type": "code",
   "execution_count": 6,
   "metadata": {
    "collapsed": false,
    "scrolled": true
   },
   "outputs": [
    {
     "name": "stdout",
     "output_type": "stream",
     "text": [
      "(1071, 16)\n"
     ]
    },
    {
     "data": {
      "text/html": [
       "<div>\n",
       "<table border=\"1\" class=\"dataframe\">\n",
       "  <thead>\n",
       "    <tr style=\"text-align: right;\">\n",
       "      <th></th>\n",
       "      <th>max_malig</th>\n",
       "      <th>max_spiculation</th>\n",
       "      <th>max_lobulation</th>\n",
       "      <th>max_diameter</th>\n",
       "      <th>xsd_malig</th>\n",
       "      <th>xsd_spiculation</th>\n",
       "      <th>xmax_lobulation</th>\n",
       "      <th>xsd_diameter</th>\n",
       "      <th>loc_from_malig_x</th>\n",
       "      <th>loc_from_malig_y</th>\n",
       "      <th>loc_from_malig_z</th>\n",
       "      <th>std_locs_x</th>\n",
       "      <th>std_locs_y</th>\n",
       "      <th>std_locs_z</th>\n",
       "      <th>id</th>\n",
       "      <th>cancer</th>\n",
       "    </tr>\n",
       "  </thead>\n",
       "  <tbody>\n",
       "    <tr>\n",
       "      <th>1</th>\n",
       "      <td>0.531258</td>\n",
       "      <td>0.376680</td>\n",
       "      <td>0.376645</td>\n",
       "      <td>0.349927</td>\n",
       "      <td>0.122501</td>\n",
       "      <td>0.079592</td>\n",
       "      <td>0.376645</td>\n",
       "      <td>0.062194</td>\n",
       "      <td>0.088889</td>\n",
       "      <td>0.172222</td>\n",
       "      <td>0.205128</td>\n",
       "      <td>0.243736</td>\n",
       "      <td>0.159560</td>\n",
       "      <td>0.216008</td>\n",
       "      <td>1631637f08f27347e8f23d7a0e18c100</td>\n",
       "      <td>0</td>\n",
       "    </tr>\n",
       "    <tr>\n",
       "      <th>3</th>\n",
       "      <td>0.527394</td>\n",
       "      <td>0.379579</td>\n",
       "      <td>0.376450</td>\n",
       "      <td>0.354797</td>\n",
       "      <td>0.096239</td>\n",
       "      <td>0.078583</td>\n",
       "      <td>0.376450</td>\n",
       "      <td>0.062853</td>\n",
       "      <td>0.214035</td>\n",
       "      <td>0.385965</td>\n",
       "      <td>0.462963</td>\n",
       "      <td>0.233297</td>\n",
       "      <td>0.183184</td>\n",
       "      <td>0.207843</td>\n",
       "      <td>e3a9a6f8d21c6c459728066bcf18c615</td>\n",
       "      <td>0</td>\n",
       "    </tr>\n",
       "    <tr>\n",
       "      <th>4</th>\n",
       "      <td>0.533726</td>\n",
       "      <td>0.376004</td>\n",
       "      <td>0.377995</td>\n",
       "      <td>0.352379</td>\n",
       "      <td>0.110376</td>\n",
       "      <td>0.077679</td>\n",
       "      <td>0.377995</td>\n",
       "      <td>0.060632</td>\n",
       "      <td>0.688235</td>\n",
       "      <td>0.094118</td>\n",
       "      <td>0.091954</td>\n",
       "      <td>0.249184</td>\n",
       "      <td>0.183342</td>\n",
       "      <td>0.214586</td>\n",
       "      <td>f39a1e54d79731e4417aa8159d19b7d4</td>\n",
       "      <td>0</td>\n",
       "    </tr>\n",
       "    <tr>\n",
       "      <th>5</th>\n",
       "      <td>0.526695</td>\n",
       "      <td>0.382140</td>\n",
       "      <td>0.378211</td>\n",
       "      <td>0.353556</td>\n",
       "      <td>0.127330</td>\n",
       "      <td>0.086327</td>\n",
       "      <td>0.378211</td>\n",
       "      <td>0.063054</td>\n",
       "      <td>0.285714</td>\n",
       "      <td>0.414286</td>\n",
       "      <td>0.770548</td>\n",
       "      <td>0.219889</td>\n",
       "      <td>0.184321</td>\n",
       "      <td>0.200701</td>\n",
       "      <td>8987df2216ae2ab1a907d52bc9dc540d</td>\n",
       "      <td>0</td>\n",
       "    </tr>\n",
       "    <tr>\n",
       "      <th>7</th>\n",
       "      <td>0.533799</td>\n",
       "      <td>0.380297</td>\n",
       "      <td>0.377883</td>\n",
       "      <td>0.352167</td>\n",
       "      <td>0.122152</td>\n",
       "      <td>0.081530</td>\n",
       "      <td>0.377883</td>\n",
       "      <td>0.065381</td>\n",
       "      <td>0.734463</td>\n",
       "      <td>0.635593</td>\n",
       "      <td>0.525424</td>\n",
       "      <td>0.234608</td>\n",
       "      <td>0.177474</td>\n",
       "      <td>0.225888</td>\n",
       "      <td>e60d99ea9648e1ce859eb0b386365e26</td>\n",
       "      <td>0</td>\n",
       "    </tr>\n",
       "  </tbody>\n",
       "</table>\n",
       "</div>"
      ],
      "text/plain": [
       "   max_malig  max_spiculation  max_lobulation  max_diameter  xsd_malig  \\\n",
       "1   0.531258         0.376680        0.376645      0.349927   0.122501   \n",
       "3   0.527394         0.379579        0.376450      0.354797   0.096239   \n",
       "4   0.533726         0.376004        0.377995      0.352379   0.110376   \n",
       "5   0.526695         0.382140        0.378211      0.353556   0.127330   \n",
       "7   0.533799         0.380297        0.377883      0.352167   0.122152   \n",
       "\n",
       "   xsd_spiculation  xmax_lobulation  xsd_diameter  loc_from_malig_x  \\\n",
       "1         0.079592         0.376645      0.062194          0.088889   \n",
       "3         0.078583         0.376450      0.062853          0.214035   \n",
       "4         0.077679         0.377995      0.060632          0.688235   \n",
       "5         0.086327         0.378211      0.063054          0.285714   \n",
       "7         0.081530         0.377883      0.065381          0.734463   \n",
       "\n",
       "   loc_from_malig_y  loc_from_malig_z  std_locs_x  std_locs_y  std_locs_z  \\\n",
       "1          0.172222          0.205128    0.243736    0.159560    0.216008   \n",
       "3          0.385965          0.462963    0.233297    0.183184    0.207843   \n",
       "4          0.094118          0.091954    0.249184    0.183342    0.214586   \n",
       "5          0.414286          0.770548    0.219889    0.184321    0.200701   \n",
       "7          0.635593          0.525424    0.234608    0.177474    0.225888   \n",
       "\n",
       "                                 id  cancer  \n",
       "1  1631637f08f27347e8f23d7a0e18c100       0  \n",
       "3  e3a9a6f8d21c6c459728066bcf18c615       0  \n",
       "4  f39a1e54d79731e4417aa8159d19b7d4       0  \n",
       "5  8987df2216ae2ab1a907d52bc9dc540d       0  \n",
       "7  e60d99ea9648e1ce859eb0b386365e26       0  "
      ]
     },
     "execution_count": 6,
     "metadata": {},
     "output_type": "execute_result"
    }
   ],
   "source": [
    "df_no_cancer = df.loc[df['cancer'] == 0]\n",
    "print (df_no_cancer.shape)\n",
    "df_no_cancer.head()"
   ]
  },
  {
   "cell_type": "code",
   "execution_count": 7,
   "metadata": {
    "collapsed": false
   },
   "outputs": [
    {
     "data": {
      "image/png": "[encoded data removed]",
      "text/plain": [
       "<matplotlib.figure.Figure at 0x7f1e5ef14e10>"
      ]
     },
     "metadata": {},
     "output_type": "display_data"
    }
   ],
   "source": [
    "plt.pie(np.c_[df_cancer.shape[0],df_no_cancer.shape[0]][0],labels=['Cancer','Non-cancer'], colors=['r','g'],autopct ='%.2f' )\n",
    "fig = plt.gcf()\n",
    "fig.set_size_inches(6,6)"
   ]
  },
  {
   "cell_type": "code",
   "execution_count": 8,
   "metadata": {
    "collapsed": false,
    "scrolled": false
   },
   "outputs": [
    {
     "data": {
      "image/png": "[encoded data removed]",
      "text/plain": [
       "<matplotlib.figure.Figure at 0x7f1e5eead550>"
      ]
     },
     "metadata": {},
     "output_type": "display_data"
    }
   ],
   "source": [
    "# df_no_cancer.reset_index(inplace=True, drop=True)\n",
    "fig, ax = plt.subplots(figsize=[20,12])\n",
    "\n",
    "cancerCount=0\n",
    "nonCancerCount=0\n",
    "\n",
    "for patient in range(300):\n",
    "    if df.iloc[patient].cancer==0:\n",
    "        if nonCancerCount<30:\n",
    "            nonCancerCount+=1\n",
    "            line1, = plt.plot(np.arange(14), df.iloc[patient][:-2],'ok',alpha=0.3,label='Non Cancer')\n",
    "    else:\n",
    "        if cancerCount<30:\n",
    "            cancerCount+=1\n",
    "            line2, = plt.plot(np.arange(14), df.iloc[patient][:-2],'oc',alpha=0.5,label='Cancer')\n",
    "\n",
    "plt.legend((line1,line2),('Non Cancer','Cancer'))\n",
    "plt.xticks([x for x in range(14)])\n",
    "ax.set_xticklabels(df.columns[:-2])\n",
    "plt.savefig('model2_stage1_features_patients_diff.png')"
   ]
  },
  {
   "cell_type": "code",
   "execution_count": 9,
   "metadata": {
    "collapsed": false,
    "scrolled": true
   },
   "outputs": [
    {
     "name": "stderr",
     "output_type": "stream",
     "text": [
      "/opt/anaconda/lib/python3.5/site-packages/pandas/core/frame.py:5749: UserWarning: When passing multiple axes, sharex and sharey are ignored. These settings must be specified when creating axes\n",
      "  return_type=return_type, **kwds)\n"
     ]
    },
    {
     "data": {
      "image/png": "[encoded data removed]",
      "text/plain": [
       "<matplotlib.figure.Figure at 0x7f1e5eececc0>"
      ]
     },
     "metadata": {},
     "output_type": "display_data"
    }
   ],
   "source": [
    "import seaborn\n",
    "seaborn.set(style=\"ticks\")\n",
    "fig, axes = plt.subplots(ncols=14, figsize=(20, 5), sharey=True)\n",
    "df.query(\"cancer in [0, 1]\").boxplot(by='cancer', return_type='axes', ax=axes)\n",
    "plt.savefig('model2_stage1_paired_boxplot_feature.png')"
   ]
  },
  {
   "cell_type": "markdown",
   "metadata": {},
   "source": [
    "#### 2.2.1 Mean\n",
    "\n",
    "Not surprisely, as the box plot above showed, they are extremly similar!! "
   ]
  },
  {
   "cell_type": "code",
   "execution_count": 10,
   "metadata": {
    "collapsed": false
   },
   "outputs": [
    {
     "name": "stdout",
     "output_type": "stream",
     "text": [
      "max_malig          -0.000180\n",
      "max_spiculation    -0.000039\n",
      "max_lobulation      0.000152\n",
      "max_diameter        0.000013\n",
      "xsd_malig          -0.001098\n",
      "xsd_spiculation    -0.000411\n",
      "xmax_lobulation     0.000152\n",
      "xsd_diameter       -0.000164\n",
      "loc_from_malig_x    0.010641\n",
      "loc_from_malig_y   -0.017872\n",
      "loc_from_malig_z    0.011166\n",
      "std_locs_x          0.000371\n",
      "std_locs_y          0.000825\n",
      "std_locs_z          0.001998\n",
      "cancer              1.000000\n",
      "dtype: float64\n"
     ]
    }
   ],
   "source": [
    "df_cancer_mean = df.loc[df['cancer'] == 1].mean()\n",
    "df_no_cancer_mean = df.loc[df['cancer'] == 0].mean()\n",
    "print (df_cancer_mean-df_no_cancer_mean)\n",
    "# print (df_cancer_mean)"
   ]
  },
  {
   "cell_type": "code",
   "execution_count": 11,
   "metadata": {
    "collapsed": false,
    "scrolled": false
   },
   "outputs": [
    {
     "data": {
      "image/png": "[encoded data removed]",
      "text/plain": [
       "<matplotlib.figure.Figure at 0x7f1e57f37e80>"
      ]
     },
     "metadata": {},
     "output_type": "display_data"
    }
   ],
   "source": [
    "plt.scatter(np.arange(14),df_no_cancer_mean[:-1], color = 'k', alpha=0.5,  label = 'non-cancer mean')\n",
    "plt.scatter(np.arange(14),df_cancer_mean[:-1], color = 'c', alpha=0.5, label = 'cancer mean')\n",
    "plt.legend()\n",
    "plt.savefig('model2_stage1_cancer_nonCancer_mean_diff.png')"
   ]
  },
  {
   "cell_type": "markdown",
   "metadata": {},
   "source": [
    "## 3. Metrics\n",
    "\n",
    "### 3.1 Confusion matrix"
   ]
  },
  {
   "cell_type": "markdown",
   "metadata": {},
   "source": [
    "<div class = \"alert alert-info\">\n",
    "**Unbalanced datasets**\n",
    "<p>\n",
    "In cancer detection because the cost of missing one patient in a trial is very large, we want the predictor to have very large recall/sensitivity (we do not accept false negatives) though it means accepting more false positives. These false positives can be discarded in subsequent tests. \n",
    "\n",
    "<p>\n",
    "$$\\text{sensitivity (recall) }=\\frac{\\text{TP}}{\\text{Real Positives}}=\\frac{\\text{TP}}{\\text{TP}+\\text{FN}}$$\n",
    "\n",
    "\n",
    "</div>\n",
    "\n",
    "Although accuracy is the most normal metric for evaluating classifiers, there are cases when the business value of correctly predicting elements from one class is different from the value for the prediction of elements of another class. In those cases, accuracy is not a good performance metric and more detailed analysis is needed. The **confusion matrix** enables us to define different metrics considering such scenarios. The confusion matrix considers the concepts of the classifier outcome and the actual ground truth or gold standard. In a binary problem, there are four possible cases: \n",
    "\n",
    "\n",
    "+ *True positives (TP):* When the classifier predicts a sample as positive and it really is positive.\n",
    "+ *False positives (FP):* When the classifier predicts a sample as positive but in fact it is negative.\n",
    "+ *True negatives (TN):* When the classifier predicts a sample as negative and it really is negative.\n",
    "+ *False negatives (FN):* When the classifier predicts a sample as negative but in fact it is positive.\n",
    "\n",
    "\n",
    "We can summarize this information in a matrix, namely the confusion matrix, as follows:\n",
    "\n",
    "<img src = \"https://i.stack.imgur.com/OW5Lt.jpg\" width = 400px>"
   ]
  },
  {
   "cell_type": "markdown",
   "metadata": {
    "collapsed": true
   },
   "source": [
    "### 3.2 Evaluation: Logloss\n",
    "\n",
    "https://www.kaggle.com/c/data-science-bowl-2017#evaluation\n",
    "\n",
    "$$\n",
    "\\textrm{LogLoss} = - \\frac{1}{n} \\sum_{i=1}^n \\left[ y_i \\log(\\hat{y}_i) + (1 - y_i) \\log(1 - \\hat{y}_i)\\right],\n",
    "$$\n",
    "\n",
    "where\n",
    "\n",
    "+ n is the number of patients in the test set\n",
    "+ $\\hat{y}_i $ is the predicted probability of the image belonging to a patient with cancer\n",
    "+ $ y_i $ is 1 if the diagnosis is cancer, 0 otherwise\n",
    "+ $ log()$ is the natural (base e) logarithm\n",
    "\n",
    "Note: the actual submitted predicted probabilities are replaced with $(max(min(p,1-10^{-15}),10^{-15}))$ . A smaller log loss is better."
   ]
  },
  {
   "cell_type": "markdown",
   "metadata": {},
   "source": [
    "## 4. Feature selection,  classification, and evaluation"
   ]
  },
  {
   "cell_type": "markdown",
   "metadata": {},
   "source": [
    "### 4.1 Feature selection "
   ]
  },
  {
   "cell_type": "code",
   "execution_count": 12,
   "metadata": {
    "collapsed": false
   },
   "outputs": [
    {
     "name": "stdout",
     "output_type": "stream",
     "text": [
      "Feature space holds 1434 observations and 14 features\n",
      "Unique target labels: [0 1]\n"
     ]
    }
   ],
   "source": [
    "## Feature selection ##\n",
    "x_cols = df.drop(['id', 'cancer'],1).columns  # using all the features\n",
    "# x_cols=['max_malig','max_spiculation','max_lobulation','max_diameter','xsd_malig', 'xsd_spiculation', 'xmax_lobulation','xsd_diameter']\n",
    "X = df.loc[:][x_cols].values\n",
    "y = df.loc[:]['cancer'].values\n",
    "\n",
    "print (\"Feature space holds %d observations and %d features\" % X.shape)\n",
    "print (\"Unique target labels:\", np.unique(y))"
   ]
  },
  {
   "cell_type": "markdown",
   "metadata": {},
   "source": [
    "### 4.2 Clssification\n",
    "\n",
    "### 4.2.1 Logistic regression (LR) with ExtraTreesRegressor (XTR)"
   ]
  },
  {
   "cell_type": "code",
   "execution_count": 13,
   "metadata": {
    "collapsed": true
   },
   "outputs": [],
   "source": [
    "class SlightlyNonlinearClassification(BaseEstimator):\n",
    "\n",
    "    def __init__(self,C=10,step_size=0.7):\n",
    "        self.step_size = step_size\n",
    "        self.C = C\n",
    "\n",
    "    def fit(self, X, y):\n",
    "        lr = LogisticRegression(C=self.C,penalty='l1')\n",
    "        lr_preds = cross_val_predict(lr, X, y, cv=50, method='predict_proba')[:,1]\n",
    "        lr.fit(X,y)\n",
    "        xtr = XTR(n_estimators=500, min_samples_leaf=20, max_features=.8).fit(X, y - lr_preds)\n",
    "        self.lr = lr\n",
    "        self.xtr = xtr\n",
    "\n",
    "        return self\n",
    "\n",
    "    def predict_proba(self, X):\n",
    "        base = self.lr.predict_proba(X)\n",
    "        base[:,1] += self.step_size * self.xtr.predict(X)\n",
    "        base[:,0] = 1 - base[:,1]\n",
    "        return np.clip(base, 1e-3, 1-1e-3)\n",
    "\n",
    "    def predict(self, X):\n",
    "        return self.predict_proba(X)"
   ]
  },
  {
   "cell_type": "code",
   "execution_count": 14,
   "metadata": {
    "collapsed": false,
    "scrolled": true
   },
   "outputs": [
    {
     "name": "stdout",
     "output_type": "stream",
     "text": [
      "(1434,)\n",
      "logloss 0.571605997292\n"
     ]
    },
    {
     "data": {
      "text/plain": [
       "(array([  20.,   77.,  191.,  363.,  340.,  225.,  124.,   61.,   25.,    8.]),\n",
       " array([ 0.10102878,  0.13620979,  0.17139081,  0.20657183,  0.24175285,\n",
       "         0.27693386,  0.31211488,  0.3472959 ,  0.38247692,  0.41765794,\n",
       "         0.45283895]),\n",
       " <a list of 10 Patch objects>)"
      ]
     },
     "execution_count": 14,
     "metadata": {},
     "output_type": "execute_result"
    },
    {
     "data": {
      "image/png": "[encoded data removed]",
      "text/plain": [
       "<matplotlib.figure.Figure at 0x7f1e57fc9320>"
      ]
     },
     "metadata": {},
     "output_type": "display_data"
    }
   ],
   "source": [
    "x_cols = df.drop(['id', 'cancer'],1).columns  # using all the features\n",
    "X = df.loc[:][x_cols].values\n",
    "y = df.loc[:]['cancer'].values\n",
    "\n",
    "X = StandardScaler().fit_transform(X)\n",
    "lr = SlightlyNonlinearClassification(C=1000, step_size=0.9)\n",
    "Yh = cross_val_predict(lr, X, y, cv=10, method='predict_proba',n_jobs=-1)[:,1]\n",
    "\n",
    "print (Yh.shape)\n",
    "print (\"logloss\",log_loss(y, Yh) )\n",
    "plt.hist(Yh)"
   ]
  },
  {
   "cell_type": "code",
   "execution_count": 15,
   "metadata": {
    "collapsed": false,
    "scrolled": true
   },
   "outputs": [
    {
     "name": "stdout",
     "output_type": "stream",
     "text": [
      "logloss 0.572365791757\n",
      "confusion_matrix: \n",
      " [[559 512]\n",
      " [180 183]]\n",
      "             precision    recall  f1-score   support\n",
      "\n",
      "  No Cancer       0.76      0.52      0.62      1071\n",
      "     Cancer       0.26      0.50      0.35       363\n",
      "\n",
      "avg / total       0.63      0.52      0.55      1434\n",
      "\n",
      "Specificity:  0.521942110177\n",
      "Recall:  0.504132231405\n",
      "Accuracy:  0.517433751743\n"
     ]
    },
    {
     "data": {
      "text/plain": [
       "' \\n    acc = []\\n    threholds = [2,2.5,3,3.5,4]\\n    for threhold in threholds:\\n        y_pred_sub = np.zeros(len(y_train))\\n        for t in test:\\n            if y_pred_prob[t]>=threhold:\\n                y_pred_sub[t]=1\\n        conf_mat_sub = confusion_matrix(y_train,y_pred_sub)\\n        D = conf_mat_sub[0][0]    # TP\\n        B = conf_mat_sub[0][1]    # FP\\n        C = conf_mat_sub[1][0]    # FN\\n        A = conf_mat_sub[1][1]    # TN\\n        acc.append(A/(A+C))\\n    \\n#     print (\"Accuracy: \", acc)     \\n    idx = acc.index(max(acc))\\n    threhold =  threholds[idx]\\n    print (\"best threhold: \",threhold)\\n    if y_pred_prob[t]>=threhold:\\n        y_pred[t]=1\\n \\nprint (\\'Logistic Regression\\')\\nconf_mat = confusion_matrix(y,y_pred)\\nD = conf_mat[0][0]    # TP\\nB = conf_mat[0][1]    # FP\\nC = conf_mat[1][0]    # FN\\nA = conf_mat[1][1]    # TN\\n\\n'"
      ]
     },
     "execution_count": 15,
     "metadata": {},
     "output_type": "execute_result"
    }
   ],
   "source": [
    "x_cols = df.drop(['id', 'cancer'],1).columns  # using all the features\n",
    "X = df.loc[:][x_cols].values\n",
    "y = df.loc[:]['cancer'].values\n",
    "\n",
    "cv = cross_validation.KFold(X.shape[0],n_folds = 20,random_state=42)\n",
    "y_pred = np.zeros(len(y))\n",
    "y_pred_prob = np.zeros(len(y))\n",
    "for train, test in cv:\n",
    "    X_train, X_test, y_train, y_test = X[train,:], X[test,:], y[train], y[test]\n",
    "    scaler = StandardScaler()\n",
    "    X_train = scaler.fit_transform(X_train)\n",
    "    X_test = scaler.transform(X_test)\n",
    "\n",
    "    clf = SlightlyNonlinearClassification(C=1000, step_size=0.9)\n",
    "    clf.fit(X_train, y_train)\n",
    "    y_pred_prob[test] = clf.predict_proba(X_test)[:,1]\n",
    "    for t in test:\n",
    "        if y_pred_prob[t]>=0.25:\n",
    "            y_pred[t]=1\n",
    "    \n",
    "print(\"logloss\",log_loss(y, y_pred_prob))\n",
    "conf_mat = confusion_matrix(y,y_pred)\n",
    "D = conf_mat[0][0]    # TP\n",
    "B = conf_mat[0][1]    # FP\n",
    "C = conf_mat[1][0]    # FN\n",
    "A = conf_mat[1][1]    # TN\n",
    "    \n",
    "print (\"confusion_matrix: \\n\", conf_mat)\n",
    "print (classification_report(y, y_pred, target_names=[\"No Cancer\", \"Cancer\"]))\n",
    "print (\"Specificity: \", D/(B+D))\n",
    "print (\"Recall: \", A/(A+C))\n",
    "print (\"Accuracy: \", (A+D)/(A+B+C+D))\n",
    "\n",
    "''' \n",
    "    acc = []\n",
    "    threholds = [2,2.5,3,3.5,4]\n",
    "    for threhold in threholds:\n",
    "        y_pred_sub = np.zeros(len(y_train))\n",
    "        for t in test:\n",
    "            if y_pred_prob[t]>=threhold:\n",
    "                y_pred_sub[t]=1\n",
    "        conf_mat_sub = confusion_matrix(y_train,y_pred_sub)\n",
    "        D = conf_mat_sub[0][0]    # TP\n",
    "        B = conf_mat_sub[0][1]    # FP\n",
    "        C = conf_mat_sub[1][0]    # FN\n",
    "        A = conf_mat_sub[1][1]    # TN\n",
    "        acc.append(A/(A+C))\n",
    "    \n",
    "#     print (\"Accuracy: \", acc)     \n",
    "    idx = acc.index(max(acc))\n",
    "    threhold =  threholds[idx]\n",
    "    print (\"best threhold: \",threhold)\n",
    "    if y_pred_prob[t]>=threhold:\n",
    "        y_pred[t]=1\n",
    " \n",
    "print ('Logistic Regression')\n",
    "conf_mat = confusion_matrix(y,y_pred)\n",
    "D = conf_mat[0][0]    # TP\n",
    "B = conf_mat[0][1]    # FP\n",
    "C = conf_mat[1][0]    # FN\n",
    "A = conf_mat[1][1]    # TN\n",
    "\n",
    "'''"
   ]
  },
  {
   "cell_type": "markdown",
   "metadata": {},
   "source": [
    "### 4.2.2 LogisticRegression"
   ]
  },
  {
   "cell_type": "code",
   "execution_count": 16,
   "metadata": {
    "collapsed": false
   },
   "outputs": [
    {
     "name": "stdout",
     "output_type": "stream",
     "text": [
      "Logistic Regression\n",
      "confusion_matrix: \n",
      " [[306 765]\n",
      " [ 96 267]]\n",
      "             precision    recall  f1-score   support\n",
      "\n",
      "  No Cancer       0.76      0.29      0.42      1071\n",
      "     Cancer       0.26      0.74      0.38       363\n",
      "\n",
      "avg / total       0.63      0.40      0.41      1434\n",
      "\n",
      "logloss 0.738183152204\n",
      "Specificity:  0.285714285714\n",
      "Recall:  0.735537190083\n",
      "Accuracy:  0.399581589958\n"
     ]
    },
    {
     "data": {
      "text/plain": [
       "(array([   4.,   11.,   42.,  150.,  265.,  381.,  306.,  179.,   81.,   15.]),\n",
       " array([ 0.30381478,  0.34527434,  0.38673389,  0.42819345,  0.46965301,\n",
       "         0.51111256,  0.55257212,  0.59403168,  0.63549123,  0.67695079,\n",
       "         0.71841034]),\n",
       " <a list of 10 Patch objects>)"
      ]
     },
     "execution_count": 16,
     "metadata": {},
     "output_type": "execute_result"
    },
    {
     "data": {
      "image/png": "[encoded data removed]",
      "text/plain": [
       "<matplotlib.figure.Figure at 0x7f1e57ee32e8>"
      ]
     },
     "metadata": {},
     "output_type": "display_data"
    }
   ],
   "source": [
    "# LogisticRegression\n",
    "\n",
    "x_cols = df.drop(['id', 'cancer'],1).columns  # using all the features\n",
    "X = df.loc[:][x_cols].values\n",
    "y = df.loc[:]['cancer'].values\n",
    "\n",
    "cv = cross_validation.KFold(X.shape[0],n_folds = 20,random_state=42)\n",
    "y_pred = np.zeros(len(y))\n",
    "y_pred_prob = np.zeros(len(y))\n",
    "for train, test in cv:\n",
    "    X_train, X_test, y_train, y_test = X[train,:], X[test,:], y[train], y[test]\n",
    "    scaler = StandardScaler()\n",
    "    X_train = scaler.fit_transform(X_train)\n",
    "    X_test = scaler.transform(X_test)\n",
    "    \n",
    "    clf = linear_model.LogisticRegression(class_weight={0:0.22,1:0.78},penalty='l1')\n",
    "    clf.fit(X_train, y_train)\n",
    "    y_pred[test] = clf.predict(X_test)\n",
    "    y_pred_prob[test] = clf.predict_proba(X_test)[:,1]\n",
    "    \n",
    "print ('Logistic Regression')\n",
    "\n",
    "conf_mat = confusion_matrix(y,y_pred)\n",
    "D = conf_mat[0][0]    # TP\n",
    "B = conf_mat[0][1]    # FP\n",
    "C = conf_mat[1][0]    # FN\n",
    "A = conf_mat[1][1]    # TN\n",
    "\n",
    "print (\"confusion_matrix: \\n\", conf_mat)\n",
    "print (classification_report(y, y_pred, target_names=[\"No Cancer\", \"Cancer\"]))\n",
    "print(\"logloss\",log_loss(y, y_pred_prob))\n",
    "print (\"Specificity: \", D/(B+D))\n",
    "print (\"Recall: \", A/(A+C))\n",
    "print (\"Accuracy: \", (A+D)/(A+B+C+D))\n",
    "\n",
    "plt.hist(y_pred_prob)"
   ]
  },
  {
   "cell_type": "markdown",
   "metadata": {},
   "source": [
    "### 4.2.3 logistic regression with tuned parameter\n",
    "\n",
    "+ Cross-validate, 20 folders\n",
    "+ with class weight\n",
    "+ l1 penalty\n",
    "+ grid search for the value of C, i.e.,Inverse of regularization strength"
   ]
  },
  {
   "cell_type": "code",
   "execution_count": 17,
   "metadata": {
    "collapsed": false,
    "scrolled": false
   },
   "outputs": [
    {
     "name": "stdout",
     "output_type": "stream",
     "text": [
      "\n",
      "confusion_matrix from sklearn: \n",
      " [[578 493]\n",
      " [183 180]]\n",
      "             precision    recall  f1-score   support\n",
      "\n",
      "  No Cancer       0.76      0.54      0.63      1071\n",
      "     Cancer       0.27      0.50      0.35       363\n",
      "\n",
      "avg / total       0.63      0.53      0.56      1434\n",
      "\n",
      "logloss 0.691750285922\n",
      "Specificity:  0.539682539683\n",
      "Recall:  0.495867768595\n",
      "Accuracy:  0.528591352859\n"
     ]
    },
    {
     "data": {
      "text/plain": [
       "(array([   4.,   18.,   53.,  175.,  301.,  377.,  275.,  157.,   60.,   14.]),\n",
       " array([ 0.26831936,  0.31009402,  0.35186868,  0.39364334,  0.435418  ,\n",
       "         0.47719265,  0.51896731,  0.56074197,  0.60251663,  0.64429129,\n",
       "         0.68606595]),\n",
       " <a list of 10 Patch objects>)"
      ]
     },
     "execution_count": 17,
     "metadata": {},
     "output_type": "execute_result"
    },
    {
     "data": {
      "image/png": "[encoded data removed]",
      "text/plain": [
       "<matplotlib.figure.Figure at 0x7f1e5eec3f28>"
      ]
     },
     "metadata": {},
     "output_type": "display_data"
    }
   ],
   "source": [
    "x_cols = df.drop(['id', 'cancer'],1).columns  # using all the features\n",
    "X = df.loc[:][x_cols].values\n",
    "y = df.loc[:]['cancer'].values\n",
    "\n",
    "cv = cross_validation.KFold(X.shape[0],n_folds = 20,random_state=42)\n",
    "Cs = [0.001, 0.0025, 0.005, 0.01, 0.025, 0.05, 0.1, 0.5]\n",
    "# weights = [{0:0.1*x, 1:(1-0.1*x)} for x in range(1,10)]\n",
    "# parameters = {'C': Cs, 'class_weight':weights} \n",
    "parameters = {'C': Cs}\n",
    "\n",
    "acc = np.zeros((20,))\n",
    "yhat = y.copy()\n",
    "y_pred_prob = np.zeros(len(y))\n",
    "\n",
    "for train_index, test_index in cv:\n",
    "    X_train, X_test = X[train_index], X[test_index]\n",
    "    y_train, y_test = y[train_index], y[test_index]\n",
    "    scaler = StandardScaler()\n",
    "    X_train = scaler.fit_transform(X_train)\n",
    "    X_test = scaler.transform(X_test)\n",
    "    \n",
    "    clf = linear_model.LogisticRegression(penalty='l2', class_weight='balanced')\n",
    "    \n",
    "    # We can change the scoring \"average_precision\", \"recall\", \"f1\"\n",
    "    grd = GridSearchCV(clf, parameters)  \n",
    "    grd.fit(X_train,y_train.ravel())\n",
    "   \n",
    "    yhat[test_index] = grd.predict(X_test)\n",
    "    y_pred_prob[test_index] = grd.predict_proba(X_test)[:,1]\n",
    "    \n",
    "    conf_mat = confusion_matrix(y,yhat)\n",
    "    D = conf_mat[0][0]    # TP\n",
    "    B = conf_mat[0][1]    # FP\n",
    "    C = conf_mat[1][0]    # FN\n",
    "    A = conf_mat[1][1]    # TN\n",
    "    \n",
    "# print ('Mean accuracy: '+ str(np.mean(acc)))\n",
    "print (\"\\nconfusion_matrix from sklearn: \\n\", conf_mat)\n",
    "print (classification_report(y, yhat, target_names=[\"No Cancer\", \"Cancer\"]))\n",
    "print(\"logloss\",log_loss(y, y_pred_prob))\n",
    "\n",
    "print (\"Specificity: \", D/(B+D))\n",
    "print (\"Recall: \", A/(A+C))\n",
    "print (\"Accuracy: \", (A+D)/(A+B+C+D))\n",
    "\n",
    "plt.hist(y_pred_prob)"
   ]
  },
  {
   "cell_type": "code",
   "execution_count": null,
   "metadata": {
    "collapsed": true
   },
   "outputs": [],
   "source": []
  },
  {
   "cell_type": "markdown",
   "metadata": {
    "collapsed": true
   },
   "source": [
    "### 4.2.4 Random Forest"
   ]
  },
  {
   "cell_type": "code",
   "execution_count": 18,
   "metadata": {
    "collapsed": false
   },
   "outputs": [
    {
     "name": "stdout",
     "output_type": "stream",
     "text": [
      "Random Forest\n",
      "confusion_matrix for test set: \n",
      " [[1067    4]\n",
      " [ 362    1]]\n",
      "             precision    recall  f1-score   support\n",
      "\n",
      "  No Cancer       0.75      1.00      0.85      1071\n",
      "     Cancer       0.20      0.00      0.01       363\n",
      "\n",
      "avg / total       0.61      0.74      0.64      1434\n",
      "\n",
      "logloss 0.590053126864\n",
      "Specificity:  0.996265172736\n",
      "Recall:  0.00275482093664\n",
      "Accuracy:  0.744769874477\n"
     ]
    },
    {
     "data": {
      "text/plain": [
       "(array([  15.,   86.,  244.,  453.,  304.,  183.,  109.,   34.,    3.,    3.]),\n",
       " array([ 0.04 ,  0.093,  0.146,  0.199,  0.252,  0.305,  0.358,  0.411,\n",
       "         0.464,  0.517,  0.57 ]),\n",
       " <a list of 10 Patch objects>)"
      ]
     },
     "execution_count": 18,
     "metadata": {},
     "output_type": "execute_result"
    },
    {
     "data": {
      "image/png": "[encoded data removed]",
      "text/plain": [
       "<matplotlib.figure.Figure at 0x7f1e57f0c7b8>"
      ]
     },
     "metadata": {},
     "output_type": "display_data"
    }
   ],
   "source": [
    "#Random Forest\n",
    "\n",
    "x_cols = df.drop(['id', 'cancer'],1).columns  # using all the features\n",
    "X = df.loc[:][x_cols].values\n",
    "y = df.loc[:]['cancer'].values\n",
    "\n",
    "cv = cross_validation.KFold(X.shape[0],n_folds = 20,random_state=42)\n",
    "y_pred = y * 0\n",
    "y_pred_prob = np.zeros(len(y))\n",
    "for train, test in cv:\n",
    "    X_train, X_test, y_train, y_test = X[train,:], X[test,:], y[train], y[test]\n",
    "    \n",
    "    scaler = StandardScaler()\n",
    "    X_train = scaler.fit_transform(X_train)\n",
    "    X_test = scaler.transform(X_test)\n",
    "    \n",
    "    clf = RF(n_estimators=100,class_weight='balanced', n_jobs=-1)\n",
    "    clf.fit(X_train, y_train)\n",
    "    y_pred[test] = clf.predict(X_test)\n",
    "    y_pred_prob[test] = clf.predict_proba(X_test)[:,1]\n",
    "\n",
    "print ('Random Forest')\n",
    "conf_mat = confusion_matrix(y,y_pred)\n",
    "D = conf_mat[0][0]    # TP\n",
    "B = conf_mat[0][1]    # FP\n",
    "C = conf_mat[1][0]    # FN\n",
    "A = conf_mat[1][1]    # TN\n",
    "\n",
    "print (\"confusion_matrix for test set: \\n\", conf_mat)\n",
    "print (classification_report(y, y_pred, target_names=[\"No Cancer\", \"Cancer\"]))\n",
    "print(\"logloss\",log_loss(y, y_pred_prob))\n",
    "print (\"Specificity: \", D/(B+D))\n",
    "print (\"Recall: \", A/(A+C))\n",
    "print (\"Accuracy: \", (A+D)/(A+B+C+D))\n",
    "\n",
    "plt.hist(y_pred_prob)"
   ]
  },
  {
   "cell_type": "code",
   "execution_count": 19,
   "metadata": {
    "collapsed": false,
    "scrolled": false
   },
   "outputs": [
    {
     "name": "stdout",
     "output_type": "stream",
     "text": [
      "Feature ranking:\n",
      "1. feature 7 (0.077006)\n",
      "2. feature 5 (0.075745)\n",
      "3. feature 4 (0.074392)\n",
      "4. feature 10 (0.074104)\n",
      "5. feature 11 (0.073341)\n",
      "6. feature 9 (0.072542)\n",
      "7. feature 1 (0.072501)\n",
      "8. feature 13 (0.071571)\n",
      "9. feature 0 (0.071461)\n",
      "10. feature 8 (0.069223)\n",
      "11. feature 12 (0.069004)\n",
      "12. feature 3 (0.067841)\n",
      "13. feature 6 (0.065905)\n",
      "14. feature 2 (0.065365)\n"
     ]
    },
    {
     "data": {
      "image/png": "[encoded data removed]",
      "text/plain": [
       "<matplotlib.figure.Figure at 0x7f1e70ca5d30>"
      ]
     },
     "metadata": {},
     "output_type": "display_data"
    },
    {
     "data": {
      "text/plain": [
       "<matplotlib.figure.Figure at 0x7f1e57f0cb70>"
      ]
     },
     "metadata": {},
     "output_type": "display_data"
    }
   ],
   "source": [
    "from sklearn.ensemble import ExtraTreesClassifier\n",
    "\n",
    "x_cols = df.drop(['id', 'cancer'],1).columns  # using all the features\n",
    "X = df.loc[:][x_cols].values\n",
    "y = df.loc[:]['cancer'].values\n",
    "\n",
    "# Build a forest and compute the feature importances\n",
    "forest = ExtraTreesClassifier(n_estimators=250,\n",
    "                              random_state=0)\n",
    "forest.fit(X, y)\n",
    "importances = forest.feature_importances_\n",
    "std = np.std([tree.feature_importances_ for tree in forest.estimators_],axis=0)\n",
    "indices = np.argsort(importances)[::-1]\n",
    "\n",
    "# Print the feature ranking\n",
    "print(\"Feature ranking:\")\n",
    "for f in range(X.shape[1]):\n",
    "    print(\"%d. feature %d (%f)\" % (f + 1, indices[f], importances[indices[f]]))\n",
    "\n",
    "# Plot the feature importances of the forest\n",
    "plt.figure(figsize=(15,8))\n",
    "plt.title(\"Feature importances\")\n",
    "plt.bar(range(X.shape[1]), importances[indices],\n",
    "       color=\"c\", yerr=std[indices], align=\"center\")\n",
    "plt.xticks(range(X.shape[1]), ('xsd_diameter', 'xsd_spicul',\n",
    "                               'xsd_malig','loc_z',\n",
    "                               'std_locs_x','loc_y',\n",
    "                               'max_spicul','std_locs_z',\n",
    "                               'max_malig','loc_x',\n",
    "                               'std_locs_y','max_diameter',\n",
    "                               'xmax_lob','max_lob'))\n",
    "plt.xlim([-1, X.shape[1]])\n",
    "plt.show()\n",
    "plt.savefig('model2_stage1_feature_importance.png')"
   ]
  },
  {
   "cell_type": "markdown",
   "metadata": {},
   "source": [
    "### 4.2.5 SVM"
   ]
  },
  {
   "cell_type": "code",
   "execution_count": 20,
   "metadata": {
    "collapsed": false,
    "scrolled": false
   },
   "outputs": [
    {
     "name": "stdout",
     "output_type": "stream",
     "text": [
      "\n",
      "confusion_matrix from sklearn: \n",
      " [[1071    0]\n",
      " [ 363    0]]\n",
      "             precision    recall  f1-score   support\n",
      "\n",
      "  No Cancer       0.75      1.00      0.86      1071\n",
      "     Cancer       0.00      0.00      0.00       363\n",
      "\n",
      "avg / total       0.56      0.75      0.64      1434\n",
      "\n",
      "logloss 0.566743594639\n",
      "Specificity:  1.0\n",
      "Recall:  0.0\n",
      "Accuracy:  0.746861924686\n"
     ]
    },
    {
     "name": "stderr",
     "output_type": "stream",
     "text": [
      "/opt/anaconda/lib/python3.5/site-packages/sklearn/metrics/classification.py:1113: UndefinedMetricWarning: Precision and F-score are ill-defined and being set to 0.0 in labels with no predicted samples.\n",
      "  'precision', 'predicted', average, warn_for)\n"
     ]
    },
    {
     "data": {
      "text/plain": [
       "(array([   6.,   48.,  274.,  531.,  353.,  164.,   43.,   10.,    4.,    1.]),\n",
       " array([ 0.18040775,  0.19923795,  0.21806815,  0.23689835,  0.25572855,\n",
       "         0.27455875,  0.29338895,  0.31221916,  0.33104936,  0.34987956,\n",
       "         0.36870976]),\n",
       " <a list of 10 Patch objects>)"
      ]
     },
     "execution_count": 20,
     "metadata": {},
     "output_type": "execute_result"
    },
    {
     "data": {
      "image/png": "[encoded data removed]",
      "text/plain": [
       "<matplotlib.figure.Figure at 0x7f1e57f7a400>"
      ]
     },
     "metadata": {},
     "output_type": "display_data"
    }
   ],
   "source": [
    "x_cols = df.drop(['id', 'cancer'],1).columns  # using all the features\n",
    "X = df.loc[:][x_cols].values\n",
    "y = df.loc[:]['cancer'].values\n",
    "\n",
    "cv = cross_validation.KFold(X.shape[0],n_folds = 20,random_state=42)\n",
    "yhat = y.copy()\n",
    "y_pred_prob = np.zeros(len(y))\n",
    "\n",
    "for train_index, test_index in cv:\n",
    "    X_train, X_test = X[train_index], X[test_index]\n",
    "    y_train, y_test = y[train_index], y[test_index]\n",
    "    \n",
    "    scaler = StandardScaler()\n",
    "    X_train = scaler.fit_transform(X_train)\n",
    "    X_test = scaler.transform(X_test)\n",
    "\n",
    "    clf = svm.LinearSVC(C=0.1,class_weight=\"balanced\")\n",
    "    calibrated_svc = CalibratedClassifierCV(clf,\n",
    "                                        method='sigmoid',  #sigmoid will use Platt's scaling. \n",
    "                                        cv=10) \n",
    "    calibrated_svc.fit(X_train, y_train)\n",
    "\n",
    "    yhat[test_index] = calibrated_svc.predict(X_test)\n",
    "    y_pred_prob[test_index] = calibrated_svc.predict_proba(X_test)[:,1]\n",
    "    \n",
    "    conf_mat = confusion_matrix(y,yhat)\n",
    "    D = conf_mat[0][0]    # TP\n",
    "    B = conf_mat[0][1]    # FP\n",
    "    C = conf_mat[1][0]    # FN\n",
    "    A = conf_mat[1][1]    # TN\n",
    "    \n",
    "# print ('Mean accuracy: '+ str(np.mean(acc)))\n",
    "print (\"\\nconfusion_matrix from sklearn: \\n\", conf_mat)\n",
    "print (classification_report(y, yhat, target_names=[\"No Cancer\", \"Cancer\"]))\n",
    "print(\"logloss\",log_loss(y, y_pred_prob))\n",
    "\n",
    "print (\"Specificity: \", D/(B+D))\n",
    "print (\"Recall: \", A/(A+C))\n",
    "print (\"Accuracy: \", (A+D)/(A+B+C+D))\n",
    "\n",
    "plt.hist(y_pred_prob)"
   ]
  },
  {
   "cell_type": "code",
   "execution_count": null,
   "metadata": {
    "collapsed": true
   },
   "outputs": [],
   "source": []
  },
  {
   "cell_type": "markdown",
   "metadata": {},
   "source": [
    "### 4.2.5 KNN\n",
    "\n",
    "It is not the best classifier for us:\n",
    "\n",
    "- when k is small, we get overfitting. \n",
    "- we have very low recall"
   ]
  },
  {
   "cell_type": "code",
   "execution_count": 21,
   "metadata": {
    "collapsed": false
   },
   "outputs": [
    {
     "name": "stdout",
     "output_type": "stream",
     "text": [
      "\n",
      "confusion_matrix from sklearn: \n",
      " [[1067    4]\n",
      " [ 362    1]]\n",
      "             precision    recall  f1-score   support\n",
      "\n",
      "  No Cancer       0.75      1.00      0.85      1071\n",
      "     Cancer       0.20      0.00      0.01       363\n",
      "\n",
      "avg / total       0.61      0.74      0.64      1434\n",
      "\n",
      "logloss 4.62529507808\n",
      "Specificity:  0.996265172736\n",
      "Recall:  0.00275482093664\n",
      "Accuracy:  0.744769874477\n"
     ]
    }
   ],
   "source": [
    "x_cols = df.drop(['id', 'cancer'],1).columns  # using all the features\n",
    "X = df.loc[:][x_cols].values\n",
    "y = df.loc[:]['cancer'].values\n",
    "\n",
    "cv = cross_validation.KFold(X.shape[0],n_folds = 20,random_state=42)\n",
    "yhat = y.copy()\n",
    "y_pred_prob = np.zeros(len(y))\n",
    "\n",
    "for train_index, test_index in cv:\n",
    "    X_train, X_test = X[train_index], X[test_index]\n",
    "    y_train, y_test = y[train_index], y[test_index]\n",
    "    scaler = StandardScaler()\n",
    "    X_train = scaler.fit_transform(X_train)\n",
    "    X_test = scaler.transform(X_test)\n",
    "\n",
    "    clf = neighbors.KNeighborsClassifier(n_neighbors=3,n_jobs=-1)\n",
    "    clf.fit(X_train, y_train)\n",
    "\n",
    "    yhat[test_index] = clf.predict(X_test)\n",
    "    y_pred_prob[test_index] = clf.predict_proba(X_test)[:,1]\n",
    "    \n",
    "    conf_mat = confusion_matrix(y,y_pred)\n",
    "    D = conf_mat[0][0]    # TP\n",
    "    B = conf_mat[0][1]    # FP\n",
    "    C = conf_mat[1][0]    # FN\n",
    "    A = conf_mat[1][1]    # TN\n",
    "    \n",
    "# print ('Mean accuracy: '+ str(np.mean(acc)))\n",
    "print (\"\\nconfusion_matrix from sklearn: \\n\", conf_mat)\n",
    "print (classification_report(y, y_pred, target_names=[\"No Cancer\", \"Cancer\"]))\n",
    "print(\"logloss\",log_loss(y, y_pred_prob))\n",
    "\n",
    "print (\"Specificity: \", D/(B+D))\n",
    "print (\"Recall: \", A/(A+C))\n",
    "print (\"Accuracy: \", (A+D)/(A+B+C+D))"
   ]
  },
  {
   "cell_type": "markdown",
   "metadata": {},
   "source": [
    "### 4.2.6 What if we predict all 1's or all 0's with confidence 0.5?"
   ]
  },
  {
   "cell_type": "code",
   "execution_count": 22,
   "metadata": {
    "collapsed": false,
    "scrolled": false
   },
   "outputs": [
    {
     "name": "stdout",
     "output_type": "stream",
     "text": [
      "\n",
      "Predicting all positive\n",
      "             precision    recall  f1-score   support\n",
      "\n",
      "  No Cancer       0.00      0.00      0.00      1071\n",
      "     Cancer       0.25      1.00      0.40       363\n",
      "\n",
      "avg / total       0.06      0.25      0.10      1434\n",
      "\n",
      "\n",
      "confusion_matrix from sklearn: \n",
      " [[   0 1071]\n",
      " [   0  363]]\n",
      "             precision    recall  f1-score   support\n",
      "\n",
      "  No Cancer       0.00      0.00      0.00      1071\n",
      "     Cancer       0.25      1.00      0.40       363\n",
      "\n",
      "avg / total       0.06      0.25      0.10      1434\n",
      "\n",
      "logloss 25.7962942035\n",
      "Specificity:  0.0\n",
      "Recall:  1.0\n",
      "Accuracy:  0.253138075314\n",
      "\n",
      "Predicting all negative\n",
      "             precision    recall  f1-score   support\n",
      "\n",
      "  No Cancer       0.75      1.00      0.86      1071\n",
      "     Cancer       0.00      0.00      0.00       363\n",
      "\n",
      "avg / total       0.56      0.75      0.64      1434\n",
      "\n",
      "\n",
      "confusion_matrix from sklearn: \n",
      " [[1071    0]\n",
      " [ 363    0]]\n",
      "             precision    recall  f1-score   support\n",
      "\n",
      "  No Cancer       0.75      1.00      0.86      1071\n",
      "     Cancer       0.00      0.00      0.00       363\n",
      "\n",
      "avg / total       0.56      0.75      0.64      1434\n",
      "\n",
      "logloss 8.7430793803\n",
      "Specificity:  1.0\n",
      "Recall:  0.0\n",
      "Accuracy:  0.746861924686\n"
     ]
    },
    {
     "name": "stderr",
     "output_type": "stream",
     "text": [
      "/opt/anaconda/lib/python3.5/site-packages/sklearn/metrics/classification.py:1113: UndefinedMetricWarning: Precision and F-score are ill-defined and being set to 0.0 in labels with no predicted samples.\n",
      "  'precision', 'predicted', average, warn_for)\n"
     ]
    }
   ],
   "source": [
    "# All Cancer\n",
    "print (\"\\nPredicting all positive\")\n",
    "y_pred = np.ones(y.shape)\n",
    "print (classification_report(y, y_pred, target_names=[\"No Cancer\", \"Cancer\"]))\n",
    "\n",
    "\n",
    "# print ('Mean accuracy: '+ str(np.mean(acc)))\n",
    "conf_mat = confusion_matrix(y,y_pred)\n",
    "D = conf_mat[0][0]    # TP\n",
    "B = conf_mat[0][1]    # FP\n",
    "C = conf_mat[1][0]    # FN\n",
    "A = conf_mat[1][1]    # TN\n",
    "print (\"\\nconfusion_matrix from sklearn: \\n\", conf_mat)\n",
    "print (classification_report(y, y_pred, target_names=[\"No Cancer\", \"Cancer\"]))\n",
    "print(\"logloss\",log_loss(y, y_pred))\n",
    "\n",
    "print (\"Specificity: \", D/(B+D))\n",
    "print (\"Recall: \", A/(A+C))\n",
    "print (\"Accuracy: \", (A+D)/(A+B+C+D))\n",
    "\n",
    "# No Cancer\n",
    "print (\"\\nPredicting all negative\")\n",
    "y_pred = np.zeros(len(y))\n",
    "print (classification_report(y, y_pred, target_names=[\"No Cancer\", \"Cancer\"]))\n",
    "\n",
    "\n",
    "# print ('Mean accuracy: '+ str(np.mean(acc)))\n",
    "\n",
    "conf_mat = confusion_matrix(y,y_pred)\n",
    "D = conf_mat[0][0]    # TP\n",
    "B = conf_mat[0][1]    # FP\n",
    "C = conf_mat[1][0]    # FN\n",
    "A = conf_mat[1][1]    # TN\n",
    "print (\"\\nconfusion_matrix from sklearn: \\n\", conf_mat)\n",
    "print (classification_report(y, y_pred, target_names=[\"No Cancer\", \"Cancer\"]))\n",
    "print(\"logloss\",log_loss(y, y_pred))\n",
    "\n",
    "print (\"Specificity: \", D/(B+D))\n",
    "print (\"Recall: \", A/(A+C))\n",
    "print (\"Accuracy: \", (A+D)/(A+B+C+D))"
   ]
  },
  {
   "cell_type": "code",
   "execution_count": null,
   "metadata": {
    "collapsed": true
   },
   "outputs": [],
   "source": []
  },
  {
   "cell_type": "markdown",
   "metadata": {},
   "source": [
    "### 3.2 More classifiers:  Random Forest, SVC\n",
    "\n",
    "https://www.kaggle.com/c/data-science-bowl-2017#tutorial"
   ]
  },
  {
   "cell_type": "code",
   "execution_count": 22,
   "metadata": {
    "collapsed": false,
    "scrolled": true
   },
   "outputs": [
    {
     "name": "stdout",
     "output_type": "stream",
     "text": [
      "Logistic regression\n",
      "confusion_matrix: \n",
      " [[203 868]\n",
      " [ 67 296]]\n",
      "             precision    recall  f1-score   support\n",
      "\n",
      "  No Cancer       0.75      0.19      0.30      1071\n",
      "     Cancer       0.25      0.82      0.39       363\n",
      "\n",
      "avg / total       0.63      0.35      0.32      1434\n",
      "\n",
      "logloss 0.740974342371\n",
      "\n",
      "Linear Support Vector Classification\n",
      "confusion_matrix: \n",
      " [[1071    0]\n",
      " [ 363    0]]\n",
      "             precision    recall  f1-score   support\n",
      "\n",
      "  No Cancer       0.75      1.00      0.86      1071\n",
      "     Cancer       0.00      0.00      0.00       363\n",
      "\n",
      "avg / total       0.56      0.75      0.64      1434\n",
      "\n",
      "logloss 0.56686691957\n"
     ]
    },
    {
     "name": "stderr",
     "output_type": "stream",
     "text": [
      "/opt/anaconda/lib/python3.5/site-packages/sklearn/metrics/classification.py:1113: UndefinedMetricWarning: Precision and F-score are ill-defined and being set to 0.0 in labels with no predicted samples.\n",
      "  'precision', 'predicted', average, warn_for)\n"
     ]
    }
   ],
   "source": [
    "x_cols = df.drop(['id', 'cancer'],1).columns  # using all the features\n",
    "X = df.loc[:][x_cols].values\n",
    "X = StandardScaler().fit_transform(X)\n",
    "Y = df.loc[:]['cancer'].values\n",
    "\n",
    "#Logistic regression\n",
    "cv = cross_validation.KFold(X.shape[0],n_folds = 10,random_state=42)\n",
    "y_pred = Y * 0\n",
    "y_pred_prob = np.zeros(len(y))\n",
    "for train, test in cv:\n",
    "    X_train, X_test, y_train, y_test = X[train,:], X[test,:], Y[train], Y[test]\n",
    "    clf = linear_model.LogisticRegression(class_weight={0:0.22,1:0.78},penalty='l1') \n",
    "    clf.fit(X_train, y_train)\n",
    "    y_pred[test] = clf.predict(X_test)\n",
    "    y_pred_prob[test] = clf.predict_proba(X_test)[:,1]\n",
    "print ('Logistic regression')\n",
    "print (\"confusion_matrix: \\n\", confusion_matrix(Y, y_pred))\n",
    "print (classification_report(Y, y_pred, target_names=[\"No Cancer\", \"Cancer\"]))\n",
    "print(\"logloss\",log_loss(Y, y_pred_prob))\n",
    "\n",
    "\n",
    "# LinearSVC\n",
    "kf = KFold(Y, n_folds=3)\n",
    "y_pred = Y * 0\n",
    "y_pred_prob = np.zeros(len(y))\n",
    "for train, test in cv:\n",
    "    X_train, X_test, y_train, y_test = X[train,:], X[test,:], Y[train], Y[test]\n",
    "    clf = svm.LinearSVC(C=0.1,class_weight={0:0.22,1:0.78})\n",
    "    # This is the calibrated classifier which can give probabilistic classifier\n",
    "    calibrated_svc = CalibratedClassifierCV(clf,\n",
    "                                            method='sigmoid',  #sigmoid will use Platt's scaling. Refer to documentation for other methods.\n",
    "                                            cv=3) \n",
    "    calibrated_svc.fit(X_train, y_train)\n",
    "    y_pred[test] = calibrated_svc.predict(X_test)\n",
    "    y_pred_prob[test] = calibrated_svc.predict_proba(X_test)[:,1]\n",
    "print ('\\nLinear Support Vector Classification')\n",
    "print (\"confusion_matrix: \\n\", confusion_matrix(Y, y_pred))\n",
    "print (classification_report(Y, y_pred, target_names=[\"No Cancer\", \"Cancer\"]))\n",
    "print(\"logloss\",log_loss(Y, y_pred_prob))\n"
   ]
  },
  {
   "cell_type": "code",
   "execution_count": 24,
   "metadata": {
    "collapsed": false
   },
   "outputs": [
    {
     "name": "stdout",
     "output_type": "stream",
     "text": [
      "AdaBoostClassifier\n",
      "BaggingClassifier\n",
      "BayesianGaussianMixture\n",
      "BernoulliNB\n",
      "CalibratedClassifierCV\n",
      "DPGMM\n",
      "DecisionTreeClassifier\n",
      "ExtraTreeClassifier\n",
      "ExtraTreesClassifier\n",
      "GMM\n",
      "GaussianMixture\n",
      "GaussianNB\n",
      "GaussianProcessClassifier\n",
      "GradientBoostingClassifier\n",
      "KNeighborsClassifier\n",
      "LDA\n",
      "LabelPropagation\n",
      "LabelSpreading\n",
      "LinearDiscriminantAnalysis\n",
      "LogisticRegression\n",
      "LogisticRegressionCV\n",
      "MLPClassifier\n",
      "MultinomialNB\n",
      "NuSVC\n",
      "QDA\n",
      "QuadraticDiscriminantAnalysis\n",
      "RandomForestClassifier\n",
      "SGDClassifier\n",
      "SVC\n",
      "VBGMM\n",
      "_BinaryGaussianProcessClassifierLaplace\n",
      "_ConstantPredictor\n",
      "_DPGMMBase\n",
      "_GMMBase\n",
      "_LDA\n",
      "_QDA\n"
     ]
    },
    {
     "name": "stderr",
     "output_type": "stream",
     "text": [
      "/opt/anaconda/lib/python3.5/site-packages/sklearn/grid_search.py:43: DeprecationWarning: This module was deprecated in version 0.18 in favor of the model_selection module into which all the refactored classes and functions are moved. This module will be removed in 0.20.\n",
      "  DeprecationWarning)\n",
      "/opt/anaconda/lib/python3.5/site-packages/sklearn/lda.py:6: DeprecationWarning: lda.LDA has been moved to discriminant_analysis.LinearDiscriminantAnalysis in 0.17 and will be removed in 0.19\n",
      "  \"in 0.17 and will be removed in 0.19\", DeprecationWarning)\n",
      "/opt/anaconda/lib/python3.5/site-packages/sklearn/learning_curve.py:23: DeprecationWarning: This module was deprecated in version 0.18 in favor of the model_selection module into which all the functions are moved. This module will be removed in 0.20\n",
      "  DeprecationWarning)\n",
      "/opt/anaconda/lib/python3.5/site-packages/sklearn/qda.py:6: DeprecationWarning: qda.QDA has been moved to discriminant_analysis.QuadraticDiscriminantAnalysis in 0.17 and will be removed in 0.19.\n",
      "  \"in 0.17 and will be removed in 0.19.\", DeprecationWarning)\n"
     ]
    }
   ],
   "source": [
    "\n",
    "from sklearn.utils.testing import all_estimators\n",
    "\n",
    "estimators = all_estimators()\n",
    "\n",
    "for name, class_ in estimators:\n",
    "    if hasattr(class_, 'predict_proba'):\n",
    "        print(name)"
   ]
  },
  {
   "cell_type": "code",
   "execution_count": null,
   "metadata": {
    "collapsed": true
   },
   "outputs": [],
   "source": []
  }
 ],
 "metadata": {
  "kernelspec": {
   "display_name": "Python [default]",
   "language": "python",
   "name": "python3"
  },
  "language_info": {
   "codemirror_mode": {
    "name": "ipython",
    "version": 3
   },
   "file_extension": ".py",
   "mimetype": "text/x-python",
   "name": "python",
   "nbconvert_exporter": "python",
   "pygments_lexer": "ipython3",
   "version": "3.5.2"
  }
 },
 "nbformat": 4,
 "nbformat_minor": 2
}
