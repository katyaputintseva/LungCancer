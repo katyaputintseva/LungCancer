{
 "cells": [
  {
   "cell_type": "code",
   "execution_count": 7,
   "metadata": {
    "collapsed": false
   },
   "outputs": [],
   "source": [
    "%matplotlib inline\n",
    "\n",
    "import numpy as np # linear algebra\n",
    "import pandas as pd # data processing, CSV file I/O (e.g. pd.read_csv)\n",
    "import dicom\n",
    "import os\n",
    "import scipy.ndimage\n",
    "import matplotlib.pyplot as plt\n",
    "\n",
    "from skimage import measure, morphology\n",
    "from mpl_toolkits.mplot3d.art3d import Poly3DCollection"
   ]
  },
  {
   "cell_type": "code",
   "execution_count": 12,
   "metadata": {
    "collapsed": false
   },
   "outputs": [
    {
     "data": {
      "text/html": [
       "<div>\n",
       "<table border=\"1\" class=\"dataframe\">\n",
       "  <thead>\n",
       "    <tr style=\"text-align: right;\">\n",
       "      <th></th>\n",
       "      <th>cancer</th>\n",
       "    </tr>\n",
       "    <tr>\n",
       "      <th>id</th>\n",
       "      <th></th>\n",
       "    </tr>\n",
       "  </thead>\n",
       "  <tbody>\n",
       "    <tr>\n",
       "      <th>0015ceb851d7251b8f399e39779d1e7d</th>\n",
       "      <td>1</td>\n",
       "    </tr>\n",
       "    <tr>\n",
       "      <th>0030a160d58723ff36d73f41b170ec21</th>\n",
       "      <td>0</td>\n",
       "    </tr>\n",
       "    <tr>\n",
       "      <th>003f41c78e6acfa92430a057ac0b306e</th>\n",
       "      <td>0</td>\n",
       "    </tr>\n",
       "    <tr>\n",
       "      <th>006b96310a37b36cccb2ab48d10b49a3</th>\n",
       "      <td>1</td>\n",
       "    </tr>\n",
       "    <tr>\n",
       "      <th>008464bb8521d09a42985dd8add3d0d2</th>\n",
       "      <td>1</td>\n",
       "    </tr>\n",
       "  </tbody>\n",
       "</table>\n",
       "</div>"
      ],
      "text/plain": [
       "                                  cancer\n",
       "id                                      \n",
       "0015ceb851d7251b8f399e39779d1e7d       1\n",
       "0030a160d58723ff36d73f41b170ec21       0\n",
       "003f41c78e6acfa92430a057ac0b306e       0\n",
       "006b96310a37b36cccb2ab48d10b49a3       1\n",
       "008464bb8521d09a42985dd8add3d0d2       1"
      ]
     },
     "execution_count": 12,
     "metadata": {},
     "output_type": "execute_result"
    }
   ],
   "source": [
    "# Some constants \n",
    "data_dir = '/home/lin/data/stage1/'\n",
    "patients = os.listdir(INPUT_FOLDER)\n",
    "patients.sort()\n",
    "labels = pd.read_csv('/home/lin/data/stage1_labels.csv', index_col=0)\n",
    "labels.head()"
   ]
  },
  {
   "cell_type": "code",
   "execution_count": 22,
   "metadata": {
    "collapsed": false
   },
   "outputs": [
    {
     "data": {
      "text/plain": [
       "0    1035\n",
       "1     362\n",
       "Name: cancer, dtype: int64"
      ]
     },
     "execution_count": 22,
     "metadata": {},
     "output_type": "execute_result"
    }
   ],
   "source": [
    "labels.cancer.value_counts()"
   ]
  },
  {
   "cell_type": "code",
   "execution_count": 25,
   "metadata": {
    "collapsed": true
   },
   "outputs": [],
   "source": [
    "# Load the scans in given folder path\n",
    "\n",
    "def load_scan(path):\n",
    "    slices = [dicom.read_file(path + '/' + s) for s in os.listdir(path)]\n",
    "    slices.sort(key = lambda x: float(x.ImagePositionPatient[2]))\n",
    "    \n",
    "    # One metadata field is missing, the pixel size in the Z direction, which is the slice thickness. \n",
    "    # Fortunately we can infer this, and we add this to the metadata.\n",
    "    try:\n",
    "        slice_thickness = np.abs(slices[1].ImagePositionPatient[2] - slices[2].ImagePositionPatient[2])\n",
    "    except:\n",
    "        slice_thickness = np.abs(slices[1].SliceLocation - slices[2].SliceLocation)\n",
    "        \n",
    "    for s in slices:\n",
    "        s.SliceThickness = slice_thickness\n",
    "        \n",
    "    return slices\n",
    "\n",
    "def get_pixels_hu(slices):\n",
    "    image = np.stack([s.pixel_array for s in slices])\n",
    "    # Convert to int16 (from sometimes int16), \n",
    "    # should be possible as values should always be low enough (<32k)\n",
    "    image = image.astype(np.int16)\n",
    "\n",
    "    # Set outside-of-scan pixels to 0\n",
    "    # The intercept is usually -1024, so air is approximately 0\n",
    "    image[image == -2000] = 0\n",
    "    \n",
    "    # Convert to Hounsfield units (HU)\n",
    "    for slice_number in range(len(slices)):\n",
    "        \n",
    "        intercept = slices[slice_number].RescaleIntercept\n",
    "        slope = slices[slice_number].RescaleSlope\n",
    "        \n",
    "        if slope != 1:\n",
    "            image[slice_number] = slope * image[slice_number].astype(np.float64)\n",
    "            image[slice_number] = image[slice_number].astype(np.int16)\n",
    "            \n",
    "        image[slice_number] += np.int16(intercept)\n",
    "    \n",
    "    return np.array(image, dtype=np.int16)"
   ]
  },
  {
   "cell_type": "code",
   "execution_count": null,
   "metadata": {
    "collapsed": false,
    "scrolled": true
   },
   "outputs": [
    {
     "name": "stdout",
     "output_type": "stream",
     "text": [
      "0\n",
      "10\n",
      "20\n",
      "30\n",
      "40\n",
      "50\n",
      "60\n",
      "70\n",
      "80\n",
      "90\n",
      "100\n",
      "110\n",
      "120\n",
      "130\n",
      "140\n",
      "150\n",
      "160\n",
      "170\n",
      "180\n",
      "190\n",
      "200\n",
      "210\n",
      "220\n",
      "230\n",
      "240\n",
      "250\n",
      "260\n",
      "270\n",
      "280\n",
      "290\n",
      "300\n",
      "310\n",
      "320\n",
      "330\n",
      "340\n",
      "350\n",
      "360\n",
      "370\n",
      "380\n",
      "390\n",
      "400\n",
      "410\n",
      "420\n",
      "430\n",
      "440\n"
     ]
    }
   ],
   "source": [
    "for idx, patient in enumerate(patients):\n",
    "    if idx %10 ==0:\n",
    "        print (idx)\n",
    "    path = data_dir + patient\n",
    "    slices = load_scan(path) \n",
    "    \n",
    "    cos_value = (slices[0].ImageOrientationPatient[0])\n",
    "    if round(math.degrees(math.acos(cos_value)),2)!=0:\n",
    "        print (round(math.degrees(math.acos(cos_value)),2))\n",
    "        \n",
    "    invert_order = slices[1].ImagePositionPatient[2] > slices[0].ImagePositionPatient[2]\n",
    "    if invert_order==True:\n",
    "        print(\"Invert order: \", invert_order, \" - \", slices[1].ImagePositionPatient[2], \",\", slices[0].ImagePositionPatient[2])\n"
   ]
  },
  {
   "cell_type": "code",
   "execution_count": null,
   "metadata": {
    "collapsed": true
   },
   "outputs": [],
   "source": [
    "import math\n",
    "\n",
    "for idx, patient in ennumerate(patients):\n",
    "    if idx %50 ==0:\n",
    "        print (idx)\n",
    "#     label = labels.get_value(patient, 'cancer')\n",
    "    path = data_dir + patient\n",
    "    slices = load_scan(path)\n",
    "    \n",
    "#     print (\"Length and label: \", (len(slices),label))    \n",
    "#     print(\"Orientation: \", slices[0].ImageOrientationPatient)\n",
    "    cos_value = (slices[0].ImageOrientationPatient[0])\n",
    "    cos_degree = round(math.degrees(math.acos(cos_value)),2)    # math.acos returns the arc cosine of x, in radians.\n",
    "    if cos_degree!=0:\n",
    "        print (\"\\nPatient: \", patient)\n",
    "        print (\"cos_degree: \", cos_degree)\n",
    "    \n",
    "    invert_order = slices[1].ImagePositionPatient[2] > slices[0].ImagePositionPatient[2]\n",
    "    print(\"Invert order: \", invert_order, \" - \", slices[1].ImagePositionPatient[2], \",\", slices[0].ImagePositionPatient[2])\n",
    "    \n",
    "    # if there exists slope,rotation image with corresponding degree\n",
    "    if cos_degree>0.0:\n",
    "        org_img = cv_flip(org_img,org_img.shape[1],org_img.shape[0],cos_degree)"
   ]
  },
  {
   "cell_type": "code",
   "execution_count": null,
   "metadata": {
    "collapsed": true
   },
   "outputs": [],
   "source": []
  },
  {
   "cell_type": "code",
   "execution_count": null,
   "metadata": {
    "collapsed": true
   },
   "outputs": [],
   "source": []
  },
  {
   "cell_type": "code",
   "execution_count": null,
   "metadata": {
    "collapsed": true
   },
   "outputs": [],
   "source": []
  },
  {
   "cell_type": "code",
   "execution_count": null,
   "metadata": {
    "collapsed": true
   },
   "outputs": [],
   "source": []
  },
  {
   "cell_type": "code",
   "execution_count": null,
   "metadata": {
    "collapsed": true
   },
   "outputs": [],
   "source": [
    "def cv_flip(img,cols,rows,degree):\n",
    "    M = cv2.getRotationMatrix2D((cols / 2, rows /2), degree, 1.0)\n",
    "    dst = cv2.warpAffine(img, M, (cols, rows))\n",
    "    return dst"
   ]
  },
  {
   "cell_type": "code",
   "execution_count": null,
   "metadata": {
    "collapsed": true
   },
   "outputs": [],
   "source": [
    "def rescale_patient_images(images_zyx, org_spacing_xyz, target_voxel_mm, is_mask_image=False, verbose=False):\n",
    "    if verbose:\n",
    "        print(\"Spacing: \", org_spacing_xyz)\n",
    "        print(\"Shape: \", images_zyx.shape)\n",
    "\n",
    "    # print \"Resizing dim z\"\n",
    "    resize_x = 1.0\n",
    "    resize_y = float(org_spacing_xyz[2]) / float(target_voxel_mm)\n",
    "    interpolation = cv2.INTER_NEAREST if is_mask_image else cv2.INTER_LINEAR\n",
    "    res = cv2.resize(images_zyx, dsize=None, fx=resize_x, fy=resize_y, interpolation=interpolation)  # opencv assumes y, x, channels umpy array, so y = z pfff\n",
    "    # print \"Shape is now : \", res.shape\n",
    "\n",
    "    res = res.swapaxes(0, 2)\n",
    "    res = res.swapaxes(0, 1)\n",
    "    # print \"Shape: \", res.shape\n",
    "    resize_x = float(org_spacing_xyz[0]) / float(target_voxel_mm)\n",
    "    resize_y = float(org_spacing_xyz[1]) / float(target_voxel_mm)\n",
    "\n",
    "    # cv2 can handle max 512 channels..\n",
    "    if res.shape[2] > 512:\n",
    "        res = res.swapaxes(0, 2)\n",
    "        res1 = res[:256]\n",
    "        res2 = res[256:]\n",
    "        res1 = res1.swapaxes(0, 2)\n",
    "        res2 = res2.swapaxes(0, 2)\n",
    "        res1 = cv2.resize(res1, dsize=None, fx=resize_x, fy=resize_y, interpolation=interpolation)\n",
    "        res2 = cv2.resize(res2, dsize=None, fx=resize_x, fy=resize_y, interpolation=interpolation)\n",
    "        res1 = res1.swapaxes(0, 2)\n",
    "        res2 = res2.swapaxes(0, 2)\n",
    "        res = numpy.vstack([res1, res2])\n",
    "        res = res.swapaxes(0, 2)\n",
    "    else:\n",
    "        res = cv2.resize(res, dsize=None, fx=resize_x, fy=resize_y, interpolation=interpolation)\n",
    "\n",
    "    # channels = cv2.split(res)\n",
    "    # resized_channels = []\n",
    "    # for channel in  channels:\n",
    "    #     channel = cv2.resize(channel, dsize=None, fx=resize_x, fy=resize_y)\n",
    "    #     resized_channels.append(channel)\n",
    "    # res = cv2.merge(resized_channels)\n",
    "    # print \"Shape after resize: \", res.shape\n",
    "    res = res.swapaxes(0, 2)\n",
    "    res = res.swapaxes(2, 1)\n",
    "    if verbose:\n",
    "        print(\"Shape after: \", res.shape)\n",
    "    return res\n",
    "\n",
    "\n",
    "def rescale_patient_images2(images_zyx, target_shape, verbose=False):\n",
    "    if verbose:\n",
    "        print(\"Target: \", target_shape)\n",
    "        print(\"Shape: \", images_zyx.shape)\n",
    "\n",
    "    # print \"Resizing dim z\"\n",
    "    resize_x = 1.0\n",
    "    interpolation = cv2.INTER_NEAREST if False else cv2.INTER_LINEAR\n",
    "    res = cv2.resize(images_zyx, dsize=(target_shape[1], target_shape[0]), interpolation=interpolation)  # opencv assumes y, x, channels umpy array, so y = z pfff\n",
    "    # print \"Shape is now : \", res.shape\n",
    "\n",
    "    res = res.swapaxes(0, 2)\n",
    "    res = res.swapaxes(0, 1)\n",
    "\n",
    "    # cv2 can handle max 512 channels..\n",
    "    if res.shape[2] > 512:\n",
    "        res = res.swapaxes(0, 2)\n",
    "        res1 = res[:256]\n",
    "        res2 = res[256:]\n",
    "        res1 = res1.swapaxes(0, 2)\n",
    "        res2 = res2.swapaxes(0, 2)\n",
    "        res1 = cv2.resize(res1, dsize=(target_shape[2], target_shape[1]), interpolation=interpolation)\n",
    "        res2 = cv2.resize(res2, dsize=(target_shape[2], target_shape[1]), interpolation=interpolation)\n",
    "        res1 = res1.swapaxes(0, 2)\n",
    "        res2 = res2.swapaxes(0, 2)\n",
    "        res = numpy.vstack([res1, res2])\n",
    "        res = res.swapaxes(0, 2)\n",
    "    else:\n",
    "        res = cv2.resize(res, dsize=(target_shape[2], target_shape[1]), interpolation=interpolation)\n",
    "\n",
    "    res = res.swapaxes(0, 2)\n",
    "    res = res.swapaxes(2, 1)\n",
    "    if verbose:\n",
    "        print(\"Shape after: \", res.shape)\n",
    "    return res\n"
   ]
  },
  {
   "cell_type": "code",
   "execution_count": null,
   "metadata": {
    "collapsed": true
   },
   "outputs": [],
   "source": []
  },
  {
   "cell_type": "code",
   "execution_count": null,
   "metadata": {
    "collapsed": true
   },
   "outputs": [],
   "source": []
  }
 ],
 "metadata": {
  "kernelspec": {
   "display_name": "Python [default]",
   "language": "python",
   "name": "python3"
  },
  "language_info": {
   "codemirror_mode": {
    "name": "ipython",
    "version": 3
   },
   "file_extension": ".py",
   "mimetype": "text/x-python",
   "name": "python",
   "nbconvert_exporter": "python",
   "pygments_lexer": "ipython3",
   "version": "3.5.2"
  }
 },
 "nbformat": 4,
 "nbformat_minor": 2
}
