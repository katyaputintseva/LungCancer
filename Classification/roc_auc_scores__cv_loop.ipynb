{
 "cells": [
  {
   "cell_type": "markdown",
   "metadata": {},
   "source": [
    "https://stackoverflow.com/questions/33642158/what-is-the-difference-between-cross-val-score-with-scoring-roc-auc-and-roc-au"
   ]
  },
  {
   "cell_type": "code",
   "execution_count": 28,
   "metadata": {
    "collapsed": false
   },
   "outputs": [],
   "source": [
    "from sklearn.datasets import load_digits\n",
    "from sklearn import linear_model, svm\n",
    "from sklearn.linear_model import LogisticRegression\n",
    "from sklearn.cross_validation import cross_val_score, StratifiedKFold \n",
    "from sklearn.model_selection import GridSearchCV\n",
    "import numpy as np\n",
    "from sklearn.metrics import roc_auc_score"
   ]
  },
  {
   "cell_type": "code",
   "execution_count": 2,
   "metadata": {
    "collapsed": true
   },
   "outputs": [],
   "source": [
    "# Let's use the Digit dataset\n",
    "digits = load_digits(n_class=4)\n",
    "X,y = digits.data, digits.target\n",
    "y[y==2] = 0 # Increase problem dificulty\n",
    "y[y==3] = 1 # even more"
   ]
  },
  {
   "cell_type": "code",
   "execution_count": 69,
   "metadata": {
    "collapsed": false
   },
   "outputs": [
    {
     "data": {
      "text/plain": [
       "array([ 0.99865657,  0.99876528,  0.99678973,  0.99837662])"
      ]
     },
     "execution_count": 69,
     "metadata": {},
     "output_type": "execute_result"
    }
   ],
   "source": [
    "LR = LogisticRegression()\n",
    "SVM = svm.LinearSVC()\n",
    "fourfold = StratifiedKFold(y, n_folds=4, random_state=4)\n",
    "gs = GridSearchCV(LR, param_grid={}, cv=fourfold, scoring='roc_auc', return_train_score=True)\n",
    "gs.fit(X,y)\n",
    "gs_scores = np.array([gs.cv_results_['split0_test_score'][0],\n",
    "                      gs.cv_results_['split1_test_score'][0],\n",
    "                      gs.cv_results_['split2_test_score'][0],\n",
    "                      gs.cv_results_['split3_test_score'][0]])\n",
    "gs_scores"
   ]
  },
  {
   "cell_type": "code",
   "execution_count": 70,
   "metadata": {
    "collapsed": false
   },
   "outputs": [
    {
     "data": {
      "text/plain": [
       "array([ 0.99865657,  0.99876528,  0.99678973,  0.99837662])"
      ]
     },
     "execution_count": 70,
     "metadata": {},
     "output_type": "execute_result"
    }
   ],
   "source": [
    "cv_scores = cross_val_score(LR, X, y, cv=fourfold, scoring='roc_auc')\n",
    "cv_scores"
   ]
  },
  {
   "cell_type": "code",
   "execution_count": 71,
   "metadata": {
    "collapsed": false
   },
   "outputs": [
    {
     "data": {
      "text/plain": [
       "[0.99865657059110891,\n",
       " 0.99876527966415607,\n",
       " 0.9967897271268058,\n",
       " 0.99837662337662336]"
      ]
     },
     "execution_count": 71,
     "metadata": {},
     "output_type": "execute_result"
    }
   ],
   "source": [
    "loop_scores = list()\n",
    "for idx_train, idx_test in fourfold:\n",
    "    X_train, y_train, X_test, y_test = X[idx_train], y[idx_train], X[idx_test], y[idx_test]\n",
    "    LR.fit(X_train, y_train)\n",
    "    y_prob = LR.predict_proba(X_test)\n",
    "    auc = roc_auc_score(y_test, y_prob[:,1])\n",
    "    loop_scores.append(auc)\n",
    "loop_scores"
   ]
  },
  {
   "cell_type": "code",
   "execution_count": 73,
   "metadata": {
    "collapsed": false
   },
   "outputs": [
    {
     "name": "stdout",
     "output_type": "stream",
     "text": [
      "[True, True, True, True]\n"
     ]
    }
   ],
   "source": [
    "print ([((a==b) and (b==c)) for a,b,c in zip(gs_scores,cv_scores,loop_scores)])"
   ]
  },
  {
   "cell_type": "code",
   "execution_count": 77,
   "metadata": {
    "collapsed": false
   },
   "outputs": [
    {
     "data": {
      "text/plain": [
       "[0.99890083048363465,\n",
       " 0.99876527966415607,\n",
       " 0.99506111865662439,\n",
       " 0.99862637362637363]"
      ]
     },
     "execution_count": 77,
     "metadata": {},
     "output_type": "execute_result"
    }
   ],
   "source": [
    "auc_list = []\n",
    "for idx_train, idx_test in fourfold:\n",
    "    X_train, y_train, X_test, y_test = X[idx_train], y[idx_train], X[idx_test], y[idx_test]\n",
    "    SVM.fit(X_train, y_train)\n",
    "    y_prob = SVM.decision_function(X_test)\n",
    "    prob_pos = (y_prob - y_prob.min()) / (y_prob.max() - y_prob.min())\n",
    "    auc = roc_auc_score(y_test, prob_pos)\n",
    "    auc_list.append(auc)\n",
    "auc_list"
   ]
  },
  {
   "cell_type": "code",
   "execution_count": null,
   "metadata": {
    "collapsed": true
   },
   "outputs": [],
   "source": []
  }
 ],
 "metadata": {
  "kernelspec": {
   "display_name": "Python [default]",
   "language": "python",
   "name": "python3"
  },
  "language_info": {
   "codemirror_mode": {
    "name": "ipython",
    "version": 3
   },
   "file_extension": ".py",
   "mimetype": "text/x-python",
   "name": "python",
   "nbconvert_exporter": "python",
   "pygments_lexer": "ipython3",
   "version": "3.5.2"
  }
 },
 "nbformat": 4,
 "nbformat_minor": 2
}
