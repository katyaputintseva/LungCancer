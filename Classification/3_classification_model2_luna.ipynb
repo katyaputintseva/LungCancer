{
 "cells": [
  {
   "cell_type": "code",
   "execution_count": 1,
   "metadata": {
    "collapsed": true
   },
   "outputs": [],
   "source": [
    "%reset -f"
   ]
  },
  {
   "cell_type": "code",
   "execution_count": 2,
   "metadata": {
    "collapsed": false
   },
   "outputs": [
    {
     "name": "stderr",
     "output_type": "stream",
     "text": [
      "/opt/anaconda/lib/python3.5/site-packages/sklearn/cross_validation.py:44: DeprecationWarning: This module was deprecated in version 0.18 in favor of the model_selection module into which all the refactored classes and functions are moved. Also note that the interface of the new CV iterators are different from that of this module. This module will be removed in 0.20.\n",
      "  \"This module will be removed in 0.20.\", DeprecationWarning)\n"
     ]
    }
   ],
   "source": [
    "# import session\n",
    "import numpy as np\n",
    "import pandas as pd\n",
    "from pandas.tools.plotting import scatter_matrix\n",
    "import matplotlib.pyplot as plt\n",
    "%matplotlib inline\n",
    "\n",
    "from sklearn import neighbors, linear_model, metrics, tree, cross_validation, svm\n",
    "from sklearn.preprocessing import StandardScaler\n",
    "from sklearn.cross_validation import cross_val_score, StratifiedKFold as KFold\n",
    "from sklearn.calibration import CalibratedClassifierCV\n",
    "from sklearn.base import BaseEstimator\n",
    "from sklearn.linear_model import LogisticRegression\n",
    "from sklearn.neural_network import MLPClassifier\n",
    "\n",
    "from sklearn.metrics import confusion_matrix\n",
    "from sklearn.metrics import classification_report\n",
    "from sklearn.metrics import log_loss\n",
    "from sklearn.metrics import roc_auc_score\n",
    "\n",
    "from sklearn.model_selection import train_test_split, cross_val_predict, StratifiedKFold\n",
    "from sklearn.model_selection import GridSearchCV\n",
    "\n",
    "from sklearn.ensemble import ExtraTreesRegressor as XTR\n",
    "from sklearn.ensemble import RandomForestClassifier as RF\n"
   ]
  },
  {
   "cell_type": "markdown",
   "metadata": {},
   "source": [
    "## 1. Preparing data for classification\n",
    "\n",
    "### 1.1 Stage1 data"
   ]
  },
  {
   "cell_type": "code",
   "execution_count": 3,
   "metadata": {
    "collapsed": false
   },
   "outputs": [
    {
     "name": "stdout",
     "output_type": "stream",
     "text": [
      "(888, 9)\n"
     ]
    },
    {
     "data": {
      "text/html": [
       "<div>\n",
       "<table border=\"1\" class=\"dataframe\">\n",
       "  <thead>\n",
       "    <tr style=\"text-align: right;\">\n",
       "      <th></th>\n",
       "      <th>max_malig</th>\n",
       "      <th>max_spiculation</th>\n",
       "      <th>max_lobulation</th>\n",
       "      <th>max_diameter</th>\n",
       "      <th>xsd_malig</th>\n",
       "      <th>xsd_spiculation</th>\n",
       "      <th>xmax_lobulation</th>\n",
       "      <th>xsd_diameter</th>\n",
       "      <th>labels</th>\n",
       "    </tr>\n",
       "  </thead>\n",
       "  <tbody>\n",
       "    <tr>\n",
       "      <th>0</th>\n",
       "      <td>0.496121</td>\n",
       "      <td>0.371900</td>\n",
       "      <td>0.358551</td>\n",
       "      <td>0.293208</td>\n",
       "      <td>0.099515</td>\n",
       "      <td>0.083970</td>\n",
       "      <td>0.358551</td>\n",
       "      <td>0.062682</td>\n",
       "      <td>0</td>\n",
       "    </tr>\n",
       "    <tr>\n",
       "      <th>1</th>\n",
       "      <td>0.512953</td>\n",
       "      <td>0.343098</td>\n",
       "      <td>0.334395</td>\n",
       "      <td>0.341244</td>\n",
       "      <td>0.090750</td>\n",
       "      <td>0.078329</td>\n",
       "      <td>0.334395</td>\n",
       "      <td>0.058964</td>\n",
       "      <td>1</td>\n",
       "    </tr>\n",
       "    <tr>\n",
       "      <th>2</th>\n",
       "      <td>0.447176</td>\n",
       "      <td>0.376131</td>\n",
       "      <td>0.333259</td>\n",
       "      <td>0.276387</td>\n",
       "      <td>0.020049</td>\n",
       "      <td>0.083681</td>\n",
       "      <td>0.333259</td>\n",
       "      <td>0.049480</td>\n",
       "      <td>0</td>\n",
       "    </tr>\n",
       "    <tr>\n",
       "      <th>3</th>\n",
       "      <td>0.442950</td>\n",
       "      <td>0.374566</td>\n",
       "      <td>0.366240</td>\n",
       "      <td>0.283358</td>\n",
       "      <td>0.084090</td>\n",
       "      <td>0.095962</td>\n",
       "      <td>0.366240</td>\n",
       "      <td>0.053300</td>\n",
       "      <td>0</td>\n",
       "    </tr>\n",
       "    <tr>\n",
       "      <th>4</th>\n",
       "      <td>0.431455</td>\n",
       "      <td>0.212259</td>\n",
       "      <td>0.308027</td>\n",
       "      <td>0.283699</td>\n",
       "      <td>0.083341</td>\n",
       "      <td>0.042448</td>\n",
       "      <td>0.308027</td>\n",
       "      <td>0.052760</td>\n",
       "      <td>0</td>\n",
       "    </tr>\n",
       "  </tbody>\n",
       "</table>\n",
       "</div>"
      ],
      "text/plain": [
       "   max_malig  max_spiculation  max_lobulation  max_diameter  xsd_malig  \\\n",
       "0   0.496121         0.371900        0.358551      0.293208   0.099515   \n",
       "1   0.512953         0.343098        0.334395      0.341244   0.090750   \n",
       "2   0.447176         0.376131        0.333259      0.276387   0.020049   \n",
       "3   0.442950         0.374566        0.366240      0.283358   0.084090   \n",
       "4   0.431455         0.212259        0.308027      0.283699   0.083341   \n",
       "\n",
       "   xsd_spiculation  xmax_lobulation  xsd_diameter  labels  \n",
       "0         0.083970         0.358551      0.062682       0  \n",
       "1         0.078329         0.334395      0.058964       1  \n",
       "2         0.083681         0.333259      0.049480       0  \n",
       "3         0.095962         0.366240      0.053300       0  \n",
       "4         0.042448         0.308027      0.052760       0  "
      ]
     },
     "execution_count": 3,
     "metadata": {},
     "output_type": "execute_result"
    }
   ],
   "source": [
    "df = pd.read_csv(\"./feature_matrix_model2_luna.csv\")\n",
    "df = df.drop(['Unnamed: 0'],1)\n",
    "print (df.shape)\n",
    "df.head()"
   ]
  },
  {
   "cell_type": "code",
   "execution_count": 4,
   "metadata": {
    "collapsed": false
   },
   "outputs": [
    {
     "name": "stdout",
     "output_type": "stream",
     "text": [
      "Feature space holds 888 observations and 8 features\n",
      "Unique target labels: [0 1]\n"
     ]
    }
   ],
   "source": [
    "x_cols = df.drop(['labels'],1).columns  # using all the features\n",
    "X = df.loc[:][x_cols].values\n",
    "y = df.loc[:]['labels'].values\n",
    "\n",
    "print (\"Feature space holds %d observations and %d features\" % X.shape)\n",
    "print (\"Unique target labels:\", np.unique(y))"
   ]
  },
  {
   "cell_type": "code",
   "execution_count": null,
   "metadata": {
    "collapsed": true
   },
   "outputs": [],
   "source": []
  },
  {
   "cell_type": "markdown",
   "metadata": {},
   "source": [
    "## 2. Data exploration\n",
    "\n",
    "### 2.1 Basic estadistics\n",
    "\n",
    "+ How many patients do we have for training-test? --> 1257\n",
    "+ How many cancer patients? --> 315\n",
    "+ What percentage is the cancer patient? --> 25%\n"
   ]
  },
  {
   "cell_type": "code",
   "execution_count": 5,
   "metadata": {
    "collapsed": false
   },
   "outputs": [
    {
     "name": "stdout",
     "output_type": "stream",
     "text": [
      "data frame shape (888, 9)\n",
      "number of cancer patient: 595\n",
      "how un-balance is the data: 0.670045045045045\n"
     ]
    }
   ],
   "source": [
    "print (\"data frame shape\", df.shape)\n",
    "print (\"number of cancer patient:\",df['labels'].sum() )\n",
    "print (\"how un-balance is the data:\", df['labels'].sum()/df.shape[0])"
   ]
  },
  {
   "cell_type": "markdown",
   "metadata": {},
   "source": [
    "### 2.2 Cancer patient v.s. Non-cancer patients"
   ]
  },
  {
   "cell_type": "code",
   "execution_count": 6,
   "metadata": {
    "collapsed": false
   },
   "outputs": [
    {
     "name": "stdout",
     "output_type": "stream",
     "text": [
      "(595, 9)\n"
     ]
    },
    {
     "data": {
      "text/html": [
       "<div>\n",
       "<table border=\"1\" class=\"dataframe\">\n",
       "  <thead>\n",
       "    <tr style=\"text-align: right;\">\n",
       "      <th></th>\n",
       "      <th>max_malig</th>\n",
       "      <th>max_spiculation</th>\n",
       "      <th>max_lobulation</th>\n",
       "      <th>max_diameter</th>\n",
       "      <th>xsd_malig</th>\n",
       "      <th>xsd_spiculation</th>\n",
       "      <th>xmax_lobulation</th>\n",
       "      <th>xsd_diameter</th>\n",
       "      <th>labels</th>\n",
       "    </tr>\n",
       "  </thead>\n",
       "  <tbody>\n",
       "    <tr>\n",
       "      <th>1</th>\n",
       "      <td>0.512953</td>\n",
       "      <td>0.343098</td>\n",
       "      <td>0.334395</td>\n",
       "      <td>0.341244</td>\n",
       "      <td>0.090750</td>\n",
       "      <td>0.078329</td>\n",
       "      <td>0.334395</td>\n",
       "      <td>0.058964</td>\n",
       "      <td>1</td>\n",
       "    </tr>\n",
       "    <tr>\n",
       "      <th>5</th>\n",
       "      <td>0.507354</td>\n",
       "      <td>0.348568</td>\n",
       "      <td>0.361303</td>\n",
       "      <td>0.296878</td>\n",
       "      <td>0.113290</td>\n",
       "      <td>0.062295</td>\n",
       "      <td>0.361303</td>\n",
       "      <td>0.051358</td>\n",
       "      <td>1</td>\n",
       "    </tr>\n",
       "    <tr>\n",
       "      <th>7</th>\n",
       "      <td>0.481898</td>\n",
       "      <td>0.271938</td>\n",
       "      <td>0.341182</td>\n",
       "      <td>0.320418</td>\n",
       "      <td>0.130495</td>\n",
       "      <td>0.055012</td>\n",
       "      <td>0.341182</td>\n",
       "      <td>0.072845</td>\n",
       "      <td>1</td>\n",
       "    </tr>\n",
       "    <tr>\n",
       "      <th>8</th>\n",
       "      <td>0.531098</td>\n",
       "      <td>0.367647</td>\n",
       "      <td>0.318483</td>\n",
       "      <td>0.339589</td>\n",
       "      <td>0.135875</td>\n",
       "      <td>0.096811</td>\n",
       "      <td>0.318483</td>\n",
       "      <td>0.063378</td>\n",
       "      <td>1</td>\n",
       "    </tr>\n",
       "    <tr>\n",
       "      <th>9</th>\n",
       "      <td>0.522617</td>\n",
       "      <td>0.370673</td>\n",
       "      <td>0.375371</td>\n",
       "      <td>0.318399</td>\n",
       "      <td>0.112951</td>\n",
       "      <td>0.076792</td>\n",
       "      <td>0.375371</td>\n",
       "      <td>0.057575</td>\n",
       "      <td>1</td>\n",
       "    </tr>\n",
       "  </tbody>\n",
       "</table>\n",
       "</div>"
      ],
      "text/plain": [
       "   max_malig  max_spiculation  max_lobulation  max_diameter  xsd_malig  \\\n",
       "1   0.512953         0.343098        0.334395      0.341244   0.090750   \n",
       "5   0.507354         0.348568        0.361303      0.296878   0.113290   \n",
       "7   0.481898         0.271938        0.341182      0.320418   0.130495   \n",
       "8   0.531098         0.367647        0.318483      0.339589   0.135875   \n",
       "9   0.522617         0.370673        0.375371      0.318399   0.112951   \n",
       "\n",
       "   xsd_spiculation  xmax_lobulation  xsd_diameter  labels  \n",
       "1         0.078329         0.334395      0.058964       1  \n",
       "5         0.062295         0.361303      0.051358       1  \n",
       "7         0.055012         0.341182      0.072845       1  \n",
       "8         0.096811         0.318483      0.063378       1  \n",
       "9         0.076792         0.375371      0.057575       1  "
      ]
     },
     "execution_count": 6,
     "metadata": {},
     "output_type": "execute_result"
    }
   ],
   "source": [
    "df_cancer = df.loc[df['labels'] == 1]\n",
    "print (df_cancer.shape)\n",
    "df_cancer.head()"
   ]
  },
  {
   "cell_type": "code",
   "execution_count": 7,
   "metadata": {
    "collapsed": false,
    "scrolled": true
   },
   "outputs": [
    {
     "name": "stdout",
     "output_type": "stream",
     "text": [
      "(293, 9)\n"
     ]
    },
    {
     "data": {
      "text/html": [
       "<div>\n",
       "<table border=\"1\" class=\"dataframe\">\n",
       "  <thead>\n",
       "    <tr style=\"text-align: right;\">\n",
       "      <th></th>\n",
       "      <th>max_malig</th>\n",
       "      <th>max_spiculation</th>\n",
       "      <th>max_lobulation</th>\n",
       "      <th>max_diameter</th>\n",
       "      <th>xsd_malig</th>\n",
       "      <th>xsd_spiculation</th>\n",
       "      <th>xmax_lobulation</th>\n",
       "      <th>xsd_diameter</th>\n",
       "      <th>labels</th>\n",
       "    </tr>\n",
       "  </thead>\n",
       "  <tbody>\n",
       "    <tr>\n",
       "      <th>0</th>\n",
       "      <td>0.496121</td>\n",
       "      <td>0.371900</td>\n",
       "      <td>0.358551</td>\n",
       "      <td>0.293208</td>\n",
       "      <td>0.099515</td>\n",
       "      <td>0.083970</td>\n",
       "      <td>0.358551</td>\n",
       "      <td>0.062682</td>\n",
       "      <td>0</td>\n",
       "    </tr>\n",
       "    <tr>\n",
       "      <th>2</th>\n",
       "      <td>0.447176</td>\n",
       "      <td>0.376131</td>\n",
       "      <td>0.333259</td>\n",
       "      <td>0.276387</td>\n",
       "      <td>0.020049</td>\n",
       "      <td>0.083681</td>\n",
       "      <td>0.333259</td>\n",
       "      <td>0.049480</td>\n",
       "      <td>0</td>\n",
       "    </tr>\n",
       "    <tr>\n",
       "      <th>3</th>\n",
       "      <td>0.442950</td>\n",
       "      <td>0.374566</td>\n",
       "      <td>0.366240</td>\n",
       "      <td>0.283358</td>\n",
       "      <td>0.084090</td>\n",
       "      <td>0.095962</td>\n",
       "      <td>0.366240</td>\n",
       "      <td>0.053300</td>\n",
       "      <td>0</td>\n",
       "    </tr>\n",
       "    <tr>\n",
       "      <th>4</th>\n",
       "      <td>0.431455</td>\n",
       "      <td>0.212259</td>\n",
       "      <td>0.308027</td>\n",
       "      <td>0.283699</td>\n",
       "      <td>0.083341</td>\n",
       "      <td>0.042448</td>\n",
       "      <td>0.308027</td>\n",
       "      <td>0.052760</td>\n",
       "      <td>0</td>\n",
       "    </tr>\n",
       "    <tr>\n",
       "      <th>6</th>\n",
       "      <td>0.514261</td>\n",
       "      <td>0.312580</td>\n",
       "      <td>0.342795</td>\n",
       "      <td>0.295014</td>\n",
       "      <td>0.127858</td>\n",
       "      <td>0.068341</td>\n",
       "      <td>0.342795</td>\n",
       "      <td>0.059625</td>\n",
       "      <td>0</td>\n",
       "    </tr>\n",
       "  </tbody>\n",
       "</table>\n",
       "</div>"
      ],
      "text/plain": [
       "   max_malig  max_spiculation  max_lobulation  max_diameter  xsd_malig  \\\n",
       "0   0.496121         0.371900        0.358551      0.293208   0.099515   \n",
       "2   0.447176         0.376131        0.333259      0.276387   0.020049   \n",
       "3   0.442950         0.374566        0.366240      0.283358   0.084090   \n",
       "4   0.431455         0.212259        0.308027      0.283699   0.083341   \n",
       "6   0.514261         0.312580        0.342795      0.295014   0.127858   \n",
       "\n",
       "   xsd_spiculation  xmax_lobulation  xsd_diameter  labels  \n",
       "0         0.083970         0.358551      0.062682       0  \n",
       "2         0.083681         0.333259      0.049480       0  \n",
       "3         0.095962         0.366240      0.053300       0  \n",
       "4         0.042448         0.308027      0.052760       0  \n",
       "6         0.068341         0.342795      0.059625       0  "
      ]
     },
     "execution_count": 7,
     "metadata": {},
     "output_type": "execute_result"
    }
   ],
   "source": [
    "df_no_cancer = df.loc[df['labels'] == 0]\n",
    "print (df_no_cancer.shape)\n",
    "df_no_cancer.head()"
   ]
  },
  {
   "cell_type": "code",
   "execution_count": 8,
   "metadata": {
    "collapsed": false,
    "scrolled": false
   },
   "outputs": [
    {
     "data": {
      "image/png": "[encoded data removed]",
      "text/plain": [
       "<matplotlib.figure.Figure at 0x7f172886b7b8>"
      ]
     },
     "metadata": {},
     "output_type": "display_data"
    }
   ],
   "source": [
    "# df_no_cancer.reset_index(inplace=True, drop=True)\n",
    "fig, ax = plt.subplots(figsize=[15,12])\n",
    "\n",
    "cancerCount=0\n",
    "nonCancerCount=0\n",
    "\n",
    "for patient in range(800):\n",
    "    if df.ix[patient]['labels']==0:\n",
    "        if nonCancerCount<30:\n",
    "            nonCancerCount+=1\n",
    "            line1, = plt.plot(np.arange(8), df.iloc[patient][:-1],'ok',alpha=0.5,label='Non Cancer', color='c')\n",
    "    else:\n",
    "        if cancerCount<30:\n",
    "            cancerCount+=1\n",
    "            line2, = plt.plot(np.arange(8), df.iloc[patient][:-1],'oc',alpha=0.5,label='Cancer',color='black')\n",
    "\n",
    "plt.legend((line1,line2),('Non Cancer','Cancer'))\n",
    "plt.xticks([x for x in range(8)])\n",
    "ax.set_xticklabels(df.columns[:-2]);"
   ]
  },
  {
   "cell_type": "code",
   "execution_count": 9,
   "metadata": {
    "collapsed": false,
    "scrolled": false
   },
   "outputs": [
    {
     "name": "stderr",
     "output_type": "stream",
     "text": [
      "/opt/anaconda/lib/python3.5/site-packages/pandas/core/frame.py:5749: UserWarning: When passing multiple axes, sharex and sharey are ignored. These settings must be specified when creating axes\n",
      "  return_type=return_type, **kwds)\n"
     ]
    },
    {
     "data": {
      "image/png": "[encoded data removed]",
      "text/plain": [
       "<matplotlib.figure.Figure at 0x7f17288aab38>"
      ]
     },
     "metadata": {},
     "output_type": "display_data"
    }
   ],
   "source": [
    "import seaborn\n",
    "seaborn.set(style=\"ticks\")\n",
    "fig, axes = plt.subplots(ncols=8, figsize=(20, 5), sharey=True)\n",
    "df.query(\"labels in [0, 1]\").boxplot(by='labels', return_type='axes', ax=axes);"
   ]
  },
  {
   "cell_type": "markdown",
   "metadata": {},
   "source": [
    "#### 2.2.1 Mean\n",
    "\n",
    "Not surprisely, as the box plot above showed, they are extremly similar!! "
   ]
  },
  {
   "cell_type": "code",
   "execution_count": 10,
   "metadata": {
    "collapsed": false
   },
   "outputs": [
    {
     "name": "stdout",
     "output_type": "stream",
     "text": [
      "max_malig          0.041692\n",
      "max_spiculation    0.044121\n",
      "max_lobulation     0.039179\n",
      "max_diameter       0.039450\n",
      "xsd_malig          0.000403\n",
      "xsd_spiculation    0.003985\n",
      "xmax_lobulation    0.039179\n",
      "xsd_diameter       0.003647\n",
      "labels             1.000000\n",
      "dtype: float64\n"
     ]
    }
   ],
   "source": [
    "df_cancer_mean = df.loc[df['labels'] == 1].mean()\n",
    "df_no_cancer_mean = df.loc[df['labels'] == 0].mean()\n",
    "print (df_cancer_mean-df_no_cancer_mean)"
   ]
  },
  {
   "cell_type": "code",
   "execution_count": 11,
   "metadata": {
    "collapsed": false,
    "scrolled": true
   },
   "outputs": [
    {
     "data": {
      "image/png": "[encoded data removed]",
      "text/plain": [
       "<matplotlib.figure.Figure at 0x7f177c247d30>"
      ]
     },
     "metadata": {},
     "output_type": "display_data"
    }
   ],
   "source": [
    "plt.scatter(np.arange(9),df_no_cancer_mean, label = 'non_cancer_mean', color='c')\n",
    "plt.scatter(np.arange(9),df_cancer_mean, label = 'cancer_mean', color='black')\n",
    "plt.legend();"
   ]
  },
  {
   "cell_type": "markdown",
   "metadata": {},
   "source": [
    "##  3. Classification\n",
    "\n",
    "### 3.1 Logistic Regression"
   ]
  },
  {
   "cell_type": "code",
   "execution_count": 12,
   "metadata": {
    "collapsed": false
   },
   "outputs": [
    {
     "name": "stdout",
     "output_type": "stream",
     "text": [
      "Logistic sRegression\n",
      "confusion_matrix for test set: \n",
      " [[137 156]\n",
      " [ 14 581]]\n",
      "             precision    recall  f1-score   support\n",
      "\n",
      "  No Cancer       0.91      0.47      0.62       293\n",
      "     Cancer       0.79      0.98      0.87       595\n",
      "\n",
      "avg / total       0.83      0.81      0.79       888\n",
      "\n",
      "logloss 0.427501538207\n",
      "Specificity:  0.467576791809\n",
      "Recall:  0.976470588235\n",
      "Accuracy:  0.808558558559\n"
     ]
    },
    {
     "data": {
      "text/plain": [
       "(array([  33.,   26.,   25.,   35.,   32.,   42.,   40.,   49.,   81.,  525.]),\n",
       " array([ 0.00132107,  0.10117788,  0.20103468,  0.30089149,  0.4007483 ,\n",
       "         0.5006051 ,  0.60046191,  0.70031872,  0.80017553,  0.90003233,\n",
       "         0.99988914]),\n",
       " <a list of 10 Patch objects>)"
      ]
     },
     "execution_count": 12,
     "metadata": {},
     "output_type": "execute_result"
    },
    {
     "data": {
      "image/png": "[encoded data removed]",
      "text/plain": [
       "<matplotlib.figure.Figure at 0x7f1721c8c438>"
      ]
     },
     "metadata": {},
     "output_type": "display_data"
    }
   ],
   "source": [
    "cv = cross_validation.KFold(X.shape[0],n_folds = 20,random_state=42)\n",
    "y_pred = y * 0\n",
    "y_pred_prob = np.zeros(len(y))\n",
    "for train, test in cv:\n",
    "    X_train, X_test, y_train, y_test = X[train,:], X[test,:], y[train], y[test]\n",
    "    scaler = StandardScaler()\n",
    "    X_train = scaler.fit_transform(X_train)\n",
    "    X_test = scaler.transform(X_test)\n",
    "    \n",
    "    clf = linear_model.LogisticRegression(class_weight={0:0.22,1:0.78},penalty='l1')\n",
    "    clf.fit(X_train, y_train)\n",
    "    y_pred[test] = clf.predict(X_test)\n",
    "    y_pred_prob[test] = clf.predict_proba(X_test)[:,1]\n",
    "    \n",
    "print ('Logistic sRegression')\n",
    "\n",
    "conf_mat = confusion_matrix(y,y_pred)\n",
    "D = conf_mat[0][0]    # TP\n",
    "B = conf_mat[0][1]    # FP\n",
    "C = conf_mat[1][0]    # FN\n",
    "A = conf_mat[1][1]    # TN\n",
    "\n",
    "print (\"confusion_matrix for test set: \\n\", conf_mat)\n",
    "print (classification_report(y, y_pred, target_names=[\"No Cancer\", \"Cancer\"]))\n",
    "print(\"logloss\",log_loss(y, y_pred_prob))\n",
    "print (\"Specificity: \", D/(B+D))\n",
    "print (\"Recall: \", A/(A+C))\n",
    "print (\"Accuracy: \", (A+D)/(A+B+C+D))\n",
    "\n",
    "plt.hist(y_pred_prob)"
   ]
  },
  {
   "cell_type": "markdown",
   "metadata": {},
   "source": [
    "### 3.2 SlightlyNonlinearClassification"
   ]
  },
  {
   "cell_type": "code",
   "execution_count": 13,
   "metadata": {
    "collapsed": true
   },
   "outputs": [],
   "source": [
    "class SlightlyNonlinearClassification(BaseEstimator):\n",
    "\n",
    "    def __init__(self,C=10,step_size=0.7):\n",
    "        self.step_size = step_size\n",
    "        self.C = C\n",
    "\n",
    "    def fit(self, X, y):\n",
    "        lr = LogisticRegression(C=self.C,penalty='l1')\n",
    "        lr_preds = cross_val_predict(lr, X, y, cv=50, method='predict_proba')[:,1]\n",
    "        lr.fit(X,y)\n",
    "        xtr = XTR(n_estimators=500, min_samples_leaf=20, max_features=.8).fit(X, y - lr_preds)\n",
    "        self.lr = lr\n",
    "        self.xtr = xtr\n",
    "\n",
    "        return self\n",
    "\n",
    "    def predict_proba(self, X):\n",
    "        base = self.lr.predict_proba(X)\n",
    "        base[:,1] += self.step_size * self.xtr.predict(X)\n",
    "        base[:,0] = 1 - base[:,1]\n",
    "        return np.clip(base, 1e-3, 1-1e-3)\n",
    "\n",
    "    def predict(self, X):\n",
    "        return self.predict_proba(X)"
   ]
  },
  {
   "cell_type": "code",
   "execution_count": 14,
   "metadata": {
    "collapsed": false
   },
   "outputs": [
    {
     "name": "stdout",
     "output_type": "stream",
     "text": [
      "(888,)\n",
      "logloss 0.342520128324\n"
     ]
    },
    {
     "data": {
      "text/plain": [
       "(array([ 101.,   60.,   42.,   34.,   33.,   33.,   45.,   61.,  117.,  362.]),\n",
       " array([ 0.001 ,  0.1008,  0.2006,  0.3004,  0.4002,  0.5   ,  0.5998,\n",
       "         0.6996,  0.7994,  0.8992,  0.999 ]),\n",
       " <a list of 10 Patch objects>)"
      ]
     },
     "execution_count": 14,
     "metadata": {},
     "output_type": "execute_result"
    },
    {
     "data": {
      "image/png": "[encoded data removed]",
      "text/plain": [
       "<matplotlib.figure.Figure at 0x7f1721d5b4e0>"
      ]
     },
     "metadata": {},
     "output_type": "display_data"
    }
   ],
   "source": [
    "x_cols = df.drop(['labels'],1).columns  # using all the features\n",
    "X = df.loc[:][x_cols].values\n",
    "y = df.loc[:]['labels'].values\n",
    "\n",
    "X = StandardScaler().fit_transform(X)\n",
    "lr = SlightlyNonlinearClassification(C=1000, step_size=0.9)\n",
    "Yh = cross_val_predict(lr, X, y, cv=10, method='predict_proba',n_jobs=3)[:,1]\n",
    "\n",
    "print (Yh.shape)\n",
    "print (\"logloss\",log_loss(y, Yh) )\n",
    "plt.hist(Yh)"
   ]
  },
  {
   "cell_type": "markdown",
   "metadata": {
    "collapsed": true
   },
   "source": [
    "###  3.3 LogisticRegression with grid search"
   ]
  },
  {
   "cell_type": "code",
   "execution_count": 21,
   "metadata": {
    "collapsed": false,
    "scrolled": false
   },
   "outputs": [
    {
     "name": "stdout",
     "output_type": "stream",
     "text": [
      "\n",
      "confusion_matrix from sklearn: \n",
      " [[238  55]\n",
      " [ 98 497]]\n",
      "             precision    recall  f1-score   support\n",
      "\n",
      "  No Cancer       0.71      0.81      0.76       293\n",
      "     Cancer       0.90      0.84      0.87       595\n",
      "\n",
      "avg / total       0.84      0.83      0.83       888\n",
      "\n",
      "logloss 0.393511764018\n",
      "Specificity:  0.81228668942\n",
      "Recall:  0.835294117647\n",
      "Accuracy:  0.827702702703\n"
     ]
    },
    {
     "data": {
      "text/plain": [
       "(array([ 109.,   74.,   60.,   48.,   45.,   57.,   78.,  105.,  140.,  172.]),\n",
       " array([  2.19443235e-04,   9.98401323e-02,   1.99460821e-01,\n",
       "          2.99081511e-01,   3.98702200e-01,   4.98322889e-01,\n",
       "          5.97943578e-01,   6.97564267e-01,   7.97184956e-01,\n",
       "          8.96805645e-01,   9.96426334e-01]),\n",
       " <a list of 10 Patch objects>)"
      ]
     },
     "execution_count": 21,
     "metadata": {},
     "output_type": "execute_result"
    },
    {
     "data": {
      "image/png": "[encoded data removed]",
      "text/plain": [
       "<matplotlib.figure.Figure at 0x7f173ab94278>"
      ]
     },
     "metadata": {},
     "output_type": "display_data"
    }
   ],
   "source": [
    "x_cols = df.drop(['labels'],1).columns  # using all the features\n",
    "X = df.loc[:][x_cols].values\n",
    "y = df.loc[:]['labels'].values\n",
    "\n",
    "cv = cross_validation.KFold(X.shape[0],n_folds = 20,random_state=42)\n",
    "Cs = [0.001, 0.0025, 0.005, 0.01, 0.025, 0.05, 0.1, 0.5]\n",
    "# weights = [{0:0.1*x, 1:(1-0.1*x)} for x in range(1,10)]\n",
    "# parameters = {'C': Cs, 'class_weight':weights} \n",
    "parameters = {'C': Cs}\n",
    "\n",
    "acc = np.zeros((20,))\n",
    "yhat = y.copy()\n",
    "y_pred_prob = np.zeros(len(y))\n",
    "\n",
    "for train_index, test_index in cv:\n",
    "    X_train, X_test = X[train_index], X[test_index]\n",
    "    y_train, y_test = y[train_index], y[test_index]\n",
    "    scaler = StandardScaler()\n",
    "    X_train = scaler.fit_transform(X_train)\n",
    "    X_test = scaler.transform(X_test)\n",
    "    \n",
    "    clf = linear_model.LogisticRegression(penalty='l1', class_weight='balanced')\n",
    "    \n",
    "    # We can change the scoring \"average_precision\", \"recall\", \"f1\"\n",
    "    grd = GridSearchCV(clf, parameters)  \n",
    "    grd.fit(X_train,y_train.ravel())\n",
    "   \n",
    "    yhat[test_index] = grd.predict(X_test)\n",
    "    y_pred_prob[test_index] = grd.predict_proba(X_test)[:,1]\n",
    "    \n",
    "    conf_mat = confusion_matrix(y,yhat)\n",
    "    D = conf_mat[0][0]    # TP\n",
    "    B = conf_mat[0][1]    # FP\n",
    "    C = conf_mat[1][0]    # FN\n",
    "    A = conf_mat[1][1]    # TN\n",
    "    \n",
    "# print ('Mean accuracy: '+ str(np.mean(acc)))\n",
    "print (\"\\nconfusion_matrix from sklearn: \\n\", conf_mat)\n",
    "print (classification_report(y, yhat, target_names=[\"No Cancer\", \"Cancer\"]))\n",
    "print(\"logloss\",log_loss(y, y_pred_prob))\n",
    "\n",
    "print (\"Specificity: \", D/(B+D))\n",
    "print (\"Recall: \", A/(A+C))\n",
    "print (\"Accuracy: \", (A+D)/(A+B+C+D))\n",
    "\n",
    "plt.hist(y_pred_prob)"
   ]
  },
  {
   "cell_type": "markdown",
   "metadata": {},
   "source": [
    "### 3.4 LinearSVC"
   ]
  },
  {
   "cell_type": "code",
   "execution_count": 20,
   "metadata": {
    "collapsed": false
   },
   "outputs": [
    {
     "name": "stdout",
     "output_type": "stream",
     "text": [
      "\n",
      "confusion_matrix from sklearn: \n",
      " [[211  82]\n",
      " [ 55 540]]\n",
      "             precision    recall  f1-score   support\n",
      "\n",
      "  No Cancer       0.79      0.72      0.75       293\n",
      "     Cancer       0.87      0.91      0.89       595\n",
      "\n",
      "avg / total       0.84      0.85      0.84       888\n",
      "\n",
      "logloss 0.353134511566\n",
      "Specificity:  0.720136518771\n",
      "Recall:  0.90756302521\n",
      "Accuracy:  0.845720720721\n"
     ]
    },
    {
     "data": {
      "text/plain": [
       "(array([  65.,   61.,   51.,   45.,   44.,   36.,   51.,   73.,  154.,  308.]),\n",
       " array([ 0.0011867 ,  0.10096106,  0.20073541,  0.30050976,  0.40028411,\n",
       "         0.50005847,  0.59983282,  0.69960717,  0.79938153,  0.89915588,\n",
       "         0.99893023]),\n",
       " <a list of 10 Patch objects>)"
      ]
     },
     "execution_count": 20,
     "metadata": {},
     "output_type": "execute_result"
    },
    {
     "data": {
      "image/png": "[encoded data removed]",
      "text/plain": [
       "<matplotlib.figure.Figure at 0x7f173ab98dd8>"
      ]
     },
     "metadata": {},
     "output_type": "display_data"
    }
   ],
   "source": [
    "\n",
    "from sklearn.calibration import CalibratedClassifierCV\n",
    "\n",
    "x_cols = df.drop(['labels'],1).columns  # using all the features\n",
    "X = df.loc[:][x_cols].values\n",
    "y = df.loc[:]['labels'].values\n",
    "\n",
    "cv = cross_validation.KFold(X.shape[0],n_folds = 20,random_state=42)\n",
    "\n",
    "acc = np.zeros((20,))\n",
    "yhat = y.copy()\n",
    "y_pred_prob = np.zeros(len(y))\n",
    "\n",
    "for train_index, test_index in cv:\n",
    "    X_train, X_test = X[train_index], X[test_index]\n",
    "    y_train, y_test = y[train_index], y[test_index]\n",
    "    scaler = StandardScaler()\n",
    "    X_train = scaler.fit_transform(X_train)\n",
    "    X_test = scaler.transform(X_test)\n",
    "    \n",
    "    clf = svm.LinearSVC(C=0.1,class_weight=\"balanced\")\n",
    "    calibrated_svc = CalibratedClassifierCV(clf,\n",
    "                                        method='sigmoid',  #sigmoid will use Platt's scaling. \n",
    "                                        cv=10) \n",
    "    \n",
    "    calibrated_svc.fit(X_train, y_train)\n",
    "\n",
    "    yhat[test_index] = calibrated_svc.predict(X_test)\n",
    "    y_pred_prob[test_index] = calibrated_svc.predict_proba(X_test)[:,1]\n",
    "\n",
    "    \n",
    "    conf_mat = confusion_matrix(y,yhat)\n",
    "    D = conf_mat[0][0]    # TP\n",
    "    B = conf_mat[0][1]    # FP\n",
    "    C = conf_mat[1][0]    # FN\n",
    "    A = conf_mat[1][1]    # TN\n",
    "    \n",
    "# print ('Mean accuracy: '+ str(np.mean(acc)))\n",
    "print (\"\\nconfusion_matrix from sklearn: \\n\", conf_mat)\n",
    "print (classification_report(y, yhat, target_names=[\"No Cancer\", \"Cancer\"]))\n",
    "print(\"logloss\",log_loss(y, y_pred_prob))\n",
    "\n",
    "print (\"Specificity: \", D/(B+D))\n",
    "print (\"Recall: \", A/(A+C))\n",
    "print (\"Accuracy: \", (A+D)/(A+B+C+D))\n",
    "\n",
    "plt.hist(y_pred_prob)"
   ]
  },
  {
   "cell_type": "markdown",
   "metadata": {},
   "source": [
    "# LinearSVC"
   ]
  },
  {
   "cell_type": "markdown",
   "metadata": {},
   "source": [
    "### 3.2 Feature importance"
   ]
  },
  {
   "cell_type": "code",
   "execution_count": 10,
   "metadata": {
    "collapsed": false,
    "scrolled": false
   },
   "outputs": [
    {
     "name": "stdout",
     "output_type": "stream",
     "text": [
      "Feature ranking:\n",
      "1. feature 0 (0.155368)\n",
      "2. feature 3 (0.150025)\n",
      "3. feature 1 (0.139454)\n",
      "4. feature 6 (0.117436)\n",
      "5. feature 5 (0.117147)\n",
      "6. feature 2 (0.116721)\n",
      "7. feature 7 (0.114804)\n",
      "8. feature 4 (0.089045)\n"
     ]
    },
    {
     "data": {
      "image/png": "[encoded data removed]",
      "text/plain": [
       "<matplotlib.figure.Figure at 0x7f4cf2ccdf60>"
      ]
     },
     "metadata": {},
     "output_type": "display_data"
    }
   ],
   "source": [
    "from sklearn.ensemble import ExtraTreesClassifier\n",
    "\n",
    "x_cols = df.drop(['labels'],1).columns  # using all the features\n",
    "X = df.loc[:][x_cols].values\n",
    "y = df.loc[:]['labels'].values\n",
    "\n",
    "# Build a forest and compute the feature importances\n",
    "forest = ExtraTreesClassifier(n_estimators=250,\n",
    "                              random_state=0)\n",
    "forest.fit(X, y)\n",
    "importances = forest.feature_importances_\n",
    "std = np.std([tree.feature_importances_ for tree in forest.estimators_],axis=0)\n",
    "indices = np.argsort(importances)[::-1]\n",
    "\n",
    "# Print the feature ranking\n",
    "print(\"Feature ranking:\")\n",
    "for f in range(X.shape[1]):\n",
    "    print(\"%d. feature %d (%f)\" % (f + 1, indices[f], importances[indices[f]]))\n",
    "\n",
    "# Plot the feature importances of the forest\n",
    "plt.figure(figsize=(20, 12))\n",
    "plt.title(\"Feature importances\")\n",
    "plt.bar(range(X.shape[1]), importances[indices],\n",
    "       color=\"c\", yerr=std[indices], align=\"center\")\n",
    "plt.xticks(range(X.shape[1]), \n",
    "           ('max_malig', 'max_diameter','max_spiculation','xmax_lobulation', 'xsd_spiculation','max_lobulation','xsd_diameter','xsd_malig'))\n",
    "plt.xlim([-1, X.shape[1]])\n",
    "plt.show()"
   ]
  },
  {
   "cell_type": "markdown",
   "metadata": {},
   "source": [
    "## 4. Metrics\n",
    "\n",
    "### 4.1 Confusion matrix"
   ]
  },
  {
   "cell_type": "markdown",
   "metadata": {},
   "source": [
    "<div class = \"alert alert-info\">\n",
    "**Unbalanced datasets**\n",
    "<p>\n",
    "In cancer detection because the cost of missing one patient in a trial is very large, we want the predictor to have very large recall/sensitivity (we do not accept false negatives) though it means accepting more false positives. These false positives can be discarded in subsequent tests. \n",
    "\n",
    "<p>\n",
    "$$\\text{sensitivity (recall) }=\\frac{\\text{TP}}{\\text{Real Positives}}=\\frac{\\text{TP}}{\\text{TP}+\\text{FN}}$$\n",
    "\n",
    "\n",
    "</div>\n",
    "\n",
    "Although accuracy is the most normal metric for evaluating classifiers, there are cases when the business value of correctly predicting elements from one class is different from the value for the prediction of elements of another class. In those cases, accuracy is not a good performance metric and more detailed analysis is needed. The **confusion matrix** enables us to define different metrics considering such scenarios. The confusion matrix considers the concepts of the classifier outcome and the actual ground truth or gold standard. In a binary problem, there are four possible cases: \n",
    "\n",
    "\n",
    "+ *True positives (TP):* When the classifier predicts a sample as positive and it really is positive.\n",
    "+ *False positives (FP):* When the classifier predicts a sample as positive but in fact it is negative.\n",
    "+ *True negatives (TN):* When the classifier predicts a sample as negative and it really is negative.\n",
    "+ *False negatives (FN):* When the classifier predicts a sample as negative but in fact it is positive.\n",
    "\n",
    "\n",
    "We can summarize this information in a matrix, namely the confusion matrix, as follows:\n",
    "\n",
    "<img src = \"https://i.stack.imgur.com/OW5Lt.jpg\" width = 400px>"
   ]
  },
  {
   "cell_type": "markdown",
   "metadata": {
    "collapsed": true
   },
   "source": [
    "### 4.2 Evaluation: Logloss\n",
    "\n",
    "https://www.kaggle.com/c/data-science-bowl-2017#evaluation\n",
    "\n",
    "$$\n",
    "\\textrm{LogLoss} = - \\frac{1}{n} \\sum_{i=1}^n \\left[ y_i \\log(\\hat{y}_i) + (1 - y_i) \\log(1 - \\hat{y}_i)\\right],\n",
    "$$\n",
    "\n",
    "where\n",
    "\n",
    "+ n is the number of patients in the test set\n",
    "+ $\\hat{y}_i $ is the predicted probability of the image belonging to a patient with cancer\n",
    "+ $ y_i $ is 1 if the diagnosis is cancer, 0 otherwise\n",
    "+ $ log()$ is the natural (base e) logarithm\n",
    "\n",
    "Note: the actual submitted predicted probabilities are replaced with $(max(min(p,1-10^{-15}),10^{-15}))$ . A smaller log loss is better."
   ]
  },
  {
   "cell_type": "code",
   "execution_count": null,
   "metadata": {
    "collapsed": true
   },
   "outputs": [],
   "source": []
  }
 ],
 "metadata": {
  "kernelspec": {
   "display_name": "Python [default]",
   "language": "python",
   "name": "python3"
  },
  "language_info": {
   "codemirror_mode": {
    "name": "ipython",
    "version": 3
   },
   "file_extension": ".py",
   "mimetype": "text/x-python",
   "name": "python",
   "nbconvert_exporter": "python",
   "pygments_lexer": "ipython3",
   "version": "3.5.2"
  }
 },
 "nbformat": 4,
 "nbformat_minor": 2
}
