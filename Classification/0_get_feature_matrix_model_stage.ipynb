{
 "cells": [
  {
   "cell_type": "code",
   "execution_count": 1,
   "metadata": {
    "collapsed": false
   },
   "outputs": [
    {
     "name": "stderr",
     "output_type": "stream",
     "text": [
      "Using TensorFlow backend.\n"
     ]
    }
   ],
   "source": [
    "import tensorflow as tf\n",
    "from keras.backend.tensorflow_backend import set_session\n",
    "config = tf.ConfigProto()\n",
    "config.gpu_options.per_process_gpu_memory_fraction = 0.30\n",
    "set_session(tf.Session(config=config))"
   ]
  },
  {
   "cell_type": "code",
   "execution_count": 2,
   "metadata": {
    "collapsed": false
   },
   "outputs": [],
   "source": [
    "from keras.models import load_model\n",
    "import numpy as np\n",
    "import pandas as pd\n",
    "import os\n",
    "import time"
   ]
  },
  {
   "cell_type": "code",
   "execution_count": 3,
   "metadata": {
    "collapsed": false
   },
   "outputs": [],
   "source": [
    "def feature_vect(model, PATH_VOXELS, patient):\n",
    "    \n",
    "    patient_array = np.load(PATH_VOXELS + patient)\n",
    "    voxels = patient_array['vox']  \n",
    "    voxels = (voxels+1000.)/1400.\n",
    "    voxels = np.clip(voxels,0,1)\n",
    "    \n",
    "    preds = np.array(model.predict(x = voxels, batch_size=60))\n",
    "    ixs = np.argmax(preds[0])\n",
    "    \n",
    "    xmax_malig = np.max(preds[0], axis=0)\n",
    "    xmax_spiculation = np.max(preds[1], axis=0)\n",
    "    xmax_lobulation = np.max(preds[2], axis=0)\n",
    "    xmax_diameter = np.max(preds[3], axis=0)\n",
    "    \n",
    "    xsd_malig = np.std(preds[0], axis=0)\n",
    "    xsd_spiculation = np.std(preds[1], axis=0)\n",
    "    xsd_lobulation = np.std(preds[2], axis=0)\n",
    "    xsd_diameter = np.std(preds[3], axis=0)\n",
    "    \n",
    "    centroids = patient_array['cents']\n",
    "    shape = patient_array['shape']\n",
    "    normalized_locs = centroids.astype('float32') / shape.astype('float32')\n",
    "    \n",
    "    feats = (np.concatenate([xmax_malig,xmax_spiculation,xmax_lobulation,xmax_diameter,\\\n",
    "               xsd_malig,xsd_spiculation,xmax_lobulation,xsd_diameter,\\\n",
    "               normalized_locs[ixs],normalized_locs.std(axis=0)]))        \n",
    "    return feats\n",
    "\n",
    "\n",
    "def score_model(PATH_MODEL,PATH_VOXELS, file_name):\n",
    "    \n",
    "    model = load_model(PATH_MODEL)\n",
    "    \n",
    "    start = time.time()\n",
    "    patients = [f for f in os.listdir(PATH_VOXELS)]\n",
    "    print (\"patient numbers: \", len(patients))\n",
    "\n",
    "    all_features = []\n",
    "    for num, patient in enumerate(patients):\n",
    "        feats = feature_vect(model,PATH_VOXELS, patient)\n",
    "        all_features.append(feats)\n",
    "        X = np.stack(all_features)\n",
    "        if num%50==0:\n",
    "            print (\"\\nPatient %4d:\" %num, patient[:-4])\n",
    "            print (\"\\tIt took %d seconds\"%(time.time()-start))\n",
    "\n",
    "    col=['max_malig','max_spiculation','max_lobulation','max_diameter',\\\n",
    "         'xsd_malig', 'xsd_spiculation', 'xsd_lobulation','xsd_diameter',\\\n",
    "         'loc_from_malig_x','loc_from_malig_y','loc_from_malig_z','std_locs_x','std_locs_y','std_locs_z',]\n",
    "    df = pd.DataFrame(data=X,index=patients, columns=col)\n",
    "    df.to_csv(file_name + '.csv')\n",
    "    print (\"It took %d seconds\"%(time.time()-start))"
   ]
  },
  {
   "cell_type": "code",
   "execution_count": 4,
   "metadata": {
    "collapsed": false
   },
   "outputs": [],
   "source": [
    "def get_feature_matrix(model_num, stage_num):\n",
    "    PATH_MODEL = \"../Models/LUNA_model_v2_%d.h5\"%(model_num)\n",
    "    PATH_VOXELS = '../../data/stage%d_voxels_mask/'%(stage_num)\n",
    "    file_name = 'feature_matrix_model%d_stage%d'%(model_num,stage_num)\n",
    "    score_model(PATH_MODEL,PATH_VOXELS, file_name)"
   ]
  },
  {
   "cell_type": "code",
   "execution_count": 5,
   "metadata": {
    "collapsed": true
   },
   "outputs": [],
   "source": [
    "def main():\n",
    "    get_feature_matrix(model_num=1,stage_num=1)\n",
    "    get_feature_matrix(model_num=1,stage_num=2)\n",
    "    get_feature_matrix(model_num=2,stage_num=1)\n",
    "    get_feature_matrix(model_num=2,stage_num=2)"
   ]
  },
  {
   "cell_type": "code",
   "execution_count": null,
   "metadata": {
    "collapsed": false,
    "scrolled": true
   },
   "outputs": [
    {
     "name": "stderr",
     "output_type": "stream",
     "text": [
      "/opt/anaconda/lib/python3.5/site-packages/keras/engine/topology.py:1206: UserWarning: The `Merge` layer is deprecated and will be removed after 08/2017. Use instead layers from `keras.layers.merge`, e.g. `add`, `concatenate`, etc.\n",
      "  return cls(**config)\n"
     ]
    },
    {
     "name": "stdout",
     "output_type": "stream",
     "text": [
      "patient numbers:  1434\n",
      "\n",
      "Patient    0: d777a77cc7a2ec2f1eed68799cc9075c\n",
      "\tIt took 62 seconds\n",
      "\n",
      "Patient  150: 573a661e2d784f9385a3b78c9757ddad\n",
      "\tIt took 8372 seconds\n",
      "\n",
      "Patient  200: e5cf847e616cc2fe94816ffa547d2614\n",
      "\tIt took 10230 seconds\n",
      "\n",
      "Patient  250: b4581f4f4cad292b5a013d35d1c39f24\n",
      "\tIt took 12845 seconds\n",
      "\n",
      "Patient  300: aa594c8968f06fcf374e76bc9a375477\n",
      "\tIt took 15830 seconds\n",
      "\n",
      "Patient  350: 6cb2908fd789700db727dd96526bc342\n",
      "\tIt took 18982 seconds\n",
      "\n",
      "Patient  400: fb52dd8152e53a4ca7da5403d6d0db13\n",
      "\tIt took 21878 seconds\n",
      "\n",
      "Patient  450: 31c090cf66ec7bf090801d14d63199b5\n",
      "\tIt took 24626 seconds\n",
      "\n",
      "Patient  500: 4d7df08f074b221eec6311c2617a5ba8\n",
      "\tIt took 26707 seconds\n",
      "\n",
      "Patient  550: 58e4646cbead2fc4a6a1f86bf806e76f\n",
      "\tIt took 28188 seconds\n",
      "\n",
      "Patient  600: c8a82a4e7e76702f5f10ece6508f2bbe\n",
      "\tIt took 29706 seconds\n",
      "\n",
      "Patient  650: be2be08151ef4d3aebd3ea4fcd5d364b\n",
      "\tIt took 31214 seconds\n",
      "\n",
      "Patient  700: f82560aeea0309873716efe3aa71ef0a\n",
      "\tIt took 32712 seconds\n",
      "\n",
      "Patient  750: 53ddfb7769619035ad7f8f58c72f697c\n",
      "\tIt took 34253 seconds\n",
      "\n",
      "Patient  800: 25c1c4f008e8addc4d386cab58815052\n",
      "\tIt took 35757 seconds\n",
      "\n",
      "Patient  850: b6687898fe385b68d5ae341419ef3fdd\n",
      "\tIt took 37220 seconds\n",
      "\n",
      "Patient  900: 380eb569a5750648434cc8ae8da4a0a9\n",
      "\tIt took 38671 seconds\n",
      "\n",
      "Patient  950: b635cda3e75b4b7238c18c6a5f1858f6\n",
      "\tIt took 40093 seconds\n",
      "\n",
      "Patient 1000: bc28807c545959c0e6e2708067201caa\n",
      "\tIt took 41520 seconds\n",
      "\n",
      "Patient 1050: 538543b57d0c8fa0b2b6bb7c84df3f33\n",
      "\tIt took 42938 seconds\n",
      "\n",
      "Patient 1100: 122c5c959fd98036c9972eec2062dc59\n",
      "\tIt took 44367 seconds\n",
      "\n",
      "Patient 1150: 4062f1ad138218af5a3dfa3186d2afe1\n",
      "\tIt took 45888 seconds\n",
      "\n",
      "Patient 1200: 5d240c6a6d3009e61cb09ce49f641b4c\n",
      "\tIt took 47330 seconds\n",
      "\n",
      "Patient 1250: aa528ce110f888679a4027513aeb442b\n",
      "\tIt took 48818 seconds\n",
      "\n",
      "Patient 1300: 3a78dcf53effd732bc3880c029154272\n",
      "\tIt took 50244 seconds\n",
      "\n",
      "Patient 1400: 7395f64fba89c2463a1b13c400adf876\n",
      "\tIt took 53054 seconds\n",
      "It took 53946 seconds\n"
     ]
    }
   ],
   "source": [
    "get_feature_matrix(2,1)"
   ]
  },
  {
   "cell_type": "markdown",
   "metadata": {
    "collapsed": true
   },
   "source": [
    "400 patients  at 02:39 am"
   ]
  },
  {
   "cell_type": "code",
   "execution_count": null,
   "metadata": {
    "collapsed": true
   },
   "outputs": [],
   "source": []
  }
 ],
 "metadata": {
  "kernelspec": {
   "display_name": "Python [default]",
   "language": "python",
   "name": "python3"
  },
  "language_info": {
   "codemirror_mode": {
    "name": "ipython",
    "version": 3
   },
   "file_extension": ".py",
   "mimetype": "text/x-python",
   "name": "python",
   "nbconvert_exporter": "python",
   "pygments_lexer": "ipython3",
   "version": "3.5.2"
  }
 },
 "nbformat": 4,
 "nbformat_minor": 2
}
