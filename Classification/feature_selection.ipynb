{
 "cells": [
  {
   "cell_type": "markdown",
   "metadata": {},
   "source": [
    "https://github.com/dhammack/DSB2017/blob/master/scoring_code/score_ensemble2_final.py\n",
    "\n",
    "Danniel applied data augmentation here, and he actually compute the max, and std on-line. But location features is computed from the Top_voxels files. "
   ]
  },
  {
   "cell_type": "code",
   "execution_count": 112,
   "metadata": {
    "collapsed": true
   },
   "outputs": [],
   "source": [
    "import numpy as np\n",
    "import pandas as pd\n",
    "import os"
   ]
  },
  {
   "cell_type": "code",
   "execution_count": 133,
   "metadata": {
    "collapsed": false
   },
   "outputs": [
    {
     "name": "stdout",
     "output_type": "stream",
     "text": [
      "patient numbers:  1434\n"
     ]
    }
   ],
   "source": [
    "PATH_RAW_ARRAY = \"../../data/stage1_arrays/\"\n",
    "PATH_VOXELS = \"../../data/stage1_TOP_voxels/\"\n",
    "\n",
    "patients = [f[4:] for f in os.listdir(PATH_VOXELS) if 'vox_' in f ]\n",
    "print (\"patient numbers: \", len(patients) )    "
   ]
  },
  {
   "cell_type": "code",
   "execution_count": 134,
   "metadata": {
    "collapsed": false,
    "scrolled": false
   },
   "outputs": [
    {
     "name": "stdout",
     "output_type": "stream",
     "text": [
      "Patient: d1a20ef45bb03f93a407b492066f6d88\n",
      "Patient: 13bb12b3b27d5a7b4b142503a1ae9e73\n",
      "Patient: 8c63c8ebd684911de92509a8a703d567\n",
      "Patient: caddd8f856b110ed9bb52872e003193f\n",
      "Patient: fc545aa2f58509dc6d81ef02130b6906\n",
      "Patient: c6b722b00948587dd89a548f9639f447\n",
      "Patient: 064366faa1a83fdcb18b2538f1717290\n",
      "Patient: 6be677ba1631174397b0c1e26a46af30\n"
     ]
    }
   ],
   "source": [
    "from sklearn.cluster import DBSCAN\n",
    "max_ct_count = []\n",
    "all_features = []\n",
    "for num, patient in enumerate(patients):\n",
    "    patient_vox = np.load(os.path.join(PATH_VOXELS, 'vox_' + patient))      #voxels[filter]\n",
    "    patient_locs = np.load(os.path.join(PATH_VOXELS, 'cents_' + patient))   #locations[filter]\n",
    "    patient_sizes = np.load(os.path.join(PATH_VOXELS, 'shapes_' + patient)) #sizes[filter]\n",
    "    patient_nodule_preds = np.load(os.path.join(PATH_VOXELS, 'preds_' + patient))\n",
    "    max_ct_count.append(len(patient_nodule_preds[0,:]))\n",
    "    \n",
    "    xmax = np.max(patient_nodule_preds[0], axis=0)\n",
    "    xsd = np.std(patient_nodule_preds[0], axis=0)\n",
    "#     print (\"max malignancy:\", xmax)\n",
    "#     print (\"malignancy std:\", xsd)\n",
    "    \n",
    "    normalized_locs = patient_locs.astype('float32') / patient_sizes.astype('float32')\n",
    "#     print (normalized_locs)\n",
    "    loc_from_malig = normalized_locs[ np.argmax(patient_nodule_preds[0],axis=0 )]\n",
    "#     print (\"normalized location from malig:\", loc_from_malig)\n",
    "    \n",
    "    dist_mat = np.zeros((patient_locs.shape[0], patient_locs.shape[0]))\n",
    "    for i,loc_a in enumerate(patient_locs):\n",
    "        for j,loc_b in enumerate(patient_locs):\n",
    "            dist_mat[i,j] = np.mean(np.abs(loc_a - loc_b))\n",
    "#     print (dist_mat)\n",
    "\n",
    "    dbs = DBSCAN(eps=60, min_samples=2, metric='precomputed', leaf_size=2).fit(dist_mat)\n",
    "    num_clusters = np.max(dbs.labels_) + 1\n",
    "    num_noise = (dbs.labels_ == -1).sum()\n",
    "#     print (\" num_clusters\", num_clusters, \"\\tnum_noise:\", num_noise)\n",
    "    \n",
    "    #new feature: sum of malig_scores but normalizing by cluster.\n",
    "    cluster_avgs = []\n",
    "    for clusternum in range(num_clusters):\n",
    "        cluster_avgs.append( patient_nodule_preds[0][dbs.labels_ == clusternum].mean())\n",
    "\n",
    "    #now get the -1's\n",
    "    for i,(clusterix,malig) in enumerate(zip(dbs.labels_,patient_nodule_preds[0])):\n",
    "        if clusterix == -1:\n",
    "            cluster_avgs.append(malig)\n",
    "\n",
    "    weighted_sum_malig = np.sum(cluster_avgs)\n",
    "    weighted_mean_malig = np.mean(cluster_avgs)\n",
    "\n",
    "    #size of biggest cluster\n",
    "    sizes = np.bincount(dbs.labels_[dbs.labels_ > 0])\n",
    "    if len(sizes) > 0:\n",
    "        maxsize = np.max(sizes)\n",
    "    else:\n",
    "        maxsize = 1\n",
    "    n_nodules = float(patient_locs.shape[0])\n",
    "    feats = (np.concatenate([(xmax, xsd),loc_from_malig, \\\n",
    "                           normalized_locs.std(axis=0), \\\n",
    "                           [float(num_clusters) / n_nodules, \\\n",
    "                            float(num_noise) / n_nodules, \\\n",
    "                            weighted_mean_malig, \\\n",
    "                            float(maxsize) / n_nodules]]))\n",
    "    all_features.append(feats)\n",
    "    X = np.stack(all_features)\n",
    "    if num%200==0:\n",
    "        print (\"Patient:\", patient[:-4])\n",
    "#         print (feats)\n",
    "\n",
    "col=['max_malig', 'malig_xstd', 'locs_x', 'locs_y','locs_z', \n",
    "     'norm_locs_x','norm_locs_y','norm_locs_z','norm_#cluster',\n",
    "     'norm_#noise','weighted_mean_malig', 'norm_maxsize' ]\n",
    "\n",
    "df = pd.DataFrame(data=X,index=patients, columns=col)\n",
    "df.to_csv('./model_v24_feature_matrix.csv')\n",
    "\n",
    "# print (max_ct_count)"
   ]
  },
  {
   "cell_type": "code",
   "execution_count": 135,
   "metadata": {
    "collapsed": false
   },
   "outputs": [
    {
     "name": "stdout",
     "output_type": "stream",
     "text": [
      "(1434, 14)\n"
     ]
    },
    {
     "data": {
      "text/html": [
       "<div>\n",
       "<table border=\"1\" class=\"dataframe\">\n",
       "  <thead>\n",
       "    <tr style=\"text-align: right;\">\n",
       "      <th></th>\n",
       "      <th>Unnamed: 0</th>\n",
       "      <th>max_malig</th>\n",
       "      <th>malig_xstd</th>\n",
       "      <th>locs_x</th>\n",
       "      <th>locs_y</th>\n",
       "      <th>locs_z</th>\n",
       "      <th>norm_locs_x</th>\n",
       "      <th>norm_locs_y</th>\n",
       "      <th>norm_locs_z</th>\n",
       "      <th>norm_#cluster</th>\n",
       "      <th>norm_#noise</th>\n",
       "      <th>weighted_mean_malig</th>\n",
       "      <th>norm_maxsize</th>\n",
       "      <th>id</th>\n",
       "    </tr>\n",
       "  </thead>\n",
       "  <tbody>\n",
       "    <tr>\n",
       "      <th>0</th>\n",
       "      <td>d1a20ef45bb03f93a407b492066f6d88.npy</td>\n",
       "      <td>0.678586</td>\n",
       "      <td>0.044287</td>\n",
       "      <td>0.225455</td>\n",
       "      <td>0.733645</td>\n",
       "      <td>0.554348</td>\n",
       "      <td>0.280260</td>\n",
       "      <td>0.148801</td>\n",
       "      <td>0.175844</td>\n",
       "      <td>0.02</td>\n",
       "      <td>0.0</td>\n",
       "      <td>0.543014</td>\n",
       "      <td>0.02</td>\n",
       "      <td>d1a20ef45bb03f93a407b492066f6d88</td>\n",
       "    </tr>\n",
       "    <tr>\n",
       "      <th>1</th>\n",
       "      <td>de4d3724030397e71d2ac2ab16df5fba.npy</td>\n",
       "      <td>0.661753</td>\n",
       "      <td>0.044759</td>\n",
       "      <td>0.091954</td>\n",
       "      <td>0.261062</td>\n",
       "      <td>0.602374</td>\n",
       "      <td>0.277809</td>\n",
       "      <td>0.176895</td>\n",
       "      <td>0.214705</td>\n",
       "      <td>0.02</td>\n",
       "      <td>0.0</td>\n",
       "      <td>0.529888</td>\n",
       "      <td>0.02</td>\n",
       "      <td>de4d3724030397e71d2ac2ab16df5fba</td>\n",
       "    </tr>\n",
       "    <tr>\n",
       "      <th>2</th>\n",
       "      <td>b4db5b96c65a668a2e63f9a3ed36afe7.npy</td>\n",
       "      <td>0.704852</td>\n",
       "      <td>0.052498</td>\n",
       "      <td>0.338290</td>\n",
       "      <td>0.618605</td>\n",
       "      <td>0.376033</td>\n",
       "      <td>0.201939</td>\n",
       "      <td>0.208565</td>\n",
       "      <td>0.224917</td>\n",
       "      <td>0.02</td>\n",
       "      <td>0.0</td>\n",
       "      <td>0.558471</td>\n",
       "      <td>0.02</td>\n",
       "      <td>b4db5b96c65a668a2e63f9a3ed36afe7</td>\n",
       "    </tr>\n",
       "    <tr>\n",
       "      <th>3</th>\n",
       "      <td>9d44fcc8ab801ac9244da4c016d0541e.npy</td>\n",
       "      <td>0.714538</td>\n",
       "      <td>0.039932</td>\n",
       "      <td>0.398230</td>\n",
       "      <td>0.445736</td>\n",
       "      <td>0.497925</td>\n",
       "      <td>0.247482</td>\n",
       "      <td>0.134158</td>\n",
       "      <td>0.196216</td>\n",
       "      <td>0.02</td>\n",
       "      <td>0.0</td>\n",
       "      <td>0.597992</td>\n",
       "      <td>0.02</td>\n",
       "      <td>9d44fcc8ab801ac9244da4c016d0541e</td>\n",
       "    </tr>\n",
       "    <tr>\n",
       "      <th>4</th>\n",
       "      <td>29a2105c99e7677c30c7fd0b2edb9fcd.npy</td>\n",
       "      <td>0.677024</td>\n",
       "      <td>0.042259</td>\n",
       "      <td>0.333333</td>\n",
       "      <td>0.725888</td>\n",
       "      <td>0.876923</td>\n",
       "      <td>0.275379</td>\n",
       "      <td>0.161950</td>\n",
       "      <td>0.189991</td>\n",
       "      <td>0.02</td>\n",
       "      <td>0.0</td>\n",
       "      <td>0.547139</td>\n",
       "      <td>0.02</td>\n",
       "      <td>29a2105c99e7677c30c7fd0b2edb9fcd</td>\n",
       "    </tr>\n",
       "  </tbody>\n",
       "</table>\n",
       "</div>"
      ],
      "text/plain": [
       "                             Unnamed: 0  max_malig  malig_xstd    locs_x  \\\n",
       "0  d1a20ef45bb03f93a407b492066f6d88.npy   0.678586    0.044287  0.225455   \n",
       "1  de4d3724030397e71d2ac2ab16df5fba.npy   0.661753    0.044759  0.091954   \n",
       "2  b4db5b96c65a668a2e63f9a3ed36afe7.npy   0.704852    0.052498  0.338290   \n",
       "3  9d44fcc8ab801ac9244da4c016d0541e.npy   0.714538    0.039932  0.398230   \n",
       "4  29a2105c99e7677c30c7fd0b2edb9fcd.npy   0.677024    0.042259  0.333333   \n",
       "\n",
       "     locs_y    locs_z  norm_locs_x  norm_locs_y  norm_locs_z  norm_#cluster  \\\n",
       "0  0.733645  0.554348     0.280260     0.148801     0.175844           0.02   \n",
       "1  0.261062  0.602374     0.277809     0.176895     0.214705           0.02   \n",
       "2  0.618605  0.376033     0.201939     0.208565     0.224917           0.02   \n",
       "3  0.445736  0.497925     0.247482     0.134158     0.196216           0.02   \n",
       "4  0.725888  0.876923     0.275379     0.161950     0.189991           0.02   \n",
       "\n",
       "   norm_#noise  weighted_mean_malig  norm_maxsize  \\\n",
       "0          0.0             0.543014          0.02   \n",
       "1          0.0             0.529888          0.02   \n",
       "2          0.0             0.558471          0.02   \n",
       "3          0.0             0.597992          0.02   \n",
       "4          0.0             0.547139          0.02   \n",
       "\n",
       "                                 id  \n",
       "0  d1a20ef45bb03f93a407b492066f6d88  \n",
       "1  de4d3724030397e71d2ac2ab16df5fba  \n",
       "2  b4db5b96c65a668a2e63f9a3ed36afe7  \n",
       "3  9d44fcc8ab801ac9244da4c016d0541e  \n",
       "4  29a2105c99e7677c30c7fd0b2edb9fcd  "
      ]
     },
     "execution_count": 135,
     "metadata": {},
     "output_type": "execute_result"
    }
   ],
   "source": [
    "df_feature = pd.read_csv('model_v24_feature_matrix.csv')\n",
    "df_feature['id'] = df_feature['Unnamed: 0'].apply(lambda x: x.split('.')[0])\n",
    "print (df_feature.shape)\n",
    "df_feature.head()"
   ]
  },
  {
   "cell_type": "code",
   "execution_count": null,
   "metadata": {
    "collapsed": true
   },
   "outputs": [],
   "source": []
  }
 ],
 "metadata": {
  "kernelspec": {
   "display_name": "Python [default]",
   "language": "python",
   "name": "python3"
  },
  "language_info": {
   "codemirror_mode": {
    "name": "ipython",
    "version": 3
   },
   "file_extension": ".py",
   "mimetype": "text/x-python",
   "name": "python",
   "nbconvert_exporter": "python",
   "pygments_lexer": "ipython3",
   "version": "3.5.2"
  }
 },
 "nbformat": 4,
 "nbformat_minor": 2
}
