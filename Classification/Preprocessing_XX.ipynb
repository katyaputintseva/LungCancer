{
 "cells": [
  {
   "cell_type": "code",
   "execution_count": 2,
   "metadata": {
    "collapsed": false
   },
   "outputs": [],
   "source": [
    "%matplotlib inline\n",
    "\n",
    "import numpy as np # linear algebra\n",
    "import pandas as pd # data processing, CSV file I/O (e.g. pd.read_csv)\n",
    "import dicom\n",
    "import os\n",
    "import scipy.ndimage\n",
    "import matplotlib.pyplot as plt\n",
    "\n",
    "from skimage import measure, morphology\n",
    "from mpl_toolkits.mplot3d.art3d import Poly3DCollection\n",
    "\n",
    "# Some constants \n",
    "INPUT_FOLDER = '/home/lin/data/stage1/'\n",
    "patients = os.listdir(INPUT_FOLDER)\n",
    "patients.sort()\n",
    "labels = pd.read_csv('/home/lin/data/stage1_labels.csv', index_col=0)"
   ]
  },
  {
   "cell_type": "markdown",
   "metadata": {},
   "source": [
    "# Loading Scans"
   ]
  },
  {
   "cell_type": "code",
   "execution_count": 3,
   "metadata": {
    "collapsed": true
   },
   "outputs": [],
   "source": [
    "# Load the scans in given folder path\n",
    "\n",
    "def load_scan(path):\n",
    "    slices = [dicom.read_file(path + '/' + s) for s in os.listdir(path)]\n",
    "    slices.sort(key = lambda x: float(x.ImagePositionPatient[2]))\n",
    "    try:\n",
    "        slice_thickness = np.abs(slices[0].ImagePositionPatient[2] - slices[1].ImagePositionPatient[2])\n",
    "    except:\n",
    "        slice_thickness = np.abs(slices[0].SliceLocation - slices[1].SliceLocation)\n",
    "        \n",
    "    for s in slices:\n",
    "        s.SliceThickness = slice_thickness\n",
    "        \n",
    "    return slices"
   ]
  },
  {
   "cell_type": "code",
   "execution_count": 4,
   "metadata": {
    "collapsed": true
   },
   "outputs": [],
   "source": [
    "def get_pixels_hu(slices):\n",
    "    image = np.stack([s.pixel_array for s in slices])\n",
    "    # Convert to int16 (from sometimes int16), \n",
    "    # should be possible as values should always be low enough (<32k)\n",
    "    image = image.astype(np.int16)\n",
    "\n",
    "    # Set outside-of-scan pixels to 0\n",
    "    # The intercept is usually -1024, so air is approximately 0\n",
    "    image[image == -2000] = 0\n",
    "    \n",
    "    # Convert to Hounsfield units (HU)\n",
    "    for slice_number in range(len(slices)):\n",
    "        \n",
    "        intercept = slices[slice_number].RescaleIntercept\n",
    "        slope = slices[slice_number].RescaleSlope\n",
    "        \n",
    "        if slope != 1:\n",
    "            image[slice_number] = slope * image[slice_number].astype(np.float64)\n",
    "            image[slice_number] = image[slice_number].astype(np.int16)\n",
    "            \n",
    "        image[slice_number] += np.int16(intercept)\n",
    "    \n",
    "    return np.array(image, dtype=np.int16)"
   ]
  },
  {
   "cell_type": "markdown",
   "metadata": {},
   "source": [
    "# Resampling"
   ]
  },
  {
   "cell_type": "code",
   "execution_count": 5,
   "metadata": {
    "collapsed": true
   },
   "outputs": [],
   "source": [
    "def resample(image, scan, new_spacing=[1,1,1]):\n",
    "    # Determine current pixel spacing\n",
    "    spacing = np.array([scan[0].SliceThickness] + scan[0].PixelSpacing, dtype=np.float32)\n",
    "    resize_factor = spacing / new_spacing\n",
    "    new_real_shape = image.shape * resize_factor\n",
    "    new_shape = np.round(new_real_shape)\n",
    "    real_resize_factor = new_shape / image.shape\n",
    "    new_spacing = spacing / real_resize_factor\n",
    "    \n",
    "    image = scipy.ndimage.interpolation.zoom(image, real_resize_factor, mode='nearest')\n",
    "#     print (spacing, new_spacing)\n",
    "    return image, new_spacing"
   ]
  },
  {
   "cell_type": "markdown",
   "metadata": {},
   "source": [
    "# Masking"
   ]
  },
  {
   "cell_type": "code",
   "execution_count": 6,
   "metadata": {
    "collapsed": true
   },
   "outputs": [],
   "source": [
    "def largest_label_volume(im, bg=-1):\n",
    "    vals, counts = np.unique(im, return_counts=True)\n",
    "\n",
    "    counts = counts[vals != bg]\n",
    "    vals = vals[vals != bg]\n",
    "\n",
    "    if len(counts) > 0:\n",
    "        return vals[np.argmax(counts)]\n",
    "    else:\n",
    "        return None\n",
    "\n",
    "def segment_lung_mask(image, fill_lung_structures=True):\n",
    "    \n",
    "    # not actually binary, but 1 and 2. \n",
    "    # 0 is treated as background, which we do not want\n",
    "    binary_image = np.array(image > -320, dtype=np.int8)+1\n",
    "    labels = measure.label(binary_image)\n",
    "    \n",
    "    # Pick the pixel in the very corner to determine which label is air.\n",
    "    #   Improvement: Pick multiple background labels from around the patient\n",
    "    #   More resistant to \"trays\" on which the patient lays cutting the air \n",
    "    #   around the person in half\n",
    "    background_label = labels[0,0,0]\n",
    "    \n",
    "    #Fill the air around the person\n",
    "    binary_image[background_label == labels] = 2\n",
    "    \n",
    "    \n",
    "    # Method of filling the lung structures (that is superior to something like \n",
    "    # morphological closing)\n",
    "    if fill_lung_structures:\n",
    "        # For every slice we determine the largest solid structure\n",
    "        for i, axial_slice in enumerate(binary_image):\n",
    "            axial_slice = axial_slice - 1\n",
    "            labeling = measure.label(axial_slice)\n",
    "            l_max = largest_label_volume(labeling, bg=0)\n",
    "            \n",
    "            if l_max is not None: #This slice contains some lung\n",
    "                binary_image[i][labeling != l_max] = 1\n",
    "\n",
    "    \n",
    "    binary_image -= 1 #Make the image actual binary\n",
    "    binary_image = 1-binary_image # Invert it, lungs are now 1\n",
    "    \n",
    "    # Remove other air pockets insided body\n",
    "    labels = measure.label(binary_image, background=0)\n",
    "    l_max = largest_label_volume(labels, bg=0)\n",
    "    if l_max is not None: # There are air pockets\n",
    "        binary_image[labels != l_max] = 0\n",
    " \n",
    "    return binary_image"
   ]
  },
  {
   "cell_type": "markdown",
   "metadata": {},
   "source": [
    "# Segmenting"
   ]
  },
  {
   "cell_type": "code",
   "execution_count": 8,
   "metadata": {
    "collapsed": true
   },
   "outputs": [],
   "source": [
    "# sum_z = np.array([plane.sum() for plane in segmented_lungs_fill])  \n",
    "# sum_z = np.sum(np.sum(segmented_lungs_fill, axis=-1), axis=-1) # 3dArray[i, k, :]\n",
    "# sum_z = segmented_lungs_fill.sum(-1).sum(-1)\n",
    "\n",
    "def chopping_zero_plane(cube):\n",
    "    cube_reduced=[]\n",
    "    for plane in cube:\n",
    "        if plane.sum()!=0:\n",
    "            cube_reduced.append(plane)\n",
    "    cube_reduced = np.array(cube_reduced)\n",
    "#     print (cube_reduced.shape)\n",
    "    return cube_reduced\n",
    "    \n",
    "    \n",
    "def segmentation(segmented_lungs_fill): \n",
    "    chopped_z_direction = chopping_zero_plane(segmented_lungs_fill)\n",
    "    chopped_z_direction = np.rot90(chopped_z_direction, 1, (0,2))\n",
    "    chopped_y_direction = chopping_zero_plane(chopped_z_direction)\n",
    "    chopped_y_direction = np.rot90(chopped_y_direction, 1, (0,1))  \n",
    "    chopped_x_direction = chopping_zero_plane(chopped_y_direction)\n",
    "    chopped_x_direction = np.rot90(chopped_x_direction, 3, (0,1))\n",
    "    chopped_x_direction = np.rot90(chopped_x_direction, 3, (0,2))\n",
    "#     print (\"Segmented lung shape\", chopped_x_direction.shape)\n",
    "    \n",
    "    return chopped_x_direction"
   ]
  },
  {
   "cell_type": "markdown",
   "metadata": {},
   "source": [
    "# Resizing"
   ]
  },
  {
   "cell_type": "code",
   "execution_count": 9,
   "metadata": {
    "collapsed": true
   },
   "outputs": [],
   "source": [
    "def resize(max_dim, seg_lung):\n",
    "    max_z, max_x, max_y = map(int, max_dim)\n",
    "    z,x,y = seg_lung.shape\n",
    "#     print (\"Segmented lung dim\", seg_lung.shape)\n",
    "    \n",
    "    if max_x-x>0:\n",
    "        zeros_volum = np.ones((z,max_x-x,y))*(-1000)\n",
    "        seg_lung = np.concatenate((seg_lung, zeros_volum), axis=1)\n",
    "        z,x,y = seg_lung.shape\n",
    "        \n",
    "    if max_y-y>0:\n",
    "        zeros_volum = np.ones((z,x,max_y-y))*(-1000)\n",
    "        seg_lung = np.concatenate((seg_lung, zeros_volum), axis=2)\n",
    "        z,x,y = seg_lung.shape\n",
    "            \n",
    "    if max_z-z>0:\n",
    "        zeros_volum = np.ones((max_z-z,x,y))*(-1000)\n",
    "        seg_lung = np.concatenate((seg_lung, zeros_volum), axis=0)\n",
    "        z,x,y = seg_lung.shape\n",
    "#     print (\"Resized lung dim  \", seg_lung.shape)\n",
    "    return seg_lung"
   ]
  },
  {
   "cell_type": "markdown",
   "metadata": {},
   "source": [
    "# Plotting"
   ]
  },
  {
   "cell_type": "code",
   "execution_count": 11,
   "metadata": {
    "collapsed": true
   },
   "outputs": [],
   "source": [
    "def plot_3d(image, threshold=-300):\n",
    "    \n",
    "    # Position the scan upright, \n",
    "    # so the head of the patient would be at the top facing the camera\n",
    "    p = image.transpose(2,1,0)\n",
    "    \n",
    "    verts, faces, _, _ = measure.marching_cubes(p, threshold)\n",
    "\n",
    "    fig = plt.figure(figsize=(10, 10))\n",
    "    ax = fig.add_subplot(111, projection='3d')\n",
    "\n",
    "    # Fancy indexing: `verts[faces]` to generate a collection of triangles\n",
    "    mesh = Poly3DCollection(verts[faces], alpha=0.30)\n",
    "    face_color = [0.45, 0.45, 0.75]\n",
    "    mesh.set_facecolor(face_color)\n",
    "    ax.add_collection3d(mesh)\n",
    "\n",
    "    ax.set_xlim(0, p.shape[0])\n",
    "    ax.set_ylim(0, p.shape[1])\n",
    "    ax.set_zlim(0, p.shape[2])\n",
    "\n",
    "    plt.show()"
   ]
  },
  {
   "cell_type": "markdown",
   "metadata": {},
   "source": [
    "# Generating the final file"
   ]
  },
  {
   "cell_type": "code",
   "execution_count": null,
   "metadata": {
    "collapsed": true
   },
   "outputs": [],
   "source": [
    "print ('Loading scans..')\n",
    "\n",
    "# patientDict = {}\n",
    "# patientPixelsDict = {}\n",
    "pixSegmentedDict = {}\n",
    "max_dim = np.zeros(3)\n",
    "\n",
    "for num,patient in enumerate(patients):\n",
    "    num+=1\n",
    "    if num%100==0:\n",
    "        print (\"loaded patient numbers:\",num)\n",
    "\n",
    "    scan = load_scan(INPUT_FOLDER + patient)\n",
    "    pixSegmentedDict[patient] = get_pixels_hu(scan)\n",
    "    \n",
    "    pixSegmentedDict[patient] = segment_lung_mask(pixSegmentedDict[patient], fill_lung_structures=True)\n",
    "    pixSegmentedDict[patient],_ = resample(pixSegmentedDict[patient], scan, [3,3,3])\n",
    "    pixSegmentedDict[patient] = segmentation(pixSegmentedDict[patient])\n",
    "    for i in range(3):\n",
    "        if pixSegmentedDict[patient].shape[i]>max_dim[i]:\n",
    "            max_dim[i]=pixSegmentedDict[patient].shape[i]\n",
    "            \n",
    "print (\"\\nmaxim dimension for segmentation is\", max_dim)"
   ]
  },
  {
   "cell_type": "code",
   "execution_count": null,
   "metadata": {
    "collapsed": true
   },
   "outputs": [],
   "source": [
    "for num,patient in enumerate(patients):\n",
    "    num +=1\n",
    "    if num %100 ==0:\n",
    "        print (\"loaded patient numbers:\", num)\n",
    "    pixSegmentedDict[patient] = resize(max_dim, pixSegmentedDict[patient])\n",
    "    \n",
    "np.save('/home/lin/Kernels_from_Kaggle/Preprocessed_data/much_data.npy', pixSegmentedDict)"
   ]
  },
  {
   "cell_type": "code",
   "execution_count": null,
   "metadata": {
    "collapsed": true
   },
   "outputs": [],
   "source": []
  }
 ],
 "metadata": {
  "kernelspec": {
   "display_name": "Python [conda root]",
   "language": "python",
   "name": "conda-root-py"
  },
  "language_info": {
   "codemirror_mode": {
    "name": "ipython",
    "version": 3
   },
   "file_extension": ".py",
   "mimetype": "text/x-python",
   "name": "python",
   "nbconvert_exporter": "python",
   "pygments_lexer": "ipython3",
   "version": "3.5.2"
  }
 },
 "nbformat": 4,
 "nbformat_minor": 2
}
