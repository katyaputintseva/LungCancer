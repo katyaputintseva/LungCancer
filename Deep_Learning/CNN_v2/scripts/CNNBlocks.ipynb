{
 "cells": [
  {
   "cell_type": "code",
   "execution_count": 1,
   "metadata": {
    "collapsed": false
   },
   "outputs": [
    {
     "name": "stderr",
     "output_type": "stream",
     "text": [
      "Using TensorFlow backend.\n"
     ]
    }
   ],
   "source": [
    "import os\n",
    "import pandas as pd\n",
    "import numpy as np\n",
    "\n",
    "from keras.models import Model, load_model\n",
    "from keras.layers import Dense, Activation, Dropout\n",
    "from keras.layers.convolutional import Conv3D\n",
    "from keras.layers.pooling import MaxPooling3D\n",
    "from keras.layers.normalization import BatchNormalization\n",
    "from keras.layers.noise import GaussianDropout\n",
    "from keras.optimizers import Adamax, Adam, Nadam\n",
    "from keras.layers.advanced_activations import ELU,PReLU,LeakyReLU\n",
    "from keras.activations import relu\n",
    "from keras.regularizers import l2"
   ]
  },
  {
   "cell_type": "code",
   "execution_count": 4,
   "metadata": {
    "collapsed": true
   },
   "outputs": [],
   "source": [
    "def convCNNBlock(x, nFilters, dropRate=0.0):\n",
    "    \n",
    "    xConv = Conv3D(nFilters, (3,3,3), \n",
    "                   border_mode='same', W_regularizer=l2(dropRate), \n",
    "                   data_format='channels_first')(x)\n",
    "    \n",
    "    xConv = BatchNormalization(axis=1)(xConv)\n",
    "    \n",
    "    xConv = Dropout(1e-2)(xConv)\n",
    "    xConv = LeakyReLU()(xConv)\n",
    "    \n",
    "    xConvPool = MaxPooling3D(dim_ordering=\"th\")(xConv)\n",
    "    \n",
    "    return xConvPool"
   ]
  },
  {
   "cell_type": "code",
   "execution_count": 3,
   "metadata": {
    "collapsed": true
   },
   "outputs": [],
   "source": [
    "def denseCNNBlock(x, name, outSize=1, activation='sigmoid', dropRate=0.0, neuronNumber=32):\n",
    "    \n",
    "    xDense = Dense(neuronNumber, W_regularizer=l2(dropRate))(x)\n",
    "    xDense = BatchNormalization()(xDense)\n",
    "    \n",
    "    xDense = Dropout(1e-2)(xDense)\n",
    "    xDense = LeakyReLU()(xDense)\n",
    "    \n",
    "    xDense = Dense(outSize, activation=activation, \n",
    "                   name=name, W_regularizer=l2(dropRate))(xDense)\n",
    "    \n",
    "    return xDense"
   ]
  },
  {
   "cell_type": "code",
   "execution_count": null,
   "metadata": {
    "collapsed": true
   },
   "outputs": [],
   "source": []
  }
 ],
 "metadata": {
  "kernelspec": {
   "display_name": "Python [conda root]",
   "language": "python",
   "name": "conda-root-py"
  },
  "language_info": {
   "codemirror_mode": {
    "name": "ipython",
    "version": 3
   },
   "file_extension": ".py",
   "mimetype": "text/x-python",
   "name": "python",
   "nbconvert_exporter": "python",
   "pygments_lexer": "ipython3",
   "version": "3.5.2"
  }
 },
 "nbformat": 4,
 "nbformat_minor": 2
}
