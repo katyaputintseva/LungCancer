{
 "cells": [
  {
   "cell_type": "code",
   "execution_count": 1,
   "metadata": {
    "collapsed": false
   },
   "outputs": [
    {
     "name": "stderr",
     "output_type": "stream",
     "text": [
      "Using TensorFlow backend.\n"
     ]
    }
   ],
   "source": [
    "from keras.layers.pooling import AveragePooling3D, GlobalMaxPooling3D\n",
    "from keras.layers import Input, merge, Activation, Dropout\n",
    "from keras.optimizers import Adamax, Adam, Nadam, sgd\n",
    "from keras.callbacks import ModelCheckpoint,ReduceLROnPlateau,LearningRateScheduler,EarlyStopping"
   ]
  },
  {
   "cell_type": "code",
   "execution_count": 4,
   "metadata": {
    "collapsed": true
   },
   "outputs": [],
   "source": [
    "def learningRateSchedule(epoch):\n",
    "    if epoch  < 2:\n",
    "        return 1e-2\n",
    "    if epoch < 5:\n",
    "        return 1e-3\n",
    "    if epoch < 10:\n",
    "        return 5e-4\n",
    "    return 5e-5"
   ]
  },
  {
   "cell_type": "code",
   "execution_count": 5,
   "metadata": {
    "collapsed": true
   },
   "outputs": [],
   "source": [
    "def compileModelDeepBranching(inputShape, regRate, dropRate):\n",
    "    \n",
    "    x = Input(inputShape)\n",
    "    \n",
    "    x1 = convCNNBlock(x, 8, dropRate=0, regRate=regRate)\n",
    "    x1Pool = AveragePooling3D(dim_ordering=\"th\")(x)\n",
    "    x1Merged = merge([x1, x1Pool], mode='concat', concat_axis=1)\n",
    "    \n",
    "    x2 = convCNNBlock(x1Merged, 24, dropRate=0, regRate=regRate)\n",
    "    x2Pool = AveragePooling3D(dim_ordering=\"th\")(x1Pool)\n",
    "    x2Merged = merge([x2, x2Pool], mode='concat', concat_axis=1)\n",
    "    \n",
    "    x3 = convCNNBlock(x2Merged, 48, dropRate=0, regRate=regRate)\n",
    "    x3Pool = AveragePooling3D(dim_ordering=\"th\")(x2Pool)\n",
    "    x3Merged = merge([x3,x3Pool], mode='concat', concat_axis=1)\n",
    "\n",
    "    x4 = convCNNBlock(x3Merged, 64, dropRate=0, regRate=regRate)\n",
    "    x4Pool = AveragePooling3D(dim_ordering=\"th\")(x3Pool)\n",
    "    x4Merged = merge([x4, x4Pool], mode='concat', concat_axis=1)\n",
    "    \n",
    "    \n",
    "    ###Malignancy###\n",
    "    x5Malig = convCNNBlock(x4Merged, 65, dropRate=0, regRate=regRate)\n",
    "    xMaxPoolMalig = GlobalMaxPooling3D()(x5Malig)\n",
    "    xMaxPoolNormMalig = BatchNormalization()(xMaxPoolMalig) \n",
    "    xMalig = denseCNNBlock(xMaxPoolNormMalig, name='Malignancy', \n",
    "                           outSize=1, activation='softplus', \n",
    "                           dropRate=dropRate, regRate=regRate)\n",
    "    \n",
    "    ###Diameter###\n",
    "    x5Diam = convCNNBlock(x4Merged, 65, dropRate=0, regRate=regRate)\n",
    "    xMaxPoolDiam = GlobalMaxPooling3D()(x5Diam)\n",
    "    xMaxPoolNormDiam = BatchNormalization()(xMaxPoolDiam) \n",
    "    xDiam = denseCNNBlock(xMaxPoolNormDiam, name='Diameter', \n",
    "                          outSize=1, activation='softplus', \n",
    "                          dropRate=dropRate, regRate=regRate)\n",
    "    \n",
    "    ###Lobulation###\n",
    "    x5Lob = convCNNBlock(x4Merged, 65, dropRate=0, regRate=regRate)\n",
    "    xMaxPoolLob = GlobalMaxPooling3D()(x5Lob)\n",
    "    xMaxPoolNormLob = BatchNormalization()(xMaxPoolLob) \n",
    "    xLob = denseCNNBlock(xMaxPoolNormLob, name='Lobulation', \n",
    "                         outSize=1, activation='softplus', \n",
    "                         dropRate=dropRate, regRate=regRate)\n",
    "    \n",
    "    ###Spiculation###\n",
    "    x5Spic = convCNNBlock(x4Merged, 65, dropRate=0, regRate=regRate)\n",
    "    xMaxPoolSpic = GlobalMaxPooling3D()(x5Spic)\n",
    "    xMaxPoolNormSpic = BatchNormalization()(xMaxPoolSpic) \n",
    "    xSpic = denseCNNBlock(xMaxPoolNormSpic, name='Spiculation', \n",
    "                          outSize=1, activation='softplus', \n",
    "                          dropRate=dropRate, regRate=regRate)\n",
    "\n",
    "    \n",
    "    model = Model(input=x, output=[xMalig, xDiam, xLob, xSpic])\n",
    "\n",
    "    opt = Nadam()\n",
    "#     opt = sgd(0.01, nesterov=True)\n",
    "    \n",
    "    print ('Compiling model...')\n",
    "    \n",
    "    model.compile(optimizer=opt,\n",
    "                  loss={'Malignancy':'mse', 'Diameter':'mse', 'Lobulation':'mse',\n",
    "                       'Spiculation':'mse'},\n",
    "                  loss_weights={'Malignancy':3, 'Diameter':1, 'Lobulation':1,\n",
    "                       'Spiculation':1})\n",
    "    \n",
    "    return model"
   ]
  },
  {
   "cell_type": "code",
   "execution_count": null,
   "metadata": {
    "collapsed": true
   },
   "outputs": [],
   "source": [
    "def randomFlips(Xbatch):\n",
    "    \n",
    "    swaps = np.random.choice([-1,1],size=(Xbatch.shape[0],3))\n",
    "    for i in range(Xbatch.shape[0]):\n",
    " \n",
    "        Xbatch[i] = Xbatch[i,::swaps[i,0],::swaps[i,1],::swaps[i,2]]\n",
    "        \n",
    "    return Xbatch"
   ]
  },
  {
   "cell_type": "code",
   "execution_count": 6,
   "metadata": {
    "collapsed": true
   },
   "outputs": [],
   "source": [
    "def trainRegressionModel(model, modelPath, modelPathClass, \n",
    "                         validInd, testSize=0.2, batchSize=10, \n",
    "                         nbEpoch=1, stepsPerEpoch=2, fp=False,\n",
    "                         posFraction=0.5):\n",
    "    \n",
    "\n",
    "    if fp==False:\n",
    "        trainGenerator = batchGeneratorRegression(xPosTrain,xNegTrain,\n",
    "                                        ixPosTrain,ixNegTrain,\n",
    "                                        batchSize=batchSize, \n",
    "                                        posFraction=posFraction, fp=False)\n",
    "        \n",
    "    else:\n",
    "        trainGenerator = batchGeneratorRegression(xPosTrain, xNegTrain,\n",
    "                                ixPosTrain, ixNegTrain,\n",
    "                                batchSize=batchSize,\n",
    "                                xFP=xFP, ixFP=ixFP, \n",
    "                                posFraction=posFraction, fp=True)\n",
    "\n",
    "    validGenerator = batchGeneratorRegression(xPosValid,xNegValid,\n",
    "                                    ixPosValid,ixNegValid,\n",
    "                                    batchSize=batchSize,\n",
    "                                    posFraction=posFraction)\n",
    "        \n",
    "        \n",
    "    ckp = ModelCheckpoint(filepath=modelPath)\n",
    "        \n",
    "    lossHist = {}\n",
    "    \n",
    "    for lossType in ['Diameter_loss', 'val_loss', \n",
    "                     'val_Lobulation_loss', 'Spiculation_loss', \n",
    "                     'loss', 'val_Diameter_loss', 'val_Spiculation_loss', \n",
    "                     'Lobulation_loss', 'val_Malignancy_loss', 'Malignancy_loss']:\n",
    "        \n",
    "        lossHist[lossType] = []\n",
    "        \n",
    "    lr = LearningRateScheduler(learningRateSchedule)\n",
    "    es = EarlyStopping(monitor='val_loss', min_delta=1e-3, patience=4, verbose=0, mode='auto')\n",
    "    \n",
    "    for epoch in range(nbEpoch):\n",
    "        \n",
    "        hist = model.fit_generator(trainGenerator, validation_data=validGenerator, \n",
    "                                   validation_steps=20,steps_per_epoch=stepsPerEpoch,\n",
    "                                   nb_epoch=epoch+1,callbacks=[ckp],\n",
    "                                   initial_epoch=epoch)\n",
    "        \n",
    "        for lossType in hist.history.keys():\n",
    "            lossHist[lossType].extend(hist.history[lossType])\n",
    "\n",
    "    return model, lossHist"
   ]
  },
  {
   "cell_type": "code",
   "execution_count": null,
   "metadata": {
    "collapsed": true
   },
   "outputs": [],
   "source": []
  }
 ],
 "metadata": {
  "kernelspec": {
   "display_name": "Python [conda root]",
   "language": "python",
   "name": "conda-root-py"
  },
  "language_info": {
   "codemirror_mode": {
    "name": "ipython",
    "version": 3
   },
   "file_extension": ".py",
   "mimetype": "text/x-python",
   "name": "python",
   "nbconvert_exporter": "python",
   "pygments_lexer": "ipython3",
   "version": "3.5.2"
  }
 },
 "nbformat": 4,
 "nbformat_minor": 2
}
