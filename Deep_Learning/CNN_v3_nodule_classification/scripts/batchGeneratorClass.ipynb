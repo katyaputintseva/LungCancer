{
 "cells": [
  {
   "cell_type": "code",
   "execution_count": 2,
   "metadata": {
    "collapsed": false
   },
   "outputs": [],
   "source": [
    "from sklearn.preprocessing import minmax_scale\n",
    "from keras.utils import to_categorical\n",
    "import pandas as pd\n",
    "import numpy as np"
   ]
  },
  {
   "cell_type": "code",
   "execution_count": 3,
   "metadata": {
    "collapsed": true
   },
   "outputs": [],
   "source": [
    "def batchGeneratorClass(xPos, xNeg, ixPos, ixNeg, batchSize, posFraction=0.5):\n",
    "    \n",
    "    while True:\n",
    "        \n",
    "        #calculating the numbers of positive and negative samples to include into a batch\n",
    "        #according to the positive fraction (posFraction) specified within the parameters:\n",
    "        pSize = int(posFraction * batchSize)\n",
    "        nSize = fpSize = int((batchSize - pSize)/2)\n",
    "        \n",
    "        pInds = np.random.choice(range(xPos.shape[0]), size=pSize, replace=False)\n",
    "        nInds = np.random.choice(range(xNeg.shape[0]), size=nSize, replace=False)\n",
    "        \n",
    "        xPosBatch, ixPosBatch = xPos[pInds], ixPos[pInds]\n",
    "        xNegBatch, ixNegBatch = xNeg[nInds], ixNeg[nInds]\n",
    "        \n",
    "        xBatch = np.concatenate([xPosBatch, xNegBatch], axis=0)\n",
    "        ixBatch = np.concatenate([ixPosBatch, ixNegBatch], axis=0)\n",
    "        \n",
    "        xBatch = np.expand_dims(xBatch, 1)\n",
    "        \n",
    "        xBatch = (xBatch + 1000) / (1400)\n",
    "        xBatch = np.clip(xBatch, 0, 1)\n",
    "        \n",
    "        ixBatch = to_categorical(ixBatch)\n",
    "        \n",
    "        yield xBatch, ixBatch "
   ]
  },
  {
   "cell_type": "code",
   "execution_count": 4,
   "metadata": {
    "collapsed": true
   },
   "outputs": [],
   "source": [
    "def loadCategoryClass(category):\n",
    "    \n",
    "    x = np.load('/home/katya/data/voxels_'+category+'64/subset0X'+category+'.npy')\n",
    "\n",
    "    for subset in range(1,10):\n",
    "        xTemp = np.load('/home/katya/data/voxels_'+category+'64/subset' + str(subset) + 'X'+category+'.npy')\n",
    "        x = np.concatenate((x, xTemp),axis=0)\n",
    "        \n",
    "        del xTemp\n",
    "    \n",
    "    return x"
   ]
  }
 ],
 "metadata": {
  "kernelspec": {
   "display_name": "Python [conda root]",
   "language": "python",
   "name": "conda-root-py"
  },
  "language_info": {
   "codemirror_mode": {
    "name": "ipython",
    "version": 3
   },
   "file_extension": ".py",
   "mimetype": "text/x-python",
   "name": "python",
   "nbconvert_exporter": "python",
   "pygments_lexer": "ipython3",
   "version": "3.5.2"
  }
 },
 "nbformat": 4,
 "nbformat_minor": 2
}
