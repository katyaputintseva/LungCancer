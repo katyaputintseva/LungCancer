{
 "cells": [
  {
   "cell_type": "code",
   "execution_count": 13,
   "metadata": {
    "collapsed": true
   },
   "outputs": [],
   "source": [
    "from sklearn.preprocessing import minmax_scale\n",
    "import pandas as pd\n",
    "import numpy as np"
   ]
  },
  {
   "cell_type": "code",
   "execution_count": 1,
   "metadata": {
    "collapsed": true
   },
   "outputs": [],
   "source": [
    "def batchGeneratorRegression(xPos, xNeg, ixPos, ixNeg, \n",
    "                             batchSize, xFP=None, ixFP=None, \n",
    "                             fp=False, posFraction=0.5):\n",
    "\n",
    "    df = pd.read_csv('/home/katya/data/CSVFILES/annotations_enhanced.csv')\n",
    "\n",
    "    #scaling values between 0 and 1:\n",
    "    yMalig = minmax_scale(df['malignancy'].values)\n",
    "    yDiam = minmax_scale(df['diameter_mm'].values)\n",
    "    yLobul = minmax_scale(df['lobulation'].values)\n",
    "    ySpic = minmax_scale(df['spiculation'].values)\n",
    "    \n",
    "    while True:\n",
    "        \n",
    "        #calculating the numbers of positive and negative samples to include into a batch\n",
    "        #according to the positive fraction (posFraction) specified within the parameters:\n",
    "        pSize = int(posFraction * batchSize)\n",
    "        nSize = fpSize = int((batchSize - pSize)/2)\n",
    "        \n",
    "        pInds = np.random.choice(range(xPos.shape[0]), size=pSize, replace=False)\n",
    "        nInds = np.random.choice(range(xNeg.shape[0]), size=nSize, replace=False)\n",
    "        \n",
    "        xPosBatch, ixPosBatch = xPos[pInds], ixPos[pInds]\n",
    "        xNegBatch, ixNegBatch = xNeg[nInds], ixNeg[nInds]\n",
    "        \n",
    "        if fp==True:\n",
    "            \n",
    "            fpInds = np.random.choice(range(xFP.shape[0]), size=fpSize, replace=False)\n",
    "            xFPBatch, ixFPBatch = xFP[fpInds], ixFP[fpInds]\n",
    "            \n",
    "            xBatch = np.concatenate([xPosBatch, xNegBatch, xFPBatch], axis=0)\n",
    "            ixBatch = np.concatenate([ixPosBatch, ixNegBatch, ixFPBatch], axis=0)            \n",
    "\n",
    "        else:\n",
    "            \n",
    "            xBatch = np.concatenate([xPosBatch, xNegBatch], axis=0)\n",
    "            ixBatch = np.concatenate([ixPosBatch, ixNegBatch], axis=0)\n",
    "        \n",
    "        #labeling false positive samples (-2) same as all non-nodule samples (-1)\n",
    "        ixBatch[ixBatch == -2] = -1\n",
    "        \n",
    "        #adding a dimension, corresponding to colour channels (we only have 1)\n",
    "#         xBatch = np.expand_dims(xBatch, 1)\n",
    "        \n",
    "        #normalizing batch to values between 0 and 1\n",
    "        xBatch = (xBatch - xBatch.flatten().min()) / (xBatch.flatten().max() - xBatch.flatten().min())\n",
    "        xBatch = np.clip(xBatch,0,1)\n",
    "        \n",
    "        yBatchMalig = yMalig[ixBatch]\n",
    "        yBatchDiam = yDiam[ixBatch]\n",
    "        yBatchLobul = yLobul[ixBatch]\n",
    "        yBatchSpic = ySpic[ixBatch]\n",
    "        \n",
    "        #zeroing all parameters of non-nodule samples:\n",
    "        yBatchMalig[ixBatch == -1] = 0.0\n",
    "        yBatchDiam[ixBatch == -1] = 0.0\n",
    "        yBatchLobul[ixBatch == -1] = 0.0\n",
    "        yBatchSpic[ixBatch == -1] = 0.0\n",
    "        \n",
    "        yield xBatch, {'Malignancy':yBatchMalig, 'Diameter':yBatchDiam,\n",
    "                       'Lobulation':yBatchLobul, 'Spiculation':yBatchSpic}   "
   ]
  },
  {
   "cell_type": "code",
   "execution_count": 2,
   "metadata": {
    "collapsed": true
   },
   "outputs": [],
   "source": [
    "def loadCategory(category):\n",
    "    \n",
    "    x = np.load('/home/katya/data/voxels_'+category+'64/subset0X'+category+'.npy')\n",
    "    ix = np.load('/home/katya/data/voxels_'+category+'64/subset0IX'+category+'.npy')\n",
    "\n",
    "    for subset in range(1,10):\n",
    "        \n",
    "        xTemp = np.load('/home/katya/data/voxels_'+category+'64/subset' + str(subset) + 'X'+category+'.npy')\n",
    "        ixTemp = np.load('/home/katya/data/voxels_'+category+'64/subset' + str(subset) + 'IX'+category+'.npy')\n",
    "\n",
    "        x = np.concatenate((x, xTemp),axis=0)\n",
    "        ix = np.concatenate((ix, ixTemp),axis=0)\n",
    "        \n",
    "        del xTemp, ixTemp\n",
    "        \n",
    "    print ('The number of samples for %s category constitutes %d' % (category, len(ix)))\n",
    "    \n",
    "    return x, ix"
   ]
  },
  {
   "cell_type": "code",
   "execution_count": 3,
   "metadata": {
    "collapsed": true
   },
   "outputs": [],
   "source": [
    "def nodulePredictor(category, modelPath, validInd):\n",
    "\n",
    "    model = load_model(modelPath)\n",
    "    x, ix = loadCategory(category)\n",
    "    \n",
    "    x = np.expand_dims(x, 1)\n",
    "    \n",
    "    xVal = x[validInd[category]]\n",
    "    ixVal = ix[validInd[category]]\n",
    "    \n",
    "    xTrain = np.array([n for i,n in enumerate(x) if i not in validInd[category]])\n",
    "    ixTrain = np.array([n for i,n in enumerate(ix) if i not in validInd[category]])\n",
    "    \n",
    "    print ('Predicting...')\n",
    "    \n",
    "    yValidHat = model.predict(xVal, batch_size=10, verbose=1)\n",
    "    yTrainHat = model.predict(xTrain, batch_size=10, verbose=1)\n",
    "    \n",
    "    posValInds = np.where(yValidHat[:,1]>0.5)\n",
    "    posTrainInds = np.where(yTrainHat[:,1]>0.5)\n",
    "    \n",
    "    nodulesVal = xVal[posValInds]\n",
    "    iNodulesVal = ixVal[posValInds]\n",
    "    \n",
    "    print ('Number of predicted validation nodules is %d' % iNodulesVal.shape[0])\n",
    "    \n",
    "    nodulesTrain = xTrain[posTrainInds]\n",
    "    iNodulesTrain = ixTrain[posTrainInds]  \n",
    "    \n",
    "    print ('Number of predicted train nodules is %d' % iNodulesTrain.shape[0])\n",
    "    print ('-------------------------------------------------------------------')\n",
    "    \n",
    "    return nodulesTrain, iNodulesTrain, nodulesVal, iNodulesVal"
   ]
  }
 ],
 "metadata": {
  "kernelspec": {
   "display_name": "Python [conda root]",
   "language": "python",
   "name": "conda-root-py"
  },
  "language_info": {
   "codemirror_mode": {
    "name": "ipython",
    "version": 3
   },
   "file_extension": ".py",
   "mimetype": "text/x-python",
   "name": "python",
   "nbconvert_exporter": "python",
   "pygments_lexer": "ipython3",
   "version": "3.5.2"
  }
 },
 "nbformat": 4,
 "nbformat_minor": 2
}
