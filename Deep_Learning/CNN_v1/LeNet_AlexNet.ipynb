{
 "cells": [
  {
   "cell_type": "code",
   "execution_count": null,
   "metadata": {
    "collapsed": false
   },
   "outputs": [],
   "source": [
    "%reset"
   ]
  },
  {
   "cell_type": "code",
   "execution_count": 2,
   "metadata": {
    "collapsed": false
   },
   "outputs": [],
   "source": [
    "import numpy as np\n",
    "import keras\n",
    "import os\n",
    "from keras.models import Sequential\n",
    "from keras.layers import Dense, Dropout, Flatten\n",
    "from keras.layers import Conv2D, MaxPooling2D, Conv3D, MaxPooling3D\n",
    "from keras.optimizers import SGD\n",
    "from keras.utils import to_categorical\n",
    "import pandas as pd\n",
    "\n",
    "import tensorflow as tf\n",
    "from keras.backend.tensorflow_backend import set_session\n",
    "config = tf.ConfigProto()\n",
    "config.gpu_options.per_process_gpu_memory_fraction = 0.3\n",
    "set_session(tf.Session(config=config))"
   ]
  },
  {
   "cell_type": "code",
   "execution_count": null,
   "metadata": {
    "collapsed": true
   },
   "outputs": [],
   "source": [
    "labelsDF = pd.DataFrame.from_csv('/home/katya/data/stage1_labels.csv', sep=',', index_col=None)\n",
    "class_weights = {0:len(labelsDF)/sum(labelsDF.cancer), 1:len(labelsDF)/len(labelsDF) - sum(labelsDF.cancer)}\n",
    "del labelsDF"
   ]
  },
  {
   "cell_type": "code",
   "execution_count": null,
   "metadata": {
    "collapsed": false
   },
   "outputs": [],
   "source": [
    "# Loading patients in the forma\n",
    "def data_for_keras(number_of_patients):\n",
    "    \n",
    "    labelsDF = pd.DataFrame.from_csv('/home/katya/data/stage1_labels.csv', sep=',', index_col=None)\n",
    "\n",
    "    imgs = []\n",
    "    labels = []\n",
    "    tempDF = labelsDF.sample(number_of_patients).reset_index()\n",
    "\n",
    "    for i in range(len(tempDF)):\n",
    "        img = np.load('/home/katya/data/processed_data_ResSeg/' + tempDF.id.ix[i] + '.npy')\n",
    "        img = np.expand_dims(img,axis=0)\n",
    "        imgs.append(img)\n",
    "        labels.append(tempDF.cancer.ix[i])\n",
    "\n",
    "    X = np.array(imgs)\n",
    "\n",
    "    Y = np.array(labels)\n",
    "    \n",
    "    return X, Y"
   ]
  },
  {
   "cell_type": "code",
   "execution_count": null,
   "metadata": {
    "collapsed": true
   },
   "outputs": [],
   "source": [
    "x_train, y_train = data_for_keras(1)\n",
    "input_shape = x_train.shape[1:]\n",
    "del x_train, y_train"
   ]
  },
  {
   "cell_type": "code",
   "execution_count": null,
   "metadata": {
    "collapsed": true
   },
   "outputs": [],
   "source": [
    "def patientsGenerator():\n",
    "    \n",
    "    for i in range(140):\n",
    "        x_train, y_train = data_for_keras(10)\n",
    "        y_train = to_categorical(y_train)\n",
    "        \n",
    "        yield x_train, y_train"
   ]
  },
  {
   "cell_type": "code",
   "execution_count": null,
   "metadata": {
    "collapsed": false,
    "scrolled": false
   },
   "outputs": [],
   "source": [
    "model = Sequential()\n",
    "\n",
    "model.add(Conv3D(96, (3, 3, 3), activation='relu', strides=4, data_format='channels_first', input_shape=input_shape, kernel_regularizer=1e-3))\n",
    "model.add(MaxPooling3D(pool_size=(3, 3, 3), strides=2, data_format='channels_first', kernel_regularizer=1e-3))\n",
    "model.add(Conv3D(256, (3, 3, 3), strides=1, activation='relu', kernel_regularizer=1e-3))\n",
    "model.add(MaxPooling3D(pool_size=(3, 3, 3), strides=2, data_format='channels_first', kernel_regularizer=1e-3))\n",
    "model.add(Conv3D(384, (3, 3, 3), strides=1, activation='relu', kernel_regularizer=1e-3))\n",
    "model.add(Conv3D(384, (3, 3, 3), strides=1, activation='relu', kernel_regularizer=1e-3))\n",
    "model.add(Conv3D(256, (3, 3, 3), strides=1, activation='relu', kernel_regularizer=1e-3))\n",
    "\n",
    "model.add(Flatten())\n",
    "\n",
    "model.add(Dropout(0.5))\n",
    "model.add(Dense(4096, activation='relu', kernel_regularizer=1e-3))\n",
    "model.add(Dropout(0.5))\n",
    "model.add(Dense(4096, activation='relu', kernel_regularizer=1e-3))\n",
    "model.add(Dropout(0.5))\n",
    "model.add(Dense(2, activation='softmax', kernel_regularizer=1e-3))\n",
    "\n",
    "sgd = SGD(lr=0.01, decay=1e-6, momentum=0.9, nesterov=True)\n",
    "model.compile(loss='categorical_crossentropy', optimizer=sgd)\n",
    "print(model.summary())\n",
    "\n",
    "hist = model.fit_generator(patientsGenerator(), steps_per_epoch = 2, nb_epoch = 20, verbose=1, class_weight=class_weights)"
   ]
  },
  {
   "cell_type": "code",
   "execution_count": null,
   "metadata": {
    "collapsed": false
   },
   "outputs": [],
   "source": [
    "model.evaluate_generator(patientsGenerator(),1)"
   ]
  },
  {
   "cell_type": "code",
   "execution_count": null,
   "metadata": {
    "collapsed": true
   },
   "outputs": [],
   "source": []
  }
 ],
 "metadata": {
  "kernelspec": {
   "display_name": "Python [conda root]",
   "language": "python",
   "name": "conda-root-py"
  },
  "language_info": {
   "codemirror_mode": {
    "name": "ipython",
    "version": 3
   },
   "file_extension": ".py",
   "mimetype": "text/x-python",
   "name": "python",
   "nbconvert_exporter": "python",
   "pygments_lexer": "ipython3",
   "version": "3.5.2"
  }
 },
 "nbformat": 4,
 "nbformat_minor": 2
}
