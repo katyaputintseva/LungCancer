{
 "cells": [
  {
   "cell_type": "code",
   "execution_count": null,
   "metadata": {
    "collapsed": false
   },
   "outputs": [],
   "source": [
    "preds_top = np.load('preds_top.npy')\n",
    "preds_top = [i[0][0][0] for i in preds_top]\n",
    "print ('Type',type(preds_top),'Shape',len(preds_top))"
   ]
  },
  {
   "cell_type": "code",
   "execution_count": 2,
   "metadata": {
    "collapsed": true
   },
   "outputs": [],
   "source": [
    "import numpy as np\n",
    "import pandas as pd\n",
    "import os\n",
    "import matplotlib.pyplot as plt\n",
    "import pickle"
   ]
  },
  {
   "cell_type": "code",
   "execution_count": 3,
   "metadata": {
    "collapsed": false
   },
   "outputs": [
    {
     "data": {
      "text/plain": [
       "dict_keys(['preds', 1, 'top_voxels', 'max_malig', 'top_ixs'])"
      ]
     },
     "execution_count": 3,
     "metadata": {},
     "output_type": "execute_result"
    }
   ],
   "source": [
    "with open('./LUNA_model_v3/dict_top_voxels_predict.pickle', 'rb') as handle:\n",
    "    plotting = pickle.load(handle)\n",
    "plotting[list(plotting.keys())[0]].keys()"
   ]
  },
  {
   "cell_type": "code",
   "execution_count": 5,
   "metadata": {
    "collapsed": false
   },
   "outputs": [
    {
     "name": "stdout",
     "output_type": "stream",
     "text": [
      "Length of predictions.. 262144\n",
      "Maximum malignancy of original patch.. 0.466551721096\n"
     ]
    }
   ],
   "source": [
    "predictions = [x[0] for x in plotting['243038f7bb7787497c59bc17f04c6ed9'][1]]\n",
    "print ('Length of predictions..',len(predictions))\n",
    "malignancy = plotting['243038f7bb7787497c59bc17f04c6ed9']['max_malig']\n",
    "print ('Maximum malignancy of original patch..',malignancy)"
   ]
  },
  {
   "cell_type": "code",
   "execution_count": 7,
   "metadata": {
    "collapsed": false
   },
   "outputs": [
    {
     "name": "stdout",
     "output_type": "stream",
     "text": [
      "Differences between predicted and original voxel range from -0.00536236166954 to -0.00520834326744\n"
     ]
    },
    {
     "data": {
      "image/png": "[encoded data removed]",
      "text/plain": [
       "<matplotlib.figure.Figure at 0x7ff4d0a65cc0>"
      ]
     },
     "metadata": {},
     "output_type": "display_data"
    }
   ],
   "source": [
    "predictions_difference = [malignancy-p for p in predictions]\n",
    "print ('Differences between predicted and original voxel range from', min(predictions_difference),'to',max(predictions_difference))\n",
    "plt.hist(predictions_difference)\n",
    "plt.show()"
   ]
  },
  {
   "cell_type": "code",
   "execution_count": 8,
   "metadata": {
    "collapsed": false
   },
   "outputs": [
    {
     "data": {
      "text/plain": [
       "0"
      ]
     },
     "execution_count": 8,
     "metadata": {},
     "output_type": "execute_result"
    }
   ],
   "source": [
    "above005 = sum(i > .005 for i in predictions_difference)\n",
    "above005"
   ]
  },
  {
   "cell_type": "code",
   "execution_count": null,
   "metadata": {
    "collapsed": false
   },
   "outputs": [],
   "source": [
    "len(preds_top_delta)"
   ]
  },
  {
   "cell_type": "code",
   "execution_count": null,
   "metadata": {
    "collapsed": false
   },
   "outputs": [],
   "source": [
    "above005/len(preds_top_delta)"
   ]
  },
  {
   "cell_type": "code",
   "execution_count": null,
   "metadata": {
    "collapsed": false
   },
   "outputs": [],
   "source": [
    "TOP_PIXELS = above005.copy()\n",
    "pixel_ixs = np.argsort(preds_top_delta,axis=0)[-TOP_PIXELS:]\n",
    "pixel_ixs"
   ]
  },
  {
   "cell_type": "code",
   "execution_count": null,
   "metadata": {
    "collapsed": true
   },
   "outputs": [],
   "source": [
    "def plot_3d(image, threshold=0.9):\n",
    "    \n",
    "    from mpl_toolkits.mplot3d.art3d import Poly3DCollection\n",
    "    from skimage import measure\n",
    "    \n",
    "    verts, faces,_,_ = measure.marching_cubes(image, threshold)\n",
    "\n",
    "    fig = plt.figure(figsize=(10, 10))\n",
    "    ax = fig.add_subplot(111, projection='3d')\n",
    "\n",
    "    mesh = Poly3DCollection(verts[faces], alpha=0.70)\n",
    "    face_color = [0.45, 0.45, 0.75]\n",
    "    mesh.set_facecolor(face_color)\n",
    "    ax.add_collection3d(mesh)\n",
    "\n",
    "    ax.set_xlim(0, image.shape[0])\n",
    "    ax.set_ylim(0, image.shape[1])\n",
    "    ax.set_zlim(0, image.shape[2])\n",
    "\n",
    "    plt.show()"
   ]
  },
  {
   "cell_type": "code",
   "execution_count": null,
   "metadata": {
    "collapsed": true
   },
   "outputs": [],
   "source": [
    "def patient_spacing(path):\n",
    "    import dicom as dicom\n",
    "    slices = [dicom.read_file(path + '/' + s) for s in os.listdir(path)]\n",
    "    slices.sort(key = lambda x: float(x.ImagePositionPatient[2]))\n",
    "    \n",
    "    # The Image Position specifies the x, y, and z coords of the upper left hand corner of the image\n",
    "    z_depths = [s.ImagePositionPatient[2] for s in slices]\n",
    "    if len(set(z_depths))<len(z_depths):\n",
    "        print ('Duplicate slices for same z-depth - ID:',path[-32:])\n",
    "        slices.sort(key = lambda x: x.InstanceNumber)\n",
    "        acq_num = int(np.mean([s.AcquisitionNumber for s in slices]))\n",
    "        slices = [s for s in slices if s.AcquisitionNumber==acq_num]\n",
    "\n",
    "    slice_thickness = np.abs(slices[0].ImagePositionPatient[2] - slices[1].ImagePositionPatient[2])\n",
    "    \n",
    "    for s in slices:\n",
    "        s.SliceThickness = slice_thickness\n",
    "        \n",
    "    spacing = np.array(slices[0].PixelSpacing + [slices[0].SliceThickness], dtype=np.float32)\n",
    "    return spacing"
   ]
  },
  {
   "cell_type": "code",
   "execution_count": null,
   "metadata": {
    "collapsed": false
   },
   "outputs": [],
   "source": [
    "path_raw = '/home/gantos/data/stage1/'\n",
    "patient_slice_thickness = patient_spacing(path_raw+patient[:-4])\n",
    "patient_slice_thickness"
   ]
  },
  {
   "cell_type": "code",
   "execution_count": null,
   "metadata": {
    "collapsed": false
   },
   "outputs": [],
   "source": [
    "patient_full = np.load('../data/stage1_arrays/'+patient[:-4]+'.npy')"
   ]
  },
  {
   "cell_type": "code",
   "execution_count": null,
   "metadata": {
    "collapsed": false
   },
   "outputs": [],
   "source": [
    "count = -1\n",
    "patient_blank = np.zeros(np.squeeze(top_voxel).shape)\n",
    "for e in np.nditer(patient_blank, op_flags=['readwrite']):\n",
    "    count += 1\n",
    "    if count in pixel_ixs:\n",
    "        e[...] = 1\n",
    "    else:\n",
    "        continue"
   ]
  },
  {
   "cell_type": "code",
   "execution_count": null,
   "metadata": {
    "collapsed": false
   },
   "outputs": [],
   "source": [
    "patient_blank.shape"
   ]
  },
  {
   "cell_type": "code",
   "execution_count": null,
   "metadata": {
    "collapsed": false
   },
   "outputs": [],
   "source": [
    "np.sum(patient_blank)"
   ]
  },
  {
   "cell_type": "code",
   "execution_count": null,
   "metadata": {
    "collapsed": false
   },
   "outputs": [],
   "source": [
    "plot_3d(patient_blank)"
   ]
  },
  {
   "cell_type": "code",
   "execution_count": null,
   "metadata": {
    "collapsed": false
   },
   "outputs": [],
   "source": [
    "above010 = sum(i > .01 for i in preds_top_delta)\n",
    "above010"
   ]
  },
  {
   "cell_type": "code",
   "execution_count": null,
   "metadata": {
    "collapsed": false
   },
   "outputs": [],
   "source": [
    "TOP_PIXELS = above010.copy()\n",
    "pixel_ixs = np.argsort(preds_top_delta,axis=0)[-TOP_PIXELS:]\n",
    "pixel_ixs"
   ]
  },
  {
   "cell_type": "code",
   "execution_count": null,
   "metadata": {
    "collapsed": false
   },
   "outputs": [],
   "source": [
    "count = -1\n",
    "patient_blank_010 = np.zeros(np.squeeze(top_voxel).shape)\n",
    "for e in np.nditer(patient_blank_010, op_flags=['readwrite']):\n",
    "    count += 1\n",
    "    if count in pixel_ixs:\n",
    "        e[...] = 1\n",
    "    else:\n",
    "        continue"
   ]
  },
  {
   "cell_type": "code",
   "execution_count": null,
   "metadata": {
    "collapsed": false
   },
   "outputs": [],
   "source": [
    "plot_3d(patient_blank_010)"
   ]
  },
  {
   "cell_type": "code",
   "execution_count": null,
   "metadata": {
    "collapsed": true
   },
   "outputs": [],
   "source": []
  }
 ],
 "metadata": {
  "kernelspec": {
   "display_name": "Python [conda root]",
   "language": "python",
   "name": "conda-root-py"
  },
  "language_info": {
   "codemirror_mode": {
    "name": "ipython",
    "version": 3
   },
   "file_extension": ".py",
   "mimetype": "text/x-python",
   "name": "python",
   "nbconvert_exporter": "python",
   "pygments_lexer": "ipython3",
   "version": "3.5.2"
  }
 },
 "nbformat": 4,
 "nbformat_minor": 2
}
