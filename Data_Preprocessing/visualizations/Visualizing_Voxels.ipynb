{
 "cells": [
  {
   "cell_type": "code",
   "execution_count": 1,
   "metadata": {
    "collapsed": false
   },
   "outputs": [],
   "source": [
    "import numpy as np\n",
    "import pandas as pd\n",
    "from skimage import measure\n",
    "from mpl_toolkits.mplot3d.art3d import Poly3DCollection\n",
    "import matplotlib.pyplot as plt\n",
    "from random import sample"
   ]
  },
  {
   "cell_type": "code",
   "execution_count": 2,
   "metadata": {
    "collapsed": true
   },
   "outputs": [],
   "source": [
    "true = np.load('../data/voxels_true64/subset9Xtrue.npy')\n",
    "false = np.load('../data/voxels_false64/subset9Xfalse.npy')\n",
    "random = np.load('../data/voxels_random64/subset9Xrandom.npy')\n",
    "df = pd.read_csv('../data/CSVFILES/annotations_enhanced.csv')"
   ]
  },
  {
   "cell_type": "code",
   "execution_count": 3,
   "metadata": {
    "collapsed": false
   },
   "outputs": [
    {
     "name": "stdout",
     "output_type": "stream",
     "text": [
      "True (354, 64, 64, 64)\n",
      "False (1056, 64, 64, 64)\n",
      "Random (528, 64, 64, 64)\n",
      "True:False:Random\t 0.18% : 0.54% : 0.27%\n"
     ]
    }
   ],
   "source": [
    "print ('True',true.shape)\n",
    "print ('False',false.shape)\n",
    "print ('Random',random.shape)\n",
    "prop_true = true.shape[0]/float(true.shape[0]+false.shape[0]+random.shape[0])\n",
    "prop_false = false.shape[0]/float(true.shape[0]+false.shape[0]+random.shape[0])\n",
    "prop_random = random.shape[0]/float(true.shape[0]+false.shape[0]+random.shape[0])\n",
    "print ('True:False:Random\\t',\"{0:.2f}%\".format(prop_true),\n",
    "       ':',\"{0:.2f}%\".format(prop_false),\n",
    "       ':',\"{0:.2f}%\".format(prop_random))"
   ]
  },
  {
   "cell_type": "code",
   "execution_count": 4,
   "metadata": {
    "collapsed": false
   },
   "outputs": [
    {
     "name": "stdout",
     "output_type": "stream",
     "text": [
      "5.0\n",
      "1.0\n"
     ]
    }
   ],
   "source": [
    "print (max(df['malignancy']))\n",
    "print (min(df['malignancy']))"
   ]
  },
  {
   "cell_type": "code",
   "execution_count": 5,
   "metadata": {
    "collapsed": true
   },
   "outputs": [],
   "source": [
    "def plot_3d(image, threshold=-300):\n",
    "    \n",
    "    # Position the scan upright, \n",
    "    # so the head of the patient would be at the top facing the camera\n",
    "    p = image.transpose(2,1,0)\n",
    "    \n",
    "    verts, faces, _, _ = measure.marching_cubes(p, threshold)\n",
    "\n",
    "    fig = plt.figure(figsize=(10, 10))\n",
    "    ax = fig.add_subplot(111, projection='3d')\n",
    "\n",
    "    # Fancy indexing: `verts[faces]` to generate a collection of triangles\n",
    "    mesh = Poly3DCollection(verts[faces], alpha=0.70)\n",
    "    face_color = [0.45, 0.45, 0.75]\n",
    "    mesh.set_facecolor(face_color)\n",
    "    ax.add_collection3d(mesh)\n",
    "\n",
    "    ax.set_xlim(0, p.shape[0])\n",
    "    ax.set_ylim(0, p.shape[1])\n",
    "    ax.set_zlim(0, p.shape[2])\n",
    "\n",
    "    plt.show()\n",
    "\n",
    "def hist(ARRAY):\n",
    "    plt.hist(ARRAY.flatten(), bins=80, color='c')\n",
    "    plt.ylabel(\"Frequency\")\n",
    "    plt.show()\n",
    "\n",
    "def array_stats(ARRAY):\n",
    "    print ('Shape\\t',ARRAY.shape)\n",
    "    print ('Max\\t',np.max(ARRAY))\n",
    "    print ('Min\\t',np.min(ARRAY))\n",
    "    print ('Avg\\t',np.mean(ARRAY))"
   ]
  },
  {
   "cell_type": "code",
   "execution_count": null,
   "metadata": {
    "collapsed": false
   },
   "outputs": [],
   "source": [
    "print ('Distribution of nodules sampled from 1 to 1172')\n",
    "malignancy = np.load('../data/voxels_true64/subset9IXtrue.npy')\n",
    "hist(malignancy)"
   ]
  },
  {
   "cell_type": "code",
   "execution_count": null,
   "metadata": {
    "collapsed": false
   },
   "outputs": [],
   "source": [
    "true[0].shape"
   ]
  },
  {
   "cell_type": "code",
   "execution_count": null,
   "metadata": {
    "collapsed": false,
    "scrolled": false
   },
   "outputs": [],
   "source": [
    "for i in range(true[0].shape[0]):\n",
    "    plt.imshow(true[0][:,:,i], cmap=plt.cm.gray)\n",
    "    plt.show()"
   ]
  },
  {
   "cell_type": "code",
   "execution_count": null,
   "metadata": {
    "collapsed": false,
    "scrolled": false
   },
   "outputs": [],
   "source": [
    "for i in range(false[0].shape[0]):\n",
    "    plt.imshow(false[0][:,:,i], cmap=plt.cm.gray)\n",
    "    plt.show()"
   ]
  },
  {
   "cell_type": "code",
   "execution_count": null,
   "metadata": {
    "collapsed": false,
    "scrolled": false
   },
   "outputs": [],
   "source": [
    "for i in range(random[0].shape[0]):\n",
    "    plt.imshow(random[0][:,:,i], cmap=plt.cm.gray)\n",
    "    plt.show()"
   ]
  },
  {
   "cell_type": "code",
   "execution_count": null,
   "metadata": {
    "collapsed": false,
    "scrolled": false
   },
   "outputs": [],
   "source": [
    "for i in sample(range(0,true.shape[0]), 10):\n",
    "    print ('Malignancy',df.iloc[malignancy[i]].malignancy)\n",
    "    hist(true[i])\n",
    "    array_stats(true[i])\n",
    "    plot_3d(true[i], np.max(true[i])-100)"
   ]
  },
  {
   "cell_type": "code",
   "execution_count": null,
   "metadata": {
    "collapsed": false
   },
   "outputs": [],
   "source": [
    "np.min(malignancy)"
   ]
  },
  {
   "cell_type": "code",
   "execution_count": null,
   "metadata": {
    "collapsed": true
   },
   "outputs": [],
   "source": []
  }
 ],
 "metadata": {
  "kernelspec": {
   "display_name": "Python [conda root]",
   "language": "python",
   "name": "conda-root-py"
  },
  "language_info": {
   "codemirror_mode": {
    "name": "ipython",
    "version": 3
   },
   "file_extension": ".py",
   "mimetype": "text/x-python",
   "name": "python",
   "nbconvert_exporter": "python",
   "pygments_lexer": "ipython3",
   "version": "3.5.2"
  }
 },
 "nbformat": 4,
 "nbformat_minor": 2
}
