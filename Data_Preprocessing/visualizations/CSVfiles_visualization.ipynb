{
 "cells": [
  {
   "cell_type": "code",
   "execution_count": 1,
   "metadata": {
    "collapsed": true
   },
   "outputs": [],
   "source": [
    "import numpy as np\n",
    "import pandas as pd\n",
    "import re\n",
    "import matplotlib.pyplot as plt"
   ]
  },
  {
   "cell_type": "code",
   "execution_count": 2,
   "metadata": {
    "collapsed": true
   },
   "outputs": [],
   "source": [
    "df_annotations_enhanced = pd.read_csv('../data/CSVFILES/annotations_enhanced.csv')\n",
    "df_annotations = pd.read_csv('../data/CSVFILES/annotations.csv')\n",
    "df_candidates = pd.read_csv('../data/CSVFILES/candidates_V2.csv')"
   ]
  },
  {
   "cell_type": "code",
   "execution_count": 3,
   "metadata": {
    "collapsed": true
   },
   "outputs": [],
   "source": [
    "def hist(ARRAY):\n",
    "    plt.hist(ARRAY.flatten(), bins=80, color='c')\n",
    "    plt.ylabel(\"Frequency\")\n",
    "    plt.show()\n",
    "\n",
    "def array_stats(ARRAY):\n",
    "    print ('Shape\\t',ARRAY.shape)\n",
    "    print ('Max\\t',np.max(ARRAY))\n",
    "    print ('Min\\t',np.min(ARRAY))\n",
    "    print ('Avg\\t',np.mean(ARRAY))"
   ]
  },
  {
   "cell_type": "markdown",
   "metadata": {},
   "source": [
    "___\n",
    "#### annotations_enhanced.csv\n",
    "___"
   ]
  },
  {
   "cell_type": "code",
   "execution_count": 4,
   "metadata": {
    "collapsed": false
   },
   "outputs": [
    {
     "data": {
      "text/html": [
       "<div>\n",
       "<table border=\"1\" class=\"dataframe\">\n",
       "  <thead>\n",
       "    <tr style=\"text-align: right;\">\n",
       "      <th></th>\n",
       "      <th>seriesuid</th>\n",
       "      <th>coordX</th>\n",
       "      <th>coordY</th>\n",
       "      <th>coordZ</th>\n",
       "      <th>diameter_mm</th>\n",
       "      <th>Xorig</th>\n",
       "      <th>Yorig</th>\n",
       "      <th>Zorig</th>\n",
       "      <th>Xspac</th>\n",
       "      <th>Yspac</th>\n",
       "      <th>...</th>\n",
       "      <th>Znpy</th>\n",
       "      <th>subtlety</th>\n",
       "      <th>internal_structure</th>\n",
       "      <th>calcification</th>\n",
       "      <th>sphericity</th>\n",
       "      <th>margin</th>\n",
       "      <th>lobulation</th>\n",
       "      <th>spiculation</th>\n",
       "      <th>texture</th>\n",
       "      <th>malignancy</th>\n",
       "    </tr>\n",
       "  </thead>\n",
       "  <tbody>\n",
       "    <tr>\n",
       "      <th>0</th>\n",
       "      <td>1.3.6.1.4.1.14519.5.2.1.6279.6001.100398138793...</td>\n",
       "      <td>69.639017</td>\n",
       "      <td>-140.944586</td>\n",
       "      <td>876.374496</td>\n",
       "      <td>5.786348</td>\n",
       "      <td>-170.687500</td>\n",
       "      <td>-309.687500</td>\n",
       "      <td>716.7</td>\n",
       "      <td>0.625000</td>\n",
       "      <td>0.625000</td>\n",
       "      <td>...</td>\n",
       "      <td>88.708056</td>\n",
       "      <td>3.333333</td>\n",
       "      <td>[ 1.  0.  0.  0.]</td>\n",
       "      <td>[ 0.  0.  0.  0.  0.  1.]</td>\n",
       "      <td>[ 0.  1.  0.]</td>\n",
       "      <td>3.666667</td>\n",
       "      <td>1.333333</td>\n",
       "      <td>1.333333</td>\n",
       "      <td>[ 0.  0.  1.]</td>\n",
       "      <td>2.666667</td>\n",
       "    </tr>\n",
       "    <tr>\n",
       "      <th>1</th>\n",
       "      <td>1.3.6.1.4.1.14519.5.2.1.6279.6001.100621383016...</td>\n",
       "      <td>-24.013824</td>\n",
       "      <td>192.102405</td>\n",
       "      <td>-391.081276</td>\n",
       "      <td>8.143262</td>\n",
       "      <td>-120.049467</td>\n",
       "      <td>9.480416</td>\n",
       "      <td>-657.0</td>\n",
       "      <td>0.556641</td>\n",
       "      <td>0.556641</td>\n",
       "      <td>...</td>\n",
       "      <td>265.918724</td>\n",
       "      <td>4.500000</td>\n",
       "      <td>[ 1.  0.  0.  0.]</td>\n",
       "      <td>[ 0.  0.  0.  0.  0.  1.]</td>\n",
       "      <td>[ 0.  1.  0.]</td>\n",
       "      <td>4.750000</td>\n",
       "      <td>1.750000</td>\n",
       "      <td>1.500000</td>\n",
       "      <td>[ 0.  0.  1.]</td>\n",
       "      <td>3.750000</td>\n",
       "    </tr>\n",
       "    <tr>\n",
       "      <th>2</th>\n",
       "      <td>1.3.6.1.4.1.14519.5.2.1.6279.6001.100621383016...</td>\n",
       "      <td>2.441547</td>\n",
       "      <td>172.464881</td>\n",
       "      <td>-405.493732</td>\n",
       "      <td>18.545150</td>\n",
       "      <td>-120.049467</td>\n",
       "      <td>9.480416</td>\n",
       "      <td>-657.0</td>\n",
       "      <td>0.556641</td>\n",
       "      <td>0.556641</td>\n",
       "      <td>...</td>\n",
       "      <td>251.506268</td>\n",
       "      <td>5.000000</td>\n",
       "      <td>[ 1.  0.  0.  0.]</td>\n",
       "      <td>[ 0.  0.  0.  0.  0.  1.]</td>\n",
       "      <td>[ 0.    0.25  0.75]</td>\n",
       "      <td>4.750000</td>\n",
       "      <td>1.750000</td>\n",
       "      <td>1.500000</td>\n",
       "      <td>[ 0.  0.  1.]</td>\n",
       "      <td>4.250000</td>\n",
       "    </tr>\n",
       "    <tr>\n",
       "      <th>3</th>\n",
       "      <td>1.3.6.1.4.1.14519.5.2.1.6279.6001.100621383016...</td>\n",
       "      <td>90.931713</td>\n",
       "      <td>149.027266</td>\n",
       "      <td>-426.544715</td>\n",
       "      <td>18.208570</td>\n",
       "      <td>-120.049467</td>\n",
       "      <td>9.480416</td>\n",
       "      <td>-657.0</td>\n",
       "      <td>0.556641</td>\n",
       "      <td>0.556641</td>\n",
       "      <td>...</td>\n",
       "      <td>230.455285</td>\n",
       "      <td>5.000000</td>\n",
       "      <td>[ 1.  0.  0.  0.]</td>\n",
       "      <td>[ 0.  0.  0.  0.  0.  1.]</td>\n",
       "      <td>[ 0.   0.5  0.5]</td>\n",
       "      <td>5.000000</td>\n",
       "      <td>1.750000</td>\n",
       "      <td>1.250000</td>\n",
       "      <td>[ 0.  0.  1.]</td>\n",
       "      <td>3.750000</td>\n",
       "    </tr>\n",
       "    <tr>\n",
       "      <th>4</th>\n",
       "      <td>1.3.6.1.4.1.14519.5.2.1.6279.6001.100621383016...</td>\n",
       "      <td>89.540769</td>\n",
       "      <td>196.405159</td>\n",
       "      <td>-515.073322</td>\n",
       "      <td>16.381276</td>\n",
       "      <td>-120.049467</td>\n",
       "      <td>9.480416</td>\n",
       "      <td>-657.0</td>\n",
       "      <td>0.556641</td>\n",
       "      <td>0.556641</td>\n",
       "      <td>...</td>\n",
       "      <td>141.926678</td>\n",
       "      <td>4.750000</td>\n",
       "      <td>[ 1.  0.  0.  0.]</td>\n",
       "      <td>[ 0.  0.  0.  0.  0.  1.]</td>\n",
       "      <td>[ 0.    0.25  0.75]</td>\n",
       "      <td>4.250000</td>\n",
       "      <td>1.500000</td>\n",
       "      <td>1.500000</td>\n",
       "      <td>[ 0.   0.5  0.5]</td>\n",
       "      <td>3.750000</td>\n",
       "    </tr>\n",
       "  </tbody>\n",
       "</table>\n",
       "<p>5 rows × 23 columns</p>\n",
       "</div>"
      ],
      "text/plain": [
       "                                           seriesuid     coordX      coordY  \\\n",
       "0  1.3.6.1.4.1.14519.5.2.1.6279.6001.100398138793...  69.639017 -140.944586   \n",
       "1  1.3.6.1.4.1.14519.5.2.1.6279.6001.100621383016... -24.013824  192.102405   \n",
       "2  1.3.6.1.4.1.14519.5.2.1.6279.6001.100621383016...   2.441547  172.464881   \n",
       "3  1.3.6.1.4.1.14519.5.2.1.6279.6001.100621383016...  90.931713  149.027266   \n",
       "4  1.3.6.1.4.1.14519.5.2.1.6279.6001.100621383016...  89.540769  196.405159   \n",
       "\n",
       "       coordZ  diameter_mm       Xorig       Yorig  Zorig     Xspac     Yspac  \\\n",
       "0  876.374496     5.786348 -170.687500 -309.687500  716.7  0.625000  0.625000   \n",
       "1 -391.081276     8.143262 -120.049467    9.480416 -657.0  0.556641  0.556641   \n",
       "2 -405.493732    18.545150 -120.049467    9.480416 -657.0  0.556641  0.556641   \n",
       "3 -426.544715    18.208570 -120.049467    9.480416 -657.0  0.556641  0.556641   \n",
       "4 -515.073322    16.381276 -120.049467    9.480416 -657.0  0.556641  0.556641   \n",
       "\n",
       "      ...            Znpy  subtlety  internal_structure  \\\n",
       "0     ...       88.708056  3.333333   [ 1.  0.  0.  0.]   \n",
       "1     ...      265.918724  4.500000   [ 1.  0.  0.  0.]   \n",
       "2     ...      251.506268  5.000000   [ 1.  0.  0.  0.]   \n",
       "3     ...      230.455285  5.000000   [ 1.  0.  0.  0.]   \n",
       "4     ...      141.926678  4.750000   [ 1.  0.  0.  0.]   \n",
       "\n",
       "               calcification           sphericity    margin lobulation  \\\n",
       "0  [ 0.  0.  0.  0.  0.  1.]        [ 0.  1.  0.]  3.666667   1.333333   \n",
       "1  [ 0.  0.  0.  0.  0.  1.]        [ 0.  1.  0.]  4.750000   1.750000   \n",
       "2  [ 0.  0.  0.  0.  0.  1.]  [ 0.    0.25  0.75]  4.750000   1.750000   \n",
       "3  [ 0.  0.  0.  0.  0.  1.]     [ 0.   0.5  0.5]  5.000000   1.750000   \n",
       "4  [ 0.  0.  0.  0.  0.  1.]  [ 0.    0.25  0.75]  4.250000   1.500000   \n",
       "\n",
       "  spiculation           texture  malignancy  \n",
       "0    1.333333     [ 0.  0.  1.]    2.666667  \n",
       "1    1.500000     [ 0.  0.  1.]    3.750000  \n",
       "2    1.500000     [ 0.  0.  1.]    4.250000  \n",
       "3    1.250000     [ 0.  0.  1.]    3.750000  \n",
       "4    1.500000  [ 0.   0.5  0.5]    3.750000  \n",
       "\n",
       "[5 rows x 23 columns]"
      ]
     },
     "execution_count": 4,
     "metadata": {},
     "output_type": "execute_result"
    }
   ],
   "source": [
    "df_annotations_enhanced.head(5)"
   ]
  },
  {
   "cell_type": "code",
   "execution_count": 5,
   "metadata": {
    "collapsed": false
   },
   "outputs": [],
   "source": [
    "sphericities = []\n",
    "for i in df_annotations_enhanced['sphericity']:\n",
    "    row = [float(s) for s in re.findall(\"\\d+\\.\\d*\", i)]\n",
    "    sphericities.append(sum(row))"
   ]
  },
  {
   "cell_type": "code",
   "execution_count": 6,
   "metadata": {
    "collapsed": false
   },
   "outputs": [
    {
     "name": "stdout",
     "output_type": "stream",
     "text": [
      "Shape\t (1172,)\n",
      "Max\t 1.0\n",
      "Min\t 0.99999999\n",
      "Avg\t 0.999999999838\n"
     ]
    },
    {
     "data": {
      "image/png": "[encoded data removed]",
      "text/plain": [
       "<matplotlib.figure.Figure at 0x7f93d5038a58>"
      ]
     },
     "metadata": {},
     "output_type": "display_data"
    }
   ],
   "source": [
    "array_stats(np.array(sphericities))\n",
    "hist(np.array(sphericities))"
   ]
  },
  {
   "cell_type": "code",
   "execution_count": 7,
   "metadata": {
    "collapsed": false
   },
   "outputs": [],
   "source": [
    "calcifications = []\n",
    "for i in df_annotations_enhanced['calcification']:\n",
    "    row = [float(s) for s in re.findall(\"\\d+\\.\\d*\", i)]\n",
    "    calcifications.append(sum(row))"
   ]
  },
  {
   "cell_type": "code",
   "execution_count": 8,
   "metadata": {
    "collapsed": false
   },
   "outputs": [
    {
     "name": "stdout",
     "output_type": "stream",
     "text": [
      "Shape\t (1172,)\n",
      "Max\t 1.0\n",
      "Min\t 0.99999999\n",
      "Avg\t 0.999999999983\n"
     ]
    },
    {
     "data": {
      "image/png": "[encoded data removed]",
      "text/plain": [
       "<matplotlib.figure.Figure at 0x7f93d4c61e48>"
      ]
     },
     "metadata": {},
     "output_type": "display_data"
    }
   ],
   "source": [
    "array_stats(np.array(calcifications))\n",
    "hist(np.array(calcifications))"
   ]
  },
  {
   "cell_type": "markdown",
   "metadata": {},
   "source": [
    "___\n",
    "#### annotations.csv vs annotations_enhanced.csv\n",
    "___"
   ]
  },
  {
   "cell_type": "code",
   "execution_count": 9,
   "metadata": {
    "collapsed": false
   },
   "outputs": [
    {
     "data": {
      "text/html": [
       "<div>\n",
       "<table border=\"1\" class=\"dataframe\">\n",
       "  <thead>\n",
       "    <tr style=\"text-align: right;\">\n",
       "      <th></th>\n",
       "      <th>seriesuid</th>\n",
       "      <th>coordX</th>\n",
       "      <th>coordY</th>\n",
       "      <th>coordZ</th>\n",
       "      <th>diameter_mm</th>\n",
       "    </tr>\n",
       "  </thead>\n",
       "  <tbody>\n",
       "    <tr>\n",
       "      <th>0</th>\n",
       "      <td>1.3.6.1.4.1.14519.5.2.1.6279.6001.100225287222...</td>\n",
       "      <td>-128.699421</td>\n",
       "      <td>-175.319272</td>\n",
       "      <td>-298.387506</td>\n",
       "      <td>5.651471</td>\n",
       "    </tr>\n",
       "    <tr>\n",
       "      <th>1</th>\n",
       "      <td>1.3.6.1.4.1.14519.5.2.1.6279.6001.100225287222...</td>\n",
       "      <td>103.783651</td>\n",
       "      <td>-211.925149</td>\n",
       "      <td>-227.121250</td>\n",
       "      <td>4.224708</td>\n",
       "    </tr>\n",
       "    <tr>\n",
       "      <th>2</th>\n",
       "      <td>1.3.6.1.4.1.14519.5.2.1.6279.6001.100398138793...</td>\n",
       "      <td>69.639017</td>\n",
       "      <td>-140.944586</td>\n",
       "      <td>876.374496</td>\n",
       "      <td>5.786348</td>\n",
       "    </tr>\n",
       "    <tr>\n",
       "      <th>3</th>\n",
       "      <td>1.3.6.1.4.1.14519.5.2.1.6279.6001.100621383016...</td>\n",
       "      <td>-24.013824</td>\n",
       "      <td>192.102405</td>\n",
       "      <td>-391.081276</td>\n",
       "      <td>8.143262</td>\n",
       "    </tr>\n",
       "    <tr>\n",
       "      <th>4</th>\n",
       "      <td>1.3.6.1.4.1.14519.5.2.1.6279.6001.100621383016...</td>\n",
       "      <td>2.441547</td>\n",
       "      <td>172.464881</td>\n",
       "      <td>-405.493732</td>\n",
       "      <td>18.545150</td>\n",
       "    </tr>\n",
       "  </tbody>\n",
       "</table>\n",
       "</div>"
      ],
      "text/plain": [
       "                                           seriesuid      coordX      coordY  \\\n",
       "0  1.3.6.1.4.1.14519.5.2.1.6279.6001.100225287222... -128.699421 -175.319272   \n",
       "1  1.3.6.1.4.1.14519.5.2.1.6279.6001.100225287222...  103.783651 -211.925149   \n",
       "2  1.3.6.1.4.1.14519.5.2.1.6279.6001.100398138793...   69.639017 -140.944586   \n",
       "3  1.3.6.1.4.1.14519.5.2.1.6279.6001.100621383016...  -24.013824  192.102405   \n",
       "4  1.3.6.1.4.1.14519.5.2.1.6279.6001.100621383016...    2.441547  172.464881   \n",
       "\n",
       "       coordZ  diameter_mm  \n",
       "0 -298.387506     5.651471  \n",
       "1 -227.121250     4.224708  \n",
       "2  876.374496     5.786348  \n",
       "3 -391.081276     8.143262  \n",
       "4 -405.493732    18.545150  "
      ]
     },
     "execution_count": 9,
     "metadata": {},
     "output_type": "execute_result"
    }
   ],
   "source": [
    "df_annotations.head(5)"
   ]
  },
  {
   "cell_type": "code",
   "execution_count": 10,
   "metadata": {
    "collapsed": false
   },
   "outputs": [
    {
     "data": {
      "text/plain": [
       "['seriesuid', 'coordX', 'coordY', 'coordZ', 'diameter_mm']"
      ]
     },
     "execution_count": 10,
     "metadata": {},
     "output_type": "execute_result"
    }
   ],
   "source": [
    "list(df_annotations)"
   ]
  },
  {
   "cell_type": "code",
   "execution_count": 11,
   "metadata": {
    "collapsed": false
   },
   "outputs": [
    {
     "data": {
      "text/plain": [
       "['seriesuid',\n",
       " 'coordX',\n",
       " 'coordY',\n",
       " 'coordZ',\n",
       " 'diameter_mm',\n",
       " 'Xorig',\n",
       " 'Yorig',\n",
       " 'Zorig',\n",
       " 'Xspac',\n",
       " 'Yspac',\n",
       " 'Zspac',\n",
       " 'Xnpy',\n",
       " 'Ynpy',\n",
       " 'Znpy',\n",
       " 'subtlety',\n",
       " 'internal_structure',\n",
       " 'calcification',\n",
       " 'sphericity',\n",
       " 'margin',\n",
       " 'lobulation',\n",
       " 'spiculation',\n",
       " 'texture',\n",
       " 'malignancy']"
      ]
     },
     "execution_count": 11,
     "metadata": {},
     "output_type": "execute_result"
    }
   ],
   "source": [
    "list(df_annotations_enhanced)"
   ]
  },
  {
   "cell_type": "markdown",
   "metadata": {},
   "source": [
    "___\n",
    "#### candidates.csv\n",
    "___"
   ]
  },
  {
   "cell_type": "code",
   "execution_count": 12,
   "metadata": {
    "collapsed": false
   },
   "outputs": [
    {
     "data": {
      "text/html": [
       "<div>\n",
       "<table border=\"1\" class=\"dataframe\">\n",
       "  <thead>\n",
       "    <tr style=\"text-align: right;\">\n",
       "      <th></th>\n",
       "      <th>seriesuid</th>\n",
       "      <th>coordX</th>\n",
       "      <th>coordY</th>\n",
       "      <th>coordZ</th>\n",
       "      <th>class</th>\n",
       "    </tr>\n",
       "  </thead>\n",
       "  <tbody>\n",
       "    <tr>\n",
       "      <th>0</th>\n",
       "      <td>1.3.6.1.4.1.14519.5.2.1.6279.6001.100225287222...</td>\n",
       "      <td>68.420000</td>\n",
       "      <td>-74.480000</td>\n",
       "      <td>-288.700000</td>\n",
       "      <td>0</td>\n",
       "    </tr>\n",
       "    <tr>\n",
       "      <th>1</th>\n",
       "      <td>1.3.6.1.4.1.14519.5.2.1.6279.6001.100225287222...</td>\n",
       "      <td>-95.209361</td>\n",
       "      <td>-91.809406</td>\n",
       "      <td>-377.426350</td>\n",
       "      <td>0</td>\n",
       "    </tr>\n",
       "    <tr>\n",
       "      <th>2</th>\n",
       "      <td>1.3.6.1.4.1.14519.5.2.1.6279.6001.100225287222...</td>\n",
       "      <td>-24.766755</td>\n",
       "      <td>-120.379294</td>\n",
       "      <td>-273.361539</td>\n",
       "      <td>0</td>\n",
       "    </tr>\n",
       "    <tr>\n",
       "      <th>3</th>\n",
       "      <td>1.3.6.1.4.1.14519.5.2.1.6279.6001.100225287222...</td>\n",
       "      <td>-63.080000</td>\n",
       "      <td>-65.740000</td>\n",
       "      <td>-344.240000</td>\n",
       "      <td>0</td>\n",
       "    </tr>\n",
       "    <tr>\n",
       "      <th>4</th>\n",
       "      <td>1.3.6.1.4.1.14519.5.2.1.6279.6001.100225287222...</td>\n",
       "      <td>52.946688</td>\n",
       "      <td>-92.688873</td>\n",
       "      <td>-241.067872</td>\n",
       "      <td>0</td>\n",
       "    </tr>\n",
       "  </tbody>\n",
       "</table>\n",
       "</div>"
      ],
      "text/plain": [
       "                                           seriesuid     coordX      coordY  \\\n",
       "0  1.3.6.1.4.1.14519.5.2.1.6279.6001.100225287222...  68.420000  -74.480000   \n",
       "1  1.3.6.1.4.1.14519.5.2.1.6279.6001.100225287222... -95.209361  -91.809406   \n",
       "2  1.3.6.1.4.1.14519.5.2.1.6279.6001.100225287222... -24.766755 -120.379294   \n",
       "3  1.3.6.1.4.1.14519.5.2.1.6279.6001.100225287222... -63.080000  -65.740000   \n",
       "4  1.3.6.1.4.1.14519.5.2.1.6279.6001.100225287222...  52.946688  -92.688873   \n",
       "\n",
       "       coordZ  class  \n",
       "0 -288.700000      0  \n",
       "1 -377.426350      0  \n",
       "2 -273.361539      0  \n",
       "3 -344.240000      0  \n",
       "4 -241.067872      0  "
      ]
     },
     "execution_count": 12,
     "metadata": {},
     "output_type": "execute_result"
    }
   ],
   "source": [
    "df_candidates.head(5)"
   ]
  },
  {
   "cell_type": "code",
   "execution_count": 13,
   "metadata": {
    "collapsed": false
   },
   "outputs": [
    {
     "name": "stdout",
     "output_type": "stream",
     "text": [
      "754975\n",
      "1557\n",
      "0.002%\n"
     ]
    }
   ],
   "source": [
    "print (len(df_candidates['class']))\n",
    "print (sum(df_candidates['class']))\n",
    "print (\"{0:.3f}%\".format(sum(df_candidates['class'])/float(len(df_candidates['class']))))"
   ]
  },
  {
   "cell_type": "code",
   "execution_count": null,
   "metadata": {
    "collapsed": true
   },
   "outputs": [],
   "source": []
  }
 ],
 "metadata": {
  "kernelspec": {
   "display_name": "Python [conda root]",
   "language": "python",
   "name": "conda-root-py"
  },
  "language_info": {
   "codemirror_mode": {
    "name": "ipython",
    "version": 3
   },
   "file_extension": ".py",
   "mimetype": "text/x-python",
   "name": "python",
   "nbconvert_exporter": "python",
   "pygments_lexer": "ipython3",
   "version": "3.5.2"
  }
 },
 "nbformat": 4,
 "nbformat_minor": 2
}
