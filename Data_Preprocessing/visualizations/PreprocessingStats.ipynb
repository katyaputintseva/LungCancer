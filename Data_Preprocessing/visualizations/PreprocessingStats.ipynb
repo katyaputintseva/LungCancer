{
 "cells": [
  {
   "cell_type": "code",
   "execution_count": 65,
   "metadata": {
    "collapsed": true
   },
   "outputs": [],
   "source": [
    "import numpy as np\n",
    "import os\n",
    "import pandas as pd\n",
    "import inspect\n",
    "import matplotlib.pyplot as plt\n",
    "from pylab import *\n",
    "from matplotlib import gridspec"
   ]
  },
  {
   "cell_type": "code",
   "execution_count": 2,
   "metadata": {
    "collapsed": false
   },
   "outputs": [],
   "source": [
    "path = '/home/gantos/data/'\n",
    "paths_LUNA_raw = [d for d in os.listdir(path) if 'subset' in d]\n",
    "paths_LUNA_processed = [d for d in os.listdir(path) if 'voxels_' in d]\n",
    "paths_Kaggle_raw = ['stage1','stage2']\n",
    "paths_Kaggle_processed = [d for d in os.listdir(path) if 'arrays' in d]"
   ]
  },
  {
   "cell_type": "code",
   "execution_count": 3,
   "metadata": {
    "collapsed": true
   },
   "outputs": [],
   "source": [
    "def hist(ARRAY):\n",
    "    plt.hist(ARRAY.flatten(), bins=80, color='c')\n",
    "    plt.ylabel(\"Frequency\")\n",
    "    plt.show()\n",
    "\n",
    "def array_stats(ARRAY):\n",
    "    print ('Shape\\t',ARRAY.shape)\n",
    "    print ('Max\\t',np.max(ARRAY))\n",
    "    print ('Min\\t',np.min(ARRAY))\n",
    "    print ('Avg\\t',np.mean(ARRAY))"
   ]
  },
  {
   "cell_type": "code",
   "execution_count": 4,
   "metadata": {
    "collapsed": false
   },
   "outputs": [],
   "source": [
    "def Kaggle_patients(PATH,DIRECTORIES):\n",
    "    args,one,two,values = inspect.getargvalues(inspect.currentframe())\n",
    "    for i in args:\n",
    "        print (\"%s = %s\" % (i, values[i]))\n",
    "    directory_to_patients = {}\n",
    "    for directory in DIRECTORIES:\n",
    "        patients = [f[:-4] for f in os.listdir(PATH+directory+'/')]\n",
    "        patients = [f for f in patients if 'error' not in f]\n",
    "        directory_to_patients[directory] = [f for f in patients if 'mins' not in f]\n",
    "        \n",
    "        print ('\\tPatients in',directory,'..',len(directory_to_patients[directory]))\n",
    "    print ('\\tPatients TOTAL..',np.sum([len(d) for d in directory_to_patients.values()]))\n",
    "    return directory_to_patients"
   ]
  },
  {
   "cell_type": "code",
   "execution_count": 5,
   "metadata": {
    "collapsed": false
   },
   "outputs": [],
   "source": [
    "def LUNA_patients(PATH,DIRECTORIES):\n",
    "    args,one,two,values = inspect.getargvalues(inspect.currentframe())\n",
    "    for i in args:\n",
    "        print (\"%s = %s\" % (i, values[i]))\n",
    "    directory_to_patients = {}\n",
    "    for directory in DIRECTORIES:\n",
    "        directory_to_patients[directory] = [f[:-4] for f in os.listdir(PATH+directory+'/') if '.mhd' in f]\n",
    "        \n",
    "        print ('\\tPatients in',directory,'..',len(directory_to_patients[directory]))\n",
    "    print ('\\tPatients TOTAL..',np.sum([len(d) for d in directory_to_patients.values()]))\n",
    "    return directory_to_patients"
   ]
  },
  {
   "cell_type": "code",
   "execution_count": 6,
   "metadata": {
    "collapsed": false
   },
   "outputs": [],
   "source": [
    "def LUNA_voxels(PATH,DIRECTORIES):\n",
    "    df = pd.read_csv('../data/CSVFILES/annotations_enhanced.csv')\n",
    "    args,one,two,values = inspect.getargvalues(inspect.currentframe())\n",
    "    for i in args:\n",
    "        print (\"%s = %s\" % (i, values[i]))\n",
    "    \n",
    "    directory_to_voxels = {}\n",
    "    for directory in DIRECTORIES:\n",
    "        print ('VOXELS..',directory.replace('voxels_','').replace('64',''))\n",
    "        \n",
    "        directory_to_voxels[directory] = {}\n",
    "        IX_files = [f for f in os.listdir(PATH+directory+'/') if 'IX' in f]\n",
    "        \n",
    "        indices = []\n",
    "        malignancies = []\n",
    "        zeros = 0\n",
    "        mals = 0\n",
    "        for file in IX_files:\n",
    "            IX = np.load(PATH+directory+'/'+file)\n",
    "            indices.extend([i for i in IX if i>0])\n",
    "            malignancies.extend([df['malignancy'][i] for i in IX if i>0])\n",
    "            for i in IX:\n",
    "                try:\n",
    "                    df['malignancy'][i]\n",
    "                    mals += 1\n",
    "                except:\n",
    "                    zeros += 1\n",
    "        \n",
    "        print ('\\tMalignant voxels..',mals,\"{0:.3f}%\".format(mals/float(mals+zeros)))\n",
    "        print ('\\tNon-malignant voxels..',zeros,\"{0:.3f}%\".format(zeros/float(mals+zeros)))\n",
    "        \n",
    "        directory_to_voxels[directory][1] = mals\n",
    "        directory_to_voxels[directory][0] = zeros\n",
    "        directory_to_voxels[directory]['mal_IX'] = indices\n",
    "        directory_to_voxels[directory]['mal_vals'] = malignancies\n",
    "        \n",
    "        hist(np.array(indices))\n",
    "    \n",
    "    return directory_to_voxels"
   ]
  },
  {
   "cell_type": "code",
   "execution_count": 7,
   "metadata": {
    "collapsed": false
   },
   "outputs": [
    {
     "name": "stdout",
     "output_type": "stream",
     "text": [
      "PATH = /home/gantos/data/\n",
      "DIRECTORIES = ['stage1', 'stage2']\n",
      "\tPatients in stage1 .. 1595\n",
      "\tPatients in stage2 .. 506\n",
      "\tPatients TOTAL.. 2101\n",
      "PATH = /home/gantos/data/\n",
      "DIRECTORIES = ['stage1_arrays', 'stage2_arrays']\n",
      "\tPatients in stage1_arrays .. 1434\n",
      "\tPatients in stage2_arrays .. 210\n",
      "\tPatients TOTAL.. 1644\n"
     ]
    }
   ],
   "source": [
    "Kaggle_patients_raw = Kaggle_patients(path,paths_Kaggle_raw)\n",
    "Kaggle_patients_processed = Kaggle_patients(path,paths_Kaggle_processed)"
   ]
  },
  {
   "cell_type": "code",
   "execution_count": 8,
   "metadata": {
    "collapsed": true
   },
   "outputs": [],
   "source": [
    "def spacing_dicom(path):\n",
    "    import dicom\n",
    "    \n",
    "    slices = [dicom.read_file(path + '/' + s) for s in os.listdir(path)]\n",
    "    slices.sort(key = lambda x: float(x.ImagePositionPatient[2]))\n",
    "    \n",
    "    # The Image Position specifies the x, y, and z coords of the upper left hand corner of the image\n",
    "    z_depths = [s.ImagePositionPatient[2] for s in slices]\n",
    "    if len(set(z_depths))<len(z_depths):\n",
    "        print ('Duplicate slices for same z-depth - ID:',path[-32:])\n",
    "        slices.sort(key = lambda x: x.InstanceNumber)\n",
    "        acq_num = int(np.mean([s.AcquisitionNumber for s in slices]))\n",
    "        slices = [s for s in slices if s.AcquisitionNumber==acq_num]\n",
    "\n",
    "    slice_thickness = np.abs(slices[0].ImagePositionPatient[2] - slices[1].ImagePositionPatient[2])\n",
    "    if slice_thickness == 0:\n",
    "        print ('Patient with slice thickness of 0 - ID:',path[-32:])\n",
    "        assert False     \n",
    "    x,y = slices[0].ImagePositionPatient[:2]\n",
    "    \n",
    "    for s in slices:\n",
    "        s.SliceThickness = slice_thickness\n",
    "    \n",
    "    spacing = np.array(slices[0].PixelSpacing + [slices[0].SliceThickness], dtype=np.float32)\n",
    "        \n",
    "    return spacing"
   ]
  },
  {
   "cell_type": "code",
   "execution_count": null,
   "metadata": {
    "collapsed": false
   },
   "outputs": [
    {
     "name": "stdout",
     "output_type": "stream",
     "text": [
      "/home/gantos/data/stage1/\n",
      "\t 100 patient spacing stored in dictionary\n",
      "Duplicate slices for same z-depth - ID: b8bb02d229361a623a4dc57aa0e5c485\n",
      "\t 200 patient spacing stored in dictionary\n",
      "\t 300 patient spacing stored in dictionary\n",
      "\t 400 patient spacing stored in dictionary\n",
      "\t 500 patient spacing stored in dictionary\n",
      "\t 600 patient spacing stored in dictionary\n",
      "\t 700 patient spacing stored in dictionary\n",
      "\t 800 patient spacing stored in dictionary\n",
      "\t 900 patient spacing stored in dictionary\n",
      "\t 1000 patient spacing stored in dictionary\n",
      "\t 1100 patient spacing stored in dictionary\n"
     ]
    }
   ],
   "source": [
    "Kaggle_shapes = {}\n",
    "for stage in Kaggle_patients_processed.keys():\n",
    "    path_stage = path+stage[:6]+'/'\n",
    "    print (path_stage)\n",
    "    Kaggle_shapes[stage[:6]] = {}\n",
    "    count = 0\n",
    "    for patient in Kaggle_patients_processed[stage]:\n",
    "        spacing = load_dicom(path_stage+patient)\n",
    "        Kaggle_shapes[stage[:6]][patient] = spacing\n",
    "        count += 1\n",
    "        if count%100==0:\n",
    "            print ('\\t',count,'patient spacing stored in dictionary')\n",
    "        "
   ]
  },
  {
   "cell_type": "code",
   "execution_count": 15,
   "metadata": {
    "collapsed": false
   },
   "outputs": [
    {
     "name": "stdout",
     "output_type": "stream",
     "text": [
      "Dictionary SAVED\n"
     ]
    }
   ],
   "source": [
    "import pickle\n",
    "with open('./Kaggle_shapes.pickle', 'wb') as handle:\n",
    "    pickle.dump(Kaggle_shapes, handle, protocol=pickle.HIGHEST_PROTOCOL)\n",
    "print ('Dictionary SAVED')"
   ]
  },
  {
   "cell_type": "code",
   "execution_count": 18,
   "metadata": {
    "collapsed": false
   },
   "outputs": [
    {
     "data": {
      "text/plain": [
       "1434"
      ]
     },
     "execution_count": 18,
     "metadata": {},
     "output_type": "execute_result"
    }
   ],
   "source": [
    "X,Y,Z = []\n",
    "for stage in Kaggle_shapes.keys():\n",
    "    for patient in Kaggle_shapes[stage].keys():\n",
    "        "
   ]
  },
  {
   "cell_type": "code",
   "execution_count": 35,
   "metadata": {
    "collapsed": false
   },
   "outputs": [
    {
     "data": {
      "text/plain": [
       "(1644, 3)"
      ]
     },
     "execution_count": 35,
     "metadata": {},
     "output_type": "execute_result"
    }
   ],
   "source": [
    "stage1_shapes = np.vstack(Kaggle_shapes['stage1'].values())\n",
    "stage2_shapes = np.vstack(Kaggle_shapes['stage2'].values())\n",
    "all_shapes = pd.DataFrame(np.vstack((stage1_shapes,stage2_shapes)))\n",
    "all_shapes.shape"
   ]
  },
  {
   "cell_type": "code",
   "execution_count": 36,
   "metadata": {
    "collapsed": false
   },
   "outputs": [
    {
     "data": {
      "text/html": [
       "<div>\n",
       "<table border=\"1\" class=\"dataframe\">\n",
       "  <thead>\n",
       "    <tr style=\"text-align: right;\">\n",
       "      <th></th>\n",
       "      <th>0</th>\n",
       "      <th>1</th>\n",
       "      <th>2</th>\n",
       "    </tr>\n",
       "  </thead>\n",
       "  <tbody>\n",
       "    <tr>\n",
       "      <th>count</th>\n",
       "      <td>1644.000000</td>\n",
       "      <td>1644.000000</td>\n",
       "      <td>1644.000000</td>\n",
       "    </tr>\n",
       "    <tr>\n",
       "      <th>mean</th>\n",
       "      <td>0.666278</td>\n",
       "      <td>0.666278</td>\n",
       "      <td>1.854701</td>\n",
       "    </tr>\n",
       "    <tr>\n",
       "      <th>std</th>\n",
       "      <td>0.072425</td>\n",
       "      <td>0.072425</td>\n",
       "      <td>0.580547</td>\n",
       "    </tr>\n",
       "    <tr>\n",
       "      <th>min</th>\n",
       "      <td>0.488281</td>\n",
       "      <td>0.488281</td>\n",
       "      <td>0.625000</td>\n",
       "    </tr>\n",
       "    <tr>\n",
       "      <th>25%</th>\n",
       "      <td>0.615234</td>\n",
       "      <td>0.615234</td>\n",
       "      <td>1.500000</td>\n",
       "    </tr>\n",
       "    <tr>\n",
       "      <th>50%</th>\n",
       "      <td>0.664062</td>\n",
       "      <td>0.664062</td>\n",
       "      <td>2.000000</td>\n",
       "    </tr>\n",
       "    <tr>\n",
       "      <th>75%</th>\n",
       "      <td>0.703125</td>\n",
       "      <td>0.703125</td>\n",
       "      <td>2.500000</td>\n",
       "    </tr>\n",
       "    <tr>\n",
       "      <th>max</th>\n",
       "      <td>0.976562</td>\n",
       "      <td>0.976562</td>\n",
       "      <td>3.000000</td>\n",
       "    </tr>\n",
       "  </tbody>\n",
       "</table>\n",
       "</div>"
      ],
      "text/plain": [
       "                 0            1            2\n",
       "count  1644.000000  1644.000000  1644.000000\n",
       "mean      0.666278     0.666278     1.854701\n",
       "std       0.072425     0.072425     0.580547\n",
       "min       0.488281     0.488281     0.625000\n",
       "25%       0.615234     0.615234     1.500000\n",
       "50%       0.664062     0.664062     2.000000\n",
       "75%       0.703125     0.703125     2.500000\n",
       "max       0.976562     0.976562     3.000000"
      ]
     },
     "execution_count": 36,
     "metadata": {},
     "output_type": "execute_result"
    }
   ],
   "source": [
    "all_shapes.describe()"
   ]
  },
  {
   "cell_type": "code",
   "execution_count": 66,
   "metadata": {
    "collapsed": false
   },
   "outputs": [],
   "source": [
    "data_boxplot_all = [np.array(all_shapes[i]) for i in list(all_shapes)]\n",
    "data_boxplot_2 = data_boxplot_all[0:2]\n",
    "data_boxplot_1 = data_boxplot_all[2:3]\n",
    "data_labels_all = ['X','Y','Z']\n",
    "data_labels_2 = data_labels_all[0:2]\n",
    "data_labels_1 = data_labels_all[2:3]"
   ]
  },
  {
   "cell_type": "code",
   "execution_count": 233,
   "metadata": {
    "collapsed": false
   },
   "outputs": [],
   "source": [
    "\n",
    "fig = plt.figure(figsize=(10,10)) \n",
    "gs = gridspec.GridSpec(1,2,width_ratios=[2,1])\n",
    "lw = 3\n",
    "\n",
    "boxprops = dict(linestyle='-', linewidth=lw) #, color='darkgoldenrod')\n",
    "meanlineprops = dict(linestyle='-', linewidth=lw+1) #, color='purple')\n",
    "flierprops = dict(linestyle='-', linewidth=lw) #, color='purple')\n",
    "\n",
    "ax0 = plt.subplot(gs[0])\n",
    "bp_dict_2 = ax0.boxplot(data_boxplot_2,1,'o',0.75,showmeans=True, meanline=True,\n",
    "                        boxprops=boxprops, meanprops=meanlineprops,showfliers=True)\n",
    "for whisker in bp_dict_2['whiskers']:\n",
    "    whisker.set(linewidth=lw)\n",
    "for cap in bp_dict_2['caps']:\n",
    "    cap.set(linewidth=lw)\n",
    "ax0.yaxis.grid(True,linestyle='-',which='major',color='lightgrey',alpha=0.5)\n",
    "xtickNames = plt.setp(ax0,xticklabels=np.repeat(data_labels_2,1))\n",
    "plt.setp(xtickNames, fontsize=24)\n",
    "plt.setp(bp_dict_2['medians'], linewidth=lw+1)\n",
    "plt.rc('ytick',labelsize=24)\n",
    "\n",
    "x_shift = [1.25,2.25,1.25,2.25]\n",
    "x_shift_w = [1.25,1.25,2.25,2.25]\n",
    "for line in bp_dict_2['medians']:\n",
    "    # get position data for median line\n",
    "    x, y = line.get_xydata()[1] # top of median line\n",
    "    # overlay median value\n",
    "    ax0.text(x_shift[list(bp_dict_2['medians']).index(line)], y, '%.2f' % y,\n",
    "         horizontalalignment='center',\n",
    "         verticalalignment='baseline',\n",
    "         fontsize=24,color='orange')\n",
    "for line in bp_dict_2['means']:\n",
    "    # get position data for median line\n",
    "    x, y = line.get_xydata()[1] # top of median line\n",
    "    # overlay median value\n",
    "    ax0.text(x_shift[list(bp_dict_2['means']).index(line)], y-0.1, '%.2f' % y,\n",
    "         horizontalalignment='center',\n",
    "         verticalalignment='baseline',\n",
    "         fontsize=24,color='green')\n",
    "\n",
    "for line in bp_dict_2['boxes']:\n",
    "    x, y = line.get_xydata()[0] # bottom of left line\n",
    "    ax0.text(x_shift[list(bp_dict_2['boxes']).index(line)],y, '%.2f' % y,\n",
    "         horizontalalignment='center', # centered\n",
    "         verticalalignment='center',\n",
    "         fontsize=24)      # below\n",
    "    x, y = line.get_xydata()[5] # bottom of right line\n",
    "    ax0.text(x_shift[list(bp_dict_2['boxes']).index(line)],y, '%.2f' % y,\n",
    "         horizontalalignment='center', # centered\n",
    "         verticalalignment='top',\n",
    "         fontsize=24)      # below\n",
    "for line in bp_dict_2['caps']:\n",
    "    x, y = line.get_xydata()[1] # bottom of left line\n",
    "    ax0.text(x_shift_w[list(bp_dict_2['caps']).index(line)],y, '%.2f' % y,\n",
    "         horizontalalignment='center', # centered\n",
    "         verticalalignment='center',\n",
    "         fontsize=24)      # below\n",
    "\n",
    "\n",
    "ax1 = plt.subplot(gs[1])\n",
    "bp_dict_1 = ax1.boxplot(data_boxplot_1,1,'o',0.75, showmeans=True, meanline=True,\n",
    "                        boxprops=boxprops, meanprops=meanlineprops,showfliers=True)\n",
    "for whisker in bp_dict_1['whiskers']:\n",
    "    whisker.set(linewidth=lw)\n",
    "for cap in bp_dict_1['caps']:\n",
    "    cap.set(linewidth=lw)\n",
    "ax1.yaxis.grid(True,linestyle='-',which='major',color='lightgrey',alpha=0.5)\n",
    "xtickNames = plt.setp(ax1,xticklabels=np.repeat(data_labels_1,1))\n",
    "plt.setp(xtickNames, fontsize=24)\n",
    "plt.setp(bp_dict_1['medians'], linewidth=lw+1)\n",
    "plt.rc('ytick',labelsize=24)\n",
    "\n",
    "x_shift = 1.275\n",
    "for line in bp_dict_1['medians']:\n",
    "    # get position data for median line\n",
    "    x, y = line.get_xydata()[1] # top of median line\n",
    "    # overlay median value\n",
    "    ax1.text(x_shift, y, '%.2f' % y,\n",
    "         horizontalalignment='center',\n",
    "         verticalalignment='baseline',\n",
    "         fontsize=24,color='orange')\n",
    "for line in bp_dict_1['means']:\n",
    "    # get position data for median line\n",
    "    x, y = line.get_xydata()[1] # top of median line\n",
    "    # overlay median value\n",
    "    ax1.text(x_shift, y, '%.2f' % y,\n",
    "         horizontalalignment='center',\n",
    "         verticalalignment='baseline',\n",
    "         fontsize=24,color='green')\n",
    "\n",
    "for line in bp_dict_1['boxes']:\n",
    "    x, y = line.get_xydata()[0] # bottom of left line\n",
    "    ax1.text(x_shift,y, '%.2f' % y,\n",
    "         horizontalalignment='center', # centered\n",
    "         verticalalignment='center',\n",
    "         fontsize=24)      # below\n",
    "#     x, y = line.get_xydata()[5] # bottom of right line\n",
    "#     ax1.text(x_shift,y, '%.2f' % y,\n",
    "#          horizontalalignment='center', # centered\n",
    "#          verticalalignment='top',\n",
    "#          fontsize=24)      # below\n",
    "for line in bp_dict_1['caps']:\n",
    "    x, y = line.get_xydata()[1] # bottom of left line\n",
    "    ax1.text(x_shift,y, '%.2f' % y,\n",
    "         horizontalalignment='center', # centered\n",
    "         verticalalignment='center',\n",
    "         fontsize=24)      # below\n",
    "\n",
    "plt.tight_layout()\n",
    "plt.savefig('./figs/Kaggle_Boxplot.png', transparent=True, bbox_inches='tight')"
   ]
  },
  {
   "cell_type": "code",
   "execution_count": 234,
   "metadata": {
    "collapsed": false
   },
   "outputs": [
    {
     "data": {
      "image/png": "[encoded data removed]",
      "text/plain": [
       "<matplotlib.figure.Figure at 0x7fdfa0508278>"
      ]
     },
     "metadata": {},
     "output_type": "display_data"
    }
   ],
   "source": [
    "plt.show()"
   ]
  },
  {
   "cell_type": "markdown",
   "metadata": {},
   "source": [
    "<img src=\"figs/Kaggle_Boxplot.png\">"
   ]
  },
  {
   "cell_type": "code",
   "execution_count": 41,
   "metadata": {
    "collapsed": true
   },
   "outputs": [],
   "source": [
    "def shape_dicom(path):\n",
    "    import dicom\n",
    "    \n",
    "    slices = [dicom.read_file(path + '/' + s) for s in os.listdir(path)]\n",
    "    slices = np.stack([s.pixel_array for s in slices],axis=2).astype(np.int16)\n",
    "    \n",
    "    return slices.shape"
   ]
  },
  {
   "cell_type": "code",
   "execution_count": 42,
   "metadata": {
    "collapsed": false
   },
   "outputs": [
    {
     "name": "stdout",
     "output_type": "stream",
     "text": [
      "/home/gantos/data/stage1/\n",
      "\t 100 patient spacing stored in dictionary\n",
      "\t 200 patient spacing stored in dictionary\n",
      "\t 300 patient spacing stored in dictionary\n",
      "\t 400 patient spacing stored in dictionary\n",
      "\t 500 patient spacing stored in dictionary\n",
      "\t 600 patient spacing stored in dictionary\n",
      "\t 700 patient spacing stored in dictionary\n",
      "\t 800 patient spacing stored in dictionary\n",
      "\t 900 patient spacing stored in dictionary\n",
      "\t 1000 patient spacing stored in dictionary\n",
      "\t 1100 patient spacing stored in dictionary\n",
      "\t 1200 patient spacing stored in dictionary\n",
      "\t 1300 patient spacing stored in dictionary\n",
      "\t 1400 patient spacing stored in dictionary\n",
      "/home/gantos/data/stage2/\n",
      "\t 100 patient spacing stored in dictionary\n",
      "\t 200 patient spacing stored in dictionary\n"
     ]
    }
   ],
   "source": [
    "Kaggle_array_shapes = {}\n",
    "for stage in Kaggle_patients_processed.keys():\n",
    "    path_stage = path+stage[:6]+'/'\n",
    "    print (path_stage)\n",
    "    Kaggle_array_shapes[stage[:6]] = {}\n",
    "    count = 0\n",
    "    for patient in Kaggle_patients_processed[stage]:\n",
    "        spacing = shape_dicom(path_stage+patient)\n",
    "        Kaggle_array_shapes[stage[:6]][patient] = spacing\n",
    "        count += 1\n",
    "        if count%100==0:\n",
    "            print ('\\t',count,'patient spacing stored in dictionary')\n",
    "        "
   ]
  },
  {
   "cell_type": "code",
   "execution_count": 43,
   "metadata": {
    "collapsed": false
   },
   "outputs": [
    {
     "name": "stdout",
     "output_type": "stream",
     "text": [
      "Dictionary SAVED\n"
     ]
    }
   ],
   "source": [
    "with open('./Kaggle_array_shapes.pickle', 'wb') as handle:\n",
    "    pickle.dump(Kaggle_array_shapes, handle, protocol=pickle.HIGHEST_PROTOCOL)\n",
    "print ('Dictionary SAVED')"
   ]
  },
  {
   "cell_type": "code",
   "execution_count": 48,
   "metadata": {
    "collapsed": false
   },
   "outputs": [
    {
     "data": {
      "text/plain": [
       "(1644, 3)"
      ]
     },
     "execution_count": 48,
     "metadata": {},
     "output_type": "execute_result"
    }
   ],
   "source": [
    "stage1_array_shapes = np.vstack(Kaggle_array_shapes['stage1'].values())\n",
    "stage2_array_shapes = np.vstack(Kaggle_array_shapes['stage2'].values())\n",
    "all_array_shapes = pd.DataFrame(np.vstack((stage1_array_shapes,stage2_array_shapes)))\n",
    "all_array_shapes.shape"
   ]
  },
  {
   "cell_type": "code",
   "execution_count": 49,
   "metadata": {
    "collapsed": false
   },
   "outputs": [
    {
     "data": {
      "text/html": [
       "<div>\n",
       "<table border=\"1\" class=\"dataframe\">\n",
       "  <thead>\n",
       "    <tr style=\"text-align: right;\">\n",
       "      <th></th>\n",
       "      <th>0</th>\n",
       "      <th>1</th>\n",
       "      <th>2</th>\n",
       "    </tr>\n",
       "  </thead>\n",
       "  <tbody>\n",
       "    <tr>\n",
       "      <th>count</th>\n",
       "      <td>1644.0</td>\n",
       "      <td>1644.0</td>\n",
       "      <td>1644.000000</td>\n",
       "    </tr>\n",
       "    <tr>\n",
       "      <th>mean</th>\n",
       "      <td>512.0</td>\n",
       "      <td>512.0</td>\n",
       "      <td>199.813260</td>\n",
       "    </tr>\n",
       "    <tr>\n",
       "      <th>std</th>\n",
       "      <td>0.0</td>\n",
       "      <td>0.0</td>\n",
       "      <td>103.889694</td>\n",
       "    </tr>\n",
       "    <tr>\n",
       "      <th>min</th>\n",
       "      <td>512.0</td>\n",
       "      <td>512.0</td>\n",
       "      <td>87.000000</td>\n",
       "    </tr>\n",
       "    <tr>\n",
       "      <th>25%</th>\n",
       "      <td>512.0</td>\n",
       "      <td>512.0</td>\n",
       "      <td>135.000000</td>\n",
       "    </tr>\n",
       "    <tr>\n",
       "      <th>50%</th>\n",
       "      <td>512.0</td>\n",
       "      <td>512.0</td>\n",
       "      <td>162.000000</td>\n",
       "    </tr>\n",
       "    <tr>\n",
       "      <th>75%</th>\n",
       "      <td>512.0</td>\n",
       "      <td>512.0</td>\n",
       "      <td>216.000000</td>\n",
       "    </tr>\n",
       "    <tr>\n",
       "      <th>max</th>\n",
       "      <td>512.0</td>\n",
       "      <td>512.0</td>\n",
       "      <td>615.000000</td>\n",
       "    </tr>\n",
       "  </tbody>\n",
       "</table>\n",
       "</div>"
      ],
      "text/plain": [
       "            0       1            2\n",
       "count  1644.0  1644.0  1644.000000\n",
       "mean    512.0   512.0   199.813260\n",
       "std       0.0     0.0   103.889694\n",
       "min     512.0   512.0    87.000000\n",
       "25%     512.0   512.0   135.000000\n",
       "50%     512.0   512.0   162.000000\n",
       "75%     512.0   512.0   216.000000\n",
       "max     512.0   512.0   615.000000"
      ]
     },
     "execution_count": 49,
     "metadata": {},
     "output_type": "execute_result"
    }
   ],
   "source": [
    "all_array_shapes.describe()"
   ]
  },
  {
   "cell_type": "code",
   "execution_count": 191,
   "metadata": {
    "collapsed": false
   },
   "outputs": [
    {
     "name": "stdout",
     "output_type": "stream",
     "text": [
      "PATH = /home/gantos/data/\n",
      "DIRECTORIES = ['subset2', 'subset9', 'subset5', 'subset3', 'subset4', 'subset6', 'subset0', 'subset8', 'subset1', 'subset7']\n",
      "\tPatients in subset2 .. 89\n",
      "\tPatients in subset9 .. 88\n",
      "\tPatients in subset5 .. 89\n",
      "\tPatients in subset3 .. 89\n",
      "\tPatients in subset4 .. 89\n",
      "\tPatients in subset6 .. 89\n",
      "\tPatients in subset0 .. 89\n",
      "\tPatients in subset8 .. 88\n",
      "\tPatients in subset1 .. 89\n",
      "\tPatients in subset7 .. 89\n",
      "\tPatients TOTAL.. 888\n"
     ]
    }
   ],
   "source": [
    "LUNA_patients_raw = LUNA_patients(path,paths_LUNA_raw)"
   ]
  },
  {
   "cell_type": "code",
   "execution_count": 192,
   "metadata": {
    "collapsed": false
   },
   "outputs": [
    {
     "name": "stdout",
     "output_type": "stream",
     "text": [
      "PATH = /home/gantos/data/\n",
      "DIRECTORIES = ['voxels_random64', 'voxels_false64', 'stage1_voxels_mask', 'voxels_true64', 'stage2_voxels_mask']\n",
      "VOXELS.. random\n",
      "\tMalignant voxels.. 23 0.004%\n",
      "\tNon-malignant voxels.. 5305 0.996%\n",
      "VOXELS.. false\n",
      "\tMalignant voxels.. 467 0.044%\n",
      "\tNon-malignant voxels.. 10189 0.956%\n",
      "VOXELS.. stage1_mask\n"
     ]
    },
    {
     "ename": "ZeroDivisionError",
     "evalue": "float division by zero",
     "output_type": "error",
     "traceback": [
      "\u001b[0;31m---------------------------------------------------------------------------\u001b[0m",
      "\u001b[0;31mZeroDivisionError\u001b[0m                         Traceback (most recent call last)",
      "\u001b[0;32m<ipython-input-192-b4b74f799e2e>\u001b[0m in \u001b[0;36m<module>\u001b[0;34m()\u001b[0m\n\u001b[0;32m----> 1\u001b[0;31m \u001b[0mLUNA_patients_processed\u001b[0m \u001b[0;34m=\u001b[0m \u001b[0mLUNA_voxels\u001b[0m\u001b[0;34m(\u001b[0m\u001b[0mpath\u001b[0m\u001b[0;34m,\u001b[0m\u001b[0mpaths_LUNA_processed\u001b[0m\u001b[0;34m)\u001b[0m\u001b[0;34m\u001b[0m\u001b[0m\n\u001b[0m",
      "\u001b[0;32m<ipython-input-6-f3f1a2f6e5e5>\u001b[0m in \u001b[0;36mLUNA_voxels\u001b[0;34m(PATH, DIRECTORIES)\u001b[0m\n\u001b[1;32m     27\u001b[0m                     \u001b[0mzeros\u001b[0m \u001b[0;34m+=\u001b[0m \u001b[0;36m1\u001b[0m\u001b[0;34m\u001b[0m\u001b[0m\n\u001b[1;32m     28\u001b[0m \u001b[0;34m\u001b[0m\u001b[0m\n\u001b[0;32m---> 29\u001b[0;31m         \u001b[0mprint\u001b[0m \u001b[0;34m(\u001b[0m\u001b[0;34m'\\tMalignant voxels..'\u001b[0m\u001b[0;34m,\u001b[0m\u001b[0mmals\u001b[0m\u001b[0;34m,\u001b[0m\u001b[0;34m\"{0:.3f}%\"\u001b[0m\u001b[0;34m.\u001b[0m\u001b[0mformat\u001b[0m\u001b[0;34m(\u001b[0m\u001b[0mmals\u001b[0m\u001b[0;34m/\u001b[0m\u001b[0mfloat\u001b[0m\u001b[0;34m(\u001b[0m\u001b[0mmals\u001b[0m\u001b[0;34m+\u001b[0m\u001b[0mzeros\u001b[0m\u001b[0;34m)\u001b[0m\u001b[0;34m)\u001b[0m\u001b[0;34m)\u001b[0m\u001b[0;34m\u001b[0m\u001b[0m\n\u001b[0m\u001b[1;32m     30\u001b[0m         \u001b[0mprint\u001b[0m \u001b[0;34m(\u001b[0m\u001b[0;34m'\\tNon-malignant voxels..'\u001b[0m\u001b[0;34m,\u001b[0m\u001b[0mzeros\u001b[0m\u001b[0;34m,\u001b[0m\u001b[0;34m\"{0:.3f}%\"\u001b[0m\u001b[0;34m.\u001b[0m\u001b[0mformat\u001b[0m\u001b[0;34m(\u001b[0m\u001b[0mzeros\u001b[0m\u001b[0;34m/\u001b[0m\u001b[0mfloat\u001b[0m\u001b[0;34m(\u001b[0m\u001b[0mmals\u001b[0m\u001b[0;34m+\u001b[0m\u001b[0mzeros\u001b[0m\u001b[0;34m)\u001b[0m\u001b[0;34m)\u001b[0m\u001b[0;34m)\u001b[0m\u001b[0;34m\u001b[0m\u001b[0m\n\u001b[1;32m     31\u001b[0m \u001b[0;34m\u001b[0m\u001b[0m\n",
      "\u001b[0;31mZeroDivisionError\u001b[0m: float division by zero"
     ]
    }
   ],
   "source": [
    "LUNA_patients_processed = LUNA_voxels(path,paths_LUNA_processed)"
   ]
  },
  {
   "cell_type": "code",
   "execution_count": 195,
   "metadata": {
    "collapsed": false
   },
   "outputs": [
    {
     "data": {
      "text/plain": [
       "dict_keys(['subset1', 'subset5', 'subset7', 'subset2', 'subset8', 'subset3', 'subset6', 'subset4', 'subset0', 'subset9'])"
      ]
     },
     "execution_count": 195,
     "metadata": {},
     "output_type": "execute_result"
    }
   ],
   "source": [
    "LUNA_patients_raw.keys():"
   ]
  },
  {
   "cell_type": "code",
   "execution_count": 201,
   "metadata": {
    "collapsed": false
   },
   "outputs": [
    {
     "name": "stdout",
     "output_type": "stream",
     "text": [
      "/home/gantos/data/subset1/\n",
      "/home/gantos/data/subset5/\n",
      "/home/gantos/data/subset7/\n",
      "/home/gantos/data/subset2/\n",
      "/home/gantos/data/subset8/\n",
      "/home/gantos/data/subset3/\n",
      "/home/gantos/data/subset6/\n",
      "/home/gantos/data/subset4/\n",
      "/home/gantos/data/subset0/\n",
      "/home/gantos/data/subset9/\n"
     ]
    }
   ],
   "source": [
    "import SimpleITK as sitk\n",
    "\n",
    "LUNA_shapes = {}\n",
    "for subset in LUNA_patients_raw.keys():\n",
    "    path_subset = path+subset+'/'\n",
    "    print (path_subset)\n",
    "    LUNA_shapes[subset] = {}\n",
    "    count = 0\n",
    "    for patient in LUNA_patients_raw[subset]:\n",
    "        itkimage = sitk.ReadImage(path_subset+patient+'.mhd')\n",
    "        img = sitk.GetArrayFromImage(itkimage)\n",
    "        z,y,x = list(reversed(itkimage.GetSpacing()))\n",
    "        LUNA_shapes[subset][patient] = [x,y,z,img.shape]\n",
    "        count += 1\n",
    "        if count%100==0:\n",
    "            print ('\\t',count,'patient spacing stored in dictionary')\n"
   ]
  },
  {
   "cell_type": "code",
   "execution_count": 204,
   "metadata": {
    "collapsed": false,
    "scrolled": true
   },
   "outputs": [
    {
     "data": {
      "text/plain": [
       "dict_keys(['1.3.6.1.4.1.14519.5.2.1.6279.6001.219087313261026510628926082729', '1.3.6.1.4.1.14519.5.2.1.6279.6001.194440094986948071643661798326', '1.3.6.1.4.1.14519.5.2.1.6279.6001.716498695101447665580610403574', '1.3.6.1.4.1.14519.5.2.1.6279.6001.202811684116768680758082619196', '1.3.6.1.4.1.14519.5.2.1.6279.6001.187451715205085403623595258748', '1.3.6.1.4.1.14519.5.2.1.6279.6001.130438550890816550994739120843', '1.3.6.1.4.1.14519.5.2.1.6279.6001.313334055029671473836954456733', '1.3.6.1.4.1.14519.5.2.1.6279.6001.564534197011295112247542153557', '1.3.6.1.4.1.14519.5.2.1.6279.6001.194465340552956447447896167830', '1.3.6.1.4.1.14519.5.2.1.6279.6001.154677396354641150280013275227', '1.3.6.1.4.1.14519.5.2.1.6279.6001.250863365157630276148828903732', '1.3.6.1.4.1.14519.5.2.1.6279.6001.281489753704424911132261151767', '1.3.6.1.4.1.14519.5.2.1.6279.6001.111172165674661221381920536987', '1.3.6.1.4.1.14519.5.2.1.6279.6001.231645134739451754302647733304', '1.3.6.1.4.1.14519.5.2.1.6279.6001.269689294231892620436462818860', '1.3.6.1.4.1.14519.5.2.1.6279.6001.124154461048929153767743874565', '1.3.6.1.4.1.14519.5.2.1.6279.6001.898642529028521482602829374444', '1.3.6.1.4.1.14519.5.2.1.6279.6001.188376349804761988217597754952', '1.3.6.1.4.1.14519.5.2.1.6279.6001.137763212752154081977261297097', '1.3.6.1.4.1.14519.5.2.1.6279.6001.250438451287314206124484591986', '1.3.6.1.4.1.14519.5.2.1.6279.6001.294188507421106424248264912111', '1.3.6.1.4.1.14519.5.2.1.6279.6001.334517907433161353885866806005', '1.3.6.1.4.1.14519.5.2.1.6279.6001.323859712968543712594665815359', '1.3.6.1.4.1.14519.5.2.1.6279.6001.272042302501586336192628818865', '1.3.6.1.4.1.14519.5.2.1.6279.6001.126121460017257137098781143514', '1.3.6.1.4.1.14519.5.2.1.6279.6001.430109407146633213496148200410', '1.3.6.1.4.1.14519.5.2.1.6279.6001.141069661700670042960678408762', '1.3.6.1.4.1.14519.5.2.1.6279.6001.293757615532132808762625441831', '1.3.6.1.4.1.14519.5.2.1.6279.6001.525937963993475482158828421281', '1.3.6.1.4.1.14519.5.2.1.6279.6001.278660284797073139172446973682', '1.3.6.1.4.1.14519.5.2.1.6279.6001.302134342469412607966016057827', '1.3.6.1.4.1.14519.5.2.1.6279.6001.724251104254976962355686318345', '1.3.6.1.4.1.14519.5.2.1.6279.6001.146429221666426688999739595820', '1.3.6.1.4.1.14519.5.2.1.6279.6001.241570579760883349458693655367', '1.3.6.1.4.1.14519.5.2.1.6279.6001.219909753224298157409438012179', '1.3.6.1.4.1.14519.5.2.1.6279.6001.752756872840730509471096155114', '1.3.6.1.4.1.14519.5.2.1.6279.6001.534083630500464995109143618896', '1.3.6.1.4.1.14519.5.2.1.6279.6001.213140617640021803112060161074', '1.3.6.1.4.1.14519.5.2.1.6279.6001.280972147860943609388015648430', '1.3.6.1.4.1.14519.5.2.1.6279.6001.139258777898746693365877042411', '1.3.6.1.4.1.14519.5.2.1.6279.6001.333145094436144085379032922488', '1.3.6.1.4.1.14519.5.2.1.6279.6001.979083010707182900091062408058', '1.3.6.1.4.1.14519.5.2.1.6279.6001.139713436241461669335487719526', '1.3.6.1.4.1.14519.5.2.1.6279.6001.323302986710576400812869264321', '1.3.6.1.4.1.14519.5.2.1.6279.6001.210837812047373739447725050963', '1.3.6.1.4.1.14519.5.2.1.6279.6001.216882370221919561230873289517', '1.3.6.1.4.1.14519.5.2.1.6279.6001.295298571102631191572192562523', '1.3.6.1.4.1.14519.5.2.1.6279.6001.868211851413924881662621747734', '1.3.6.1.4.1.14519.5.2.1.6279.6001.105756658031515062000744821260', '1.3.6.1.4.1.14519.5.2.1.6279.6001.277445975068759205899107114231', '1.3.6.1.4.1.14519.5.2.1.6279.6001.395623571499047043765181005112', '1.3.6.1.4.1.14519.5.2.1.6279.6001.826812708000318290301835871780', '1.3.6.1.4.1.14519.5.2.1.6279.6001.905371958588660410240398317235', '1.3.6.1.4.1.14519.5.2.1.6279.6001.313835996725364342034830119490', '1.3.6.1.4.1.14519.5.2.1.6279.6001.313605260055394498989743099991', '1.3.6.1.4.1.14519.5.2.1.6279.6001.417815314896088956784723476543', '1.3.6.1.4.1.14519.5.2.1.6279.6001.303421828981831854739626597495', '1.3.6.1.4.1.14519.5.2.1.6279.6001.397062004302272014259317520874', '1.3.6.1.4.1.14519.5.2.1.6279.6001.805925269324902055566754756843', '1.3.6.1.4.1.14519.5.2.1.6279.6001.450501966058662668272378865145', '1.3.6.1.4.1.14519.5.2.1.6279.6001.134996872583497382954024478441', '1.3.6.1.4.1.14519.5.2.1.6279.6001.317087518531899043292346860596', '1.3.6.1.4.1.14519.5.2.1.6279.6001.404364125369979066736354549484', '1.3.6.1.4.1.14519.5.2.1.6279.6001.305858704835252413616501469037', '1.3.6.1.4.1.14519.5.2.1.6279.6001.126264578931778258890371755354', '1.3.6.1.4.1.14519.5.2.1.6279.6001.249530219848512542668813996730', '1.3.6.1.4.1.14519.5.2.1.6279.6001.975254950136384517744116790879', '1.3.6.1.4.1.14519.5.2.1.6279.6001.238522526736091851696274044574', '1.3.6.1.4.1.14519.5.2.1.6279.6001.295420274214095686326263147663', '1.3.6.1.4.1.14519.5.2.1.6279.6001.129055977637338639741695800950', '1.3.6.1.4.1.14519.5.2.1.6279.6001.227962600322799211676960828223', '1.3.6.1.4.1.14519.5.2.1.6279.6001.138080888843357047811238713686', '1.3.6.1.4.1.14519.5.2.1.6279.6001.122763913896761494371822656720', '1.3.6.1.4.1.14519.5.2.1.6279.6001.188209889686363159853715266493', '1.3.6.1.4.1.14519.5.2.1.6279.6001.332453873575389860371315979768', '1.3.6.1.4.1.14519.5.2.1.6279.6001.109002525524522225658609808059', '1.3.6.1.4.1.14519.5.2.1.6279.6001.310548927038333190233889983845', '1.3.6.1.4.1.14519.5.2.1.6279.6001.511347030803753100045216493273', '1.3.6.1.4.1.14519.5.2.1.6279.6001.566816709786169715745131047975', '1.3.6.1.4.1.14519.5.2.1.6279.6001.657775098760536289051744981056', '1.3.6.1.4.1.14519.5.2.1.6279.6001.144438612068946916340281098509', '1.3.6.1.4.1.14519.5.2.1.6279.6001.311981398931043315779172047718', '1.3.6.1.4.1.14519.5.2.1.6279.6001.534006575256943390479252771547', '1.3.6.1.4.1.14519.5.2.1.6279.6001.310626494937915759224334597176', '1.3.6.1.4.1.14519.5.2.1.6279.6001.832260670372728970918746541371', '1.3.6.1.4.1.14519.5.2.1.6279.6001.640729228179368154416184318668', '1.3.6.1.4.1.14519.5.2.1.6279.6001.621916089407825046337959219998', '1.3.6.1.4.1.14519.5.2.1.6279.6001.108197895896446896160048741492', '1.3.6.1.4.1.14519.5.2.1.6279.6001.128023902651233986592378348912'])"
      ]
     },
     "execution_count": 204,
     "metadata": {},
     "output_type": "execute_result"
    }
   ],
   "source": [
    "LUNA_shapes['subset0'].keys()"
   ]
  },
  {
   "cell_type": "code",
   "execution_count": 210,
   "metadata": {
    "collapsed": false,
    "scrolled": true
   },
   "outputs": [
    {
     "data": {
      "text/plain": [
       "[[0.7617189884185791, 0.7617189884185791, 2.5],\n",
       " [0.6640620231628418, 0.6640620231628418, 1.25],\n",
       " [0.51953125, 0.51953125, 0.699999988079071],\n",
       " [0.5839840173721313, 0.5839840173721313, 2.5],\n",
       " [0.7480469942092896, 0.7480469942092896, 2.5],\n",
       " [0.76953125, 0.76953125, 1.0000001192092896],\n",
       " [0.56640625, 0.56640625, 1.7999999523162842],\n",
       " [0.78125, 0.78125, 2.5],\n",
       " [0.703125, 0.703125, 0.625],\n",
       " [0.703125, 0.703125, 0.625],\n",
       " [0.7421879768371582, 0.7421879768371582, 0.625],\n",
       " [0.703125, 0.703125, 2.5],\n",
       " [0.58984375, 0.58984375, 1.7999999523162842],\n",
       " [0.78125, 0.78125, 2.5],\n",
       " [0.7285159826278687, 0.7285159826278687, 1.25],\n",
       " [0.703125, 0.703125, 1.25],\n",
       " [0.5859379768371582, 0.5859379768371582, 2.0],\n",
       " [0.703125, 0.703125, 2.5],\n",
       " [0.703125, 0.703125, 0.625],\n",
       " [0.5664060115814209, 0.5664060115814209, 1.25],\n",
       " [0.546875, 0.546875, 1.0],\n",
       " [0.859375, 0.859375, 2.5],\n",
       " [0.6640620231628418, 0.6640620231628418, 2.5],\n",
       " [0.60546875, 0.60546875, 1.7999999523162842],\n",
       " [0.625, 0.625, 1.25],\n",
       " [0.6445310115814209, 0.6445310115814209, 2.5],\n",
       " [0.7421879768371582, 0.7421879768371582, 2.5],\n",
       " [0.703125, 0.703125, 2.5],\n",
       " [0.546875, 0.546875, 1.0],\n",
       " [0.7421879768371582, 0.7421879768371582, 1.25],\n",
       " [0.703125, 0.703125, 1.25],\n",
       " [0.7226560115814209, 0.7226560115814209, 2.0],\n",
       " [0.67578125, 0.67578125, 0.75],\n",
       " [0.78125, 0.78125, 2.5],\n",
       " [0.7421875, 0.7421875, 1.0],\n",
       " [0.625, 0.625, 0.625],\n",
       " [0.689453125, 0.689453125, 0.5],\n",
       " [0.6152340173721313, 0.6152340173721313, 1.25],\n",
       " [0.625, 0.625, 0.6249999403953552],\n",
       " [0.5859379768371582, 0.5859379768371582, 2.5],\n",
       " [0.703125, 0.703125, 0.625],\n",
       " [0.5859379768371582, 0.5859379768371582, 1.25],\n",
       " [0.64453125, 0.64453125, 1.0],\n",
       " [0.6640620231628418, 0.6640620231628418, 1.25],\n",
       " [0.5136719942092896, 0.5136719942092896, 1.25],\n",
       " [0.828125, 0.828125, 1.25],\n",
       " [0.49609375, 0.49609375, 0.5],\n",
       " [0.5664060115814209, 0.5664060115814209, 2.5],\n",
       " [0.7226560115814209, 0.7226560115814209, 1.25],\n",
       " [0.78125, 0.78125, 2.5],\n",
       " [0.5898439884185791, 0.5898439884185791, 1.25],\n",
       " [0.5644530057907104, 0.5644530057907104, 2.500000238418579],\n",
       " [0.546875, 0.546875, 0.625],\n",
       " [0.48828125, 0.48828125, 1.7999999523162842],\n",
       " [0.583984375, 0.583984375, 1.0000001192092896],\n",
       " [0.703125, 0.703125, 2.5],\n",
       " [0.703125, 0.703125, 2.5],\n",
       " [0.7871090173721313, 0.7871090173721313, 1.25],\n",
       " [0.78125, 0.78125, 2.5],\n",
       " [0.7265620231628418, 0.7265620231628418, 2.5],\n",
       " [0.703125, 0.703125, 0.625],\n",
       " [0.6640620231628418, 0.6640620231628418, 2.5],\n",
       " [0.6835939884185791, 0.6835939884185791, 2.0],\n",
       " [0.703125, 0.703125, 2.5],\n",
       " [0.703125, 0.703125, 1.25],\n",
       " [0.60546875, 0.60546875, 1.7999999523162842],\n",
       " [0.7226560115814209, 0.7226560115814209, 2.5],\n",
       " [0.56640625, 0.56640625, 1.0],\n",
       " [0.546875, 0.546875, 0.625],\n",
       " [0.830078125, 0.830078125, 1.0],\n",
       " [0.78125, 0.78125, 1.25],\n",
       " [0.7617189884185791, 0.7617189884185791, 1.25],\n",
       " [0.8203120231628418, 0.8203120231628418, 2.5],\n",
       " [0.5859379768371582, 0.5859379768371582, 1.25],\n",
       " [0.78125, 0.78125, 0.625],\n",
       " [0.72265625, 0.72265625, 1.7999999523162842],\n",
       " [0.625, 0.625, 1.7999999523162842],\n",
       " [0.6484379768371582, 0.6484379768371582, 2.5],\n",
       " [0.7617189884185791, 0.7617189884185791, 1.25],\n",
       " [0.703125, 0.703125, 1.7999999523162842],\n",
       " [0.8203120231628418, 0.8203120231628418, 2.5],\n",
       " [0.7421879768371582, 0.7421879768371582, 2.5],\n",
       " [0.78125, 0.78125, 2.5],\n",
       " [0.703125, 0.703125, 0.625],\n",
       " [0.625, 0.625, 2.0],\n",
       " [0.6367189884185791, 0.6367189884185791, 1.25],\n",
       " [0.734375, 0.734375, 2.5],\n",
       " [0.625, 0.625, 1.0],\n",
       " [0.703125, 0.703125, 2.5]]"
      ]
     },
     "execution_count": 210,
     "metadata": {},
     "output_type": "execute_result"
    }
   ],
   "source": [
    "[l[0:3] for l in list(LUNA_shapes[subset].values())]"
   ]
  },
  {
   "cell_type": "code",
   "execution_count": 211,
   "metadata": {
    "collapsed": false
   },
   "outputs": [
    {
     "data": {
      "text/plain": [
       "(888, 3)"
      ]
     },
     "execution_count": 211,
     "metadata": {},
     "output_type": "execute_result"
    }
   ],
   "source": [
    "subset_shapes = []\n",
    "for subset in LUNA_shapes.keys():\n",
    "    subset_shapes.append(np.vstack([l[0:3] for l in list(LUNA_shapes[subset].values())]))\n",
    "LUNA_all_shapes = pd.DataFrame(np.vstack((subset_shapes)))\n",
    "LUNA_all_shapes.shape"
   ]
  },
  {
   "cell_type": "code",
   "execution_count": 212,
   "metadata": {
    "collapsed": false
   },
   "outputs": [],
   "source": [
    "data_boxplot_all = [np.array(LUNA_all_shapes[i]) for i in list(LUNA_all_shapes)]\n",
    "data_boxplot_2 = data_boxplot_all[0:2]\n",
    "data_boxplot_1 = data_boxplot_all[2:3]\n",
    "data_labels_all = ['X','Y','Z']\n",
    "data_labels_2 = data_labels_all[0:2]\n",
    "data_labels_1 = data_labels_all[2:3]"
   ]
  },
  {
   "cell_type": "code",
   "execution_count": 249,
   "metadata": {
    "collapsed": false
   },
   "outputs": [],
   "source": [
    "\n",
    "fig = plt.figure(figsize=(10,10)) \n",
    "gs = gridspec.GridSpec(1,2,width_ratios=[2,1])\n",
    "lw = 3\n",
    "\n",
    "boxprops = dict(linestyle='-', linewidth=lw) #, color='darkgoldenrod')\n",
    "meanlineprops = dict(linestyle='-', linewidth=lw+1) #, color='purple')\n",
    "flierprops = dict(linestyle='-', linewidth=lw) #, color='purple')\n",
    "\n",
    "ax0 = plt.subplot(gs[0])\n",
    "bp_dict_2 = ax0.boxplot(data_boxplot_2,1,'o',0.75,showmeans=True, meanline=True,\n",
    "                        boxprops=boxprops, meanprops=meanlineprops,showfliers=True)\n",
    "for whisker in bp_dict_2['whiskers']:\n",
    "    whisker.set(linewidth=lw)\n",
    "for cap in bp_dict_2['caps']:\n",
    "    cap.set(linewidth=lw)\n",
    "ax0.yaxis.grid(True,linestyle='-',which='major',color='lightgrey',alpha=0.5)\n",
    "xtickNames = plt.setp(ax0,xticklabels=np.repeat(data_labels_2,1))\n",
    "plt.setp(xtickNames, fontsize=24)\n",
    "plt.setp(bp_dict_2['medians'], linewidth=lw+1)\n",
    "plt.rc('ytick',labelsize=24)\n",
    "\n",
    "x_shift = [1.25,2.25,1.25,2.25]\n",
    "x_shift_w = [1.25,1.25,2.25,2.25]\n",
    "for line in bp_dict_2['medians']:\n",
    "    # get position data for median line\n",
    "    x, y = line.get_xydata()[1] # top of median line\n",
    "    # overlay median value\n",
    "    ax0.text(x_shift[list(bp_dict_2['medians']).index(line)], y, '%.2f' % y,\n",
    "         horizontalalignment='center',\n",
    "         verticalalignment='baseline',\n",
    "         fontsize=24,color='orange')\n",
    "for line in bp_dict_2['means']:\n",
    "    # get position data for median line\n",
    "    x, y = line.get_xydata()[1] # top of median line\n",
    "    # overlay median value\n",
    "    ax0.text(x_shift[list(bp_dict_2['means']).index(line)], y-0.003, '%.2f' % y,\n",
    "         horizontalalignment='center',\n",
    "         verticalalignment='baseline',\n",
    "         fontsize=24,color='green')\n",
    "\n",
    "for line in bp_dict_2['boxes']:\n",
    "    x, y = line.get_xydata()[0] # bottom of left line\n",
    "    ax0.text(x_shift[list(bp_dict_2['boxes']).index(line)],y, '%.2f' % y,\n",
    "         horizontalalignment='center', # centered\n",
    "         verticalalignment='center',\n",
    "         fontsize=24)      # below\n",
    "    x, y = line.get_xydata()[5] # bottom of right line\n",
    "    ax0.text(x_shift[list(bp_dict_2['boxes']).index(line)],y, '%.2f' % y,\n",
    "         horizontalalignment='center', # centered\n",
    "         verticalalignment='top',\n",
    "         fontsize=24)      # below\n",
    "for line in bp_dict_2['caps']:\n",
    "    x, y = line.get_xydata()[1] # bottom of left line\n",
    "    ax0.text(x_shift_w[list(bp_dict_2['caps']).index(line)],y, '%.2f' % y,\n",
    "         horizontalalignment='center', # centered\n",
    "         verticalalignment='center',\n",
    "         fontsize=24)      # below\n",
    "\n",
    "\n",
    "ax1 = plt.subplot(gs[1])\n",
    "bp_dict_1 = ax1.boxplot(data_boxplot_1,1,'o',0.75, showmeans=True, meanline=True,\n",
    "                        boxprops=boxprops, meanprops=meanlineprops,showfliers=True)\n",
    "for whisker in bp_dict_1['whiskers']:\n",
    "    whisker.set(linewidth=lw)\n",
    "for cap in bp_dict_1['caps']:\n",
    "    cap.set(linewidth=lw)\n",
    "ax1.yaxis.grid(True,linestyle='-',which='major',color='lightgrey',alpha=0.5)\n",
    "xtickNames = plt.setp(ax1,xticklabels=np.repeat(data_labels_1,1))\n",
    "plt.setp(xtickNames, fontsize=24)\n",
    "plt.setp(bp_dict_1['medians'], linewidth=lw+1)\n",
    "plt.rc('ytick',labelsize=24)\n",
    "\n",
    "x_shift = 1.275\n",
    "for line in bp_dict_1['medians']:\n",
    "    # get position data for median line\n",
    "    x, y = line.get_xydata()[1] # top of median line\n",
    "    # overlay median value\n",
    "    ax1.text(x_shift, y, '%.2f' % y,\n",
    "         horizontalalignment='center',\n",
    "         verticalalignment='baseline',\n",
    "         fontsize=24,color='orange')\n",
    "for line in bp_dict_1['means']:\n",
    "    # get position data for median line\n",
    "    x, y = line.get_xydata()[1] # top of median line\n",
    "    # overlay median value\n",
    "    ax1.text(x_shift, y, '%.2f' % y,\n",
    "         horizontalalignment='center',\n",
    "         verticalalignment='baseline',\n",
    "         fontsize=24,color='green')\n",
    "\n",
    "for line in bp_dict_1['boxes']:\n",
    "    x, y = line.get_xydata()[0] # bottom of left line\n",
    "    ax1.text(x_shift,y, '%.2f' % y,\n",
    "         horizontalalignment='center', # centered\n",
    "         verticalalignment='center',\n",
    "         fontsize=24)      # below\n",
    "\n",
    "for line in bp_dict_1['caps']:\n",
    "    x, y = line.get_xydata()[1] # bottom of left line\n",
    "    ax1.text(x_shift,y, '%.2f' % y,\n",
    "         horizontalalignment='center', # centered\n",
    "         verticalalignment='center',\n",
    "         fontsize=24)      # below\n",
    "\n",
    "plt.tight_layout()\n",
    "plt.savefig('./figs/LUNA_Boxplot.png', transparent=True, bbox_inches='tight')"
   ]
  },
  {
   "cell_type": "code",
   "execution_count": 250,
   "metadata": {
    "collapsed": false
   },
   "outputs": [
    {
     "data": {
      "image/png": "[encoded data removed]",
      "text/plain": [
       "<matplotlib.figure.Figure at 0x7fdfa06fc518>"
      ]
     },
     "metadata": {},
     "output_type": "display_data"
    }
   ],
   "source": [
    "plt.show()"
   ]
  },
  {
   "cell_type": "code",
   "execution_count": 252,
   "metadata": {
    "collapsed": false
   },
   "outputs": [],
   "source": [
    "df_LUNA_shapes = pd.DataFrame([l[3] for l in list(LUNA_shapes[subset].values())])"
   ]
  },
  {
   "cell_type": "code",
   "execution_count": 254,
   "metadata": {
    "collapsed": false
   },
   "outputs": [
    {
     "data": {
      "text/html": [
       "<div>\n",
       "<table border=\"1\" class=\"dataframe\">\n",
       "  <thead>\n",
       "    <tr style=\"text-align: right;\">\n",
       "      <th></th>\n",
       "      <th>0</th>\n",
       "      <th>1</th>\n",
       "      <th>2</th>\n",
       "    </tr>\n",
       "  </thead>\n",
       "  <tbody>\n",
       "    <tr>\n",
       "      <th>count</th>\n",
       "      <td>89.000000</td>\n",
       "      <td>89.0</td>\n",
       "      <td>89.0</td>\n",
       "    </tr>\n",
       "    <tr>\n",
       "      <th>mean</th>\n",
       "      <td>278.168539</td>\n",
       "      <td>512.0</td>\n",
       "      <td>512.0</td>\n",
       "    </tr>\n",
       "    <tr>\n",
       "      <th>std</th>\n",
       "      <td>135.630450</td>\n",
       "      <td>0.0</td>\n",
       "      <td>0.0</td>\n",
       "    </tr>\n",
       "    <tr>\n",
       "      <th>min</th>\n",
       "      <td>95.000000</td>\n",
       "      <td>512.0</td>\n",
       "      <td>512.0</td>\n",
       "    </tr>\n",
       "    <tr>\n",
       "      <th>25%</th>\n",
       "      <td>143.000000</td>\n",
       "      <td>512.0</td>\n",
       "      <td>512.0</td>\n",
       "    </tr>\n",
       "    <tr>\n",
       "      <th>50%</th>\n",
       "      <td>253.000000</td>\n",
       "      <td>512.0</td>\n",
       "      <td>512.0</td>\n",
       "    </tr>\n",
       "    <tr>\n",
       "      <th>75%</th>\n",
       "      <td>368.000000</td>\n",
       "      <td>512.0</td>\n",
       "      <td>512.0</td>\n",
       "    </tr>\n",
       "    <tr>\n",
       "      <th>max</th>\n",
       "      <td>682.000000</td>\n",
       "      <td>512.0</td>\n",
       "      <td>512.0</td>\n",
       "    </tr>\n",
       "  </tbody>\n",
       "</table>\n",
       "</div>"
      ],
      "text/plain": [
       "                0      1      2\n",
       "count   89.000000   89.0   89.0\n",
       "mean   278.168539  512.0  512.0\n",
       "std    135.630450    0.0    0.0\n",
       "min     95.000000  512.0  512.0\n",
       "25%    143.000000  512.0  512.0\n",
       "50%    253.000000  512.0  512.0\n",
       "75%    368.000000  512.0  512.0\n",
       "max    682.000000  512.0  512.0"
      ]
     },
     "execution_count": 254,
     "metadata": {},
     "output_type": "execute_result"
    }
   ],
   "source": [
    "df_LUNA_shapes.describe()"
   ]
  },
  {
   "cell_type": "code",
   "execution_count": null,
   "metadata": {
    "collapsed": true
   },
   "outputs": [],
   "source": []
  }
 ],
 "metadata": {
  "kernelspec": {
   "display_name": "Python [conda root]",
   "language": "python",
   "name": "conda-root-py"
  },
  "language_info": {
   "codemirror_mode": {
    "name": "ipython",
    "version": 3
   },
   "file_extension": ".py",
   "mimetype": "text/x-python",
   "name": "python",
   "nbconvert_exporter": "python",
   "pygments_lexer": "ipython3",
   "version": "3.5.2"
  }
 },
 "nbformat": 4,
 "nbformat_minor": 2
}
