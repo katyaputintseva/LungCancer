{
 "cells": [
  {
   "cell_type": "code",
   "execution_count": null,
   "metadata": {
    "collapsed": false
   },
   "outputs": [],
   "source": [
    "preds_top = np.load('preds_top.npy')\n",
    "preds_top = [i[0][0][0] for i in preds_top]\n",
    "print ('Type',type(preds_top),'Shape',len(preds_top))"
   ]
  },
  {
   "cell_type": "code",
   "execution_count": 1,
   "metadata": {
    "collapsed": true
   },
   "outputs": [],
   "source": [
    "import numpy as np\n",
    "import pandas as pd\n",
    "import os\n",
    "import matplotlib.pyplot as plt\n",
    "import pickle"
   ]
  },
  {
   "cell_type": "code",
   "execution_count": 68,
   "metadata": {
    "collapsed": false
   },
   "outputs": [
    {
     "name": "stdout",
     "output_type": "stream",
     "text": [
      "07bca4290a2530091ce1d5f200d9d526\n",
      "['max_malig', 1, 'top_voxels', 'preds', 'top_ixs']\n"
     ]
    }
   ],
   "source": [
    "with open('./LUNA_model_v2/dict_top_voxels_predict.pickle', 'rb') as handle:\n",
    "    plotting = pickle.load(handle)\n",
    "patient = list(plotting.keys())[0]\n",
    "patch = np.squeeze(plotting[patient]['top_voxels'])*1400.-1000.\n",
    "IX = plotting[patient]['top_ixs']\n",
    "print (patient)\n",
    "print (list(plotting[patient].keys()))"
   ]
  },
  {
   "cell_type": "code",
   "execution_count": 5,
   "metadata": {
    "collapsed": false
   },
   "outputs": [
    {
     "name": "stdout",
     "output_type": "stream",
     "text": [
      "Length of predictions.. 262144\n",
      "Maximum malignancy of original patch.. 0.534115552902\n"
     ]
    }
   ],
   "source": [
    "predictions = [x[0] for x in plotting[patient][1]]\n",
    "print ('Length of predictions..',len(predictions))\n",
    "malignancy = plotting[patient]['max_malig']\n",
    "print ('Maximum malignancy of original patch..',malignancy)"
   ]
  },
  {
   "cell_type": "code",
   "execution_count": 6,
   "metadata": {
    "collapsed": false
   },
   "outputs": [
    {
     "name": "stdout",
     "output_type": "stream",
     "text": [
      "Differences between predicted and original voxel range from -2.3365020752e-05 to 0.0401204228401\n"
     ]
    },
    {
     "data": {
      "image/png": "[encoded data removed]",
      "text/plain": [
       "<matplotlib.figure.Figure at 0x7f135ab93da0>"
      ]
     },
     "metadata": {},
     "output_type": "display_data"
    }
   ],
   "source": [
    "predictions_difference = [malignancy-p for p in predictions]\n",
    "print ('Differences between predicted and original voxel range from', min(predictions_difference),'to',max(predictions_difference))\n",
    "plt.hist(predictions_difference)\n",
    "plt.show()"
   ]
  },
  {
   "cell_type": "code",
   "execution_count": 12,
   "metadata": {
    "collapsed": false
   },
   "outputs": [
    {
     "name": "stdout",
     "output_type": "stream",
     "text": [
      "Percent of pixels in voxel making an impact 0.0143775939941\n",
      "Number of pixels in voxel making an impact 3769\n"
     ]
    }
   ],
   "source": [
    "TopPixels = sum(i > .010 for i in predictions_difference)\n",
    "print ('Percent of pixels in voxel making an impact', TopPixels/len(predictions_difference))\n",
    "print ('Number of pixels in voxel making an impact', TopPixels)"
   ]
  },
  {
   "cell_type": "code",
   "execution_count": 14,
   "metadata": {
    "collapsed": false
   },
   "outputs": [
    {
     "data": {
      "text/plain": [
       "(3769,)"
      ]
     },
     "execution_count": 14,
     "metadata": {},
     "output_type": "execute_result"
    }
   ],
   "source": [
    "impactful_pixel_ixs = np.argsort(predictions_difference,axis=0)[-TopPixels:]\n",
    "impactful_pixel_ixs.shape"
   ]
  },
  {
   "cell_type": "code",
   "execution_count": 184,
   "metadata": {
    "collapsed": false
   },
   "outputs": [
    {
     "data": {
      "text/plain": [
       "array([186802])"
      ]
     },
     "execution_count": 184,
     "metadata": {},
     "output_type": "execute_result"
    }
   ],
   "source": [
    "np.argsort(predictions_difference,axis=0)[-1:]"
   ]
  },
  {
   "cell_type": "code",
   "execution_count": 167,
   "metadata": {
    "collapsed": true
   },
   "outputs": [],
   "source": [
    "def plot_3d(image, threshold=0.9):\n",
    "    \n",
    "    from mpl_toolkits.mplot3d.art3d import Poly3DCollection\n",
    "    from skimage import measure\n",
    "    \n",
    "    verts, faces,_,_ = measure.marching_cubes(image, threshold)\n",
    "\n",
    "    fig = plt.figure(figsize=(10, 10))\n",
    "    ax = fig.add_subplot(111, projection='3d')\n",
    "\n",
    "    mesh = Poly3DCollection(verts[faces], alpha=0.70)\n",
    "    face_color = [0.45, 0.45, 0.75]\n",
    "    mesh.set_facecolor(face_color)\n",
    "    ax.add_collection3d(mesh)\n",
    "\n",
    "    ax.set_xlim(0, image.shape[0])\n",
    "    ax.set_ylim(0, image.shape[1])\n",
    "    ax.set_zlim(0, image.shape[2])\n",
    "\n",
    "    plt.show()"
   ]
  },
  {
   "cell_type": "code",
   "execution_count": 26,
   "metadata": {
    "collapsed": true
   },
   "outputs": [],
   "source": [
    "def load_raw(path):\n",
    "    import dicom as dicom\n",
    "    slices = [dicom.read_file(path + '/' + s) for s in os.listdir(path)]\n",
    "    return np.stack([s.pixel_array for s in slices],axis=2).astype(np.int16)"
   ]
  },
  {
   "cell_type": "code",
   "execution_count": 27,
   "metadata": {
    "collapsed": false
   },
   "outputs": [
    {
     "data": {
      "text/plain": [
       "(512, 512, 132)"
      ]
     },
     "execution_count": 27,
     "metadata": {},
     "output_type": "execute_result"
    }
   ],
   "source": [
    "path_raw = '/home/gantos/data/stage1/'\n",
    "patient_raw = load_raw(path_raw+patient)\n",
    "patient_raw.shape"
   ]
  },
  {
   "cell_type": "code",
   "execution_count": 15,
   "metadata": {
    "collapsed": false
   },
   "outputs": [],
   "source": [
    "patient_full = np.load('../data/stage1_arrays/'+patient+'.npy')"
   ]
  },
  {
   "cell_type": "code",
   "execution_count": 20,
   "metadata": {
    "collapsed": false
   },
   "outputs": [
    {
     "data": {
      "text/plain": [
       "(351, 351, 330)"
      ]
     },
     "execution_count": 20,
     "metadata": {},
     "output_type": "execute_result"
    }
   ],
   "source": [
    "patient_full.shape"
   ]
  },
  {
   "cell_type": "code",
   "execution_count": 102,
   "metadata": {
    "collapsed": false,
    "scrolled": true
   },
   "outputs": [
    {
     "name": "stdout",
     "output_type": "stream",
     "text": [
      "[[[ 0  1  2]\n",
      "  [ 3  4  5]\n",
      "  [ 6  7  8]]\n",
      "\n",
      " [[ 9 10 11]\n",
      "  [12 13 14]\n",
      "  [15 16 17]]\n",
      "\n",
      " [[18 19 20]\n",
      "  [21 22 23]\n",
      "  [24 25 26]]] \n",
      " [[0 1 2]\n",
      " [3 4 5]\n",
      " [6 7 8]] \n",
      " [0 1 2]\n",
      "Rlist [0, 1, 2]\n",
      "Rlist [3, 4, 5]\n",
      "Rlist [6, 7, 8]\n",
      "Rlist [9, 10, 11]\n",
      "Rlist [12, 13, 14]\n",
      "Rlist [15, 16, 17]\n",
      "Found! 1 2 1\n",
      "Rlist [18, 19, 20]\n",
      "Rlist [21, 22, 23]\n",
      "Rlist [24, 25, 26]\n"
     ]
    }
   ],
   "source": [
    "a = np.arange(27).reshape(3,3,3)\n",
    "print (a,'\\n',a[0],'\\n',a[0][0])\n",
    "z=0\n",
    "y=0\n",
    "x=0\n",
    "xyzmax = 3\n",
    "goal = set([16,17])\n",
    "for s in a:\n",
    "    for r in s:\n",
    "        rlist = list(r)\n",
    "        print ('Rlist',rlist)\n",
    "        if goal <= set(rlist):\n",
    "            x = rlist.index(list(goal)[0])\n",
    "            print ('Found!',x,y%xyzmax,z%xyzmax)\n",
    "        y+=1\n",
    "    z+=1"
   ]
  },
  {
   "cell_type": "code",
   "execution_count": 143,
   "metadata": {
    "collapsed": false
   },
   "outputs": [
    {
     "data": {
      "text/plain": [
       "array([-906., -897., -877., -861., -861.], dtype=float32)"
      ]
     },
     "execution_count": 143,
     "metadata": {},
     "output_type": "execute_result"
    }
   ],
   "source": [
    "patch[0][0][0:5]"
   ]
  },
  {
   "cell_type": "code",
   "execution_count": 120,
   "metadata": {
    "collapsed": false
   },
   "outputs": [
    {
     "data": {
      "text/plain": [
       "array([[-906., -897., -877., -861., -861.],\n",
       "       [-887., -896., -891., -882., -876.],\n",
       "       [-864., -866., -873., -879., -875.],\n",
       "       [-856., -855., -868., -875., -860.],\n",
       "       [-869., -880., -897., -902., -877.]], dtype=float32)"
      ]
     },
     "execution_count": 120,
     "metadata": {},
     "output_type": "execute_result"
    }
   ],
   "source": [
    "patch[0][0:5,0:5]"
   ]
  },
  {
   "cell_type": "code",
   "execution_count": 130,
   "metadata": {
    "collapsed": false
   },
   "outputs": [
    {
     "data": {
      "image/png": "[encoded data removed]",
      "text/plain": [
       "<matplotlib.figure.Figure at 0x7f134f9157f0>"
      ]
     },
     "metadata": {},
     "output_type": "display_data"
    }
   ],
   "source": [
    "plt.hist(patient_full.flatten())\n",
    "plt.show()"
   ]
  },
  {
   "cell_type": "code",
   "execution_count": 151,
   "metadata": {
    "collapsed": false,
    "scrolled": true
   },
   "outputs": [
    {
     "name": "stdout",
     "output_type": "stream",
     "text": [
      "Z 0 (351, 351)\n",
      "Z 1 (351, 351)\n",
      "Z 2 (351, 351)\n",
      "Z 3 (351, 351)\n",
      "Z 4 (351, 351)\n",
      "Z 5 (351, 351)\n",
      "Z 6 (351, 351)\n",
      "Z 7 (351, 351)\n",
      "Z 8 (351, 351)\n",
      "Z 9 (351, 351)\n",
      "Z 10 (351, 351)\n",
      "Z 11 (351, 351)\n",
      "Z 12 (351, 351)\n",
      "Z 13 (351, 351)\n",
      "Z 14 (351, 351)\n",
      "Z 15 (351, 351)\n",
      "Z 16 (351, 351)\n",
      "Z 17 (351, 351)\n",
      "Z 18 (351, 351)\n",
      "Z 19 (351, 351)\n",
      "Z 20 (351, 351)\n",
      "Z 21 (351, 351)\n",
      "Z 22 (351, 351)\n",
      "Z 23 (351, 351)\n",
      "Z 24 (351, 351)\n",
      "Z 25 (351, 351)\n",
      "Z 26 (351, 351)\n",
      "Z 27 (351, 351)\n",
      "Z 28 (351, 351)\n",
      "Z 29 (351, 351)\n",
      "Z 30 (351, 351)\n",
      "Z 31 (351, 351)\n",
      "Z 32 (351, 351)\n",
      "Z 33 (351, 351)\n",
      "Z 34 (351, 351)\n",
      "Z 35 (351, 351)\n",
      "Z 36 (351, 351)\n",
      "Z 37 (351, 351)\n",
      "Z 38 (351, 351)\n",
      "Z 39 (351, 351)\n",
      "Z 40 (351, 351)\n",
      "Z 41 (351, 351)\n",
      "Z 42 (351, 351)\n",
      "Z 43 (351, 351)\n",
      "Z 44 (351, 351)\n",
      "Z 45 (351, 351)\n",
      "Z 46 (351, 351)\n",
      "Z 47 (351, 351)\n",
      "Z 48 (351, 351)\n",
      "Z 49 (351, 351)\n",
      "Z 50 (351, 351)\n",
      "Z 51 (351, 351)\n",
      "Z 52 (351, 351)\n",
      "Z 53 (351, 351)\n",
      "Z 54 (351, 351)\n",
      "Z 55 (351, 351)\n",
      "Z 56 (351, 351)\n",
      "Z 57 (351, 351)\n",
      "Z 58 (351, 351)\n",
      "Z 59 (351, 351)\n",
      "Z 60 (351, 351)\n",
      "Z 61 (351, 351)\n",
      "Z 62 (351, 351)\n",
      "Z 63 (351, 351)\n",
      "Z 64 (351, 351)\n",
      "Z 65 (351, 351)\n",
      "Z 66 (351, 351)\n",
      "Z 67 (351, 351)\n",
      "Z 68 (351, 351)\n",
      "Z 69 (351, 351)\n",
      "Z 70 (351, 351)\n",
      "Z 71 (351, 351)\n",
      "Z 72 (351, 351)\n",
      "Z 73 (351, 351)\n",
      "Z 74 (351, 351)\n",
      "Z 75 (351, 351)\n",
      "Z 76 (351, 351)\n",
      "Z 77 (351, 351)\n",
      "Z 78 (351, 351)\n",
      "Z 79 (351, 351)\n",
      "Z 80 (351, 351)\n",
      "Z 81 (351, 351)\n",
      "Z 82 (351, 351)\n",
      "Z 83 (351, 351)\n",
      "Z 84 (351, 351)\n",
      "Z 85 (351, 351)\n",
      "Z 86 (351, 351)\n",
      "Z 87 (351, 351)\n",
      "Z 88 (351, 351)\n",
      "Z 89 (351, 351)\n",
      "Z 90 (351, 351)\n",
      "Z 91 (351, 351)\n",
      "Z 92 (351, 351)\n",
      "Z 93 (351, 351)\n",
      "Z 94 (351, 351)\n",
      "Z 95 (351, 351)\n",
      "Z 96 (351, 351)\n",
      "Z 97 (351, 351)\n",
      "Z 98 (351, 351)\n",
      "Z 99 (351, 351)\n",
      "Z 100 (351, 351)\n",
      "Z 101 (351, 351)\n",
      "Z 102 (351, 351)\n",
      "Z 103 (351, 351)\n",
      "Z 104 (351, 351)\n",
      "Z 105 (351, 351)\n",
      "Z 106 (351, 351)\n",
      "Z 107 (351, 351)\n",
      "Z 108 (351, 351)\n",
      "Z 109 (351, 351)\n",
      "Z 110 (351, 351)\n",
      "Z 111 (351, 351)\n",
      "Z 112 (351, 351)\n",
      "Z 113 (351, 351)\n",
      "Z 114 (351, 351)\n",
      "Z 115 (351, 351)\n",
      "Z 116 (351, 351)\n",
      "Z 117 (351, 351)\n",
      "Z 118 (351, 351)\n",
      "Z 119 (351, 351)\n",
      "Z 120 (351, 351)\n",
      "Z 121 (351, 351)\n",
      "Z 122 (351, 351)\n",
      "Z 123 (351, 351)\n",
      "Z 124 (351, 351)\n",
      "Z 125 (351, 351)\n",
      "Z 126 (351, 351)\n",
      "Z 127 (351, 351)\n",
      "Z 128 (351, 351)\n",
      "Z 129 (351, 351)\n",
      "Z 130 (351, 351)\n",
      "Z 131 (351, 351)\n",
      "Z 132 (351, 351)\n",
      "Z 133 (351, 351)\n",
      "Z 134 (351, 351)\n",
      "Z 135 (351, 351)\n",
      "Z 136 (351, 351)\n",
      "Z 137 (351, 351)\n",
      "Z 138 (351, 351)\n",
      "Z 139 (351, 351)\n",
      "Z 140 (351, 351)\n",
      "Z 141 (351, 351)\n",
      "Z 142 (351, 351)\n",
      "Z 143 (351, 351)\n",
      "Z 144 (351, 351)\n",
      "Z 145 (351, 351)\n",
      "Z 146 (351, 351)\n",
      "Z 147 (351, 351)\n",
      "Z 148 (351, 351)\n",
      "Z 149 (351, 351)\n",
      "Z 150 (351, 351)\n",
      "Z 151 (351, 351)\n",
      "Z 152 (351, 351)\n",
      "Z 153 (351, 351)\n",
      "Z 154 (351, 351)\n",
      "Z 155 (351, 351)\n",
      "Z 156 (351, 351)\n",
      "Z 157 (351, 351)\n",
      "Z 158 (351, 351)\n",
      "Z 159 (351, 351)\n",
      "Z 160 (351, 351)\n",
      "Z 161 (351, 351)\n",
      "Z 162 (351, 351)\n",
      "Z 163 (351, 351)\n",
      "Z 164 (351, 351)\n",
      "Z 165 (351, 351)\n",
      "Z 166 (351, 351)\n",
      "Z 167 (351, 351)\n",
      "Z 168 (351, 351)\n",
      "Z 169 (351, 351)\n",
      "Z 170 (351, 351)\n",
      "Z 171 (351, 351)\n",
      "Z 172 (351, 351)\n",
      "Z 173 (351, 351)\n",
      "Z 174 (351, 351)\n",
      "Z 175 (351, 351)\n",
      "Z 176 (351, 351)\n",
      "Z 177 (351, 351)\n",
      "Z 178 (351, 351)\n",
      "Z 179 (351, 351)\n",
      "Z 180 (351, 351)\n",
      "Z 181 (351, 351)\n",
      "Z 182 (351, 351)\n",
      "Z 183 (351, 351)\n",
      "Z 184 (351, 351)\n",
      "Z 185 (351, 351)\n",
      "Z 186 (351, 351)\n",
      "Z 187 (351, 351)\n",
      "Z 188 (351, 351)\n",
      "Z 189 (351, 351)\n",
      "Z 190 (351, 351)\n",
      "Z 191 (351, 351)\n",
      "Z 192 (351, 351)\n",
      "Z 193 (351, 351)\n",
      "Z 194 (351, 351)\n",
      "Z 195 (351, 351)\n",
      "Z 196 (351, 351)\n",
      "Z 197 (351, 351)\n",
      "Z 198 (351, 351)\n",
      "Z 199 (351, 351)\n",
      "Z 200 (351, 351)\n",
      "Z 201 (351, 351)\n",
      "Z 202 (351, 351)\n",
      "Z 203 (351, 351)\n",
      "Z 204 (351, 351)\n",
      "Z 205 (351, 351)\n",
      "Z 206 (351, 351)\n",
      "Z 207 (351, 351)\n",
      "Z 208 (351, 351)\n",
      "Z 209 (351, 351)\n",
      "Z 210 (351, 351)\n",
      "Z 211 (351, 351)\n",
      "Z 212 (351, 351)\n",
      "Z 213 (351, 351)\n",
      "Z 214 (351, 351)\n",
      "Z 215 (351, 351)\n",
      "Z 216 (351, 351)\n",
      "Z 217 (351, 351)\n",
      "Z 218 (351, 351)\n",
      "Z 219 (351, 351)\n",
      "Z 220 (351, 351)\n",
      "Z 221 (351, 351)\n",
      "Z 222 (351, 351)\n",
      "Z 223 (351, 351)\n",
      "Z 224 (351, 351)\n",
      "Z 225 (351, 351)\n",
      "Z 226 (351, 351)\n",
      "Z 227 (351, 351)\n",
      "Z 228 (351, 351)\n",
      "Z 229 (351, 351)\n",
      "Z 230 (351, 351)\n",
      "Z 231 (351, 351)\n",
      "Z 232 (351, 351)\n",
      "Z 233 (351, 351)\n",
      "Z 234 (351, 351)\n",
      "Z 235 (351, 351)\n",
      "Z 236 (351, 351)\n",
      "Z 237 (351, 351)\n",
      "Z 238 (351, 351)\n",
      "Z 239 (351, 351)\n",
      "Z 240 (351, 351)\n",
      "Z 241 (351, 351)\n",
      "Z 242 (351, 351)\n",
      "Z 243 (351, 351)\n",
      "Z 244 (351, 351)\n",
      "Z 245 (351, 351)\n",
      "Z 246 (351, 351)\n",
      "Z 247 (351, 351)\n",
      "Z 248 (351, 351)\n",
      "Z 249 (351, 351)\n",
      "Z 250 (351, 351)\n",
      "Z 251 (351, 351)\n",
      "Z 252 (351, 351)\n",
      "Z 253 (351, 351)\n",
      "Z 254 (351, 351)\n",
      "Z 255 (351, 351)\n",
      "Z 256 (351, 351)\n",
      "Z 257 (351, 351)\n",
      "Z 258 (351, 351)\n",
      "Z 259 (351, 351)\n",
      "Z 260 (351, 351)\n",
      "Z 261 (351, 351)\n",
      "Z 262 (351, 351)\n",
      "Z 263 (351, 351)\n",
      "Z 264 (351, 351)\n",
      "Z 265 (351, 351)\n",
      "Z 266 (351, 351)\n",
      "Z 267 (351, 351)\n",
      "Z 268 (351, 351)\n",
      "Z 269 (351, 351)\n",
      "Z 270 (351, 351)\n",
      "Z 271 (351, 351)\n",
      "Z 272 (351, 351)\n",
      "Z 273 (351, 351)\n",
      "Z 274 (351, 351)\n",
      "Z 275 (351, 351)\n",
      "Z 276 (351, 351)\n",
      "Z 277 (351, 351)\n",
      "Z 278 (351, 351)\n",
      "Z 279 (351, 351)\n",
      "Z 280 (351, 351)\n",
      "Z 281 (351, 351)\n",
      "Z 282 (351, 351)\n",
      "Z 283 (351, 351)\n",
      "Z 284 (351, 351)\n",
      "Z 285 (351, 351)\n",
      "Z 286 (351, 351)\n",
      "Z 287 (351, 351)\n",
      "Z 288 (351, 351)\n",
      "Z 289 (351, 351)\n",
      "Z 290 (351, 351)\n",
      "Z 291 (351, 351)\n",
      "Z 292 (351, 351)\n",
      "Z 293 (351, 351)\n",
      "Z 294 (351, 351)\n",
      "Z 295 (351, 351)\n",
      "Z 296 (351, 351)\n",
      "Z 297 (351, 351)\n",
      "Z 298 (351, 351)\n",
      "Z 299 (351, 351)\n",
      "Z 300 (351, 351)\n",
      "Z 301 (351, 351)\n",
      "Z 302 (351, 351)\n",
      "Z 303 (351, 351)\n",
      "Z 304 (351, 351)\n",
      "Z 305 (351, 351)\n",
      "Z 306 (351, 351)\n",
      "Z 307 (351, 351)\n",
      "Z 308 (351, 351)\n",
      "Z 309 (351, 351)\n",
      "Z 310 (351, 351)\n",
      "Z 311 (351, 351)\n",
      "Z 312 (351, 351)\n",
      "Z 313 (351, 351)\n",
      "Z 314 (351, 351)\n",
      "Z 315 (351, 351)\n",
      "Z 316 (351, 351)\n",
      "Z 317 (351, 351)\n",
      "Z 318 (351, 351)\n",
      "Z 319 (351, 351)\n",
      "Z 320 (351, 351)\n",
      "Z 321 (351, 351)\n",
      "Z 322 (351, 351)\n",
      "Z 323 (351, 351)\n",
      "Z 324 (351, 351)\n",
      "Z 325 (351, 351)\n",
      "Z 326 (351, 351)\n",
      "Z 327 (351, 351)\n",
      "Z 328 (351, 351)\n",
      "Z 329 (351, 351)\n"
     ]
    }
   ],
   "source": [
    "\n",
    "goal = list(patch[0][0])\n",
    "for z in range(patient_full.shape[2]):\n",
    "    s = np.transpose(patient_full,(2,1,0))[z]\n",
    "    print ('Z',z,s.shape)\n",
    "    for y in range(patient_full.shape[1]):\n",
    "        row = s[y]\n",
    "        rlist= list(row)\n",
    "        if set(goal) <= set(rlist):\n",
    "            x = rlist.index(goal[0])\n",
    "            print ('Found!',x,y,z)\n"
   ]
  },
  {
   "cell_type": "code",
   "execution_count": 193,
   "metadata": {
    "collapsed": false
   },
   "outputs": [
    {
     "name": "stdout",
     "output_type": "stream",
     "text": [
      "Done\n"
     ]
    }
   ],
   "source": [
    "max_impact = max(predictions_difference)\n",
    "count = 0\n",
    "patch_nodule = np.zeros(patch.shape)\n",
    "for e in np.nditer(patch_nodule, op_flags=['readwrite']):\n",
    "    if count in impactful_pixel_ixs:\n",
    "        e[...] = 1*(predictions_difference[count]/max_impact)\n",
    "        count += 1\n",
    "    else:\n",
    "        count += 1\n",
    "        continue\n",
    "print ('Done')"
   ]
  },
  {
   "cell_type": "code",
   "execution_count": 173,
   "metadata": {
    "collapsed": false
   },
   "outputs": [
    {
     "data": {
      "text/plain": [
       "3769.0"
      ]
     },
     "execution_count": 173,
     "metadata": {},
     "output_type": "execute_result"
    }
   ],
   "source": [
    "np.sum(patch_nodule)"
   ]
  },
  {
   "cell_type": "code",
   "execution_count": 194,
   "metadata": {
    "collapsed": false
   },
   "outputs": [
    {
     "data": {
      "text/plain": [
       "1482.978550279375"
      ]
     },
     "execution_count": 194,
     "metadata": {},
     "output_type": "execute_result"
    }
   ],
   "source": [
    "np.sum(patch_nodule)"
   ]
  },
  {
   "cell_type": "code",
   "execution_count": null,
   "metadata": {
    "collapsed": false
   },
   "outputs": [],
   "source": [
    "fig = plt.figure(figsize=(10, 10))\n",
    "plt.imshow(np.transpose(patch_nodule[:,:,50], (1,0)), cmap=plt.cm.gray)\n",
    "plt.axis('off')\n",
    "plt.savefig('./figs/LUNA_patch_slice.png', transparent=True, bbox_inches='tight')"
   ]
  },
  {
   "cell_type": "code",
   "execution_count": 196,
   "metadata": {
    "collapsed": false
   },
   "outputs": [
    {
     "data": {
      "image/png": "[encoded data removed]",
      "text/plain": [
       "<matplotlib.figure.Figure at 0x7f1357b57780>"
      ]
     },
     "metadata": {},
     "output_type": "display_data"
    }
   ],
   "source": [
    "plt.show()"
   ]
  },
  {
   "cell_type": "code",
   "execution_count": null,
   "metadata": {
    "collapsed": true
   },
   "outputs": [],
   "source": []
  }
 ],
 "metadata": {
  "kernelspec": {
   "display_name": "Python [conda root]",
   "language": "python",
   "name": "conda-root-py"
  },
  "language_info": {
   "codemirror_mode": {
    "name": "ipython",
    "version": 3
   },
   "file_extension": ".py",
   "mimetype": "text/x-python",
   "name": "python",
   "nbconvert_exporter": "python",
   "pygments_lexer": "ipython3",
   "version": "3.5.2"
  }
 },
 "nbformat": 4,
 "nbformat_minor": 2
}
