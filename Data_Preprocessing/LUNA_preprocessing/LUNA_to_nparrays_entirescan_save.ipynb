{
 "cells": [
  {
   "cell_type": "code",
   "execution_count": 2,
   "metadata": {
    "collapsed": true
   },
   "outputs": [],
   "source": [
    "import SimpleITK as sitk\n",
    "import numpy as np\n",
    "\n",
    "def load_itk_image(filename):\n",
    "    itkimage = sitk.ReadImage(filename)\n",
    "    numpyImage = sitk.GetArrayFromImage(itkimage)\n",
    "    numpyOrigin = np.array(list(reversed(itkimage.GetOrigin())))\n",
    "    numpySpacing = np.array(list(reversed(itkimage.GetSpacing())))\n",
    "    return numpyImage, numpyOrigin, numpySpacing"
   ]
  },
  {
   "cell_type": "code",
   "execution_count": 2,
   "metadata": {
    "collapsed": false
   },
   "outputs": [
    {
     "name": "stdout",
     "output_type": "stream",
     "text": [
      "subset2 contains 89 patients\n",
      "\t..completed 20 out of 89 in this subset directory\n",
      "\t..completed 40 out of 89 in this subset directory\n",
      "\t..completed 60 out of 89 in this subset directory\n",
      "\t..completed 80 out of 89 in this subset directory\n",
      "subset9 contains 88 patients\n",
      "\t..completed 20 out of 88 in this subset directory\n",
      "\t..completed 40 out of 88 in this subset directory\n",
      "\t..completed 60 out of 88 in this subset directory\n",
      "\t..completed 80 out of 88 in this subset directory\n",
      "subset5 contains 89 patients\n",
      "\t..completed 20 out of 89 in this subset directory\n",
      "\t..completed 40 out of 89 in this subset directory\n",
      "\t..completed 60 out of 89 in this subset directory\n",
      "\t..completed 80 out of 89 in this subset directory\n",
      "subset3 contains 89 patients\n",
      "\t..completed 20 out of 89 in this subset directory\n",
      "\t..completed 40 out of 89 in this subset directory\n",
      "\t..completed 60 out of 89 in this subset directory\n",
      "\t..completed 80 out of 89 in this subset directory\n",
      "subset4 contains 89 patients\n",
      "\t..completed 20 out of 89 in this subset directory\n",
      "\t..completed 40 out of 89 in this subset directory\n",
      "\t..completed 60 out of 89 in this subset directory\n",
      "\t..completed 80 out of 89 in this subset directory\n",
      "subset6 contains 89 patients\n",
      "\t..completed 20 out of 89 in this subset directory\n",
      "\t..completed 40 out of 89 in this subset directory\n",
      "\t..completed 60 out of 89 in this subset directory\n",
      "\t..completed 80 out of 89 in this subset directory\n",
      "subset0 contains 89 patients\n",
      "\t..completed 20 out of 89 in this subset directory\n",
      "\t..completed 40 out of 89 in this subset directory\n",
      "\t..completed 60 out of 89 in this subset directory\n",
      "\t..completed 80 out of 89 in this subset directory\n",
      "subset8 contains 88 patients\n",
      "\t..completed 20 out of 88 in this subset directory\n",
      "\t..completed 40 out of 88 in this subset directory\n",
      "\t..completed 60 out of 88 in this subset directory\n",
      "\t..completed 80 out of 88 in this subset directory\n",
      "subset1 contains 89 patients\n",
      "\t..completed 20 out of 89 in this subset directory\n",
      "\t..completed 40 out of 89 in this subset directory\n",
      "\t..completed 60 out of 89 in this subset directory\n",
      "\t..completed 80 out of 89 in this subset directory\n",
      "subset7 contains 89 patients\n",
      "\t..completed 20 out of 89 in this subset directory\n",
      "\t..completed 40 out of 89 in this subset directory\n",
      "\t..completed 60 out of 89 in this subset directory\n",
      "\t..completed 80 out of 89 in this subset directory\n"
     ]
    }
   ],
   "source": [
    "import os\n",
    "\n",
    "path_save = '../LUNA16_arrays/'\n",
    "path_raw = '../data/'\n",
    "\n",
    "for directory in [d for d in os.listdir(path_raw) if 'subset' in d]:\n",
    "    path_directory = path_raw+directory+'/'\n",
    "    luna_ids = [f.replace('.mhd','') for f in os.listdir(path_directory) if '.mhd' in f]\n",
    "    print (directory,'contains',len(luna_ids),'patients')\n",
    "    counter = 0\n",
    "    for patient in luna_ids:\n",
    "        img,origin,spacing = load_itk_image(path_directory+patient+'.mhd')\n",
    "        np.save(path_save+patient+'.npy', img)\n",
    "        counter += 1\n",
    "        if counter%20==0:\n",
    "            print ('\\t..completed',counter,'out of',len(luna_ids),'in this subset directory')"
   ]
  },
  {
   "cell_type": "code",
   "execution_count": 4,
   "metadata": {
    "collapsed": false
   },
   "outputs": [],
   "source": [
    "path_arrays = '/home/gantos/data/LUNA16_arrays/'\n",
    "all_luna_ids = [f.replace('.npy','') for f in os.listdir(path_arrays)]"
   ]
  },
  {
   "cell_type": "code",
   "execution_count": 5,
   "metadata": {
    "collapsed": false
   },
   "outputs": [],
   "source": [
    "array_min = []\n",
    "array_max = []\n",
    "array_zxy = []\n",
    "for patient in all_luna_ids:\n",
    "    nparray = np.load('../data/LUNA16_arrays/'+all_luna_ids[0]+'.npy')\n",
    "    array_min.append(np.min(nparray))\n",
    "    array_max.append(np.max(nparray))\n",
    "    array_zxy.append([d for d in nparray.shape])"
   ]
  },
  {
   "cell_type": "code",
   "execution_count": 21,
   "metadata": {
    "collapsed": false
   },
   "outputs": [
    {
     "name": "stdout",
     "output_type": "stream",
     "text": [
      "\tMax\tMin\tVar\n",
      "Min\t -2048 \t -2048 \t 0.0\n",
      "Max\t 3071 \t 3071 \t 0.0\n",
      "Shape z\t 133 \t 133 \t 0.0\n",
      "Shape x\t 512 \t 512 \t 0.0\n",
      "Shape y\t 512 \t 512 \t 0.0\n"
     ]
    }
   ],
   "source": [
    "print ('\\tMax\\tMin\\tVar')\n",
    "print ('Min\\t',np.min(array_min),'\\t',np.max(array_min),'\\t',np.var(array_min))\n",
    "print ('Max\\t',np.min(array_max),'\\t',np.max(array_max),'\\t',np.var(array_max))\n",
    "print ('Shape z\\t',np.min([z[0] for z in array_zxy]),'\\t',np.max([z[0] for z in array_zxy]),'\\t',np.var([z[0] for z in array_zxy]))\n",
    "print ('Shape x\\t',np.min([z[1] for z in array_zxy]),'\\t',np.max([z[1] for z in array_zxy]),'\\t',np.var([z[1] for z in array_zxy]))\n",
    "print ('Shape y\\t',np.min([z[2] for z in array_zxy]),'\\t',np.max([z[2] for z in array_zxy]),'\\t',np.var([z[2] for z in array_zxy]))"
   ]
  },
  {
   "cell_type": "code",
   "execution_count": null,
   "metadata": {
    "collapsed": true
   },
   "outputs": [],
   "source": []
  }
 ],
 "metadata": {
  "kernelspec": {
   "display_name": "Python [default]",
   "language": "python",
   "name": "python3"
  },
  "language_info": {
   "codemirror_mode": {
    "name": "ipython",
    "version": 3
   },
   "file_extension": ".py",
   "mimetype": "text/x-python",
   "name": "python",
   "nbconvert_exporter": "python",
   "pygments_lexer": "ipython3",
   "version": "3.5.2"
  }
 },
 "nbformat": 4,
 "nbformat_minor": 2
}
