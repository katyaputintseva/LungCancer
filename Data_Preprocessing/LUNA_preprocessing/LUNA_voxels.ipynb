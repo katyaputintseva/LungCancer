{
 "cells": [
  {
   "cell_type": "code",
   "execution_count": 1,
   "metadata": {
    "collapsed": false
   },
   "outputs": [],
   "source": [
    "import numpy as np \n",
    "import pandas as pd \n",
    "import os\n",
    "import SimpleITK as sitk\n",
    "from scipy import ndimage\n",
    "from math import floor,ceil\n",
    "from joblib import Parallel, delayed"
   ]
  },
  {
   "cell_type": "code",
   "execution_count": 2,
   "metadata": {
    "collapsed": false,
    "scrolled": false
   },
   "outputs": [],
   "source": [
    "def extract_voxels(DIRECTORY,PATIENT,DF,VIEWS=6,VOXEL_SIZE=64):\n",
    "    \n",
    "    itkimage = sitk.ReadImage('../data/'+DIRECTORY+'/'+PATIENT+'.mhd')\n",
    "    img = sitk.GetArrayFromImage(itkimage)\n",
    "    origin = np.array(list(reversed(itkimage.GetOrigin()))) # zyx\n",
    "    spacing = np.array(list(reversed(itkimage.GetSpacing()))) # zyx\n",
    "\n",
    "    # use only df rows pertaining to this patient\n",
    "    DF['ix'] = range(DF.shape[0])\n",
    "    dfsub = DF[DF['seriesuid']==PATIENT]\n",
    "\n",
    "    # initialize list to hold voxels and corresponding indices\n",
    "    trues = []\n",
    "    falses = []\n",
    "    trues_ix = []\n",
    "    falses_ix = []\n",
    "    count = 0\n",
    "\n",
    "    # voxel shape with original image spacing\n",
    "    voxel_shape = np.round(np.array([VOXEL_SIZE,VOXEL_SIZE,VOXEL_SIZE])/spacing)\n",
    "    min_jitter = [ceil(m) for m in (voxel_shape/2)]\n",
    "    max_jitter = [floor(m) for m in (img.shape-voxel_shape/2)]\n",
    "\n",
    "    while count < max(VIEWS,VIEWS*dfsub.shape[0]):\n",
    "        random_ZYX = np.array([np.random.randint(mi+1,ma-1) for mi,ma in zip(min_jitter,max_jitter)])\n",
    "        voxel_max = (random_ZYX + np.round(voxel_shape/2)).astype(int)\n",
    "        voxel_min = (random_ZYX - (voxel_shape-np.round(voxel_shape/2))).astype(int)\n",
    "\n",
    "        voxel = img[voxel_min[0]:voxel_max[0],voxel_min[1]:voxel_max[1],voxel_min[2]:voxel_max[2]]\n",
    "\n",
    "        # now let's see if this voxel contains at least one nodule\n",
    "        nodules = 0\n",
    "        for nodule in range(dfsub.shape[0]):\n",
    "            row = dfsub.iloc[nodule]\n",
    "            nodule_ZYX = np.array([row['coordZ'],row['coordY'],row['coordX']])\n",
    "            nodule_ZYX = np.round(np.absolute(nodule_ZYX-origin)/ spacing)\n",
    "\n",
    "            if (nodule_ZYX<voxel_max).all() and (nodule_ZYX>voxel_min).all():\n",
    "                nodules += 1\n",
    "\n",
    "        if nodules==0:\n",
    "\n",
    "            count += 1\n",
    "            maxdiam_ix = -1\n",
    "            falses_ix.append(maxdiam_ix)\n",
    "\n",
    "            # resize voxel spacing to 1mmx1mmx1mm\n",
    "            voxel_norm = ndimage.interpolation.zoom(voxel,spacing,order=1,mode='nearest')\n",
    "            voxel_norm = voxel_norm[0:64,0:64,0:64]\n",
    "            voxel_norm = np.clip(voxel_norm, -1000, 400)\n",
    "            voxel_norm = np.transpose(voxel_norm, (2,1,0)) #X,Y,Z \n",
    "            falses.append(voxel_norm)\n",
    "        else:\n",
    "            continue\n",
    "\n",
    "    # for each nodule\n",
    "    for nodule in range(dfsub.shape[0]):\n",
    "\n",
    "        # set the row so that it's only referencing the nodule of choice\n",
    "        row = dfsub.iloc[nodule]\n",
    "\n",
    "        # grab diameter of nodule, divide by spacing to adjust to patient spacing\n",
    "        nodule_rad = row['diameter_mm']/spacing/2\n",
    "\n",
    "        # nodule coordinates based on original image origin\n",
    "        nodule_ZYX = np.array([row['coordZ'],row['coordY'],row['coordX']])\n",
    "\n",
    "        # shift nodule coordinates to origin of 0 instead of image origin\n",
    "        nodule_ZYX = np.absolute(nodule_ZYX-origin)\n",
    "\n",
    "        # adjust coordinates such that reflective of patient array spacing\n",
    "        nodule_ZYX = np.round(nodule_ZYX / spacing)\n",
    "\n",
    "        # nodule volume limits\n",
    "        nodule_max = np.array([ceil(c) for c in nodule_ZYX+nodule_rad])\n",
    "        nodule_min = np.array([floor(c) for c in nodule_ZYX-nodule_rad])\n",
    "        nodule_shape = nodule_max-nodule_min\n",
    "\n",
    "        # set max value of movement around nodule\n",
    "        max_jitter = np.amin(np.stack((abs(nodule_max-img.shape),voxel_shape-nodule_shape)),axis=0)\n",
    "\n",
    "        # set min value of movement around nodule\n",
    "        min_jitter = nodule_min-max_jitter\n",
    "        min_jitter[min_jitter > 0.] = 0.\n",
    "        min_jitter = np.abs(min_jitter)\n",
    "\n",
    "        #for the number of views, grab voxel around nodule\n",
    "        for i in range(VIEWS):\n",
    "            jitter = np.array([np.random.randint(mi+1,ma-1) for mi,ma in zip(min_jitter,max_jitter)])\n",
    "            voxel_max = nodule_max + jitter\n",
    "            voxel_min = (nodule_min - (voxel_shape-nodule_shape-jitter)).astype(int)\n",
    "\n",
    "            voxel = img[voxel_min[0]:voxel_max[0],voxel_min[1]:voxel_max[1],voxel_min[2]:voxel_max[2]]\n",
    "\n",
    "            # now let's see if this voxel contains more than one nodule\n",
    "            maxdiam_ix = -1\n",
    "            maxdiam = 0\n",
    "            for nodule in range(dfsub.shape[0]):\n",
    "                row = dfsub.iloc[nodule]\n",
    "                nodule_ZYX = np.array([row['coordZ'],row['coordY'],row['coordX']])\n",
    "                nodule_ZYX = np.round(np.absolute(nodule_ZYX-origin)/ spacing)\n",
    "\n",
    "                if (nodule_ZYX<voxel_max).all() and (nodule_ZYX>voxel_min).all():\n",
    "                    if row['diameter_mm'] > maxdiam:\n",
    "                        maxdiam_ix = row['ix']\n",
    "                        maxdiam = row['diameter_mm']\n",
    "\n",
    "            trues_ix.append(maxdiam_ix)\n",
    "\n",
    "            # resize voxel spacing to 1mmx1mmx1mm\n",
    "            voxel_norm = ndimage.interpolation.zoom(voxel,spacing,order=1)\n",
    "            voxel_norm = voxel_norm[0:64,0:64,0:64]\n",
    "            voxel_norm = np.clip(voxel_norm, -1000, 400)\n",
    "            voxel_norm = np.transpose(voxel_norm, (2,1,0)) #X,Y,Z \n",
    "            trues.append(voxel_norm)\n",
    "\n",
    "    falses_array = np.stack(falses)\n",
    "    falses_ix_array = np.array(falses_ix).astype('int32')\n",
    "    if dfsub.shape[0]>0:\n",
    "        trues_array = np.stack(trues)\n",
    "        trues_ix_array = np.array(trues_ix).astype('int32')\n",
    "        return trues_array,trues_ix_array,falses_array,falses_ix_array\n",
    "    else:\n",
    "        return None,None,falses_array,falses_ix_array"
   ]
  },
  {
   "cell_type": "code",
   "execution_count": null,
   "metadata": {
    "collapsed": true
   },
   "outputs": [],
   "source": [
    "def main():\n",
    "    path_raw = '../data/'\n",
    "    path_save = '../LUNA_voxels/'\n",
    "\n",
    "    df = pd.read_csv(path_raw+'CSVFILES/annotations_enhanced.csv')\n",
    "\n",
    "    for directory in [d for d in os.listdir(path_raw) if 'subset' in d]:\n",
    "        patients = [f.replace('.mhd','') for f in os.listdir(path_raw+directory) if '.mhd' in f]\n",
    "        print (directory,'contains',len(patients),'patients')\n",
    "        args = [(directory,patient,df) for patient in patients]\n",
    "        results = Parallel(n_jobs=4,verbose=0)(delayed(extract_voxels)(arg[0],arg[1],arg[2]) for arg in args)\n",
    "\n",
    "        #results is a list of (voxels, ixs)\n",
    "        true = np.concatenate([r[0] for r in results if r[0] is not None])\n",
    "        true_ix = np.concatenate([r[1] for r in results if r[1] is not None])\n",
    "        false = np.concatenate([r[2] for r in results if r[2] is not None])\n",
    "        false_ix = np.concatenate([r[3] for r in results if r[3] is not None])\n",
    "\n",
    "        np.save(path_save+directory+'Xtrue.npy', true)\n",
    "        np.save(path_save+directory+'IXtrue.npy', true_ix)\n",
    "        np.save(path_save+directory+'Xrandom.npy', false)\n",
    "        np.save(path_save+directory+'IXrandom.npy', false_ix)\n"
   ]
  },
  {
   "cell_type": "code",
   "execution_count": null,
   "metadata": {
    "collapsed": false
   },
   "outputs": [
    {
     "name": "stdout",
     "output_type": "stream",
     "text": [
      "subset2 contains 89 patients\n"
     ]
    },
    {
     "name": "stderr",
     "output_type": "stream",
     "text": [
      "/home/gantos/.local/lib/python3.5/site-packages/scipy/ndimage/interpolation.py:600: UserWarning: From scipy 0.13.0, the output shape of zoom() is calculated with round() instead of int() - for these inputs the size of the returned array has changed.\n",
      "  \"the returned array has changed.\", UserWarning)\n",
      "/home/gantos/.local/lib/python3.5/site-packages/scipy/ndimage/interpolation.py:600: UserWarning: From scipy 0.13.0, the output shape of zoom() is calculated with round() instead of int() - for these inputs the size of the returned array has changed.\n",
      "  \"the returned array has changed.\", UserWarning)\n",
      "/home/gantos/.local/lib/python3.5/site-packages/scipy/ndimage/interpolation.py:600: UserWarning: From scipy 0.13.0, the output shape of zoom() is calculated with round() instead of int() - for these inputs the size of the returned array has changed.\n",
      "  \"the returned array has changed.\", UserWarning)\n",
      "/home/gantos/.local/lib/python3.5/site-packages/scipy/ndimage/interpolation.py:600: UserWarning: From scipy 0.13.0, the output shape of zoom() is calculated with round() instead of int() - for these inputs the size of the returned array has changed.\n",
      "  \"the returned array has changed.\", UserWarning)\n"
     ]
    },
    {
     "name": "stdout",
     "output_type": "stream",
     "text": [
      "subset9 contains 88 patients\n"
     ]
    },
    {
     "name": "stderr",
     "output_type": "stream",
     "text": [
      "/home/gantos/.local/lib/python3.5/site-packages/scipy/ndimage/interpolation.py:600: UserWarning: From scipy 0.13.0, the output shape of zoom() is calculated with round() instead of int() - for these inputs the size of the returned array has changed.\n",
      "  \"the returned array has changed.\", UserWarning)\n",
      "/home/gantos/.local/lib/python3.5/site-packages/scipy/ndimage/interpolation.py:600: UserWarning: From scipy 0.13.0, the output shape of zoom() is calculated with round() instead of int() - for these inputs the size of the returned array has changed.\n",
      "  \"the returned array has changed.\", UserWarning)\n",
      "/home/gantos/.local/lib/python3.5/site-packages/scipy/ndimage/interpolation.py:600: UserWarning: From scipy 0.13.0, the output shape of zoom() is calculated with round() instead of int() - for these inputs the size of the returned array has changed.\n",
      "  \"the returned array has changed.\", UserWarning)\n",
      "/home/gantos/.local/lib/python3.5/site-packages/scipy/ndimage/interpolation.py:600: UserWarning: From scipy 0.13.0, the output shape of zoom() is calculated with round() instead of int() - for these inputs the size of the returned array has changed.\n",
      "  \"the returned array has changed.\", UserWarning)\n"
     ]
    },
    {
     "name": "stdout",
     "output_type": "stream",
     "text": [
      "subset5 contains 89 patients\n"
     ]
    },
    {
     "name": "stderr",
     "output_type": "stream",
     "text": [
      "/home/gantos/.local/lib/python3.5/site-packages/scipy/ndimage/interpolation.py:600: UserWarning: From scipy 0.13.0, the output shape of zoom() is calculated with round() instead of int() - for these inputs the size of the returned array has changed.\n",
      "  \"the returned array has changed.\", UserWarning)\n",
      "/home/gantos/.local/lib/python3.5/site-packages/scipy/ndimage/interpolation.py:600: UserWarning: From scipy 0.13.0, the output shape of zoom() is calculated with round() instead of int() - for these inputs the size of the returned array has changed.\n",
      "  \"the returned array has changed.\", UserWarning)\n",
      "/home/gantos/.local/lib/python3.5/site-packages/scipy/ndimage/interpolation.py:600: UserWarning: From scipy 0.13.0, the output shape of zoom() is calculated with round() instead of int() - for these inputs the size of the returned array has changed.\n",
      "  \"the returned array has changed.\", UserWarning)\n",
      "/home/gantos/.local/lib/python3.5/site-packages/scipy/ndimage/interpolation.py:600: UserWarning: From scipy 0.13.0, the output shape of zoom() is calculated with round() instead of int() - for these inputs the size of the returned array has changed.\n",
      "  \"the returned array has changed.\", UserWarning)\n"
     ]
    },
    {
     "name": "stdout",
     "output_type": "stream",
     "text": [
      "subset3 contains 89 patients\n"
     ]
    },
    {
     "name": "stderr",
     "output_type": "stream",
     "text": [
      "/home/gantos/.local/lib/python3.5/site-packages/scipy/ndimage/interpolation.py:600: UserWarning: From scipy 0.13.0, the output shape of zoom() is calculated with round() instead of int() - for these inputs the size of the returned array has changed.\n",
      "  \"the returned array has changed.\", UserWarning)\n",
      "/home/gantos/.local/lib/python3.5/site-packages/scipy/ndimage/interpolation.py:600: UserWarning: From scipy 0.13.0, the output shape of zoom() is calculated with round() instead of int() - for these inputs the size of the returned array has changed.\n",
      "  \"the returned array has changed.\", UserWarning)\n",
      "/home/gantos/.local/lib/python3.5/site-packages/scipy/ndimage/interpolation.py:600: UserWarning: From scipy 0.13.0, the output shape of zoom() is calculated with round() instead of int() - for these inputs the size of the returned array has changed.\n",
      "  \"the returned array has changed.\", UserWarning)\n",
      "/home/gantos/.local/lib/python3.5/site-packages/scipy/ndimage/interpolation.py:600: UserWarning: From scipy 0.13.0, the output shape of zoom() is calculated with round() instead of int() - for these inputs the size of the returned array has changed.\n",
      "  \"the returned array has changed.\", UserWarning)\n"
     ]
    },
    {
     "name": "stdout",
     "output_type": "stream",
     "text": [
      "subset4 contains 89 patients\n"
     ]
    },
    {
     "name": "stderr",
     "output_type": "stream",
     "text": [
      "/home/gantos/.local/lib/python3.5/site-packages/scipy/ndimage/interpolation.py:600: UserWarning: From scipy 0.13.0, the output shape of zoom() is calculated with round() instead of int() - for these inputs the size of the returned array has changed.\n",
      "  \"the returned array has changed.\", UserWarning)\n",
      "/home/gantos/.local/lib/python3.5/site-packages/scipy/ndimage/interpolation.py:600: UserWarning: From scipy 0.13.0, the output shape of zoom() is calculated with round() instead of int() - for these inputs the size of the returned array has changed.\n",
      "  \"the returned array has changed.\", UserWarning)\n",
      "/home/gantos/.local/lib/python3.5/site-packages/scipy/ndimage/interpolation.py:600: UserWarning: From scipy 0.13.0, the output shape of zoom() is calculated with round() instead of int() - for these inputs the size of the returned array has changed.\n",
      "  \"the returned array has changed.\", UserWarning)\n",
      "/home/gantos/.local/lib/python3.5/site-packages/scipy/ndimage/interpolation.py:600: UserWarning: From scipy 0.13.0, the output shape of zoom() is calculated with round() instead of int() - for these inputs the size of the returned array has changed.\n",
      "  \"the returned array has changed.\", UserWarning)\n"
     ]
    },
    {
     "name": "stdout",
     "output_type": "stream",
     "text": [
      "subset6 contains 89 patients\n"
     ]
    },
    {
     "name": "stderr",
     "output_type": "stream",
     "text": [
      "/home/gantos/.local/lib/python3.5/site-packages/scipy/ndimage/interpolation.py:600: UserWarning: From scipy 0.13.0, the output shape of zoom() is calculated with round() instead of int() - for these inputs the size of the returned array has changed.\n",
      "  \"the returned array has changed.\", UserWarning)\n",
      "/home/gantos/.local/lib/python3.5/site-packages/scipy/ndimage/interpolation.py:600: UserWarning: From scipy 0.13.0, the output shape of zoom() is calculated with round() instead of int() - for these inputs the size of the returned array has changed.\n",
      "  \"the returned array has changed.\", UserWarning)\n",
      "/home/gantos/.local/lib/python3.5/site-packages/scipy/ndimage/interpolation.py:600: UserWarning: From scipy 0.13.0, the output shape of zoom() is calculated with round() instead of int() - for these inputs the size of the returned array has changed.\n",
      "  \"the returned array has changed.\", UserWarning)\n",
      "/home/gantos/.local/lib/python3.5/site-packages/scipy/ndimage/interpolation.py:600: UserWarning: From scipy 0.13.0, the output shape of zoom() is calculated with round() instead of int() - for these inputs the size of the returned array has changed.\n",
      "  \"the returned array has changed.\", UserWarning)\n"
     ]
    },
    {
     "name": "stdout",
     "output_type": "stream",
     "text": [
      "subset0 contains 89 patients\n"
     ]
    },
    {
     "name": "stderr",
     "output_type": "stream",
     "text": [
      "/home/gantos/.local/lib/python3.5/site-packages/scipy/ndimage/interpolation.py:600: UserWarning: From scipy 0.13.0, the output shape of zoom() is calculated with round() instead of int() - for these inputs the size of the returned array has changed.\n",
      "  \"the returned array has changed.\", UserWarning)\n",
      "/home/gantos/.local/lib/python3.5/site-packages/scipy/ndimage/interpolation.py:600: UserWarning: From scipy 0.13.0, the output shape of zoom() is calculated with round() instead of int() - for these inputs the size of the returned array has changed.\n",
      "  \"the returned array has changed.\", UserWarning)\n",
      "/home/gantos/.local/lib/python3.5/site-packages/scipy/ndimage/interpolation.py:600: UserWarning: From scipy 0.13.0, the output shape of zoom() is calculated with round() instead of int() - for these inputs the size of the returned array has changed.\n",
      "  \"the returned array has changed.\", UserWarning)\n",
      "/home/gantos/.local/lib/python3.5/site-packages/scipy/ndimage/interpolation.py:600: UserWarning: From scipy 0.13.0, the output shape of zoom() is calculated with round() instead of int() - for these inputs the size of the returned array has changed.\n",
      "  \"the returned array has changed.\", UserWarning)\n"
     ]
    }
   ],
   "source": [
    "if __name__=='__main__':\n",
    "    main()"
   ]
  }
 ],
 "metadata": {
  "kernelspec": {
   "display_name": "Python [conda root]",
   "language": "python",
   "name": "conda-root-py"
  },
  "language_info": {
   "codemirror_mode": {
    "name": "ipython",
    "version": 3
   },
   "file_extension": ".py",
   "mimetype": "text/x-python",
   "name": "python",
   "nbconvert_exporter": "python",
   "pygments_lexer": "ipython3",
   "version": "3.5.2"
  }
 },
 "nbformat": 4,
 "nbformat_minor": 2
}
