{
 "cells": [
  {
   "cell_type": "code",
   "execution_count": 1,
   "metadata": {
    "collapsed": true
   },
   "outputs": [],
   "source": [
    "import numpy as np\n",
    "import pandas as pd\n",
    "import os\n",
    "import collections\n",
    "import pickle"
   ]
  },
  {
   "cell_type": "code",
   "execution_count": 2,
   "metadata": {
    "collapsed": false
   },
   "outputs": [],
   "source": [
    "df = pd.read_csv('../data/CSVFILES/annotations_enhanced.csv')\n",
    "df['ix'] = range(df.shape[0])"
   ]
  },
  {
   "cell_type": "code",
   "execution_count": 3,
   "metadata": {
    "collapsed": false
   },
   "outputs": [],
   "source": [
    "patients = collections.OrderedDict()\n",
    "dfsub_shape = []\n",
    "\n",
    "for directory in [d for d in os.listdir('../data/') if 'subset' in d]:\n",
    "    patients_by_dir = [f.replace('.mhd','') for f in os.listdir('../data/'+directory) if '.mhd' in f]\n",
    "    patients[directory] = collections.OrderedDict()\n",
    "    for patient in patients_by_dir:\n",
    "        patients[directory][patient] = collections.OrderedDict()\n",
    "        dfsub = df[df['seriesuid']==patient]\n",
    "        dfsub_shape.append(dfsub.shape[0])\n",
    "        count = max(6,6*dfsub.shape[0]*2)\n",
    "        if count==6:\n",
    "            patients[directory][patient]['random'] = count\n",
    "        else:\n",
    "            patients[directory][patient]['random'] = count/2\n",
    "            patients[directory][patient]['true'] = count/2"
   ]
  },
  {
   "cell_type": "code",
   "execution_count": 4,
   "metadata": {
    "collapsed": false
   },
   "outputs": [
    {
     "name": "stdout",
     "output_type": "stream",
     "text": [
      "Dictionary SAVED\n"
     ]
    }
   ],
   "source": [
    "with open('./voxel_to_patient_dict.pickle', 'wb') as handle:\n",
    "    pickle.dump(patients, handle, protocol=pickle.HIGHEST_PROTOCOL)\n",
    "print ('Dictionary SAVED')"
   ]
  },
  {
   "cell_type": "markdown",
   "metadata": {},
   "source": [
    "### CHECK ORDERING!!!"
   ]
  },
  {
   "cell_type": "code",
   "execution_count": 5,
   "metadata": {
    "collapsed": true
   },
   "outputs": [],
   "source": [
    "patients_subset2 = [f.replace('.mhd','') for f in os.listdir('../data/subset2/') if '.mhd' in f]"
   ]
  },
  {
   "cell_type": "code",
   "execution_count": 6,
   "metadata": {
    "collapsed": false
   },
   "outputs": [
    {
     "name": "stdout",
     "output_type": "stream",
     "text": [
      "Patient 1.3.6.1.4.1.14519.5.2.1.6279.6001.156579001330474859527530187095\n"
     ]
    },
    {
     "data": {
      "text/plain": [
       "True"
      ]
     },
     "execution_count": 6,
     "metadata": {},
     "output_type": "execute_result"
    }
   ],
   "source": [
    "print ('Patient',list(patients[list(patients.keys())[0]].keys())[0])\n",
    "list(patients[list(patients.keys())[0]].keys())[0] == patients_subset2[0]"
   ]
  },
  {
   "cell_type": "code",
   "execution_count": 7,
   "metadata": {
    "collapsed": true
   },
   "outputs": [],
   "source": [
    "subset2true = np.load('../data/LUNA_voxels/subset2Xtrue.npy')\n",
    "subset2random = np.load('../data/LUNA_voxels/subset2Xrandom.npy')"
   ]
  },
  {
   "cell_type": "code",
   "execution_count": 8,
   "metadata": {
    "collapsed": false
   },
   "outputs": [
    {
     "name": "stdout",
     "output_type": "stream",
     "text": [
      "(768, 64, 64, 64)\n",
      "(966, 64, 64, 64)\n"
     ]
    }
   ],
   "source": [
    "print (subset2true.shape)\n",
    "print (subset2random.shape)"
   ]
  },
  {
   "cell_type": "code",
   "execution_count": 9,
   "metadata": {
    "collapsed": false
   },
   "outputs": [
    {
     "data": {
      "text/plain": [
       "1734.0"
      ]
     },
     "execution_count": 9,
     "metadata": {},
     "output_type": "execute_result"
    }
   ],
   "source": [
    "allvoxelscount = []\n",
    "for patient in patients['subset2'].keys():\n",
    "    allvoxelscount.extend(patients['subset2'][patient].values())\n",
    "sum(allvoxelscount)"
   ]
  },
  {
   "cell_type": "code",
   "execution_count": 10,
   "metadata": {
    "collapsed": false
   },
   "outputs": [
    {
     "data": {
      "text/plain": [
       "1734"
      ]
     },
     "execution_count": 10,
     "metadata": {},
     "output_type": "execute_result"
    }
   ],
   "source": [
    "subset2random.shape[0]+subset2true.shape[0]"
   ]
  },
  {
   "cell_type": "code",
   "execution_count": 11,
   "metadata": {
    "collapsed": false
   },
   "outputs": [
    {
     "name": "stdout",
     "output_type": "stream",
     "text": [
      "Subsets in dictionary..\n"
     ]
    },
    {
     "data": {
      "text/plain": [
       "['subset2',\n",
       " 'subset9',\n",
       " 'subset5',\n",
       " 'subset3',\n",
       " 'subset4',\n",
       " 'subset6',\n",
       " 'subset0',\n",
       " 'subset8',\n",
       " 'subset1',\n",
       " 'subset7']"
      ]
     },
     "execution_count": 11,
     "metadata": {},
     "output_type": "execute_result"
    }
   ],
   "source": [
    "print ('Subsets in dictionary..')\n",
    "list(patients.keys())"
   ]
  },
  {
   "cell_type": "code",
   "execution_count": 12,
   "metadata": {
    "collapsed": false
   },
   "outputs": [
    {
     "name": "stdout",
     "output_type": "stream",
     "text": [
      "Patients in subset..\n"
     ]
    },
    {
     "data": {
      "text/plain": [
       "['1.3.6.1.4.1.14519.5.2.1.6279.6001.156579001330474859527530187095',\n",
       " '1.3.6.1.4.1.14519.5.2.1.6279.6001.133378195429627807109985347209',\n",
       " '1.3.6.1.4.1.14519.5.2.1.6279.6001.216526102138308489357443843021']"
      ]
     },
     "execution_count": 12,
     "metadata": {},
     "output_type": "execute_result"
    }
   ],
   "source": [
    "print ('Patients in subset..')\n",
    "list(patients[list(patients.keys())[0]].keys())[0:3]"
   ]
  },
  {
   "cell_type": "code",
   "execution_count": 13,
   "metadata": {
    "collapsed": false
   },
   "outputs": [
    {
     "name": "stdout",
     "output_type": "stream",
     "text": [
      "Categories in patient..\n"
     ]
    },
    {
     "data": {
      "text/plain": [
       "['random', 'true']"
      ]
     },
     "execution_count": 13,
     "metadata": {},
     "output_type": "execute_result"
    }
   ],
   "source": [
    "print ('Categories in patient..')\n",
    "list(patients[list(patients.keys())[0]][list(patients[list(patients.keys())[0]].keys())[1]].keys())"
   ]
  },
  {
   "cell_type": "code",
   "execution_count": 18,
   "metadata": {
    "collapsed": false
   },
   "outputs": [
    {
     "name": "stdout",
     "output_type": "stream",
     "text": [
      "888 144.0 6\n"
     ]
    },
    {
     "data": {
      "image/png": "[encoded data removed]",
      "text/plain": [
       "<matplotlib.figure.Figure at 0x7f68c12e50b8>"
      ]
     },
     "metadata": {},
     "output_type": "display_data"
    }
   ],
   "source": [
    "num_voxels = []\n",
    "for subset in patients:\n",
    "    for patient in patients[subset]:\n",
    "        num_voxels.append(sum(patients[subset][patient].values()))\n",
    "print (len(num_voxels),max(num_voxels),min(num_voxels))\n",
    "import matplotlib.pyplot as plt\n",
    "plt.hist(num_voxels)\n",
    "plt.show()"
   ]
  },
  {
   "cell_type": "code",
   "execution_count": null,
   "metadata": {
    "collapsed": true
   },
   "outputs": [],
   "source": []
  }
 ],
 "metadata": {
  "kernelspec": {
   "display_name": "Python [default]",
   "language": "python",
   "name": "python3"
  },
  "language_info": {
   "codemirror_mode": {
    "name": "ipython",
    "version": 3
   },
   "file_extension": ".py",
   "mimetype": "text/x-python",
   "name": "python",
   "nbconvert_exporter": "python",
   "pygments_lexer": "ipython3",
   "version": "3.5.2"
  }
 },
 "nbformat": 4,
 "nbformat_minor": 2
}
