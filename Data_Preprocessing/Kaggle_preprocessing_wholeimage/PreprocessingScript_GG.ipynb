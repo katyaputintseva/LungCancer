{
 "cells": [
  {
   "cell_type": "code",
   "execution_count": 20,
   "metadata": {
    "collapsed": false
   },
   "outputs": [],
   "source": [
    "import numpy as np\n",
    "import pandas as pd\n",
    "import dicom\n",
    "import os\n",
    "import scipy.ndimage\n",
    "import matplotlib.pyplot as plt\n",
    "from skimage import measure, morphology\n",
    "from mpl_toolkits.mplot3d.art3d import Poly3DCollection\n",
    "import cv2"
   ]
  },
  {
   "cell_type": "code",
   "execution_count": 21,
   "metadata": {
    "collapsed": false
   },
   "outputs": [],
   "source": [
    "# Loads a single scan from given folder path\n",
    "\n",
    "def load_scan(path):\n",
    "    slices = [dicom.read_file(path + '/' + s) for s in os.listdir(path)]\n",
    "    slices.sort(key = lambda x: float(x.ImagePositionPatient[2]))\n",
    "    try:\n",
    "        slice_thickness = np.abs(slices[0].ImagePositionPatient[2] - slices[1].ImagePositionPatient[2])\n",
    "    except:\n",
    "        slice_thickness = np.abs(slices[0].SliceLocation - slices[1].SliceLocation)\n",
    "        \n",
    "    for s in slices:\n",
    "        s.SliceThickness = slice_thickness\n",
    "        \n",
    "    return slices"
   ]
  },
  {
   "cell_type": "code",
   "execution_count": 22,
   "metadata": {
    "collapsed": true
   },
   "outputs": [],
   "source": [
    "# convert the single scan values into Hounsfield Units (HUs)\n",
    "\n",
    "def get_pixels_hu(slices):\n",
    "    image = np.stack([s.pixel_array for s in slices])\n",
    "    # Convert to int16 (from sometimes int16), \n",
    "    # should be possible as values should always be low enough (<32k)\n",
    "    image = image.astype(np.int16)\n",
    "\n",
    "    # Set outside-of-scan pixels to 0\n",
    "    # The intercept is usually -1024, so air is approximately 0\n",
    "    image[image == -2000] = 0\n",
    "    \n",
    "    # Convert to Hounsfield units (HU)\n",
    "    for slice_number in range(len(slices)):\n",
    "        \n",
    "        intercept = slices[slice_number].RescaleIntercept\n",
    "        slope = slices[slice_number].RescaleSlope\n",
    "        \n",
    "        if slope != 1:\n",
    "            image[slice_number] = slope * image[slice_number].astype(np.float64)\n",
    "            image[slice_number] = image[slice_number].astype(np.int16)\n",
    "            \n",
    "        image[slice_number] += np.int16(intercept)\n",
    "    \n",
    "    return np.array(image, dtype=np.int16)"
   ]
  },
  {
   "cell_type": "code",
   "execution_count": 23,
   "metadata": {
    "collapsed": true
   },
   "outputs": [],
   "source": [
    "# segments a single scan between lung and non-lung\n",
    "\n",
    "def largest_label_volume(im, bg=-1):\n",
    "    vals, counts = np.unique(im, return_counts=True)\n",
    "\n",
    "    counts = counts[vals != bg]\n",
    "    vals = vals[vals != bg]\n",
    "\n",
    "    if len(counts) > 0:\n",
    "        return vals[np.argmax(counts)]\n",
    "    else:\n",
    "        return None\n",
    "\n",
    "def segment_lung_mask(image, fill_lung_structures=True):\n",
    "    \n",
    "    # not actually binary, but 1 and 2. \n",
    "    # 0 is treated as background, which we do not want\n",
    "    binary_image = np.array(image > -320, dtype=np.int8)+1\n",
    "    labels = measure.label(binary_image)\n",
    "    \n",
    "    # Pick the pixel in the very corner to determine which label is air.\n",
    "    #   Improvement: Pick multiple background labels from around the patient\n",
    "    #   More resistant to \"trays\" on which the patient lays cutting the air \n",
    "    #   around the person in half\n",
    "    background_label = labels[0,0,0]\n",
    "    \n",
    "    #Fill the air around the person\n",
    "    binary_image[background_label == labels] = 2\n",
    "    \n",
    "    \n",
    "    # Method of filling the lung structures (that is superior to something like \n",
    "    # morphological closing)\n",
    "    if fill_lung_structures:\n",
    "        # For every slice we determine the largest solid structure\n",
    "        for i, axial_slice in enumerate(binary_image):\n",
    "            axial_slice = axial_slice - 1\n",
    "            labeling = measure.label(axial_slice)\n",
    "            l_max = largest_label_volume(labeling, bg=0)\n",
    "            \n",
    "            if l_max is not None: #This slice contains some lung\n",
    "                binary_image[i][labeling != l_max] = 1\n",
    "\n",
    "    \n",
    "    binary_image -= 1 #Make the image actual binary\n",
    "    binary_image = 1-binary_image # Invert it, lungs are now 1\n",
    "    \n",
    "    # Remove other air pockets insided body\n",
    "    labels = measure.label(binary_image, background=0)\n",
    "    l_max = largest_label_volume(labels, bg=0)\n",
    "    if l_max is not None: # There are air pockets\n",
    "        binary_image[labels != l_max] = 0\n",
    " \n",
    "    return binary_image"
   ]
  },
  {
   "cell_type": "code",
   "execution_count": 37,
   "metadata": {
    "collapsed": false
   },
   "outputs": [],
   "source": [
    "# adjusts the single scan to have slices exactly 'z'cm distance from one another\n",
    "# along the z-, x-, and y-axs\n",
    "\n",
    "def resample(image,\n",
    "             scan,\n",
    "             new_spacing, # set distance in cm between each slice and between pixels\n",
    "             width, height): \n",
    "    \n",
    "    # Determine current pixel spacing\n",
    "    spacing = np.array([scan[0].SliceThickness] + scan[0].PixelSpacing, dtype=np.float32)\n",
    "#     print('        Original spacing', spacing)\n",
    "\n",
    "    resize_factor = spacing / new_spacing\n",
    "    print (resize_factor)\n",
    "    new_real_shape = image.shape * resize_factor\n",
    "    new_shape = np.round(new_real_shape)\n",
    "    real_resize_factor = new_shape / image.shape\n",
    "    new_spacing = spacing / real_resize_factor\n",
    "#     print('        Resampled spacing', new_spacing)\n",
    "    \n",
    "#     print(\"        Shape before resampling\\t\", image.shape)\n",
    "    \n",
    "    image = scipy.ndimage.interpolation.zoom(image, real_resize_factor, mode='nearest')\n",
    "    image = cv2.resize(image, (width, height), interpolation=cv2.INTER_CUBIC)\n",
    "#     print(\"        Shape after resampling\\t\", image.shape)\n",
    "\n",
    "    return image, new_spacing"
   ]
  },
  {
   "cell_type": "code",
   "execution_count": 25,
   "metadata": {
    "collapsed": true
   },
   "outputs": [],
   "source": [
    "# removes zero-arrays from all axes of a single scan\n",
    "\n",
    "def remove_zeros(nparray):\n",
    "#     print ('        Original shape..', nparray.shape)\n",
    "    zaxis = np.stack([z for z in nparray if np.sum(z) != 0])\n",
    "#     print ('        Shape after z-axis sliced..', zaxis.shape)\n",
    "    xaxis = np.swapaxes(np.stack([x for x in np.swapaxes(zaxis,0,1) if np.sum(x) != 0]), 0,1)\n",
    "#     print ('        Shape after x-axis sliced..', xaxis.shape)\n",
    "    yaxis = np.swapaxes(np.stack([y for y in np.swapaxes(xaxis,0,2) if np.sum(y) != 0]), 0,2)\n",
    "#     print ('        Shape after y-axis sliced..', yaxis.shape)\n",
    "    \n",
    "    return yaxis"
   ]
  },
  {
   "cell_type": "code",
   "execution_count": 26,
   "metadata": {
    "collapsed": false
   },
   "outputs": [],
   "source": [
    "# load list of patients by directory in data\n",
    "\n",
    "path_data = '/home/katya/data/stage1/'\n",
    "patients = os.listdir(path_data)"
   ]
  },
  {
   "cell_type": "code",
   "execution_count": 27,
   "metadata": {
    "collapsed": false
   },
   "outputs": [
    {
     "name": "stdout",
     "output_type": "stream",
     "text": [
      "Original number of patients.. 1595\n",
      "Number of patients without errors.. 1594\n"
     ]
    }
   ],
   "source": [
    "# removing patients that error out\n",
    "\n",
    "errors = ['b8bb02d229361a623a4dc57aa0e5c485']\n",
    "errors_idx = [patients.index(i) for i in errors]\n",
    "\n",
    "print ('Original number of patients..', len(patients))\n",
    "for i in errors_idx:\n",
    "    del patients[i]\n",
    "print ('Number of patients without errors..', len(patients))"
   ]
  },
  {
   "cell_type": "code",
   "execution_count": 44,
   "metadata": {
    "collapsed": false
   },
   "outputs": [
    {
     "ename": "TypeError",
     "evalue": "function takes exactly 2 arguments (3 given)",
     "output_type": "error",
     "traceback": [
      "\u001b[0;31m---------------------------------------------------------------------------\u001b[0m",
      "\u001b[0;31mTypeError\u001b[0m                                 Traceback (most recent call last)",
      "\u001b[0;32m<ipython-input-44-e2bd4ad17a80>\u001b[0m in \u001b[0;36m<module>\u001b[0;34m()\u001b[0m\n\u001b[1;32m      1\u001b[0m \u001b[0mimage\u001b[0m \u001b[0;34m=\u001b[0m \u001b[0mscipy\u001b[0m\u001b[0;34m.\u001b[0m\u001b[0mndimage\u001b[0m\u001b[0;34m.\u001b[0m\u001b[0minterpolation\u001b[0m\u001b[0;34m.\u001b[0m\u001b[0mzoom\u001b[0m\u001b[0;34m(\u001b[0m\u001b[0mpatient_array\u001b[0m\u001b[0;34m,\u001b[0m \u001b[0;34m[\u001b[0m \u001b[0;36m0.59999998\u001b[0m\u001b[0;34m,\u001b[0m  \u001b[0;36m0.19921875\u001b[0m\u001b[0;34m,\u001b[0m  \u001b[0;36m0.19921875\u001b[0m\u001b[0;34m]\u001b[0m\u001b[0;34m,\u001b[0m \u001b[0mmode\u001b[0m\u001b[0;34m=\u001b[0m\u001b[0;34m'nearest'\u001b[0m\u001b[0;34m)\u001b[0m\u001b[0;34m\u001b[0m\u001b[0m\n\u001b[0;32m----> 2\u001b[0;31m \u001b[0mimage\u001b[0m \u001b[0;34m=\u001b[0m \u001b[0mcv2\u001b[0m\u001b[0;34m.\u001b[0m\u001b[0mresize\u001b[0m\u001b[0;34m(\u001b[0m\u001b[0mimage\u001b[0m\u001b[0;34m,\u001b[0m \u001b[0;34m(\u001b[0m\u001b[0;36m10\u001b[0m\u001b[0;34m,\u001b[0m \u001b[0;36m10\u001b[0m\u001b[0;34m,\u001b[0m \u001b[0;36m10\u001b[0m\u001b[0;34m)\u001b[0m\u001b[0;34m,\u001b[0m \u001b[0minterpolation\u001b[0m\u001b[0;34m=\u001b[0m\u001b[0mcv2\u001b[0m\u001b[0;34m.\u001b[0m\u001b[0mINTER_CUBIC\u001b[0m\u001b[0;34m)\u001b[0m\u001b[0;34m\u001b[0m\u001b[0m\n\u001b[0m",
      "\u001b[0;31mTypeError\u001b[0m: function takes exactly 2 arguments (3 given)"
     ]
    }
   ],
   "source": [
    "image = scipy.ndimage.interpolation.zoom(patient_array, [0.59999998,  0.19921875,  0.19921875], mode='nearest')\n",
    "image = cv2.resize(image, (10, 10, 10), interpolation=cv2.INTER_CUBIC)"
   ]
  },
  {
   "cell_type": "code",
   "execution_count": 43,
   "metadata": {
    "collapsed": false
   },
   "outputs": [
    {
     "data": {
      "text/plain": [
       "(100, 102, 102)"
      ]
     },
     "execution_count": 43,
     "metadata": {},
     "output_type": "execute_result"
    }
   ],
   "source": [
    "image.shape"
   ]
  },
  {
   "cell_type": "code",
   "execution_count": 32,
   "metadata": {
    "collapsed": false
   },
   "outputs": [],
   "source": [
    "patient_load = load_scan(path_data + patient)\n",
    "#         print ('    Converting to HU..')\n",
    "patient_array = get_pixels_hu(patient_load)\n",
    "\n",
    "#         print ('    Segmenting..')\n",
    "patient_array = segment_lung_mask(patient_array)"
   ]
  },
  {
   "cell_type": "code",
   "execution_count": 38,
   "metadata": {
    "collapsed": false
   },
   "outputs": [
    {
     "name": "stdout",
     "output_type": "stream",
     "text": [
      "[ 0.59999998  0.19921875  0.19921875]\n"
     ]
    },
    {
     "name": "stderr",
     "output_type": "stream",
     "text": [
      "/opt/anaconda/lib/python3.5/site-packages/scipy/ndimage/interpolation.py:600: UserWarning: From scipy 0.13.0, the output shape of zoom() is calculated with round() instead of int() - for these inputs the size of the returned array has changed.\n",
      "  \"the returned array has changed.\", UserWarning)\n"
     ]
    },
    {
     "ename": "error",
     "evalue": "/io/opencv/modules/imgproc/src/imgwarp.cpp:3370: error: (-215) func != 0 in function resize\n",
     "output_type": "error",
     "traceback": [
      "\u001b[0;31m---------------------------------------------------------------------------\u001b[0m",
      "\u001b[0;31merror\u001b[0m                                     Traceback (most recent call last)",
      "\u001b[0;32m<ipython-input-38-be5638dbbc0e>\u001b[0m in \u001b[0;36m<module>\u001b[0;34m()\u001b[0m\n\u001b[0;32m----> 1\u001b[0;31m \u001b[0mpatient_array\u001b[0m\u001b[0;34m,\u001b[0m\u001b[0m_\u001b[0m \u001b[0;34m=\u001b[0m \u001b[0mresample\u001b[0m\u001b[0;34m(\u001b[0m\u001b[0mpatient_array\u001b[0m\u001b[0;34m,\u001b[0m \u001b[0mpatient_load\u001b[0m\u001b[0;34m,\u001b[0m \u001b[0;34m[\u001b[0m\u001b[0;36m3\u001b[0m\u001b[0;34m,\u001b[0m\u001b[0;36m3\u001b[0m\u001b[0;34m,\u001b[0m\u001b[0;36m3\u001b[0m\u001b[0;34m]\u001b[0m\u001b[0;34m,\u001b[0m \u001b[0;36m50\u001b[0m\u001b[0;34m,\u001b[0m\u001b[0;36m50\u001b[0m\u001b[0;34m)\u001b[0m\u001b[0;34m\u001b[0m\u001b[0m\n\u001b[0m",
      "\u001b[0;32m<ipython-input-37-7167a1628181>\u001b[0m in \u001b[0;36mresample\u001b[0;34m(image, scan, new_spacing, width, height)\u001b[0m\n\u001b[1;32m     22\u001b[0m \u001b[0;34m\u001b[0m\u001b[0m\n\u001b[1;32m     23\u001b[0m     \u001b[0mimage\u001b[0m \u001b[0;34m=\u001b[0m \u001b[0mscipy\u001b[0m\u001b[0;34m.\u001b[0m\u001b[0mndimage\u001b[0m\u001b[0;34m.\u001b[0m\u001b[0minterpolation\u001b[0m\u001b[0;34m.\u001b[0m\u001b[0mzoom\u001b[0m\u001b[0;34m(\u001b[0m\u001b[0mimage\u001b[0m\u001b[0;34m,\u001b[0m \u001b[0mreal_resize_factor\u001b[0m\u001b[0;34m,\u001b[0m \u001b[0mmode\u001b[0m\u001b[0;34m=\u001b[0m\u001b[0;34m'nearest'\u001b[0m\u001b[0;34m)\u001b[0m\u001b[0;34m\u001b[0m\u001b[0m\n\u001b[0;32m---> 24\u001b[0;31m     \u001b[0mimage\u001b[0m \u001b[0;34m=\u001b[0m \u001b[0mcv2\u001b[0m\u001b[0;34m.\u001b[0m\u001b[0mresize\u001b[0m\u001b[0;34m(\u001b[0m\u001b[0mimage\u001b[0m\u001b[0;34m,\u001b[0m \u001b[0;34m(\u001b[0m\u001b[0mwidth\u001b[0m\u001b[0;34m,\u001b[0m \u001b[0mheight\u001b[0m\u001b[0;34m)\u001b[0m\u001b[0;34m,\u001b[0m \u001b[0minterpolation\u001b[0m\u001b[0;34m=\u001b[0m\u001b[0mcv2\u001b[0m\u001b[0;34m.\u001b[0m\u001b[0mINTER_CUBIC\u001b[0m\u001b[0;34m)\u001b[0m\u001b[0;34m\u001b[0m\u001b[0m\n\u001b[0m\u001b[1;32m     25\u001b[0m \u001b[0;31m#     print(\"        Shape after resampling\\t\", image.shape)\u001b[0m\u001b[0;34m\u001b[0m\u001b[0;34m\u001b[0m\u001b[0m\n\u001b[1;32m     26\u001b[0m \u001b[0;34m\u001b[0m\u001b[0m\n",
      "\u001b[0;31merror\u001b[0m: /io/opencv/modules/imgproc/src/imgwarp.cpp:3370: error: (-215) func != 0 in function resize\n"
     ]
    }
   ],
   "source": [
    "patient_array,_ = resample(patient_array, patient_load, [3,3,3], 50,50)   "
   ]
  },
  {
   "cell_type": "code",
   "execution_count": 33,
   "metadata": {
    "collapsed": false
   },
   "outputs": [
    {
     "name": "stderr",
     "output_type": "stream",
     "text": [
      "/opt/anaconda/lib/python3.5/site-packages/scipy/ndimage/interpolation.py:600: UserWarning: From scipy 0.13.0, the output shape of zoom() is calculated with round() instead of int() - for these inputs the size of the returned array has changed.\n",
      "  \"the returned array has changed.\", UserWarning)\n"
     ]
    },
    {
     "ename": "error",
     "evalue": "/io/opencv/modules/imgproc/src/imgwarp.cpp:3370: error: (-215) func != 0 in function resize\n",
     "output_type": "error",
     "traceback": [
      "\u001b[0;31m---------------------------------------------------------------------------\u001b[0m",
      "\u001b[0;31merror\u001b[0m                                     Traceback (most recent call last)",
      "\u001b[0;32m<ipython-input-33-860b3c314ac9>\u001b[0m in \u001b[0;36m<module>\u001b[0;34m()\u001b[0m\n\u001b[1;32m      6\u001b[0m \u001b[0;34m\u001b[0m\u001b[0m\n\u001b[1;32m      7\u001b[0m \u001b[0;31m#         print ('    Resampling..')\u001b[0m\u001b[0;34m\u001b[0m\u001b[0;34m\u001b[0m\u001b[0m\n\u001b[0;32m----> 8\u001b[0;31m \u001b[0mpatient_array\u001b[0m\u001b[0;34m,\u001b[0m\u001b[0m_\u001b[0m \u001b[0;34m=\u001b[0m \u001b[0mresample\u001b[0m\u001b[0;34m(\u001b[0m\u001b[0mpatient_array\u001b[0m\u001b[0;34m,\u001b[0m \u001b[0mpatient_load\u001b[0m\u001b[0;34m,\u001b[0m \u001b[0;34m[\u001b[0m\u001b[0;36m3\u001b[0m\u001b[0;34m,\u001b[0m\u001b[0;36m3\u001b[0m\u001b[0;34m,\u001b[0m\u001b[0;36m3\u001b[0m\u001b[0;34m]\u001b[0m\u001b[0;34m,\u001b[0m \u001b[0;36m50\u001b[0m\u001b[0;34m,\u001b[0m\u001b[0;36m50\u001b[0m\u001b[0;34m)\u001b[0m\u001b[0;34m\u001b[0m\u001b[0m\n\u001b[0m\u001b[1;32m      9\u001b[0m \u001b[0;34m\u001b[0m\u001b[0m\n\u001b[1;32m     10\u001b[0m \u001b[0;31m#         print ('    Removing zeros..')\u001b[0m\u001b[0;34m\u001b[0m\u001b[0;34m\u001b[0m\u001b[0m\n",
      "\u001b[0;32m<ipython-input-24-1ffda544b6f9>\u001b[0m in \u001b[0;36mresample\u001b[0;34m(image, scan, new_spacing, width, height)\u001b[0m\n\u001b[1;32m     21\u001b[0m \u001b[0;34m\u001b[0m\u001b[0m\n\u001b[1;32m     22\u001b[0m     \u001b[0mimage\u001b[0m \u001b[0;34m=\u001b[0m \u001b[0mscipy\u001b[0m\u001b[0;34m.\u001b[0m\u001b[0mndimage\u001b[0m\u001b[0;34m.\u001b[0m\u001b[0minterpolation\u001b[0m\u001b[0;34m.\u001b[0m\u001b[0mzoom\u001b[0m\u001b[0;34m(\u001b[0m\u001b[0mimage\u001b[0m\u001b[0;34m,\u001b[0m \u001b[0mreal_resize_factor\u001b[0m\u001b[0;34m,\u001b[0m \u001b[0mmode\u001b[0m\u001b[0;34m=\u001b[0m\u001b[0;34m'nearest'\u001b[0m\u001b[0;34m)\u001b[0m\u001b[0;34m\u001b[0m\u001b[0m\n\u001b[0;32m---> 23\u001b[0;31m     \u001b[0mimage\u001b[0m \u001b[0;34m=\u001b[0m \u001b[0mcv2\u001b[0m\u001b[0;34m.\u001b[0m\u001b[0mresize\u001b[0m\u001b[0;34m(\u001b[0m\u001b[0mimage\u001b[0m\u001b[0;34m,\u001b[0m \u001b[0;34m(\u001b[0m\u001b[0mwidth\u001b[0m\u001b[0;34m,\u001b[0m \u001b[0mheight\u001b[0m\u001b[0;34m)\u001b[0m\u001b[0;34m,\u001b[0m \u001b[0minterpolation\u001b[0m\u001b[0;34m=\u001b[0m\u001b[0mcv2\u001b[0m\u001b[0;34m.\u001b[0m\u001b[0mINTER_CUBIC\u001b[0m\u001b[0;34m)\u001b[0m\u001b[0;34m\u001b[0m\u001b[0m\n\u001b[0m\u001b[1;32m     24\u001b[0m \u001b[0;31m#     print(\"        Shape after resampling\\t\", image.shape)\u001b[0m\u001b[0;34m\u001b[0m\u001b[0;34m\u001b[0m\u001b[0m\n\u001b[1;32m     25\u001b[0m \u001b[0;34m\u001b[0m\u001b[0m\n",
      "\u001b[0;31merror\u001b[0m: /io/opencv/modules/imgproc/src/imgwarp.cpp:3370: error: (-215) func != 0 in function resize\n"
     ]
    }
   ],
   "source": [
    "\n",
    "\n",
    "#         print ('    Resampling..')\n",
    "\n",
    "\n",
    "#         print ('    Removing zeros..')\n",
    "patient_array = remove_zeros(patient_array)\n",
    "\n",
    "zxy_patient = patient_array.shape\n",
    "zxy_max = list(map(max, zip(zxy_max, zxy_patient)))"
   ]
  },
  {
   "cell_type": "code",
   "execution_count": 16,
   "metadata": {
    "collapsed": false,
    "scrolled": true
   },
   "outputs": [
    {
     "name": "stdout",
     "output_type": "stream",
     "text": [
      "Error..  b\n",
      "Error..  0\n",
      "Error..  5\n",
      "Error..  9\n",
      "Error..  9\n",
      "Error..  a\n",
      "Error..  d\n",
      "Error..  2\n",
      "Error..  f\n",
      "Error..  3\n",
      "Error..  3\n",
      "Error..  2\n",
      "Error..  7\n",
      "Error..  6\n",
      "Error..  e\n",
      "Error..  7\n",
      "Error..  c\n",
      "Error..  d\n",
      "Error..  0\n",
      "Error..  6\n",
      "Error..  5\n",
      "Error..  e\n",
      "Error..  a\n",
      "Error..  a\n",
      "Error..  8\n",
      "Error..  d\n",
      "Error..  c\n",
      "Error..  e\n",
      "Error..  c\n",
      "Error..  8\n",
      "Error..  a\n",
      "Error..  2\n"
     ]
    }
   ],
   "source": [
    "# begin processing each patient\n",
    "# from LOAD >> to SMALLEST VOLUME OF MASKED LUNG\n",
    "\n",
    "zxy_max = [0,0,0]\n",
    "path_processed_data = '/home/katya/processed_data/'\n",
    "counter = 0\n",
    "\n",
    "for patient in patients:\n",
    "    \n",
    "    try:\n",
    "#         print ('Loading scan..', patient)\n",
    "        patient_load = load_scan(path_data + patient)\n",
    "\n",
    "#         print ('    Converting to HU..')\n",
    "        patient_array = get_pixels_hu(patient_load)\n",
    "\n",
    "#         print ('    Segmenting..')\n",
    "        patient_array = segment_lung_mask(patient_array)\n",
    "\n",
    "#         print ('    Resampling..')\n",
    "        patient_array,_ = resample(patient_array, patient_load, [3,3,3])   \n",
    "\n",
    "#         print ('    Removing zeros..')\n",
    "        patient_array = remove_zeros(patient_array)\n",
    "\n",
    "        zxy_patient = patient_array.shape\n",
    "        zxy_max = list(map(max, zip(zxy_max, zxy_patient)))\n",
    "\n",
    "        np.save(path_processed_data+patient, patient_array)\n",
    "        np.save(path_processed_data+'zxy_max', zxy_max)\n",
    "    \n",
    "    except:\n",
    "        print ('Error.. ', patient)\n",
    "        errors.append(patient)\n",
    "        np.save(path_processed_data+'errors', errors)\n",
    "    \n",
    "    counter += 1\n",
    "    if counter%100 == 0:\n",
    "        print ('Processed..', counter)\n"
   ]
  },
  {
   "cell_type": "code",
   "execution_count": null,
   "metadata": {
    "collapsed": true
   },
   "outputs": [],
   "source": [
    "# adds zero-arrays to all axes of a single scan to create uniform volume sizes\n",
    "\n",
    "zxy_max = np.load(path_processed_data + 'zxy_max.npy')\n",
    "\n",
    "def add_zeros(nparray, zxy_max=zxy_max):\n",
    "    \n",
    "#     print ('    Original shape..', nparray.shape)\n",
    "    zMax, xMax, yMax = zxy_max\n",
    "    z, x, y = nparray.shape\n",
    "    \n",
    "    if z < zMax:\n",
    "        extraSlices = np.zeros((zMax-z, x, y))\n",
    "        nparray = np.concatenate((nparray, extraSlices), axis=0)\n",
    "        z, x, y = nparray.shape\n",
    "#         print ('    Shape after zeros added to z-axis..', nparray.shape)\n",
    "        \n",
    "    if x < xMax:\n",
    "        extraSlices = np.zeros((z, xMax-x, y))\n",
    "        nparray = np.concatenate((nparray, extraSlices), axis=1)\n",
    "        z, x, y = nparray.shape\n",
    "#         print ('    Shape after zeros added to x-axis..', nparray.shape)    \n",
    "            \n",
    "    if y < yMax:\n",
    "        extraSlices = np.zeros((z, x, yMax-y))\n",
    "        nparray = np.concatenate((nparray, extraSlices), axis=2)\n",
    "        z, x, y = nparray.shape\n",
    "#         print ('    Shape after zeros added to y-axis..', nparray.shape)\n",
    "    \n",
    "    return nparray"
   ]
  },
  {
   "cell_type": "code",
   "execution_count": null,
   "metadata": {
    "collapsed": false
   },
   "outputs": [],
   "source": [
    "# load list of processed patients by directory in data excluding dimension array\n",
    "\n",
    "patients_processed = [x for x in os.listdir(path_processed_data) if x != 'zxy_max.npy']\n",
    "print ('Number of patients processed..', len(patients_processed))"
   ]
  },
  {
   "cell_type": "code",
   "execution_count": null,
   "metadata": {
    "collapsed": false
   },
   "outputs": [],
   "source": [
    "# begin processing each patient\n",
    "# from SMALLEST MASKED LUNG >> to UNIFORM SIZE MATRICES\n",
    "\n",
    "counter = 0\n",
    "\n",
    "for patient in patients_processed:\n",
    "#     print ('Adding zeros..', patient[:-4])\n",
    "    nparray = np.load(path_processed_data + patient)\n",
    "    np.save(path_processed_data+patient[:-4], add_zeros(nparray, zxy_max))\n",
    "    \n",
    "    counter += 1\n",
    "    if counter%100 == 0:\n",
    "        print ('Processed..', counter)"
   ]
  },
  {
   "cell_type": "code",
   "execution_count": null,
   "metadata": {
    "collapsed": false
   },
   "outputs": [],
   "source": [
    "# Check that all of the patients are the same shape\n",
    "\n",
    "dimensions=[]\n",
    "for patient in [x for x in os.listdir(path_processed_data) if x != 'zxy_max.npy']:\n",
    "    dimensions.append(np.load(path_processed_data + patient).shape)\n",
    "    \n",
    "print ('Number of arrays..', len(dimensions))\n",
    "print ('Shape of each array..', dimensions[0])\n",
    "\n",
    "bins = np.linspace(0, 200, 200)\n",
    "plt.hist([x[0] for x in dimensions], bins, alpha=0.8, label='z')\n",
    "plt.hist([x[1] for x in dimensions], bins, alpha=0.8, label='x')\n",
    "plt.hist([x[2] for x in dimensions], bins, alpha=0.8, label='y')\n",
    "plt.legend(loc='upper right')\n",
    "plt.xlabel(\"# Pixels in each dimension\")\n",
    "plt.ylabel(\"Frequency\")\n",
    "plt.show()"
   ]
  },
  {
   "cell_type": "code",
   "execution_count": null,
   "metadata": {
    "collapsed": true
   },
   "outputs": [],
   "source": []
  }
 ],
 "metadata": {
  "anaconda-cloud": {},
  "kernelspec": {
   "display_name": "Python [conda root]",
   "language": "python",
   "name": "conda-root-py"
  },
  "language_info": {
   "codemirror_mode": {
    "name": "ipython",
    "version": 3
   },
   "file_extension": ".py",
   "mimetype": "text/x-python",
   "name": "python",
   "nbconvert_exporter": "python",
   "pygments_lexer": "ipython3",
   "version": "3.5.2"
  }
 },
 "nbformat": 4,
 "nbformat_minor": 1
}
